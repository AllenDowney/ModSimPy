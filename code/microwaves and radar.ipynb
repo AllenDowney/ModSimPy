{
 "cells": [
  {
   "cell_type": "markdown",
   "metadata": {},
   "source": [
    "https://tbc-python.fossee.in/convert-notebook/Microwaves_and_Radar_Principles_and_Applications_by_A._K._Maini/CHAPTER_9.ipynb#Example-1,Page-No:449\n",
    "\n",
    "Chapter 9:Radar Fundamentals\n",
    "Example 1,Page No:449\n",
    "\n"
   ]
  },
  {
   "cell_type": "code",
   "execution_count": 1,
   "metadata": {},
   "outputs": [
    {
     "name": "stdout",
     "output_type": "stream",
     "text": [
      "Target Range = 22.5 Km\n",
      "Maximum Unambiguous range = 150 Km\n"
     ]
    }
   ],
   "source": [
    "import math\n",
    "\n",
    "#Variable Declaration\n",
    "PRF     = 1000;         #Pulse repetitive frequency in Hz\n",
    "t       = 0.15*10**-3; #Round propagation time in s\n",
    "c       = 3*10**8;     #velocity of EM waves in m/s\n",
    "#calculations\n",
    "R       = (c*t)/float(2);      #Range\n",
    "Runamb  = c/float((2*PRF));     #Max unambiguous range\n",
    "\n",
    "#Result\n",
    "print('Target Range = %3.1f Km' %(R/float(1000)));\n",
    "print('Maximum Unambiguous range = %d Km'%(Runamb/float(1000)));"
   ]
  },
  {
   "cell_type": "code",
   "execution_count": null,
   "metadata": {},
   "outputs": [],
   "source": []
  }
 ],
 "metadata": {
  "kernelspec": {
   "display_name": "Python 3",
   "language": "python",
   "name": "python3"
  },
  "language_info": {
   "codemirror_mode": {
    "name": "ipython",
    "version": 3
   },
   "file_extension": ".py",
   "mimetype": "text/x-python",
   "name": "python",
   "nbconvert_exporter": "python",
   "pygments_lexer": "ipython3",
   "version": "3.6.8"
  }
 },
 "nbformat": 4,
 "nbformat_minor": 2
}
