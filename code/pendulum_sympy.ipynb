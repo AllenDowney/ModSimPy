{
 "cells": [
  {
   "cell_type": "markdown",
   "metadata": {},
   "source": [
    "# Modeling and Simulation in Python\n",
    "\n",
    "\n",
    "Copyright 2017 Allen Downey\n",
    "\n",
    "License: [Creative Commons Attribution 4.0 International](https://creativecommons.org/licenses/by/4.0)\n"
   ]
  },
  {
   "cell_type": "code",
   "execution_count": 1,
   "metadata": {
    "collapsed": true
   },
   "outputs": [],
   "source": [
    "from sympy import *\n",
    "\n",
    "init_printing()"
   ]
  },
  {
   "cell_type": "code",
   "execution_count": 2,
   "metadata": {},
   "outputs": [],
   "source": [
    "x, y, vx, vy, ax, ay, R, t = symbols('x, y, vx, vy, ax, ay, R, t')\n",
    "length0, k, m, g = symbols('length0, k, m, g')"
   ]
  },
  {
   "cell_type": "code",
   "execution_count": 3,
   "metadata": {},
   "outputs": [
    {
     "data": {
      "image/png": "[encoded data removed]",
      "text/latex": [
       "$$vx = \\frac{d}{d t} x{\\left (t \\right )}$$"
      ],
      "text/plain": [
       "     d       \n",
       "vx = ──(x(t))\n",
       "     dt      "
      ]
     },
     "execution_count": 3,
     "metadata": {},
     "output_type": "execute_result"
    }
   ],
   "source": [
    "eq1 = Eq(vx, diff(x(t), t))\n",
    "eq1"
   ]
  },
  {
   "cell_type": "code",
   "execution_count": 4,
   "metadata": {},
   "outputs": [
    {
     "data": {
      "image/png": "[encoded data removed]",
      "text/latex": [
       "$$vy = \\frac{d}{d t} y{\\left (t \\right )}$$"
      ],
      "text/plain": [
       "     d       \n",
       "vy = ──(y(t))\n",
       "     dt      "
      ]
     },
     "execution_count": 4,
     "metadata": {},
     "output_type": "execute_result"
    }
   ],
   "source": [
    "eq2 = Eq(vy, diff(y(t), t))\n",
    "eq2"
   ]
  },
  {
   "cell_type": "code",
   "execution_count": 5,
   "metadata": {},
   "outputs": [
    {
     "data": {
      "image/png": "[encoded data removed]",
      "text/latex": [
       "$$ax = \\frac{d}{d t} \\operatorname{vx}{\\left (t \\right )}$$"
      ],
      "text/plain": [
       "     d        \n",
       "ax = ──(vx(t))\n",
       "     dt       "
      ]
     },
     "execution_count": 5,
     "metadata": {},
     "output_type": "execute_result"
    }
   ],
   "source": [
    "eq3 = Eq(ax, diff(vx(t), t))\n",
    "eq3"
   ]
  },
  {
   "cell_type": "code",
   "execution_count": 6,
   "metadata": {},
   "outputs": [
    {
     "data": {
      "image/png": "[encoded data removed]",
      "text/latex": [
       "$$ay = \\frac{d}{d t} \\operatorname{vy}{\\left (t \\right )}$$"
      ],
      "text/plain": [
       "     d        \n",
       "ay = ──(vy(t))\n",
       "     dt       "
      ]
     },
     "execution_count": 6,
     "metadata": {},
     "output_type": "execute_result"
    }
   ],
   "source": [
    "eq4 = Eq(ay, diff(vy(t), t))\n",
    "eq4"
   ]
  },
  {
   "cell_type": "code",
   "execution_count": 7,
   "metadata": {},
   "outputs": [
    {
     "data": {
      "text/plain": [
       "array([x, y], dtype=object)"
      ]
     },
     "execution_count": 7,
     "metadata": {},
     "output_type": "execute_result"
    }
   ],
   "source": [
    "import numpy as np\n",
    "\n",
    "P = np.array([x, y])\n",
    "P"
   ]
  },
  {
   "cell_type": "code",
   "execution_count": 8,
   "metadata": {},
   "outputs": [
    {
     "data": {
      "text/plain": [
       "array([vx, vy], dtype=object)"
      ]
     },
     "execution_count": 8,
     "metadata": {},
     "output_type": "execute_result"
    }
   ],
   "source": [
    "V = np.array([vx, vy])\n",
    "V"
   ]
  },
  {
   "cell_type": "code",
   "execution_count": 9,
   "metadata": {},
   "outputs": [
    {
     "data": {
      "text/plain": [
       "array([ax, ay], dtype=object)"
      ]
     },
     "execution_count": 9,
     "metadata": {},
     "output_type": "execute_result"
    }
   ],
   "source": [
    "A = np.array([ax, ay])\n",
    "A"
   ]
  },
  {
   "cell_type": "code",
   "execution_count": 10,
   "metadata": {
    "collapsed": true
   },
   "outputs": [],
   "source": [
    "def mag(P):\n",
    "    return sqrt(P[0]**2 + P[1]**2)"
   ]
  },
  {
   "cell_type": "code",
   "execution_count": 11,
   "metadata": {},
   "outputs": [
    {
     "data": {
      "image/png": "[encoded data removed]",
      "text/latex": [
       "$$\\sqrt{x^{2} + y^{2}}$$"
      ],
      "text/plain": [
       "   _________\n",
       "  ╱  2    2 \n",
       "╲╱  x  + y  "
      ]
     },
     "execution_count": 11,
     "metadata": {},
     "output_type": "execute_result"
    }
   ],
   "source": [
    "mag(P)"
   ]
  },
  {
   "cell_type": "code",
   "execution_count": 12,
   "metadata": {
    "collapsed": true
   },
   "outputs": [],
   "source": [
    "def hat(P):\n",
    "    return P / mag(P)"
   ]
  },
  {
   "cell_type": "code",
   "execution_count": 13,
   "metadata": {},
   "outputs": [
    {
     "data": {
      "text/plain": [
       "array([x/sqrt(x**2 + y**2), y/sqrt(x**2 + y**2)], dtype=object)"
      ]
     },
     "execution_count": 13,
     "metadata": {},
     "output_type": "execute_result"
    }
   ],
   "source": [
    "hat(P)"
   ]
  },
  {
   "cell_type": "code",
   "execution_count": 14,
   "metadata": {},
   "outputs": [
    {
     "data": {
      "image/png": "[encoded data removed]",
      "text/latex": [
       "$$\\sqrt{x^{2} + y^{2}}$$"
      ],
      "text/plain": [
       "   _________\n",
       "  ╱  2    2 \n",
       "╲╱  x  + y  "
      ]
     },
     "execution_count": 14,
     "metadata": {},
     "output_type": "execute_result"
    }
   ],
   "source": [
    "length = mag(P)\n",
    "length"
   ]
  },
  {
   "cell_type": "code",
   "execution_count": 15,
   "metadata": {},
   "outputs": [
    {
     "data": {
      "text/plain": [
       "array([-k*x*(-length0 + sqrt(x**2 + y**2))/sqrt(x**2 + y**2),\n",
       "       -k*y*(-length0 + sqrt(x**2 + y**2))/sqrt(x**2 + y**2)], dtype=object)"
      ]
     },
     "execution_count": 15,
     "metadata": {},
     "output_type": "execute_result"
    }
   ],
   "source": [
    "f_spring = -k * (length - length0) * hat(P)\n",
    "f_spring"
   ]
  },
  {
   "cell_type": "code",
   "execution_count": 16,
   "metadata": {
    "collapsed": true
   },
   "outputs": [],
   "source": [
    "xhat = np.array([1, 0])\n",
    "yhat = np.array([0, 1])"
   ]
  },
  {
   "cell_type": "code",
   "execution_count": 17,
   "metadata": {},
   "outputs": [
    {
     "data": {
      "text/plain": [
       "array([0, -g*m], dtype=object)"
      ]
     },
     "execution_count": 17,
     "metadata": {},
     "output_type": "execute_result"
    }
   ],
   "source": [
    "f_grav = -m * g * yhat\n",
    "f_grav"
   ]
  },
  {
   "cell_type": "code",
   "execution_count": 19,
   "metadata": {},
   "outputs": [],
   "source": [
    "lhs = m * A"
   ]
  },
  {
   "cell_type": "code",
   "execution_count": 20,
   "metadata": {},
   "outputs": [],
   "source": [
    "rhs = f_spring + f_grav"
   ]
  },
  {
   "cell_type": "code",
   "execution_count": 21,
   "metadata": {},
   "outputs": [
    {
     "data": {
      "image/png": "[encoded data removed]",
      "text/latex": [
       "$$ax m = - \\frac{k x}{\\sqrt{x^{2} + y^{2}}} \\left(- length_{0} + \\sqrt{x^{2} + y^{2}}\\right)$$"
      ],
      "text/plain": [
       "            ⎛              _________⎞ \n",
       "            ⎜             ╱  2    2 ⎟ \n",
       "       -k⋅x⋅⎝-length₀ + ╲╱  x  + y  ⎠ \n",
       "ax⋅m = ───────────────────────────────\n",
       "                    _________         \n",
       "                   ╱  2    2          \n",
       "                 ╲╱  x  + y           "
      ]
     },
     "execution_count": 21,
     "metadata": {},
     "output_type": "execute_result"
    }
   ],
   "source": [
    "eq6 = Eq(lhs[0], rhs[0])\n",
    "eq6"
   ]
  },
  {
   "cell_type": "code",
   "execution_count": 22,
   "metadata": {},
   "outputs": [
    {
     "data": {
      "image/png": "[encoded data removed]",
      "text/latex": [
       "$$ay m = - g m - \\frac{k y}{\\sqrt{x^{2} + y^{2}}} \\left(- length_{0} + \\sqrt{x^{2} + y^{2}}\\right)$$"
      ],
      "text/plain": [
       "                  ⎛              _________⎞\n",
       "                  ⎜             ╱  2    2 ⎟\n",
       "              k⋅y⋅⎝-length₀ + ╲╱  x  + y  ⎠\n",
       "ay⋅m = -g⋅m - ─────────────────────────────\n",
       "                          _________        \n",
       "                         ╱  2    2         \n",
       "                       ╲╱  x  + y          "
      ]
     },
     "execution_count": 22,
     "metadata": {},
     "output_type": "execute_result"
    }
   ],
   "source": [
    "eq7 = Eq(lhs[1], rhs[1])\n",
    "eq7"
   ]
  },
  {
   "cell_type": "code",
   "execution_count": 23,
   "metadata": {},
   "outputs": [],
   "source": [
    "soln = solve([eq6, eq7], [ax, ay])"
   ]
  },
  {
   "cell_type": "code",
   "execution_count": 24,
   "metadata": {},
   "outputs": [
    {
     "data": {
      "image/png": "[encoded data removed]",
      "text/latex": [
       "$$\\frac{k length_{0} x}{m \\sqrt{x^{2} + y^{2}}} - \\frac{k x}{m}$$"
      ],
      "text/plain": [
       " k⋅length₀⋅x     k⋅x\n",
       "────────────── - ───\n",
       "     _________    m \n",
       "    ╱  2    2       \n",
       "m⋅╲╱  x  + y        "
      ]
     },
     "execution_count": 24,
     "metadata": {},
     "output_type": "execute_result"
    }
   ],
   "source": [
    "soln[ax]"
   ]
  },
  {
   "cell_type": "code",
   "execution_count": 25,
   "metadata": {},
   "outputs": [
    {
     "data": {
      "image/png": "[encoded data removed]",
      "text/latex": [
       "$$- g + \\frac{k length_{0} y}{m \\sqrt{x^{2} + y^{2}}} - \\frac{k y}{m}$$"
      ],
      "text/plain": [
       "      k⋅length₀⋅y     k⋅y\n",
       "-g + ────────────── - ───\n",
       "          _________    m \n",
       "         ╱  2    2       \n",
       "     m⋅╲╱  x  + y        "
      ]
     },
     "execution_count": 25,
     "metadata": {},
     "output_type": "execute_result"
    }
   ],
   "source": [
    "soln[ay]"
   ]
  },
  {
   "cell_type": "markdown",
   "metadata": {},
   "source": [
    "### Rigid pendulum"
   ]
  },
  {
   "cell_type": "code",
   "execution_count": 61,
   "metadata": {},
   "outputs": [
    {
     "data": {
      "image/png": "[encoded data removed]",
      "text/latex": [
       "$$ax x + ay y + vx^{2} + vy^{2} = 0$$"
      ],
      "text/plain": [
       "                2     2    \n",
       "ax⋅x + ay⋅y + vx  + vy  = 0"
      ]
     },
     "execution_count": 61,
     "metadata": {},
     "output_type": "execute_result"
    }
   ],
   "source": [
    "eq5 = Eq(x*ax + y*ay + vx**2 + vy**2, 0)\n",
    "eq5"
   ]
  },
  {
   "cell_type": "code",
   "execution_count": 62,
   "metadata": {
    "collapsed": true
   },
   "outputs": [],
   "source": [
    "f_tension = -R * hat(P)"
   ]
  },
  {
   "cell_type": "code",
   "execution_count": 63,
   "metadata": {
    "collapsed": true
   },
   "outputs": [],
   "source": [
    "lhs = m * A"
   ]
  },
  {
   "cell_type": "code",
   "execution_count": 64,
   "metadata": {
    "collapsed": true
   },
   "outputs": [],
   "source": [
    "rhs = f_grav + f_tension"
   ]
  },
  {
   "cell_type": "code",
   "execution_count": 65,
   "metadata": {},
   "outputs": [
    {
     "data": {
      "image/png": "[encoded data removed]",
      "text/latex": [
       "$$ax m = - \\frac{R x}{\\sqrt{x^{2} + y^{2}}}$$"
      ],
      "text/plain": [
       "          -R⋅x     \n",
       "ax⋅m = ────────────\n",
       "          _________\n",
       "         ╱  2    2 \n",
       "       ╲╱  x  + y  "
      ]
     },
     "execution_count": 65,
     "metadata": {},
     "output_type": "execute_result"
    }
   ],
   "source": [
    "eq6 = Eq(lhs[0], rhs[0])\n",
    "eq6"
   ]
  },
  {
   "cell_type": "code",
   "execution_count": 66,
   "metadata": {},
   "outputs": [
    {
     "data": {
      "image/png": "[encoded data removed]",
      "text/latex": [
       "$$ay m = - \\frac{R y}{\\sqrt{x^{2} + y^{2}}} - g m$$"
      ],
      "text/plain": [
       "             R⋅y           \n",
       "ay⋅m = - ──────────── - g⋅m\n",
       "            _________      \n",
       "           ╱  2    2       \n",
       "         ╲╱  x  + y        "
      ]
     },
     "execution_count": 66,
     "metadata": {},
     "output_type": "execute_result"
    }
   ],
   "source": [
    "eq7 = Eq(lhs[1], rhs[1])\n",
    "eq7"
   ]
  },
  {
   "cell_type": "code",
   "execution_count": 67,
   "metadata": {
    "collapsed": true
   },
   "outputs": [],
   "source": [
    "soln = solve([eq5b, eq6, eq7], [ax, ay, R])"
   ]
  },
  {
   "cell_type": "code",
   "execution_count": 68,
   "metadata": {},
   "outputs": [
    {
     "data": {
      "image/png": "[encoded data removed]",
      "text/latex": [
       "$$\\frac{x}{x^{2} + y^{2}} \\left(g y - vx^{2} - vy^{2}\\right)$$"
      ],
      "text/plain": [
       "  ⎛        2     2⎞\n",
       "x⋅⎝g⋅y - vx  - vy ⎠\n",
       "───────────────────\n",
       "       2    2      \n",
       "      x  + y       "
      ]
     },
     "execution_count": 68,
     "metadata": {},
     "output_type": "execute_result"
    }
   ],
   "source": [
    "soln[ax]"
   ]
  },
  {
   "cell_type": "code",
   "execution_count": 69,
   "metadata": {},
   "outputs": [
    {
     "data": {
      "image/png": "[encoded data removed]",
      "text/latex": [
       "$$- \\frac{1}{x^{2} + y^{2}} \\left(g x^{2} + y \\left(vx^{2} + vy^{2}\\right)\\right)$$"
      ],
      "text/plain": [
       " ⎛   2     ⎛  2     2⎞⎞ \n",
       "-⎝g⋅x  + y⋅⎝vx  + vy ⎠⎠ \n",
       "────────────────────────\n",
       "         2    2         \n",
       "        x  + y          "
      ]
     },
     "execution_count": 69,
     "metadata": {},
     "output_type": "execute_result"
    }
   ],
   "source": [
    "soln[ay]"
   ]
  },
  {
   "cell_type": "code",
   "execution_count": null,
   "metadata": {
    "collapsed": true
   },
   "outputs": [],
   "source": []
  },
  {
   "cell_type": "code",
   "execution_count": null,
   "metadata": {
    "collapsed": true
   },
   "outputs": [],
   "source": []
  }
 ],
 "metadata": {
  "kernelspec": {
   "display_name": "Python 3",
   "language": "python",
   "name": "python3"
  },
  "language_info": {
   "codemirror_mode": {
    "name": "ipython",
    "version": 3
   },
   "file_extension": ".py",
   "mimetype": "text/x-python",
   "name": "python",
   "nbconvert_exporter": "python",
   "pygments_lexer": "ipython3",
   "version": "3.6.1"
  }
 },
 "nbformat": 4,
 "nbformat_minor": 1
}
