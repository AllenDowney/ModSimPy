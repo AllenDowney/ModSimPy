{
 "cells": [
  {
   "cell_type": "markdown",
   "metadata": {},
   "source": [
    "# Modeling and Simulation in Python\n",
    "\n",
    "\n",
    "Copyright 2017 Allen Downey\n",
    "\n",
    "License: [Creative Commons Attribution 4.0 International](https://creativecommons.org/licenses/by/4.0)\n"
   ]
  },
  {
   "cell_type": "code",
   "execution_count": 1,
   "metadata": {
    "collapsed": true
   },
   "outputs": [],
   "source": [
    "import numpy as np\n",
    "\n",
    "from sympy import *\n",
    "\n",
    "init_printing()"
   ]
  },
  {
   "cell_type": "markdown",
   "metadata": {},
   "source": [
    "This notebook uses SymPy to derive the equations of motion for a springy pendulum and a rigid pendulum.\n",
    "\n",
    "Here are the symbols we need:"
   ]
  },
  {
   "cell_type": "code",
   "execution_count": 2,
   "metadata": {},
   "outputs": [],
   "source": [
    "x, y, vx, vy, ax, ay = symbols('x, y, vx, vy, ax, ay')\n",
    "length0, k, m, g, R, t = symbols('length0, k, m, g, R, t')"
   ]
  },
  {
   "cell_type": "markdown",
   "metadata": {},
   "source": [
    "We'll use vectors P, V, and A to represent position, velocity and acceleration.  The Vector class in modsim.py doesn't play nicely with SymPy, so I'll use NumPy arrays instead:"
   ]
  },
  {
   "cell_type": "code",
   "execution_count": 3,
   "metadata": {},
   "outputs": [
    {
     "data": {
      "text/plain": [
       "array([x, y], dtype=object)"
      ]
     },
     "execution_count": 3,
     "metadata": {},
     "output_type": "execute_result"
    }
   ],
   "source": [
    "P = np.array([x, y])\n",
    "P"
   ]
  },
  {
   "cell_type": "code",
   "execution_count": 4,
   "metadata": {},
   "outputs": [
    {
     "data": {
      "text/plain": [
       "array([vx, vy], dtype=object)"
      ]
     },
     "execution_count": 4,
     "metadata": {},
     "output_type": "execute_result"
    }
   ],
   "source": [
    "V = np.array([vx, vy])\n",
    "V"
   ]
  },
  {
   "cell_type": "code",
   "execution_count": 5,
   "metadata": {},
   "outputs": [
    {
     "data": {
      "text/plain": [
       "array([ax, ay], dtype=object)"
      ]
     },
     "execution_count": 5,
     "metadata": {},
     "output_type": "execute_result"
    }
   ],
   "source": [
    "A = np.array([ax, ay])\n",
    "A"
   ]
  },
  {
   "cell_type": "markdown",
   "metadata": {},
   "source": [
    "The only vector operations we need are `mag` and `hat`:"
   ]
  },
  {
   "cell_type": "code",
   "execution_count": 6,
   "metadata": {
    "collapsed": true
   },
   "outputs": [],
   "source": [
    "def mag(P):\n",
    "    return sqrt(P[0]**2 + P[1]**2)"
   ]
  },
  {
   "cell_type": "markdown",
   "metadata": {},
   "source": []
  },
  {
   "cell_type": "code",
   "execution_count": 7,
   "metadata": {},
   "outputs": [
    {
     "data": {
      "image/png": "[encoded data removed]",
      "text/latex": [
       "$$\\sqrt{x^{2} + y^{2}}$$"
      ],
      "text/plain": [
       "   _________\n",
       "  ╱  2    2 \n",
       "╲╱  x  + y  "
      ]
     },
     "execution_count": 7,
     "metadata": {},
     "output_type": "execute_result"
    }
   ],
   "source": [
    "mag(P)"
   ]
  },
  {
   "cell_type": "code",
   "execution_count": 8,
   "metadata": {
    "collapsed": true
   },
   "outputs": [],
   "source": [
    "def hat(P):\n",
    "    return P / mag(P)"
   ]
  },
  {
   "cell_type": "code",
   "execution_count": 9,
   "metadata": {},
   "outputs": [
    {
     "data": {
      "text/plain": [
       "array([x/sqrt(x**2 + y**2), y/sqrt(x**2 + y**2)], dtype=object)"
      ]
     },
     "execution_count": 9,
     "metadata": {},
     "output_type": "execute_result"
    }
   ],
   "source": [
    "hat(P)"
   ]
  },
  {
   "cell_type": "markdown",
   "metadata": {},
   "source": [
    "For convenience, I'll define intermediate variables like length:"
   ]
  },
  {
   "cell_type": "code",
   "execution_count": 10,
   "metadata": {},
   "outputs": [
    {
     "data": {
      "image/png": "[encoded data removed]",
      "text/latex": [
       "$$\\sqrt{x^{2} + y^{2}}$$"
      ],
      "text/plain": [
       "   _________\n",
       "  ╱  2    2 \n",
       "╲╱  x  + y  "
      ]
     },
     "execution_count": 10,
     "metadata": {},
     "output_type": "execute_result"
    }
   ],
   "source": [
    "length = mag(P)\n",
    "length"
   ]
  },
  {
   "cell_type": "markdown",
   "metadata": {},
   "source": [
    "`f_spring` is the force on the particle due to the spring"
   ]
  },
  {
   "cell_type": "code",
   "execution_count": 11,
   "metadata": {},
   "outputs": [
    {
     "data": {
      "text/plain": [
       "array([-k*x*(-length0 + sqrt(x**2 + y**2))/sqrt(x**2 + y**2),\n",
       "       -k*y*(-length0 + sqrt(x**2 + y**2))/sqrt(x**2 + y**2)], dtype=object)"
      ]
     },
     "execution_count": 11,
     "metadata": {},
     "output_type": "execute_result"
    }
   ],
   "source": [
    "f_spring = -k * (length - length0) * hat(P)\n",
    "f_spring"
   ]
  },
  {
   "cell_type": "markdown",
   "metadata": {},
   "source": [
    "xhat and yhat are unit vectors along the x and y axes: "
   ]
  },
  {
   "cell_type": "code",
   "execution_count": 12,
   "metadata": {
    "collapsed": true
   },
   "outputs": [],
   "source": [
    "xhat = np.array([1, 0])\n",
    "yhat = np.array([0, 1])"
   ]
  },
  {
   "cell_type": "markdown",
   "metadata": {},
   "source": [
    "Now I can write force due to gravity as a Vector"
   ]
  },
  {
   "cell_type": "code",
   "execution_count": 13,
   "metadata": {},
   "outputs": [
    {
     "data": {
      "text/plain": [
       "array([0, -g*m], dtype=object)"
      ]
     },
     "execution_count": 13,
     "metadata": {},
     "output_type": "execute_result"
    }
   ],
   "source": [
    "f_grav = -m * g * yhat\n",
    "f_grav"
   ]
  },
  {
   "cell_type": "markdown",
   "metadata": {},
   "source": [
    "To write $\\sum F = ma$, I'll define the left-hand side and right-hand sides of the equations separately."
   ]
  },
  {
   "cell_type": "code",
   "execution_count": 14,
   "metadata": {},
   "outputs": [],
   "source": [
    "lhs = f_spring + f_grav"
   ]
  },
  {
   "cell_type": "code",
   "execution_count": 15,
   "metadata": {},
   "outputs": [],
   "source": [
    "rhs = m * A"
   ]
  },
  {
   "cell_type": "markdown",
   "metadata": {},
   "source": [
    "Now I can make two equations, one for each component of F and A:"
   ]
  },
  {
   "cell_type": "code",
   "execution_count": 17,
   "metadata": {},
   "outputs": [
    {
     "data": {
      "image/png": "[encoded data removed]",
      "text/latex": [
       "$$- \\frac{k x}{\\sqrt{x^{2} + y^{2}}} \\left(- length_{0} + \\sqrt{x^{2} + y^{2}}\\right) = ax m$$"
      ],
      "text/plain": [
       "     ⎛              _________⎞        \n",
       "     ⎜             ╱  2    2 ⎟        \n",
       "-k⋅x⋅⎝-length₀ + ╲╱  x  + y  ⎠        \n",
       "─────────────────────────────── = ax⋅m\n",
       "             _________                \n",
       "            ╱  2    2                 \n",
       "          ╲╱  x  + y                  "
      ]
     },
     "execution_count": 17,
     "metadata": {},
     "output_type": "execute_result"
    }
   ],
   "source": [
    "eq1 = Eq(lhs[0], rhs[0])\n",
    "eq1"
   ]
  },
  {
   "cell_type": "code",
   "execution_count": 18,
   "metadata": {},
   "outputs": [
    {
     "data": {
      "image/png": "[encoded data removed]",
      "text/latex": [
       "$$- g m - \\frac{k y}{\\sqrt{x^{2} + y^{2}}} \\left(- length_{0} + \\sqrt{x^{2} + y^{2}}\\right) = ay m$$"
      ],
      "text/plain": [
       "           ⎛              _________⎞       \n",
       "           ⎜             ╱  2    2 ⎟       \n",
       "       k⋅y⋅⎝-length₀ + ╲╱  x  + y  ⎠       \n",
       "-g⋅m - ───────────────────────────── = ay⋅m\n",
       "                   _________               \n",
       "                  ╱  2    2                \n",
       "                ╲╱  x  + y                 "
      ]
     },
     "execution_count": 18,
     "metadata": {},
     "output_type": "execute_result"
    }
   ],
   "source": [
    "eq2 = Eq(lhs[1], rhs[1])\n",
    "eq2"
   ]
  },
  {
   "cell_type": "markdown",
   "metadata": {},
   "source": [
    "Now I want equations that are explicit in ax and ay.  In this case I can get them easily by dividing through by m.  But for the rigid pendulum we will need to use solve, so I want to demonstrate that here."
   ]
  },
  {
   "cell_type": "code",
   "execution_count": 24,
   "metadata": {},
   "outputs": [],
   "source": [
    "soln = solve([eq1, eq2], [ax, ay])"
   ]
  },
  {
   "cell_type": "markdown",
   "metadata": {},
   "source": [
    "Now we can extract the expressions for ax and ay"
   ]
  },
  {
   "cell_type": "code",
   "execution_count": 25,
   "metadata": {},
   "outputs": [
    {
     "data": {
      "image/png": "[encoded data removed]",
      "text/latex": [
       "$$\\frac{k length_{0} x}{m \\sqrt{x^{2} + y^{2}}} - \\frac{k x}{m}$$"
      ],
      "text/plain": [
       " k⋅length₀⋅x     k⋅x\n",
       "────────────── - ───\n",
       "     _________    m \n",
       "    ╱  2    2       \n",
       "m⋅╲╱  x  + y        "
      ]
     },
     "execution_count": 25,
     "metadata": {},
     "output_type": "execute_result"
    }
   ],
   "source": [
    "soln[ax]"
   ]
  },
  {
   "cell_type": "code",
   "execution_count": 26,
   "metadata": {},
   "outputs": [
    {
     "data": {
      "image/png": "[encoded data removed]",
      "text/latex": [
       "$$- g + \\frac{k length_{0} y}{m \\sqrt{x^{2} + y^{2}}} - \\frac{k y}{m}$$"
      ],
      "text/plain": [
       "      k⋅length₀⋅y     k⋅y\n",
       "-g + ────────────── - ───\n",
       "          _________    m \n",
       "         ╱  2    2       \n",
       "     m⋅╲╱  x  + y        "
      ]
     },
     "execution_count": 26,
     "metadata": {},
     "output_type": "execute_result"
    }
   ],
   "source": [
    "soln[ay]"
   ]
  },
  {
   "cell_type": "markdown",
   "metadata": {},
   "source": [
    "And we can get SymPy to format the result for LaTeX:"
   ]
  },
  {
   "cell_type": "code",
   "execution_count": 27,
   "metadata": {
    "scrolled": true
   },
   "outputs": [
    {
     "name": "stdout",
     "output_type": "stream",
     "text": [
      "\\frac{k length_{0} x}{m \\sqrt{x^{2} + y^{2}}} - \\frac{k x}{m}\n"
     ]
    }
   ],
   "source": [
    "print(latex(soln[ax]))"
   ]
  },
  {
   "cell_type": "code",
   "execution_count": 28,
   "metadata": {
    "scrolled": true
   },
   "outputs": [
    {
     "name": "stdout",
     "output_type": "stream",
     "text": [
      "- g + \\frac{k length_{0} y}{m \\sqrt{x^{2} + y^{2}}} - \\frac{k y}{m}\n"
     ]
    }
   ],
   "source": [
    "print(latex(soln[ay]))"
   ]
  },
  {
   "cell_type": "markdown",
   "metadata": {},
   "source": [
    "Or generate Python code we can paste into a slope function:"
   ]
  },
  {
   "cell_type": "code",
   "execution_count": 29,
   "metadata": {
    "scrolled": true
   },
   "outputs": [
    {
     "name": "stdout",
     "output_type": "stream",
     "text": [
      "k = Symbol('k')\n",
      "length0 = Symbol('length0')\n",
      "x = Symbol('x')\n",
      "m = Symbol('m')\n",
      "y = Symbol('y')\n",
      "e = k*length0*x/(m*sqrt(x**2 + y**2)) - k*x/m\n"
     ]
    }
   ],
   "source": [
    "print(python(soln[ax]))"
   ]
  },
  {
   "cell_type": "code",
   "execution_count": 30,
   "metadata": {
    "scrolled": false
   },
   "outputs": [
    {
     "name": "stdout",
     "output_type": "stream",
     "text": [
      "g = Symbol('g')\n",
      "k = Symbol('k')\n",
      "length0 = Symbol('length0')\n",
      "y = Symbol('y')\n",
      "m = Symbol('m')\n",
      "x = Symbol('x')\n",
      "e = -g + k*length0*y/(m*sqrt(x**2 + y**2)) - k*y/m\n"
     ]
    }
   ],
   "source": [
    "print(python(soln[ay]))"
   ]
  },
  {
   "cell_type": "markdown",
   "metadata": {},
   "source": [
    "To see these equations run, see pendulum.ipynb"
   ]
  },
  {
   "cell_type": "markdown",
   "metadata": {},
   "source": [
    "### Rigid pendulum"
   ]
  },
  {
   "cell_type": "markdown",
   "metadata": {},
   "source": [
    "Solving the rigid pendulum is almost the same, except we need a third equation to represent the geometric constraint.  The simplest form of the constraint is:\n",
    "\n",
    "$ x^2 + y ^2 = length$\n",
    "\n",
    "But this equation doesn't involve vx, vy, ax, and ay, so it's not much help.  However, if we take the time derivative of both sides, we get\n",
    "\n",
    "$ 2 x vx + 2 y vy = 0 $\n",
    "\n",
    "And if we take the time derivative one more time (and divide through by 2), we get\n",
    "\n",
    "$ x ax + y ay + vx^2 + vy^2 = 0 $\n",
    "\n",
    "And that's just what we need."
   ]
  },
  {
   "cell_type": "code",
   "execution_count": 31,
   "metadata": {},
   "outputs": [
    {
     "data": {
      "image/png": "[encoded data removed]",
      "text/latex": [
       "$$ax x + ay y + vx^{2} + vy^{2} = 0$$"
      ],
      "text/plain": [
       "                2     2    \n",
       "ax⋅x + ay⋅y + vx  + vy  = 0"
      ]
     },
     "execution_count": 31,
     "metadata": {},
     "output_type": "execute_result"
    }
   ],
   "source": [
    "eq3 = Eq(x*ax + y*ay + vx**2 + vy**2, 0)\n",
    "eq3"
   ]
  },
  {
   "cell_type": "markdown",
   "metadata": {},
   "source": [
    "Now we can represent the force due to tension as a vector with unknown magnitude, R, and direction opposite P. "
   ]
  },
  {
   "cell_type": "code",
   "execution_count": 32,
   "metadata": {
    "collapsed": true
   },
   "outputs": [],
   "source": [
    "f_tension = -R * hat(P)"
   ]
  },
  {
   "cell_type": "markdown",
   "metadata": {},
   "source": [
    "Again, we can write $\\sum F = ma$"
   ]
  },
  {
   "cell_type": "code",
   "execution_count": 33,
   "metadata": {
    "collapsed": true
   },
   "outputs": [],
   "source": [
    "lhs = f_grav + f_tension"
   ]
  },
  {
   "cell_type": "code",
   "execution_count": 34,
   "metadata": {
    "collapsed": true
   },
   "outputs": [],
   "source": [
    "rhs = m * A"
   ]
  },
  {
   "cell_type": "markdown",
   "metadata": {},
   "source": [
    "And make one equation for each dimension:"
   ]
  },
  {
   "cell_type": "code",
   "execution_count": 35,
   "metadata": {},
   "outputs": [
    {
     "data": {
      "image/png": "[encoded data removed]",
      "text/latex": [
       "$$- \\frac{R x}{\\sqrt{x^{2} + y^{2}}} = ax m$$"
      ],
      "text/plain": [
       "   -R⋅x            \n",
       "──────────── = ax⋅m\n",
       "   _________       \n",
       "  ╱  2    2        \n",
       "╲╱  x  + y         "
      ]
     },
     "execution_count": 35,
     "metadata": {},
     "output_type": "execute_result"
    }
   ],
   "source": [
    "eq4 = Eq(lhs[0], rhs[0])\n",
    "eq4"
   ]
  },
  {
   "cell_type": "markdown",
   "metadata": {},
   "source": []
  },
  {
   "cell_type": "code",
   "execution_count": 36,
   "metadata": {},
   "outputs": [
    {
     "data": {
      "image/png": "[encoded data removed]",
      "text/latex": [
       "$$- \\frac{R y}{\\sqrt{x^{2} + y^{2}}} - g m = ay m$$"
      ],
      "text/plain": [
       "      R⋅y                  \n",
       "- ──────────── - g⋅m = ay⋅m\n",
       "     _________             \n",
       "    ╱  2    2              \n",
       "  ╲╱  x  + y               "
      ]
     },
     "execution_count": 36,
     "metadata": {},
     "output_type": "execute_result"
    }
   ],
   "source": [
    "eq5 = Eq(lhs[1], rhs[1])\n",
    "eq5"
   ]
  },
  {
   "cell_type": "markdown",
   "metadata": {},
   "source": [
    "Now we have three equations in three unknowns:"
   ]
  },
  {
   "cell_type": "code",
   "execution_count": 37,
   "metadata": {
    "collapsed": true
   },
   "outputs": [],
   "source": [
    "soln = solve([eq3, eq4, eq5], [ax, ay, R])"
   ]
  },
  {
   "cell_type": "markdown",
   "metadata": {},
   "source": [
    "And we can get explicit expressions for ax and ay"
   ]
  },
  {
   "cell_type": "code",
   "execution_count": 38,
   "metadata": {},
   "outputs": [
    {
     "data": {
      "image/png": "[encoded data removed]",
      "text/latex": [
       "$$\\frac{x}{x^{2} + y^{2}} \\left(g y - vx^{2} - vy^{2}\\right)$$"
      ],
      "text/plain": [
       "  ⎛        2     2⎞\n",
       "x⋅⎝g⋅y - vx  - vy ⎠\n",
       "───────────────────\n",
       "       2    2      \n",
       "      x  + y       "
      ]
     },
     "execution_count": 38,
     "metadata": {},
     "output_type": "execute_result"
    }
   ],
   "source": [
    "soln[ax]"
   ]
  },
  {
   "cell_type": "markdown",
   "metadata": {},
   "source": []
  },
  {
   "cell_type": "code",
   "execution_count": 39,
   "metadata": {},
   "outputs": [
    {
     "data": {
      "image/png": "[encoded data removed]",
      "text/latex": [
       "$$- \\frac{1}{x^{2} + y^{2}} \\left(g x^{2} + y \\left(vx^{2} + vy^{2}\\right)\\right)$$"
      ],
      "text/plain": [
       " ⎛   2     ⎛  2     2⎞⎞ \n",
       "-⎝g⋅x  + y⋅⎝vx  + vy ⎠⎠ \n",
       "────────────────────────\n",
       "         2    2         \n",
       "        x  + y          "
      ]
     },
     "execution_count": 39,
     "metadata": {},
     "output_type": "execute_result"
    }
   ],
   "source": [
    "soln[ay]"
   ]
  },
  {
   "cell_type": "markdown",
   "metadata": {},
   "source": [
    "Again, we can get the results in LaTeX or Python."
   ]
  },
  {
   "cell_type": "code",
   "execution_count": 40,
   "metadata": {
    "scrolled": true
   },
   "outputs": [
    {
     "name": "stdout",
     "output_type": "stream",
     "text": [
      "\\frac{x}{x^{2} + y^{2}} \\left(g y - vx^{2} - vy^{2}\\right)\n"
     ]
    }
   ],
   "source": [
    "print(latex(soln[ax]))"
   ]
  },
  {
   "cell_type": "code",
   "execution_count": 41,
   "metadata": {
    "scrolled": true
   },
   "outputs": [
    {
     "name": "stdout",
     "output_type": "stream",
     "text": [
      "- \\frac{1}{x^{2} + y^{2}} \\left(g x^{2} + y \\left(vx^{2} + vy^{2}\\right)\\right)\n"
     ]
    }
   ],
   "source": [
    "print(latex(soln[ay]))"
   ]
  },
  {
   "cell_type": "markdown",
   "metadata": {},
   "source": [
    "To see these equations run, see pendulum2.ipynb"
   ]
  },
  {
   "cell_type": "code",
   "execution_count": 42,
   "metadata": {
    "scrolled": true
   },
   "outputs": [
    {
     "name": "stdout",
     "output_type": "stream",
     "text": [
      "x = Symbol('x')\n",
      "g = Symbol('g')\n",
      "y = Symbol('y')\n",
      "vx = Symbol('vx')\n",
      "vy = Symbol('vy')\n",
      "e = x*(g*y - vx**2 - vy**2)/(x**2 + y**2)\n"
     ]
    }
   ],
   "source": [
    "print(python(soln[ax]))"
   ]
  },
  {
   "cell_type": "code",
   "execution_count": 43,
   "metadata": {
    "scrolled": false
   },
   "outputs": [
    {
     "name": "stdout",
     "output_type": "stream",
     "text": [
      "g = Symbol('g')\n",
      "x = Symbol('x')\n",
      "y = Symbol('y')\n",
      "vx = Symbol('vx')\n",
      "vy = Symbol('vy')\n",
      "e = -(g*x**2 + y*(vx**2 + vy**2))/(x**2 + y**2)\n"
     ]
    }
   ],
   "source": [
    "print(python(soln[ay]))"
   ]
  },
  {
   "cell_type": "code",
   "execution_count": null,
   "metadata": {
    "collapsed": true
   },
   "outputs": [],
   "source": []
  }
 ],
 "metadata": {
  "kernelspec": {
   "display_name": "Python 3",
   "language": "python",
   "name": "python3"
  },
  "language_info": {
   "codemirror_mode": {
    "name": "ipython",
    "version": 3
   },
   "file_extension": ".py",
   "mimetype": "text/x-python",
   "name": "python",
   "nbconvert_exporter": "python",
   "pygments_lexer": "ipython3",
   "version": "3.6.1"
  }
 },
 "nbformat": 4,
 "nbformat_minor": 1
}
