{
 "cells": [
  {
   "cell_type": "markdown",
   "metadata": {},
   "source": [
    "# Modeling and Simulation in Python\n",
    "\n",
    "Chapter 8: Pharmacokinetics\n",
    "\n",
    "Copyright 2017 Allen Downey\n",
    "\n",
    "License: [Creative Commons Attribution 4.0 International](https://creativecommons.org/licenses/by/4.0)\n"
   ]
  },
  {
   "cell_type": "markdown",
   "metadata": {},
   "source": [
    "We'll start with the same code we saw last time: the magic command that tells Jupyter where to put the figures, and the import statement that gets the function defined in the `modsim` module."
   ]
  },
  {
   "cell_type": "code",
   "execution_count": 1,
   "metadata": {
    "collapsed": true
   },
   "outputs": [],
   "source": [
    "# If you want the figures to appear in the notebook, \n",
    "# and you want to interact with them, use\n",
    "# %matplotlib notebook\n",
    "\n",
    "# If you want the figures to appear in the notebook, \n",
    "# and you don't want to interact with them, use\n",
    "# %matplotlib inline\n",
    "\n",
    "# If you want the figures to appear in separate windows, use\n",
    "# %matplotlib qt|\n",
    "\n",
    "# tempo switch from one to another, you have to select Kernel->Restart\n",
    "\n",
    "%matplotlib inline\n",
    "\n",
    "from modsim import *"
   ]
  },
  {
   "cell_type": "code",
   "execution_count": 2,
   "metadata": {},
   "outputs": [
    {
     "data": {
      "text/html": [
       "<div>\n",
       "<style>\n",
       "    .dataframe thead tr:only-child th {\n",
       "        text-align: right;\n",
       "    }\n",
       "\n",
       "    .dataframe thead th {\n",
       "        text-align: left;\n",
       "    }\n",
       "\n",
       "    .dataframe tbody tr th {\n",
       "        vertical-align: top;\n",
       "    }\n",
       "</style>\n",
       "<table border=\"1\" class=\"dataframe\">\n",
       "  <thead>\n",
       "    <tr style=\"text-align: right;\">\n",
       "      <th></th>\n",
       "      <th>glucose</th>\n",
       "      <th>insulin</th>\n",
       "    </tr>\n",
       "    <tr>\n",
       "      <th>time</th>\n",
       "      <th></th>\n",
       "      <th></th>\n",
       "    </tr>\n",
       "  </thead>\n",
       "  <tbody>\n",
       "    <tr>\n",
       "      <th>0</th>\n",
       "      <td>92</td>\n",
       "      <td>11</td>\n",
       "    </tr>\n",
       "    <tr>\n",
       "      <th>2</th>\n",
       "      <td>350</td>\n",
       "      <td>26</td>\n",
       "    </tr>\n",
       "    <tr>\n",
       "      <th>4</th>\n",
       "      <td>287</td>\n",
       "      <td>130</td>\n",
       "    </tr>\n",
       "    <tr>\n",
       "      <th>6</th>\n",
       "      <td>251</td>\n",
       "      <td>85</td>\n",
       "    </tr>\n",
       "    <tr>\n",
       "      <th>8</th>\n",
       "      <td>240</td>\n",
       "      <td>51</td>\n",
       "    </tr>\n",
       "    <tr>\n",
       "      <th>10</th>\n",
       "      <td>216</td>\n",
       "      <td>49</td>\n",
       "    </tr>\n",
       "    <tr>\n",
       "      <th>12</th>\n",
       "      <td>211</td>\n",
       "      <td>45</td>\n",
       "    </tr>\n",
       "    <tr>\n",
       "      <th>14</th>\n",
       "      <td>205</td>\n",
       "      <td>41</td>\n",
       "    </tr>\n",
       "    <tr>\n",
       "      <th>16</th>\n",
       "      <td>196</td>\n",
       "      <td>35</td>\n",
       "    </tr>\n",
       "    <tr>\n",
       "      <th>19</th>\n",
       "      <td>192</td>\n",
       "      <td>30</td>\n",
       "    </tr>\n",
       "    <tr>\n",
       "      <th>22</th>\n",
       "      <td>172</td>\n",
       "      <td>30</td>\n",
       "    </tr>\n",
       "    <tr>\n",
       "      <th>27</th>\n",
       "      <td>163</td>\n",
       "      <td>27</td>\n",
       "    </tr>\n",
       "    <tr>\n",
       "      <th>32</th>\n",
       "      <td>142</td>\n",
       "      <td>30</td>\n",
       "    </tr>\n",
       "    <tr>\n",
       "      <th>42</th>\n",
       "      <td>124</td>\n",
       "      <td>22</td>\n",
       "    </tr>\n",
       "    <tr>\n",
       "      <th>52</th>\n",
       "      <td>105</td>\n",
       "      <td>15</td>\n",
       "    </tr>\n",
       "    <tr>\n",
       "      <th>62</th>\n",
       "      <td>92</td>\n",
       "      <td>15</td>\n",
       "    </tr>\n",
       "    <tr>\n",
       "      <th>72</th>\n",
       "      <td>84</td>\n",
       "      <td>11</td>\n",
       "    </tr>\n",
       "    <tr>\n",
       "      <th>82</th>\n",
       "      <td>77</td>\n",
       "      <td>10</td>\n",
       "    </tr>\n",
       "    <tr>\n",
       "      <th>92</th>\n",
       "      <td>82</td>\n",
       "      <td>8</td>\n",
       "    </tr>\n",
       "    <tr>\n",
       "      <th>102</th>\n",
       "      <td>81</td>\n",
       "      <td>11</td>\n",
       "    </tr>\n",
       "    <tr>\n",
       "      <th>122</th>\n",
       "      <td>82</td>\n",
       "      <td>7</td>\n",
       "    </tr>\n",
       "    <tr>\n",
       "      <th>142</th>\n",
       "      <td>82</td>\n",
       "      <td>8</td>\n",
       "    </tr>\n",
       "    <tr>\n",
       "      <th>162</th>\n",
       "      <td>85</td>\n",
       "      <td>8</td>\n",
       "    </tr>\n",
       "    <tr>\n",
       "      <th>182</th>\n",
       "      <td>90</td>\n",
       "      <td>7</td>\n",
       "    </tr>\n",
       "  </tbody>\n",
       "</table>\n",
       "</div>"
      ],
      "text/plain": [
       "      glucose  insulin\n",
       "time                  \n",
       "0          92       11\n",
       "2         350       26\n",
       "4         287      130\n",
       "6         251       85\n",
       "8         240       51\n",
       "10        216       49\n",
       "12        211       45\n",
       "14        205       41\n",
       "16        196       35\n",
       "19        192       30\n",
       "22        172       30\n",
       "27        163       27\n",
       "32        142       30\n",
       "42        124       22\n",
       "52        105       15\n",
       "62         92       15\n",
       "72         84       11\n",
       "82         77       10\n",
       "92         82        8\n",
       "102        81       11\n",
       "122        82        7\n",
       "142        82        8\n",
       "162        85        8\n",
       "182        90        7"
      ]
     },
     "execution_count": 2,
     "metadata": {},
     "output_type": "execute_result"
    }
   ],
   "source": [
    "df = pd.read_csv('glucose_insulin.csv', index_col='time')\n",
    "df"
   ]
  },
  {
   "cell_type": "code",
   "execution_count": 3,
   "metadata": {},
   "outputs": [
    {
     "data": {
      "image/png": "[encoded data removed]",
      "text/plain": [
       "<matplotlib.figure.Figure at 0x7f9a858c6a58>"
      ]
     },
     "metadata": {},
     "output_type": "display_data"
    }
   ],
   "source": [
    "plot(df.glucose, label='glucose')\n",
    "decorate(xlabel='Time (min)',\n",
    "         ylabel='Concentration (mg/dl)')"
   ]
  },
  {
   "cell_type": "code",
   "execution_count": 4,
   "metadata": {},
   "outputs": [
    {
     "data": {
      "image/png": "[encoded data removed]",
      "text/plain": [
       "<matplotlib.figure.Figure at 0x7f9a830edd68>"
      ]
     },
     "metadata": {},
     "output_type": "display_data"
    }
   ],
   "source": [
    "plot(df.insulin, color='green', label='insulin')\n",
    "decorate(xlabel='Time (min)',\n",
    "         ylabel='Concentration ($\\mu$U/ml)')"
   ]
  },
  {
   "cell_type": "code",
   "execution_count": null,
   "metadata": {
    "collapsed": true
   },
   "outputs": [],
   "source": []
  },
  {
   "cell_type": "code",
   "execution_count": 5,
   "metadata": {},
   "outputs": [],
   "source": [
    "k1 = 0.0265\n",
    "k2 = 1.28e-05\n",
    "k3 = 0.0254\n",
    "G0 = 279"
   ]
  },
  {
   "cell_type": "code",
   "execution_count": 6,
   "metadata": {},
   "outputs": [
    {
     "data": {
      "text/plain": [
       "0.0005039370078740158"
      ]
     },
     "execution_count": 6,
     "metadata": {},
     "output_type": "execute_result"
    }
   ],
   "source": [
    "S_t = k2 / k3\n",
    "S_t"
   ]
  },
  {
   "cell_type": "code",
   "execution_count": 7,
   "metadata": {
    "collapsed": true
   },
   "outputs": [],
   "source": [
    "init = State(G=G0, X=0)"
   ]
  },
  {
   "cell_type": "code",
   "execution_count": 8,
   "metadata": {},
   "outputs": [],
   "source": [
    "system = System(init=init, k1=k1, k2=k2, k3=k3,\n",
    "                G_b = df.glucose[0],\n",
    "                I_b = df.insulin[0],\n",
    "                I = df.insulin,\n",
    "                t0=0, t_end=182, dt=2)"
   ]
  },
  {
   "cell_type": "code",
   "execution_count": 9,
   "metadata": {
    "collapsed": true
   },
   "outputs": [],
   "source": [
    "def update_func(state, t, system):\n",
    "    G, X = state\n",
    "    unpack(system)\n",
    "        \n",
    "    dGdt = -k1 * (G - G_b) - X*G\n",
    "    dXdt = k2 * (I[t] - I_b) - k3 * X\n",
    "    \n",
    "    G += dGdt * dt\n",
    "    X += dXdt * dt\n",
    "\n",
    "    return State(G=G, X=X)"
   ]
  },
  {
   "cell_type": "code",
   "execution_count": 10,
   "metadata": {},
   "outputs": [
    {
     "data": {
      "text/html": [
       "<div>\n",
       "<style>\n",
       "    .dataframe thead tr:only-child th {\n",
       "        text-align: right;\n",
       "    }\n",
       "\n",
       "    .dataframe thead th {\n",
       "        text-align: left;\n",
       "    }\n",
       "\n",
       "    .dataframe tbody tr th {\n",
       "        vertical-align: top;\n",
       "    }\n",
       "</style>\n",
       "<table border=\"1\" class=\"dataframe\">\n",
       "  <thead>\n",
       "    <tr style=\"text-align: right;\">\n",
       "      <th></th>\n",
       "      <th>value</th>\n",
       "    </tr>\n",
       "  </thead>\n",
       "  <tbody>\n",
       "    <tr>\n",
       "      <th>G</th>\n",
       "      <td>269.089</td>\n",
       "    </tr>\n",
       "    <tr>\n",
       "      <th>X</th>\n",
       "      <td>0.000</td>\n",
       "    </tr>\n",
       "  </tbody>\n",
       "</table>\n",
       "</div>"
      ],
      "text/plain": [
       "G    269.089\n",
       "X      0.000\n",
       "dtype: float64"
      ]
     },
     "execution_count": 10,
     "metadata": {},
     "output_type": "execute_result"
    }
   ],
   "source": [
    "update_func(init, 0, system)"
   ]
  },
  {
   "cell_type": "code",
   "execution_count": 11,
   "metadata": {
    "collapsed": true
   },
   "outputs": [],
   "source": [
    "def run_simulation(system, update_func):\n",
    "    \"\"\"Runs a simulation of the system.\n",
    "    \n",
    "    Add a DataFrame to the System: results\n",
    "    \n",
    "    system: System object\n",
    "    update_func: function that updates state\n",
    "    \"\"\"\n",
    "    unpack(system)\n",
    "    \n",
    "    df = TimeFrame(columns=system.init.index)\n",
    "    df.loc[t0] = system.init\n",
    "    \n",
    "    for t in arange(t0, t_end, dt):\n",
    "        df.loc[t+dt] = update_func(df.loc[t], t, system)\n",
    "    \n",
    "    system.results = df"
   ]
  },
  {
   "cell_type": "code",
   "execution_count": 12,
   "metadata": {},
   "outputs": [],
   "source": [
    "# this generates KeyError: 18 because we don't have\n",
    "# data at t=18\n",
    "\n",
    "#run_simulation(system, update_func)"
   ]
  },
  {
   "cell_type": "code",
   "execution_count": 13,
   "metadata": {},
   "outputs": [],
   "source": [
    "from scipy.interpolate import interp1d\n",
    "\n",
    "def interpolate(series, **options):\n",
    "    underride(options, fill_value='extrapolate')\n",
    "    return interp1d(series.index, series.values, **options)"
   ]
  },
  {
   "cell_type": "code",
   "execution_count": 14,
   "metadata": {},
   "outputs": [
    {
     "data": {
      "text/plain": [
       "<scipy.interpolate.interpolate.interp1d at 0x7f9a82fa12c8>"
      ]
     },
     "execution_count": 14,
     "metadata": {},
     "output_type": "execute_result"
    }
   ],
   "source": [
    "I_interp = interpolate(I)\n",
    "I_interp"
   ]
  },
  {
   "cell_type": "code",
   "execution_count": 15,
   "metadata": {},
   "outputs": [
    {
     "data": {
      "text/plain": [
       "array(31.666666666666668)"
      ]
     },
     "execution_count": 15,
     "metadata": {},
     "output_type": "execute_result"
    }
   ],
   "source": [
    "I_interp(18)"
   ]
  },
  {
   "cell_type": "code",
   "execution_count": 16,
   "metadata": {},
   "outputs": [
    {
     "data": {
      "image/png": "[encoded data removed]",
      "text/plain": [
       "<matplotlib.figure.Figure at 0x7f9a82d89630>"
      ]
     },
     "metadata": {},
     "output_type": "display_data"
    }
   ],
   "source": [
    "ts = arange(0, 182, 2)\n",
    "Is = I_interp(ts)\n",
    "plot(ts, Is)"
   ]
  },
  {
   "cell_type": "code",
   "execution_count": 17,
   "metadata": {
    "collapsed": true
   },
   "outputs": [],
   "source": [
    "system = System(init=init, k1=k1, k2=k2, k3=k3,\n",
    "                G_b = df.glucose[0],\n",
    "                I_b = df.insulin[0],\n",
    "                I_interp = interpolate(df.insulin),\n",
    "                t0=0, t_end=182, dt=2)"
   ]
  },
  {
   "cell_type": "code",
   "execution_count": 18,
   "metadata": {
    "collapsed": true
   },
   "outputs": [],
   "source": [
    "def update_func(state, t, system):\n",
    "    G, X = state\n",
    "    unpack(system)\n",
    "    \n",
    "    dGdt = -k1 * (G - G_b) - X*G\n",
    "    dXdt = k2 * (I_interp(t) - I_b) - k3 * X\n",
    "    \n",
    "    G += dGdt * dt\n",
    "    X += dXdt * dt\n",
    "\n",
    "    return State(G=G, X=X)"
   ]
  },
  {
   "cell_type": "code",
   "execution_count": 19,
   "metadata": {},
   "outputs": [],
   "source": [
    "run_simulation(system, update_func)"
   ]
  },
  {
   "cell_type": "code",
   "execution_count": 20,
   "metadata": {},
   "outputs": [
    {
     "data": {
      "text/html": [
       "<div>\n",
       "<style>\n",
       "    .dataframe thead tr:only-child th {\n",
       "        text-align: right;\n",
       "    }\n",
       "\n",
       "    .dataframe thead th {\n",
       "        text-align: left;\n",
       "    }\n",
       "\n",
       "    .dataframe tbody tr th {\n",
       "        vertical-align: top;\n",
       "    }\n",
       "</style>\n",
       "<table border=\"1\" class=\"dataframe\">\n",
       "  <thead>\n",
       "    <tr style=\"text-align: right;\">\n",
       "      <th></th>\n",
       "      <th>G</th>\n",
       "      <th>X</th>\n",
       "    </tr>\n",
       "  </thead>\n",
       "  <tbody>\n",
       "    <tr>\n",
       "      <th>0</th>\n",
       "      <td>279</td>\n",
       "      <td>0</td>\n",
       "    </tr>\n",
       "    <tr>\n",
       "      <th>2</th>\n",
       "      <td>269.089</td>\n",
       "      <td>0</td>\n",
       "    </tr>\n",
       "    <tr>\n",
       "      <th>4</th>\n",
       "      <td>259.703</td>\n",
       "      <td>0.000384</td>\n",
       "    </tr>\n",
       "    <tr>\n",
       "      <th>6</th>\n",
       "      <td>250.616</td>\n",
       "      <td>0.00341089</td>\n",
       "    </tr>\n",
       "    <tr>\n",
       "      <th>8</th>\n",
       "      <td>240.499</td>\n",
       "      <td>0.00513202</td>\n",
       "    </tr>\n",
       "    <tr>\n",
       "      <th>10</th>\n",
       "      <td>230.16</td>\n",
       "      <td>0.00589531</td>\n",
       "    </tr>\n",
       "    <tr>\n",
       "      <th>12</th>\n",
       "      <td>220.124</td>\n",
       "      <td>0.00656863</td>\n",
       "    </tr>\n",
       "    <tr>\n",
       "      <th>14</th>\n",
       "      <td>210.442</td>\n",
       "      <td>0.00710534</td>\n",
       "    </tr>\n",
       "    <tr>\n",
       "      <th>16</th>\n",
       "      <td>201.174</td>\n",
       "      <td>0.00751239</td>\n",
       "    </tr>\n",
       "    <tr>\n",
       "      <th>18</th>\n",
       "      <td>192.365</td>\n",
       "      <td>0.00774516</td>\n",
       "    </tr>\n",
       "    <tr>\n",
       "      <th>20</th>\n",
       "      <td>184.066</td>\n",
       "      <td>0.00788078</td>\n",
       "    </tr>\n",
       "    <tr>\n",
       "      <th>22</th>\n",
       "      <td>176.285</td>\n",
       "      <td>0.00796683</td>\n",
       "    </tr>\n",
       "    <tr>\n",
       "      <th>24</th>\n",
       "      <td>169.009</td>\n",
       "      <td>0.00804852</td>\n",
       "    </tr>\n",
       "    <tr>\n",
       "      <th>26</th>\n",
       "      <td>162.207</td>\n",
       "      <td>0.00809533</td>\n",
       "    </tr>\n",
       "    <tr>\n",
       "      <th>28</th>\n",
       "      <td>155.86</td>\n",
       "      <td>0.00810905</td>\n",
       "    </tr>\n",
       "    <tr>\n",
       "      <th>30</th>\n",
       "      <td>149.948</td>\n",
       "      <td>0.00812207</td>\n",
       "    </tr>\n",
       "    <tr>\n",
       "      <th>32</th>\n",
       "      <td>144.441</td>\n",
       "      <td>0.00816515</td>\n",
       "    </tr>\n",
       "    <tr>\n",
       "      <th>34</th>\n",
       "      <td>139.303</td>\n",
       "      <td>0.00823676</td>\n",
       "    </tr>\n",
       "    <tr>\n",
       "      <th>36</th>\n",
       "      <td>134.501</td>\n",
       "      <td>0.00826377</td>\n",
       "    </tr>\n",
       "    <tr>\n",
       "      <th>38</th>\n",
       "      <td>130.025</td>\n",
       "      <td>0.00824845</td>\n",
       "    </tr>\n",
       "    <tr>\n",
       "      <th>40</th>\n",
       "      <td>125.865</td>\n",
       "      <td>0.00819295</td>\n",
       "    </tr>\n",
       "    <tr>\n",
       "      <th>42</th>\n",
       "      <td>122.008</td>\n",
       "      <td>0.00809931</td>\n",
       "    </tr>\n",
       "    <tr>\n",
       "      <th>44</th>\n",
       "      <td>118.441</td>\n",
       "      <td>0.00796946</td>\n",
       "    </tr>\n",
       "    <tr>\n",
       "      <th>46</th>\n",
       "      <td>115.152</td>\n",
       "      <td>0.00781038</td>\n",
       "    </tr>\n",
       "    <tr>\n",
       "      <th>48</th>\n",
       "      <td>112.126</td>\n",
       "      <td>0.00762353</td>\n",
       "    </tr>\n",
       "    <tr>\n",
       "      <th>50</th>\n",
       "      <td>109.35</td>\n",
       "      <td>0.00741033</td>\n",
       "    </tr>\n",
       "    <tr>\n",
       "      <th>52</th>\n",
       "      <td>106.809</td>\n",
       "      <td>0.00717213</td>\n",
       "    </tr>\n",
       "    <tr>\n",
       "      <th>54</th>\n",
       "      <td>104.492</td>\n",
       "      <td>0.00691018</td>\n",
       "    </tr>\n",
       "    <tr>\n",
       "      <th>56</th>\n",
       "      <td>102.386</td>\n",
       "      <td>0.00666155</td>\n",
       "    </tr>\n",
       "    <tr>\n",
       "      <th>58</th>\n",
       "      <td>100.472</td>\n",
       "      <td>0.00642554</td>\n",
       "    </tr>\n",
       "    <tr>\n",
       "      <th>...</th>\n",
       "      <td>...</td>\n",
       "      <td>...</td>\n",
       "    </tr>\n",
       "    <tr>\n",
       "      <th>124</th>\n",
       "      <td>86.8442</td>\n",
       "      <td>0.000551271</td>\n",
       "    </tr>\n",
       "    <tr>\n",
       "      <th>126</th>\n",
       "      <td>87.0217</td>\n",
       "      <td>0.000423426</td>\n",
       "    </tr>\n",
       "    <tr>\n",
       "      <th>128</th>\n",
       "      <td>87.2119</td>\n",
       "      <td>0.000304636</td>\n",
       "    </tr>\n",
       "    <tr>\n",
       "      <th>130</th>\n",
       "      <td>87.4125</td>\n",
       "      <td>0.000194441</td>\n",
       "    </tr>\n",
       "    <tr>\n",
       "      <th>132</th>\n",
       "      <td>87.6216</td>\n",
       "      <td>9.24033e-05</td>\n",
       "    </tr>\n",
       "    <tr>\n",
       "      <th>134</th>\n",
       "      <td>87.8375</td>\n",
       "      <td>-1.89082e-06</td>\n",
       "    </tr>\n",
       "    <tr>\n",
       "      <th>136</th>\n",
       "      <td>88.0584</td>\n",
       "      <td>-8.88348e-05</td>\n",
       "    </tr>\n",
       "    <tr>\n",
       "      <th>138</th>\n",
       "      <td>88.283</td>\n",
       "      <td>-0.000168802</td>\n",
       "    </tr>\n",
       "    <tr>\n",
       "      <th>140</th>\n",
       "      <td>88.5098</td>\n",
       "      <td>-0.000242147</td>\n",
       "    </tr>\n",
       "    <tr>\n",
       "      <th>142</th>\n",
       "      <td>88.7376</td>\n",
       "      <td>-0.000309206</td>\n",
       "    </tr>\n",
       "    <tr>\n",
       "      <th>144</th>\n",
       "      <td>88.9654</td>\n",
       "      <td>-0.000370298</td>\n",
       "    </tr>\n",
       "    <tr>\n",
       "      <th>146</th>\n",
       "      <td>89.1921</td>\n",
       "      <td>-0.000428287</td>\n",
       "    </tr>\n",
       "    <tr>\n",
       "      <th>148</th>\n",
       "      <td>89.4174</td>\n",
       "      <td>-0.00048333</td>\n",
       "    </tr>\n",
       "    <tr>\n",
       "      <th>150</th>\n",
       "      <td>89.6407</td>\n",
       "      <td>-0.000535577</td>\n",
       "    </tr>\n",
       "    <tr>\n",
       "      <th>152</th>\n",
       "      <td>89.8617</td>\n",
       "      <td>-0.00058517</td>\n",
       "    </tr>\n",
       "    <tr>\n",
       "      <th>154</th>\n",
       "      <td>90.0802</td>\n",
       "      <td>-0.000632243</td>\n",
       "    </tr>\n",
       "    <tr>\n",
       "      <th>156</th>\n",
       "      <td>90.2959</td>\n",
       "      <td>-0.000676925</td>\n",
       "    </tr>\n",
       "    <tr>\n",
       "      <th>158</th>\n",
       "      <td>90.5085</td>\n",
       "      <td>-0.000719337</td>\n",
       "    </tr>\n",
       "    <tr>\n",
       "      <th>160</th>\n",
       "      <td>90.7177</td>\n",
       "      <td>-0.000759595</td>\n",
       "    </tr>\n",
       "    <tr>\n",
       "      <th>162</th>\n",
       "      <td>90.9235</td>\n",
       "      <td>-0.000797807</td>\n",
       "    </tr>\n",
       "    <tr>\n",
       "      <th>164</th>\n",
       "      <td>91.1256</td>\n",
       "      <td>-0.000834079</td>\n",
       "    </tr>\n",
       "    <tr>\n",
       "      <th>166</th>\n",
       "      <td>91.324</td>\n",
       "      <td>-0.000871068</td>\n",
       "    </tr>\n",
       "    <tr>\n",
       "      <th>168</th>\n",
       "      <td>91.5189</td>\n",
       "      <td>-0.000908737</td>\n",
       "    </tr>\n",
       "    <tr>\n",
       "      <th>170</th>\n",
       "      <td>91.7107</td>\n",
       "      <td>-0.000947054</td>\n",
       "    </tr>\n",
       "    <tr>\n",
       "      <th>172</th>\n",
       "      <td>91.8998</td>\n",
       "      <td>-0.000985983</td>\n",
       "    </tr>\n",
       "    <tr>\n",
       "      <th>174</th>\n",
       "      <td>92.0863</td>\n",
       "      <td>-0.0010255</td>\n",
       "    </tr>\n",
       "    <tr>\n",
       "      <th>176</th>\n",
       "      <td>92.2706</td>\n",
       "      <td>-0.00106556</td>\n",
       "    </tr>\n",
       "    <tr>\n",
       "      <th>178</th>\n",
       "      <td>92.4529</td>\n",
       "      <td>-0.00110615</td>\n",
       "    </tr>\n",
       "    <tr>\n",
       "      <th>180</th>\n",
       "      <td>92.6334</td>\n",
       "      <td>-0.00114724</td>\n",
       "    </tr>\n",
       "    <tr>\n",
       "      <th>182</th>\n",
       "      <td>92.8124</td>\n",
       "      <td>-0.0011888</td>\n",
       "    </tr>\n",
       "  </tbody>\n",
       "</table>\n",
       "<p>92 rows × 2 columns</p>\n",
       "</div>"
      ],
      "text/plain": [
       "           G            X\n",
       "0        279            0\n",
       "2    269.089            0\n",
       "4    259.703     0.000384\n",
       "6    250.616   0.00341089\n",
       "8    240.499   0.00513202\n",
       "10    230.16   0.00589531\n",
       "12   220.124   0.00656863\n",
       "14   210.442   0.00710534\n",
       "16   201.174   0.00751239\n",
       "18   192.365   0.00774516\n",
       "20   184.066   0.00788078\n",
       "22   176.285   0.00796683\n",
       "24   169.009   0.00804852\n",
       "26   162.207   0.00809533\n",
       "28    155.86   0.00810905\n",
       "30   149.948   0.00812207\n",
       "32   144.441   0.00816515\n",
       "34   139.303   0.00823676\n",
       "36   134.501   0.00826377\n",
       "38   130.025   0.00824845\n",
       "40   125.865   0.00819295\n",
       "42   122.008   0.00809931\n",
       "44   118.441   0.00796946\n",
       "46   115.152   0.00781038\n",
       "48   112.126   0.00762353\n",
       "50    109.35   0.00741033\n",
       "52   106.809   0.00717213\n",
       "54   104.492   0.00691018\n",
       "56   102.386   0.00666155\n",
       "58   100.472   0.00642554\n",
       "..       ...          ...\n",
       "124  86.8442  0.000551271\n",
       "126  87.0217  0.000423426\n",
       "128  87.2119  0.000304636\n",
       "130  87.4125  0.000194441\n",
       "132  87.6216  9.24033e-05\n",
       "134  87.8375 -1.89082e-06\n",
       "136  88.0584 -8.88348e-05\n",
       "138   88.283 -0.000168802\n",
       "140  88.5098 -0.000242147\n",
       "142  88.7376 -0.000309206\n",
       "144  88.9654 -0.000370298\n",
       "146  89.1921 -0.000428287\n",
       "148  89.4174  -0.00048333\n",
       "150  89.6407 -0.000535577\n",
       "152  89.8617  -0.00058517\n",
       "154  90.0802 -0.000632243\n",
       "156  90.2959 -0.000676925\n",
       "158  90.5085 -0.000719337\n",
       "160  90.7177 -0.000759595\n",
       "162  90.9235 -0.000797807\n",
       "164  91.1256 -0.000834079\n",
       "166   91.324 -0.000871068\n",
       "168  91.5189 -0.000908737\n",
       "170  91.7107 -0.000947054\n",
       "172  91.8998 -0.000985983\n",
       "174  92.0863   -0.0010255\n",
       "176  92.2706  -0.00106556\n",
       "178  92.4529  -0.00110615\n",
       "180  92.6334  -0.00114724\n",
       "182  92.8124   -0.0011888\n",
       "\n",
       "[92 rows x 2 columns]"
      ]
     },
     "execution_count": 20,
     "metadata": {},
     "output_type": "execute_result"
    }
   ],
   "source": [
    "system.results"
   ]
  },
  {
   "cell_type": "code",
   "execution_count": 21,
   "metadata": {
    "collapsed": true
   },
   "outputs": [],
   "source": [
    "def slope_func(state, t, system):\n",
    "    G, X = state\n",
    "    unpack(system)\n",
    "    \n",
    "    dGdt = -k1 * (G - G_b) - X*G\n",
    "    dXdt = k2 * (I_interp(t) - I_b) - k3 * X\n",
    "    \n",
    "    return dGdt, dXdt"
   ]
  },
  {
   "cell_type": "code",
   "execution_count": 22,
   "metadata": {},
   "outputs": [
    {
     "data": {
      "text/plain": [
       "(-4.9554999999999998, 0.0)"
      ]
     },
     "execution_count": 22,
     "metadata": {},
     "output_type": "execute_result"
    }
   ],
   "source": [
    "slope_func(init, 0, system)"
   ]
  },
  {
   "cell_type": "code",
   "execution_count": 23,
   "metadata": {
    "collapsed": true
   },
   "outputs": [],
   "source": [
    "from scipy.integrate import odeint"
   ]
  },
  {
   "cell_type": "code",
   "execution_count": 24,
   "metadata": {},
   "outputs": [],
   "source": [
    "ts = df.index\n",
    "args = system,\n",
    "array = odeint(slope_func, init, ts, args)"
   ]
  },
  {
   "cell_type": "code",
   "execution_count": 25,
   "metadata": {},
   "outputs": [
    {
     "data": {
      "text/html": [
       "<div>\n",
       "<style>\n",
       "    .dataframe thead tr:only-child th {\n",
       "        text-align: right;\n",
       "    }\n",
       "\n",
       "    .dataframe thead th {\n",
       "        text-align: left;\n",
       "    }\n",
       "\n",
       "    .dataframe tbody tr th {\n",
       "        vertical-align: top;\n",
       "    }\n",
       "</style>\n",
       "<table border=\"1\" class=\"dataframe\">\n",
       "  <thead>\n",
       "    <tr style=\"text-align: right;\">\n",
       "      <th></th>\n",
       "      <th>G</th>\n",
       "      <th>X</th>\n",
       "    </tr>\n",
       "    <tr>\n",
       "      <th>time</th>\n",
       "      <th></th>\n",
       "      <th></th>\n",
       "    </tr>\n",
       "  </thead>\n",
       "  <tbody>\n",
       "    <tr>\n",
       "      <th>0</th>\n",
       "      <td>279.000000</td>\n",
       "      <td>0.000000</td>\n",
       "    </tr>\n",
       "    <tr>\n",
       "      <th>2</th>\n",
       "      <td>269.313178</td>\n",
       "      <td>0.000189</td>\n",
       "    </tr>\n",
       "    <tr>\n",
       "      <th>4</th>\n",
       "      <td>259.741164</td>\n",
       "      <td>0.001863</td>\n",
       "    </tr>\n",
       "    <tr>\n",
       "      <th>6</th>\n",
       "      <td>249.531357</td>\n",
       "      <td>0.004174</td>\n",
       "    </tr>\n",
       "    <tr>\n",
       "      <th>8</th>\n",
       "      <td>239.087517</td>\n",
       "      <td>0.005387</td>\n",
       "    </tr>\n",
       "    <tr>\n",
       "      <th>10</th>\n",
       "      <td>228.875898</td>\n",
       "      <td>0.006093</td>\n",
       "    </tr>\n",
       "    <tr>\n",
       "      <th>12</th>\n",
       "      <td>219.018111</td>\n",
       "      <td>0.006690</td>\n",
       "    </tr>\n",
       "    <tr>\n",
       "      <th>14</th>\n",
       "      <td>209.568047</td>\n",
       "      <td>0.007157</td>\n",
       "    </tr>\n",
       "    <tr>\n",
       "      <th>16</th>\n",
       "      <td>200.572093</td>\n",
       "      <td>0.007475</td>\n",
       "    </tr>\n",
       "    <tr>\n",
       "      <th>19</th>\n",
       "      <td>188.011423</td>\n",
       "      <td>0.007721</td>\n",
       "    </tr>\n",
       "    <tr>\n",
       "      <th>22</th>\n",
       "      <td>176.582564</td>\n",
       "      <td>0.007857</td>\n",
       "    </tr>\n",
       "    <tr>\n",
       "      <th>27</th>\n",
       "      <td>159.854229</td>\n",
       "      <td>0.007970</td>\n",
       "    </tr>\n",
       "    <tr>\n",
       "      <th>32</th>\n",
       "      <td>145.718342</td>\n",
       "      <td>0.008073</td>\n",
       "    </tr>\n",
       "    <tr>\n",
       "      <th>42</th>\n",
       "      <td>123.722993</td>\n",
       "      <td>0.007938</td>\n",
       "    </tr>\n",
       "    <tr>\n",
       "      <th>52</th>\n",
       "      <td>108.728738</td>\n",
       "      <td>0.006989</td>\n",
       "    </tr>\n",
       "    <tr>\n",
       "      <th>62</th>\n",
       "      <td>99.033853</td>\n",
       "      <td>0.005873</td>\n",
       "    </tr>\n",
       "    <tr>\n",
       "      <th>72</th>\n",
       "      <td>92.925675</td>\n",
       "      <td>0.004772</td>\n",
       "    </tr>\n",
       "    <tr>\n",
       "      <th>82</th>\n",
       "      <td>89.377812</td>\n",
       "      <td>0.003643</td>\n",
       "    </tr>\n",
       "    <tr>\n",
       "      <th>92</th>\n",
       "      <td>87.585532</td>\n",
       "      <td>0.002595</td>\n",
       "    </tr>\n",
       "    <tr>\n",
       "      <th>102</th>\n",
       "      <td>86.959396</td>\n",
       "      <td>0.001850</td>\n",
       "    </tr>\n",
       "    <tr>\n",
       "      <th>122</th>\n",
       "      <td>87.347643</td>\n",
       "      <td>0.000678</td>\n",
       "    </tr>\n",
       "    <tr>\n",
       "      <th>142</th>\n",
       "      <td>89.137105</td>\n",
       "      <td>-0.000286</td>\n",
       "    </tr>\n",
       "    <tr>\n",
       "      <th>162</th>\n",
       "      <td>91.117184</td>\n",
       "      <td>-0.000774</td>\n",
       "    </tr>\n",
       "    <tr>\n",
       "      <th>182</th>\n",
       "      <td>92.895242</td>\n",
       "      <td>-0.001177</td>\n",
       "    </tr>\n",
       "  </tbody>\n",
       "</table>\n",
       "</div>"
      ],
      "text/plain": [
       "               G         X\n",
       "time                      \n",
       "0     279.000000  0.000000\n",
       "2     269.313178  0.000189\n",
       "4     259.741164  0.001863\n",
       "6     249.531357  0.004174\n",
       "8     239.087517  0.005387\n",
       "10    228.875898  0.006093\n",
       "12    219.018111  0.006690\n",
       "14    209.568047  0.007157\n",
       "16    200.572093  0.007475\n",
       "19    188.011423  0.007721\n",
       "22    176.582564  0.007857\n",
       "27    159.854229  0.007970\n",
       "32    145.718342  0.008073\n",
       "42    123.722993  0.007938\n",
       "52    108.728738  0.006989\n",
       "62     99.033853  0.005873\n",
       "72     92.925675  0.004772\n",
       "82     89.377812  0.003643\n",
       "92     87.585532  0.002595\n",
       "102    86.959396  0.001850\n",
       "122    87.347643  0.000678\n",
       "142    89.137105 -0.000286\n",
       "162    91.117184 -0.000774\n",
       "182    92.895242 -0.001177"
      ]
     },
     "execution_count": 25,
     "metadata": {},
     "output_type": "execute_result"
    }
   ],
   "source": [
    "results = TimeFrame(array, columns=init.index, index=ts)\n",
    "results"
   ]
  },
  {
   "cell_type": "code",
   "execution_count": 26,
   "metadata": {
    "collapsed": true
   },
   "outputs": [],
   "source": [
    "def plot_results(G, X, **options):\n",
    "    plot(G, label='glucose', color='blue', **options)\n",
    "    plot(X, label='interstitial insulin', color='green', **options)"
   ]
  },
  {
   "cell_type": "code",
   "execution_count": 27,
   "metadata": {},
   "outputs": [
    {
     "data": {
      "image/png": "[encoded data removed]",
      "text/plain": [
       "<matplotlib.figure.Figure at 0x7f9a82db7320>"
      ]
     },
     "metadata": {},
     "output_type": "display_data"
    }
   ],
   "source": [
    "plot_results(results.G, results.X)\n",
    "plot(df.glucose, style='o')"
   ]
  },
  {
   "cell_type": "code",
   "execution_count": 28,
   "metadata": {
    "collapsed": true
   },
   "outputs": [],
   "source": [
    "def run_odeint(system, slope_func):\n",
    "    \"\"\"Runs a simulation of the system.\n",
    "    \n",
    "    Adds a DataFrame to the System: results\n",
    "    \n",
    "    system: System object\n",
    "    slope_func: function that computes slopes\n",
    "    \"\"\"\n",
    "    unpack(system)\n",
    "\n",
    "    ts = df.index\n",
    "    args = system,\n",
    "    array = odeint(slope_func, init, ts, args)\n",
    "\n",
    "    system.results = TimeFrame(array, columns=init.index, index=ts)"
   ]
  },
  {
   "cell_type": "code",
   "execution_count": 29,
   "metadata": {},
   "outputs": [],
   "source": [
    "run_odeint(system, slope_func)"
   ]
  },
  {
   "cell_type": "code",
   "execution_count": 30,
   "metadata": {},
   "outputs": [
    {
     "data": {
      "image/png": "[encoded data removed]",
      "text/plain": [
       "<matplotlib.figure.Figure at 0x7f9a82c77828>"
      ]
     },
     "metadata": {},
     "output_type": "display_data"
    }
   ],
   "source": [
    "plot_results(results.G, results.X)\n",
    "plot(df.glucose, style='o')"
   ]
  },
  {
   "cell_type": "code",
   "execution_count": 31,
   "metadata": {
    "collapsed": true
   },
   "outputs": [],
   "source": [
    "from scipy.optimize import curve_fit"
   ]
  },
  {
   "cell_type": "code",
   "execution_count": 32,
   "metadata": {
    "collapsed": true
   },
   "outputs": [],
   "source": [
    "def func(x, a, b, c):\n",
    "    return a * np.exp(-b * x) + c"
   ]
  },
  {
   "cell_type": "code",
   "execution_count": 33,
   "metadata": {},
   "outputs": [
    {
     "data": {
      "text/plain": [
       "[<matplotlib.lines.Line2D at 0x7f9a82b1a240>]"
      ]
     },
     "execution_count": 33,
     "metadata": {},
     "output_type": "execute_result"
    },
    {
     "data": {
      "image/png": "[encoded data removed]",
      "text/plain": [
       "<matplotlib.figure.Figure at 0x7f9a82c6f6a0>"
      ]
     },
     "metadata": {},
     "output_type": "display_data"
    }
   ],
   "source": [
    "xdata = np.linspace(0, 4, 50)\n",
    "y = func(xdata, 2.5, 1.3, 0.5)\n",
    "y_noise = 0.2 * np.random.normal(size=xdata.size)\n",
    "ydata = y + y_noise\n",
    "plt.plot(xdata, ydata, 'b-', label='data')"
   ]
  },
  {
   "cell_type": "code",
   "execution_count": 34,
   "metadata": {},
   "outputs": [
    {
     "data": {
      "text/plain": [
       "[<matplotlib.lines.Line2D at 0x7f9a82b9cef0>]"
      ]
     },
     "execution_count": 34,
     "metadata": {},
     "output_type": "execute_result"
    },
    {
     "data": {
      "image/png": "[encoded data removed]",
      "text/plain": [
       "<matplotlib.figure.Figure at 0x7f9a82b31438>"
      ]
     },
     "metadata": {},
     "output_type": "display_data"
    }
   ],
   "source": [
    "popt, pcov = curve_fit(func, xdata, ydata)\n",
    "plt.plot(xdata, func(xdata, *popt), 'r-', label='fit')\n",
    "plt.plot(xdata, ydata, 'b-', label='data')"
   ]
  },
  {
   "cell_type": "code",
   "execution_count": 35,
   "metadata": {},
   "outputs": [
    {
     "data": {
      "text/plain": [
       "array([ 2.45957204,  1.10072009,  0.3946318 ])"
      ]
     },
     "execution_count": 35,
     "metadata": {},
     "output_type": "execute_result"
    }
   ],
   "source": [
    "popt"
   ]
  },
  {
   "cell_type": "code",
   "execution_count": 36,
   "metadata": {
    "collapsed": true
   },
   "outputs": [],
   "source": [
    "def make_system(G0, k1, k2, k3):\n",
    "    init = State(G=G0, X=0)\n",
    "    system = System(init=init, k1=k1, k2=k2, k3=k3,\n",
    "                    G_b = df.glucose[0],\n",
    "                    I_b = df.insulin[0],\n",
    "                    I_interp = interpolate(df.insulin),\n",
    "                    t0=0, t_end=182)\n",
    "    return system"
   ]
  },
  {
   "cell_type": "code",
   "execution_count": 37,
   "metadata": {
    "collapsed": true
   },
   "outputs": [],
   "source": [
    "def min_func(ts, G0, k1, k2, k3):\n",
    "    print(G0, k1, k2, k3)\n",
    "    system = make_system(G0, k1, k2, k3)\n",
    "    run_odeint(system, slope_func)\n",
    "    return system.results.G"
   ]
  },
  {
   "cell_type": "code",
   "execution_count": 38,
   "metadata": {},
   "outputs": [
    {
     "name": "stdout",
     "output_type": "stream",
     "text": [
      "279 0.0265 1.28e-05 0.0254\n"
     ]
    },
    {
     "data": {
      "text/plain": [
       "(24,)"
      ]
     },
     "execution_count": 38,
     "metadata": {},
     "output_type": "execute_result"
    }
   ],
   "source": [
    "series = min_func(ts, G0, k1, k2, k3)\n",
    "series.shape"
   ]
  },
  {
   "cell_type": "code",
   "execution_count": 39,
   "metadata": {},
   "outputs": [
    {
     "data": {
      "text/plain": [
       "[279, 0.0265, 1.28e-05, 0.0254]"
      ]
     },
     "execution_count": 39,
     "metadata": {},
     "output_type": "execute_result"
    }
   ],
   "source": [
    "params = [G0, k1, k2, k3]\n",
    "params"
   ]
  },
  {
   "cell_type": "code",
   "execution_count": 40,
   "metadata": {},
   "outputs": [
    {
     "name": "stdout",
     "output_type": "stream",
     "text": [
      "279.0 0.0265 1.28e-05 0.0254\n",
      "279.0 0.0265 1.28e-05 0.0254\n",
      "279.0 0.0265 1.28e-05 0.0254\n",
      "279.000004157 0.0265 1.28e-05 0.0254\n",
      "279.0 0.0265000003949 1.28e-05 0.0254\n",
      "279.0 0.0265 1.28000001907e-05 0.0254\n",
      "279.0 0.0265 1.28e-05 0.0254000003785\n",
      "264.927903125 0.0265513723974 1.34403293831e-05 0.0245950723502\n",
      "264.927907073 0.0265513723974 1.34403293831e-05 0.0245950723502\n",
      "264.927903125 0.026551372793 1.34403293831e-05 0.0245950723502\n",
      "264.927903125 0.0265513723974 1.34403295834e-05 0.0245950723502\n",
      "264.927903125 0.0265513723974 1.34403293831e-05 0.0245950727166\n",
      "249.838330487 0.00942762407766 1.35816454292e-05 0.0268603341964\n",
      "261.079805078 0.0228950056142 1.34929244289e-05 0.0226218293116\n",
      "261.079808969 0.0228950056142 1.34929244289e-05 0.0226218293116\n",
      "261.079805078 0.0228950059554 1.34929244289e-05 0.0226218293116\n",
      "261.079805078 0.0228950056142 1.34929246299e-05 0.0226218293116\n",
      "261.079805078 0.0228950056142 1.34929244289e-05 0.0226218296487\n",
      "260.624239119 0.0229210084679 1.34867707034e-05 0.0226453023274\n",
      "260.624243003 0.0229210084679 1.34867707034e-05 0.0226453023274\n",
      "260.624239119 0.0229210088094 1.34867707034e-05 0.0226453023274\n",
      "260.624239119 0.0229210084679 1.34867709043e-05 0.0226453023274\n",
      "260.624239119 0.0229210084679 1.34867707034e-05 0.0226453026648\n",
      "260.527589441 0.0229209913023 1.3506137635e-05 0.0223569159535\n",
      "260.527593323 0.0229209913023 1.3506137635e-05 0.0223569159535\n",
      "260.527589441 0.0229209916439 1.3506137635e-05 0.0223569159535\n",
      "260.527589441 0.0229209913023 1.35061378363e-05 0.0223569159535\n",
      "260.527589441 0.0229209913023 1.3506137635e-05 0.0223569162867\n",
      "260.641271002 0.022917490913 1.35093745116e-05 0.0223265916267\n",
      "260.641271002 0.022917490913 1.35093745116e-05 0.0223265916267\n",
      "260.610793264 0.0229146452578 1.35081594161e-05 0.0223371706486\n",
      "260.610797147 0.0229146452578 1.35081594161e-05 0.0223371706486\n",
      "260.610793264 0.0229146455992 1.35081594161e-05 0.0223371706486\n",
      "260.610793264 0.0229146452578 1.35081596174e-05 0.0223371706486\n",
      "260.610793264 0.0229146452578 1.35081594161e-05 0.0223371709814\n",
      "260.636618325 0.0229185030052 1.35072357576e-05 0.0223331774009\n",
      "260.620988117 0.0229159087549 1.35075856726e-05 0.0223350897928\n",
      "260.615214271 0.022915060374 1.35078536586e-05 0.0223361051365\n",
      "260.612834194 0.0229147954059 1.35080024893e-05 0.0223366313952\n",
      "260.611827222 0.0229147099543 1.3508075755e-05 0.0223368847623\n",
      "260.61131324 0.0229146744924 1.35081161538e-05 0.0223370232236\n",
      "260.611029306 0.0229146576423 1.35081394603e-05 0.0223371027483\n",
      "260.610911133 0.0229146512511 1.3508149383e-05 0.0223371365324\n",
      "260.610915016 0.0229146512511 1.3508149383e-05 0.0223371365324\n",
      "260.610911133 0.0229146515926 1.3508149383e-05 0.0223371365324\n",
      "260.610911133 0.0229146512511 1.35081495843e-05 0.0223371365324\n",
      "260.610911133 0.0229146512511 1.3508149383e-05 0.0223371368652\n",
      "260.610862857 0.0229146180871 1.35081443453e-05 0.0223371376542\n",
      "260.61086674 0.0229146180871 1.35081443453e-05 0.0223371376542\n",
      "260.610862857 0.0229146184286 1.35081443453e-05 0.0223371376542\n",
      "260.610862857 0.0229146180871 1.35081445466e-05 0.0223371376542\n",
      "260.610862857 0.0229146180871 1.35081443453e-05 0.0223371379871\n",
      "260.610881553 0.0229146067479 1.35081454833e-05 0.0223371377512\n",
      "260.610885436 0.0229146067479 1.35081454833e-05 0.0223371377512\n",
      "260.610881553 0.0229146070894 1.35081454833e-05 0.0223371377512\n",
      "260.610881553 0.0229146067479 1.35081456845e-05 0.0223371377512\n",
      "260.610881553 0.0229146067479 1.35081454833e-05 0.0223371380841\n",
      "260.610857994 0.0229146110441 1.35081459843e-05 0.0223371400624\n",
      "260.610861877 0.0229146110441 1.35081459843e-05 0.0223371400624\n",
      "260.610857994 0.0229146113855 1.35081459843e-05 0.0223371400624\n",
      "260.610857994 0.0229146110441 1.35081461856e-05 0.0223371400624\n",
      "260.610857994 0.0229146110441 1.35081459843e-05 0.0223371403952\n",
      "260.610854501 0.022914608835 1.35081466068e-05 0.022337138757\n",
      "260.610856258 0.0229146099465 1.35081462935e-05 0.0223371394138\n"
     ]
    }
   ],
   "source": [
    "popt, pcov = curve_fit(min_func, df.glucose.index, df.glucose.values, p0=params)"
   ]
  },
  {
   "cell_type": "code",
   "execution_count": 41,
   "metadata": {},
   "outputs": [
    {
     "data": {
      "text/plain": [
       "(0.022914611044078707, 0.00060473927935933815)"
      ]
     },
     "execution_count": 41,
     "metadata": {},
     "output_type": "execute_result"
    }
   ],
   "source": [
    "G0, k1, k2, k3 = popt\n",
    "\n",
    "S_G = k1\n",
    "S_t = k2 / k3\n",
    "\n",
    "S_G, S_t"
   ]
  },
  {
   "cell_type": "code",
   "execution_count": 42,
   "metadata": {
    "collapsed": true
   },
   "outputs": [],
   "source": [
    "system = make_system(G0, k1, k2, k3)\n",
    "run_odeint(system, slope_func)"
   ]
  },
  {
   "cell_type": "code",
   "execution_count": 43,
   "metadata": {},
   "outputs": [
    {
     "data": {
      "image/png": "[encoded data removed]",
      "text/plain": [
       "<matplotlib.figure.Figure at 0x7f9a82819ef0>"
      ]
     },
     "metadata": {},
     "output_type": "display_data"
    }
   ],
   "source": [
    "plot(results.G)\n",
    "plot(df.glucose, style='o')"
   ]
  },
  {
   "cell_type": "markdown",
   "metadata": {},
   "source": [
    "**Exercise:**"
   ]
  },
  {
   "cell_type": "code",
   "execution_count": 44,
   "metadata": {
    "collapsed": true
   },
   "outputs": [],
   "source": [
    "I0 = 363\n",
    "k = 0.267\n",
    "gamma = 0.0041\n",
    "G_T = 83.7"
   ]
  },
  {
   "cell_type": "code",
   "execution_count": 45,
   "metadata": {},
   "outputs": [],
   "source": [
    "def make_system(I0, k, gamma, G_T):\n",
    "    init = State(I=I0)\n",
    "    system = System(init=init, k=k, gamma=gamma, G_T=G_T,\n",
    "                    G_interp = interpolate(df.glucose),\n",
    "                    t0=0, t_end=182)\n",
    "    return system"
   ]
  },
  {
   "cell_type": "code",
   "execution_count": 46,
   "metadata": {},
   "outputs": [
    {
     "data": {
      "text/html": [
       "<div>\n",
       "<style>\n",
       "    .dataframe thead tr:only-child th {\n",
       "        text-align: right;\n",
       "    }\n",
       "\n",
       "    .dataframe thead th {\n",
       "        text-align: left;\n",
       "    }\n",
       "\n",
       "    .dataframe tbody tr th {\n",
       "        vertical-align: top;\n",
       "    }\n",
       "</style>\n",
       "<table border=\"1\" class=\"dataframe\">\n",
       "  <thead>\n",
       "    <tr style=\"text-align: right;\">\n",
       "      <th></th>\n",
       "      <th>value</th>\n",
       "    </tr>\n",
       "  </thead>\n",
       "  <tbody>\n",
       "    <tr>\n",
       "      <th>init</th>\n",
       "      <td>I    363\n",
       "dtype: int64</td>\n",
       "    </tr>\n",
       "    <tr>\n",
       "      <th>k</th>\n",
       "      <td>0.267</td>\n",
       "    </tr>\n",
       "    <tr>\n",
       "      <th>gamma</th>\n",
       "      <td>0.0041</td>\n",
       "    </tr>\n",
       "    <tr>\n",
       "      <th>G_T</th>\n",
       "      <td>83.7</td>\n",
       "    </tr>\n",
       "    <tr>\n",
       "      <th>G_interp</th>\n",
       "      <td>&lt;scipy.interpolate.interpolate.interp1d object...</td>\n",
       "    </tr>\n",
       "    <tr>\n",
       "      <th>t0</th>\n",
       "      <td>0</td>\n",
       "    </tr>\n",
       "    <tr>\n",
       "      <th>t_end</th>\n",
       "      <td>182</td>\n",
       "    </tr>\n",
       "  </tbody>\n",
       "</table>\n",
       "</div>"
      ],
      "text/plain": [
       "init                                    I    363\n",
       "dtype: int64\n",
       "k                                                       0.267\n",
       "gamma                                                  0.0041\n",
       "G_T                                                      83.7\n",
       "G_interp    <scipy.interpolate.interpolate.interp1d object...\n",
       "t0                                                          0\n",
       "t_end                                                     182\n",
       "dtype: object"
      ]
     },
     "execution_count": 46,
     "metadata": {},
     "output_type": "execute_result"
    }
   ],
   "source": [
    "system = make_system(I0, k, gamma, G_T)\n",
    "system"
   ]
  },
  {
   "cell_type": "code",
   "execution_count": 47,
   "metadata": {
    "collapsed": true
   },
   "outputs": [],
   "source": [
    "def slope_func(state, t, system):\n",
    "    I = state\n",
    "    unpack(system)\n",
    "    \n",
    "    G = G_interp(t)\n",
    "    if G > G_T:\n",
    "        dIdt = gamma * (G - G_T) * (t - t0) - k * I\n",
    "    else:\n",
    "        dIdt = -k * I\n",
    "    \n",
    "    return dIdt"
   ]
  },
  {
   "cell_type": "code",
   "execution_count": 48,
   "metadata": {},
   "outputs": [
    {
     "data": {
      "text/plain": [
       "G   -69.583099\n",
       "X     0.000000\n",
       "dtype: float64"
      ]
     },
     "execution_count": 48,
     "metadata": {},
     "output_type": "execute_result"
    }
   ],
   "source": [
    "slope_func(init, 0, system)"
   ]
  },
  {
   "cell_type": "code",
   "execution_count": 49,
   "metadata": {
    "collapsed": true
   },
   "outputs": [],
   "source": [
    "def run_odeint(system, slope_func):\n",
    "    \"\"\"Runs a simulation of the system.\n",
    "    \n",
    "    Add a DataFrame to the System: results\n",
    "    \n",
    "    system: System object\n",
    "    slope_func: function that computes slopes\n",
    "    \"\"\"\n",
    "    unpack(system)\n",
    "\n",
    "    ts = df.index\n",
    "    args = system,\n",
    "    array = odeint(slope_func, init, ts, args)\n",
    "\n",
    "    system.results= TimeFrame(array, columns=init.index, index=ts)"
   ]
  },
  {
   "cell_type": "code",
   "execution_count": 50,
   "metadata": {},
   "outputs": [
    {
     "data": {
      "text/html": [
       "<div>\n",
       "<style>\n",
       "    .dataframe thead tr:only-child th {\n",
       "        text-align: right;\n",
       "    }\n",
       "\n",
       "    .dataframe thead th {\n",
       "        text-align: left;\n",
       "    }\n",
       "\n",
       "    .dataframe tbody tr th {\n",
       "        vertical-align: top;\n",
       "    }\n",
       "</style>\n",
       "<table border=\"1\" class=\"dataframe\">\n",
       "  <thead>\n",
       "    <tr style=\"text-align: right;\">\n",
       "      <th></th>\n",
       "      <th>I</th>\n",
       "    </tr>\n",
       "    <tr>\n",
       "      <th>time</th>\n",
       "      <th></th>\n",
       "    </tr>\n",
       "  </thead>\n",
       "  <tbody>\n",
       "    <tr>\n",
       "      <th>0</th>\n",
       "      <td>3.630000e+02</td>\n",
       "    </tr>\n",
       "    <tr>\n",
       "      <th>2</th>\n",
       "      <td>2.141086e+02</td>\n",
       "    </tr>\n",
       "    <tr>\n",
       "      <th>4</th>\n",
       "      <td>1.300092e+02</td>\n",
       "    </tr>\n",
       "    <tr>\n",
       "      <th>6</th>\n",
       "      <td>8.212017e+01</td>\n",
       "    </tr>\n",
       "    <tr>\n",
       "      <th>8</th>\n",
       "      <td>5.539686e+01</td>\n",
       "    </tr>\n",
       "    <tr>\n",
       "      <th>10</th>\n",
       "      <td>4.072261e+01</td>\n",
       "    </tr>\n",
       "    <tr>\n",
       "      <th>12</th>\n",
       "      <td>3.299744e+01</td>\n",
       "    </tr>\n",
       "    <tr>\n",
       "      <th>14</th>\n",
       "      <td>2.965294e+01</td>\n",
       "    </tr>\n",
       "    <tr>\n",
       "      <th>16</th>\n",
       "      <td>2.853345e+01</td>\n",
       "    </tr>\n",
       "    <tr>\n",
       "      <th>19</th>\n",
       "      <td>2.928078e+01</td>\n",
       "    </tr>\n",
       "    <tr>\n",
       "      <th>22</th>\n",
       "      <td>3.009001e+01</td>\n",
       "    </tr>\n",
       "    <tr>\n",
       "      <th>27</th>\n",
       "      <td>3.134674e+01</td>\n",
       "    </tr>\n",
       "    <tr>\n",
       "      <th>32</th>\n",
       "      <td>3.077211e+01</td>\n",
       "    </tr>\n",
       "    <tr>\n",
       "      <th>42</th>\n",
       "      <td>2.744958e+01</td>\n",
       "    </tr>\n",
       "    <tr>\n",
       "      <th>52</th>\n",
       "      <td>2.064713e+01</td>\n",
       "    </tr>\n",
       "    <tr>\n",
       "      <th>62</th>\n",
       "      <td>1.160659e+01</td>\n",
       "    </tr>\n",
       "    <tr>\n",
       "      <th>72</th>\n",
       "      <td>3.398421e+00</td>\n",
       "    </tr>\n",
       "    <tr>\n",
       "      <th>82</th>\n",
       "      <td>2.367167e-01</td>\n",
       "    </tr>\n",
       "    <tr>\n",
       "      <th>92</th>\n",
       "      <td>1.639316e-02</td>\n",
       "    </tr>\n",
       "    <tr>\n",
       "      <th>102</th>\n",
       "      <td>1.135262e-03</td>\n",
       "    </tr>\n",
       "    <tr>\n",
       "      <th>122</th>\n",
       "      <td>5.444544e-06</td>\n",
       "    </tr>\n",
       "    <tr>\n",
       "      <th>142</th>\n",
       "      <td>2.582852e-08</td>\n",
       "    </tr>\n",
       "    <tr>\n",
       "      <th>162</th>\n",
       "      <td>1.950625e+00</td>\n",
       "    </tr>\n",
       "    <tr>\n",
       "      <th>182</th>\n",
       "      <td>1.474038e+01</td>\n",
       "    </tr>\n",
       "  </tbody>\n",
       "</table>\n",
       "</div>"
      ],
      "text/plain": [
       "                 I\n",
       "time              \n",
       "0     3.630000e+02\n",
       "2     2.141086e+02\n",
       "4     1.300092e+02\n",
       "6     8.212017e+01\n",
       "8     5.539686e+01\n",
       "10    4.072261e+01\n",
       "12    3.299744e+01\n",
       "14    2.965294e+01\n",
       "16    2.853345e+01\n",
       "19    2.928078e+01\n",
       "22    3.009001e+01\n",
       "27    3.134674e+01\n",
       "32    3.077211e+01\n",
       "42    2.744958e+01\n",
       "52    2.064713e+01\n",
       "62    1.160659e+01\n",
       "72    3.398421e+00\n",
       "82    2.367167e-01\n",
       "92    1.639316e-02\n",
       "102   1.135262e-03\n",
       "122   5.444544e-06\n",
       "142   2.582852e-08\n",
       "162   1.950625e+00\n",
       "182   1.474038e+01"
      ]
     },
     "execution_count": 50,
     "metadata": {},
     "output_type": "execute_result"
    }
   ],
   "source": [
    "run_odeint(system, slope_func)\n",
    "system.results"
   ]
  },
  {
   "cell_type": "code",
   "execution_count": 51,
   "metadata": {},
   "outputs": [
    {
     "data": {
      "image/png": "[encoded data removed]",
      "text/plain": [
       "<matplotlib.figure.Figure at 0x7f9a8271a550>"
      ]
     },
     "metadata": {},
     "output_type": "display_data"
    }
   ],
   "source": [
    "plot(system.results)\n",
    "plot(df.insulin)"
   ]
  },
  {
   "cell_type": "code",
   "execution_count": 52,
   "metadata": {
    "collapsed": true
   },
   "outputs": [],
   "source": [
    "def min_func(ts, I0, k, gamma, G_T):\n",
    "    print(I0, k, gamma, G_T)\n",
    "    system = make_system(I0, k, gamma, G_T)\n",
    "    run_odeint(system, slope_func)\n",
    "    return system.results.I"
   ]
  },
  {
   "cell_type": "code",
   "execution_count": 53,
   "metadata": {},
   "outputs": [
    {
     "name": "stdout",
     "output_type": "stream",
     "text": [
      "363 0.267 0.0041 83.7\n"
     ]
    },
    {
     "data": {
      "text/plain": [
       "time\n",
       "0      3.630000e+02\n",
       "2      2.141086e+02\n",
       "4      1.300092e+02\n",
       "6      8.212017e+01\n",
       "8      5.539686e+01\n",
       "10     4.072261e+01\n",
       "12     3.299744e+01\n",
       "14     2.965294e+01\n",
       "16     2.853345e+01\n",
       "19     2.928078e+01\n",
       "22     3.009001e+01\n",
       "27     3.134674e+01\n",
       "32     3.077211e+01\n",
       "42     2.744958e+01\n",
       "52     2.064713e+01\n",
       "62     1.160659e+01\n",
       "72     3.398421e+00\n",
       "82     2.367167e-01\n",
       "92     1.639316e-02\n",
       "102    1.135262e-03\n",
       "122    5.444544e-06\n",
       "142    2.582852e-08\n",
       "162    1.950625e+00\n",
       "182    1.474038e+01\n",
       "Name: I, dtype: float64"
      ]
     },
     "execution_count": 53,
     "metadata": {},
     "output_type": "execute_result"
    }
   ],
   "source": [
    "min_func(ts, I0, k, gamma, G_T)"
   ]
  },
  {
   "cell_type": "code",
   "execution_count": 54,
   "metadata": {},
   "outputs": [
    {
     "data": {
      "text/plain": [
       "[363, 0.267, 0.0041, 83.7]"
      ]
     },
     "execution_count": 54,
     "metadata": {},
     "output_type": "execute_result"
    }
   ],
   "source": [
    "params = [I0, k, gamma, G_T]\n",
    "params"
   ]
  },
  {
   "cell_type": "code",
   "execution_count": 55,
   "metadata": {},
   "outputs": [
    {
     "name": "stdout",
     "output_type": "stream",
     "text": [
      "363.0 0.267 0.0041 83.7\n",
      "363.0 0.267 0.0041 83.7\n",
      "363.0 0.267 0.0041 83.7\n",
      "363.000005409 0.267 0.0041 83.7\n",
      "363.0 0.267000003979 0.0041 83.7\n",
      "363.0 0.267 0.00410000006109 83.7\n",
      "363.0 0.267 0.0041 83.7000012472\n",
      "52.1407032657 0.219014348394 0.00618331211343 93.2880126745\n",
      "52.1407040427 0.219014348394 0.00618331211343 93.2880126745\n",
      "52.1407032657 0.219014351657 0.00618331211343 93.2880126745\n",
      "52.1407032657 0.219014348394 0.00618331220557 93.2880126745\n",
      "52.1407032657 0.219014348394 0.00618331211343 93.2880140646\n",
      "52.6449165662 0.165287894275 0.0063191630071 106.479964299\n",
      "52.6449173506 0.165287894275 0.0063191630071 106.479964299\n",
      "52.6449165662 0.165287896738 0.0063191630071 106.479964299\n",
      "52.6449165662 0.165287894275 0.00631916310126 106.479964299\n",
      "52.6449165662 0.165287894275 0.0063191630071 106.479965886\n",
      "56.9034467762 0.165536100667 0.00543292231588 106.885457012\n",
      "56.9034476241 0.165536100667 0.00543292231588 106.885457012\n",
      "56.9034467762 0.165536103134 0.00543292231588 106.885457012\n",
      "56.9034467762 0.165536100667 0.00543292239684 106.885457012\n",
      "56.9034467762 0.165536100667 0.00543292231588 106.885458605\n",
      "57.858000631 0.135917947109 0.0052651222448 119.315592232\n",
      "57.8580014931 0.135917947109 0.0052651222448 119.315592232\n",
      "57.858000631 0.135917949135 0.0052651222448 119.315592232\n",
      "57.858000631 0.135917947109 0.00526512232325 119.315592232\n",
      "57.858000631 0.135917947109 0.0052651222448 119.31559401\n",
      "49.8681541747 0.124798709672 0.00643318498284 109.978255593\n",
      "55.0354211569 0.134056893701 0.0055344285545 114.615849349\n",
      "56.6943788677 0.135146263622 0.00528903035828 117.308789074\n",
      "57.3916172875 0.135433599356 0.00525624412782 118.53730797\n",
      "57.6627325103 0.135688246508 0.00525935027916 118.992419896\n",
      "57.7639674066 0.135803120599 0.00526204232198 119.160324924\n",
      "57.819763395 0.135870371476 0.00526380825234 119.252525986\n",
      "57.840600935 0.135896152887 0.00526451429699 119.286905526\n",
      "57.8501424832 0.135908074669 0.00526484564297 119.302638868\n",
      "57.8544640176 0.135913497951 0.00526499734625 119.309762942\n",
      "57.8564109793 0.135915946071 0.00526506602175 119.312972151\n",
      "57.8572869516 0.135917048492 0.00526509698651 119.314415957\n",
      "57.8576802757 0.13591754369 0.00526511090352 119.315064231\n",
      "57.8578569058 0.135917766108 0.00526511715593 119.315355349\n",
      "57.8579363056 0.135917866099 0.0052651199671 119.315486213\n",
      "57.8579719703 0.135917911014 0.00526512122992 119.315544994\n",
      "57.857987632 0.135917930738 0.0052651217845 119.315570807\n",
      "57.8579949302 0.13591793993 0.00526512204293 119.315582836\n",
      "57.8579981321 0.135917943962 0.00526512215631 119.315588113\n"
     ]
    }
   ],
   "source": [
    "popt, pcov = curve_fit(min_func, df.insulin.index, df.insulin.values, p0=params)"
   ]
  },
  {
   "cell_type": "code",
   "execution_count": 56,
   "metadata": {
    "collapsed": true
   },
   "outputs": [],
   "source": [
    "I0, k, gamma, G_T = popt"
   ]
  },
  {
   "cell_type": "code",
   "execution_count": 57,
   "metadata": {
    "collapsed": true
   },
   "outputs": [],
   "source": [
    "system = make_system(*popt)"
   ]
  },
  {
   "cell_type": "code",
   "execution_count": 58,
   "metadata": {
    "collapsed": true
   },
   "outputs": [],
   "source": [
    "run_odeint(system, slope_func)"
   ]
  },
  {
   "cell_type": "code",
   "execution_count": 59,
   "metadata": {},
   "outputs": [
    {
     "data": {
      "image/png": "[encoded data removed]",
      "text/plain": [
       "<matplotlib.figure.Figure at 0x7f9a826cedd8>"
      ]
     },
     "metadata": {},
     "output_type": "display_data"
    }
   ],
   "source": [
    "plot(system.results)\n",
    "plot(df.insulin)"
   ]
  },
  {
   "cell_type": "code",
   "execution_count": 60,
   "metadata": {},
   "outputs": [
    {
     "data": {
      "text/plain": [
       "(130, 11)"
      ]
     },
     "execution_count": 60,
     "metadata": {},
     "output_type": "execute_result"
    }
   ],
   "source": [
    "I_max = df.insulin.max()\n",
    "I_b = df.insulin[0]\n",
    "I_max, I_b"
   ]
  },
  {
   "cell_type": "code",
   "execution_count": 61,
   "metadata": {},
   "outputs": [
    {
     "data": {
      "text/plain": [
       "(260.61085799377588, 92)"
      ]
     },
     "execution_count": 61,
     "metadata": {},
     "output_type": "execute_result"
    }
   ],
   "source": [
    "G_b = df.glucose[0]\n",
    "G0, G_b"
   ]
  },
  {
   "cell_type": "code",
   "execution_count": 62,
   "metadata": {},
   "outputs": [
    {
     "data": {
      "text/plain": [
       "5.1925969829907244"
      ]
     },
     "execution_count": 62,
     "metadata": {},
     "output_type": "execute_result"
    }
   ],
   "source": [
    "phi_1 = (I_max - I_b) / k / (G0 - G_b)\n",
    "phi_1"
   ]
  },
  {
   "cell_type": "code",
   "execution_count": 63,
   "metadata": {},
   "outputs": [
    {
     "data": {
      "text/plain": [
       "52.651222447970795"
      ]
     },
     "execution_count": 63,
     "metadata": {},
     "output_type": "execute_result"
    }
   ],
   "source": [
    "phi_2 = gamma * 1e4\n",
    "phi_2"
   ]
  },
  {
   "cell_type": "code",
   "execution_count": null,
   "metadata": {
    "collapsed": true
   },
   "outputs": [],
   "source": []
  }
 ],
 "metadata": {
  "kernelspec": {
   "display_name": "Python 3",
   "language": "python",
   "name": "python3"
  },
  "language_info": {
   "codemirror_mode": {
    "name": "ipython",
    "version": 3
   },
   "file_extension": ".py",
   "mimetype": "text/x-python",
   "name": "python",
   "nbconvert_exporter": "python",
   "pygments_lexer": "ipython3",
   "version": "3.6.1"
  }
 },
 "nbformat": 4,
 "nbformat_minor": 1
}
