{
 "cells": [
  {
   "cell_type": "code",
   "execution_count": 1,
   "metadata": {
    "collapsed": true
   },
   "outputs": [],
   "source": [
    "%matplotlib inline\n",
    "\n",
    "from modsim import *"
   ]
  },
  {
   "cell_type": "code",
   "execution_count": 12,
   "metadata": {
    "collapsed": true
   },
   "outputs": [],
   "source": [
    "radian = UNITS.radian\n",
    "m = UNITS.meter\n",
    "s = UNITS.second\n",
    "kg = UNITS.gram * 1000\n",
    "degree = UNITS.degree"
   ]
  },
  {
   "cell_type": "code",
   "execution_count": 13,
   "metadata": {},
   "outputs": [],
   "source": [
    "condition = Condition(rho_ash = 710 * kg/m**3,\n",
    "                          #using european ash via Engineering Toolbox\n",
    "                      rho_air = 1.225 * kg/m**3, \n",
    "                    \n",
    "                      knight_mass = 71 * kg,\n",
    "                      pull_strength = 76 * kg,\n",
    "                      strength = 744.8 * kg * m / s**2,\n",
    "                          #RoyMurray\n",
    "                      \n",
    "                   \n",
    "                      horse_mass = 500 * kg,\n",
    "                         #via medievalwarefare.info\n",
    "                      field_length = 36.6 * m,\n",
    "                      lance_length = 3.04 * m,\n",
    "                          #10 ft\n",
    "                      #harmor_mass = 50 * kg,                    \n",
    "                      #larmor_mass = 30 * kg,                     \n",
    "                      lance_angle = 30 * degree,\n",
    "                      max_speed = 13.4 * m / s)\n"
   ]
  },
  {
   "cell_type": "code",
   "execution_count": null,
   "metadata": {
    "collapsed": true
   },
   "outputs": [],
   "source": [
    "init = State(x=0)"
   ]
  },
  {
   "cell_type": "code",
   "execution_count": 14,
   "metadata": {
    "collapsed": true
   },
   "outputs": [],
   "source": [
    "def make_knight_1(condition):\n",
    "    x_init = 0\n",
    "    mass = horse_mass + knight_mass\n",
    "    \n",
    "    return (rho_ash, rho_air, knight_mass, strength, horse_mass, field_length, \n",
    "            lance_length, lance_Angle, max_speed, x_init)"
   ]
  },
  {
   "cell_type": "code",
   "execution_count": null,
   "metadata": {
    "collapsed": true
   },
   "outputs": [],
   "source": [
    "def make_knight_2(condition):\n",
    "    x_init = field_length/2"
   ]
  },
  {
   "cell_type": "code",
   "execution_count": null,
   "metadata": {
    "collapsed": true
   },
   "outputs": [],
   "source": []
  },
  {
   "cell_type": "code",
   "execution_count": null,
   "metadata": {
    "collapsed": true
   },
   "outputs": [],
   "source": [
    "f_drag = -rho * v.mag * v * C_d * area / 2"
   ]
  }
 ],
 "metadata": {
  "kernelspec": {
   "display_name": "Python 3",
   "language": "python",
   "name": "python3"
  },
  "language_info": {
   "codemirror_mode": {
    "name": "ipython",
    "version": 3
   },
   "file_extension": ".py",
   "mimetype": "text/x-python",
   "name": "python",
   "nbconvert_exporter": "python",
   "pygments_lexer": "ipython3",
   "version": "3.6.1"
  }
 },
 "nbformat": 4,
 "nbformat_minor": 2
}
