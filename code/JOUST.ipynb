{
 "cells": [
  {
   "cell_type": "code",
   "execution_count": 1,
   "metadata": {
    "collapsed": true
   },
   "outputs": [],
   "source": [
    "%matplotlib inline\n",
    "\n",
    "from modsim import *"
   ]
  },
  {
   "cell_type": "code",
   "execution_count": 2,
   "metadata": {
    "collapsed": true
   },
   "outputs": [],
   "source": [
    "radian = UNITS.radian\n",
    "m = UNITS.meter\n",
    "s = UNITS.second\n",
    "g = UNITS.gram\n",
    "kg = g*1000\n",
    "degree = UNITS.degree"
   ]
  },
  {
   "cell_type": "code",
   "execution_count": 30,
   "metadata": {
    "collapsed": true
   },
   "outputs": [],
   "source": [
    "rho_ash = 710 * kg/m**3\n",
    "                          #using european ash via Engineering Toolbox\n",
    "rho_air = 1.225 * kg/m**3\n",
    "                    \n",
    "knight_mass = 71 #* kg\n",
    "pull_strength = 76 * kg\n",
    "strength = 744.8 * kg * m / s**2\n",
    "                          #RoyMurray\n",
    "                      \n",
    "                   \n",
    "horse_mass = 500 #* kg\n",
    "                         #via medievalwarefare.info\n",
    "field_length = 36.6 * m\n",
    "lance_length = 3.04 * m\n",
    "                          #10 ft\n",
    "heavy_armor = 50 #* kg,  \n",
    "medium_armor = 40 #* kg,\n",
    "light_armor = 30 #* kg,                     \n",
    "lance_angle = 30 * degree\n",
    "max_speed = 13.4 * m / s\n",
    "og_acceleration = 9.78 * m/s**2\n",
    "og_armor_mass = 40 * kg"
   ]
  },
  {
   "cell_type": "code",
   "execution_count": 5,
   "metadata": {
    "collapsed": true
   },
   "outputs": [],
   "source": [
    "masses = Condition(heavy_armor = 50, \n",
    "                    medium_armor = 40,\n",
    "                    light_armor = 30, \n",
    "                      knight_mass = 71,\n",
    "                      horse_mass = 500,)\n",
    "                   \n",
    "                  \n",
    "\n",
    "def make_system(condition):\n",
    "    unpack(condition)\n",
    "    mass_light = knight_mass+horse_mass+light_armor\n",
    "    mass_medium = knight_mass+horse_mass+medium_armor\n",
    "    mass_heavy = knight_mass+horse_mass+heavy_armor\n",
    "    \n",
    "    return System(mass_light=mass_light, mass_medium=mass_medium, mass_heavy=mass_heavy)"
   ]
  },
  {
   "cell_type": "code",
   "execution_count": 6,
   "metadata": {},
   "outputs": [
    {
     "data": {
      "text/html": [
       "<div>\n",
       "<style>\n",
       "    .dataframe thead tr:only-child th {\n",
       "        text-align: right;\n",
       "    }\n",
       "\n",
       "    .dataframe thead th {\n",
       "        text-align: left;\n",
       "    }\n",
       "\n",
       "    .dataframe tbody tr th {\n",
       "        vertical-align: top;\n",
       "    }\n",
       "</style>\n",
       "<table border=\"1\" class=\"dataframe\">\n",
       "  <thead>\n",
       "    <tr style=\"text-align: right;\">\n",
       "      <th></th>\n",
       "      <th>value</th>\n",
       "    </tr>\n",
       "  </thead>\n",
       "  <tbody>\n",
       "    <tr>\n",
       "      <th>mass_light</th>\n",
       "      <td>601</td>\n",
       "    </tr>\n",
       "    <tr>\n",
       "      <th>mass_medium</th>\n",
       "      <td>611</td>\n",
       "    </tr>\n",
       "    <tr>\n",
       "      <th>mass_heavy</th>\n",
       "      <td>621</td>\n",
       "    </tr>\n",
       "  </tbody>\n",
       "</table>\n",
       "</div>"
      ],
      "text/plain": [
       "mass_light     601\n",
       "mass_medium    611\n",
       "mass_heavy     621\n",
       "dtype: int64"
      ]
     },
     "execution_count": 6,
     "metadata": {},
     "output_type": "execute_result"
    }
   ],
   "source": [
    "mass_system = make_system(masses)\n",
    "mass_system"
   ]
  },
  {
   "cell_type": "code",
   "execution_count": 7,
   "metadata": {
    "collapsed": true
   },
   "outputs": [],
   "source": [
    "angle_sweep = linspace(.8 * degree, 7.8 * degree, 35)\n",
    "velocity_sweep = linspace(8 * m/s, 13.4 * m/s, 20)"
   ]
  },
  {
   "cell_type": "code",
   "execution_count": 16,
   "metadata": {
    "collapsed": true
   },
   "outputs": [],
   "source": [
    "condition = Condition(heavy_armor = 50, \n",
    "                    medium_armor = 30,\n",
    "                    light_armor = 10, \n",
    "                      knight_mass = 71,\n",
    "                      horse_mass = 500,\n",
    "                      angle_min = .8 * degree,\n",
    "                      angle_max = 7.8 * degree,\n",
    "                      velocity_min = 8 * m/s,\n",
    "                      velocity_max = 13.4 * m/s)\n",
    "                   \n",
    "                  \n",
    "\n",
    "def make_system(condition):\n",
    "    unpack(condition)\n",
    "    \n",
    "    mass_light = knight_mass+horse_mass+light_armor\n",
    "    mass_medium = knight_mass+horse_mass+medium_armor\n",
    "    mass_heavy = knight_mass+horse_mass+heavy_armor\n",
    "    angle_sweep = linspace(.8 * degree, 7.8 * degree, 35)\n",
    "    velocity_sweep = linspace(8 * m/s, 13.4 * m/s, 20)\n",
    "    \n",
    "    \n",
    "    return System(mass_light = mass_light, mass_medium = mass_medium, mass_heavy = mass_heavy,\n",
    "                 angles = angle_sweep, velocities = velocity_sweep)"
   ]
  },
  {
   "cell_type": "code",
   "execution_count": 17,
   "metadata": {},
   "outputs": [
    {
     "data": {
      "text/html": [
       "<div>\n",
       "<style>\n",
       "    .dataframe thead tr:only-child th {\n",
       "        text-align: right;\n",
       "    }\n",
       "\n",
       "    .dataframe thead th {\n",
       "        text-align: left;\n",
       "    }\n",
       "\n",
       "    .dataframe tbody tr th {\n",
       "        vertical-align: top;\n",
       "    }\n",
       "</style>\n",
       "<table border=\"1\" class=\"dataframe\">\n",
       "  <thead>\n",
       "    <tr style=\"text-align: right;\">\n",
       "      <th></th>\n",
       "      <th>value</th>\n",
       "    </tr>\n",
       "  </thead>\n",
       "  <tbody>\n",
       "    <tr>\n",
       "      <th>mass_light</th>\n",
       "      <td>581</td>\n",
       "    </tr>\n",
       "    <tr>\n",
       "      <th>mass_medium</th>\n",
       "      <td>601</td>\n",
       "    </tr>\n",
       "    <tr>\n",
       "      <th>mass_heavy</th>\n",
       "      <td>621</td>\n",
       "    </tr>\n",
       "    <tr>\n",
       "      <th>angles</th>\n",
       "      <td>[0.8 degree, 1.0058823529411764 degree, 1.2117...</td>\n",
       "    </tr>\n",
       "    <tr>\n",
       "      <th>velocities</th>\n",
       "      <td>[8.0 meter / second, 8.284210526315789 meter /...</td>\n",
       "    </tr>\n",
       "  </tbody>\n",
       "</table>\n",
       "</div>"
      ],
      "text/plain": [
       "mass_light                                                   581\n",
       "mass_medium                                                  601\n",
       "mass_heavy                                                   621\n",
       "angles         [0.8 degree, 1.0058823529411764 degree, 1.2117...\n",
       "velocities     [8.0 meter / second, 8.284210526315789 meter /...\n",
       "dtype: object"
      ]
     },
     "execution_count": 17,
     "metadata": {},
     "output_type": "execute_result"
    }
   ],
   "source": [
    "system = make_system(condition)\n",
    "system\n"
   ]
  },
  {
   "cell_type": "code",
   "execution_count": 10,
   "metadata": {
    "collapsed": true
   },
   "outputs": [],
   "source": [
    "def physics(system):\n",
    "    p1, p2, p3 = Series\n",
    "    p1 = mass_light * velocities\n",
    "    p2 = mass_medium * velocities\n",
    "    p3 = mass_heavy * velocities\n",
    "    \n",
    "    return p1, p2, p3"
   ]
  },
  {
   "cell_type": "code",
   "execution_count": 11,
   "metadata": {},
   "outputs": [
    {
     "ename": "TypeError",
     "evalue": "'type' object is not iterable",
     "output_type": "error",
     "traceback": [
      "\u001b[1;31m---------------------------------------------------------------------------\u001b[0m",
      "\u001b[1;31mTypeError\u001b[0m                                 Traceback (most recent call last)",
      "\u001b[1;32m<ipython-input-11-9a737ad57039>\u001b[0m in \u001b[0;36m<module>\u001b[1;34m()\u001b[0m\n\u001b[1;32m----> 1\u001b[1;33m \u001b[0mphysics\u001b[0m\u001b[1;33m(\u001b[0m\u001b[0msystem\u001b[0m\u001b[1;33m)\u001b[0m\u001b[1;33m\u001b[0m\u001b[0m\n\u001b[0m",
      "\u001b[1;32m<ipython-input-10-4c22cb1e7521>\u001b[0m in \u001b[0;36mphysics\u001b[1;34m(system)\u001b[0m\n\u001b[0;32m      1\u001b[0m \u001b[1;32mdef\u001b[0m \u001b[0mphysics\u001b[0m\u001b[1;33m(\u001b[0m\u001b[0msystem\u001b[0m\u001b[1;33m)\u001b[0m\u001b[1;33m:\u001b[0m\u001b[1;33m\u001b[0m\u001b[0m\n\u001b[1;32m----> 2\u001b[1;33m     \u001b[0mp1\u001b[0m\u001b[1;33m,\u001b[0m \u001b[0mp2\u001b[0m\u001b[1;33m,\u001b[0m \u001b[0mp3\u001b[0m \u001b[1;33m=\u001b[0m \u001b[0mSeries\u001b[0m\u001b[1;33m\u001b[0m\u001b[0m\n\u001b[0m\u001b[0;32m      3\u001b[0m     \u001b[0mp1\u001b[0m \u001b[1;33m=\u001b[0m \u001b[0mmass_light\u001b[0m \u001b[1;33m*\u001b[0m \u001b[0mvelocities\u001b[0m\u001b[1;33m\u001b[0m\u001b[0m\n\u001b[0;32m      4\u001b[0m     \u001b[0mp2\u001b[0m \u001b[1;33m=\u001b[0m \u001b[0mmass_medium\u001b[0m \u001b[1;33m*\u001b[0m \u001b[0mvelocities\u001b[0m\u001b[1;33m\u001b[0m\u001b[0m\n\u001b[0;32m      5\u001b[0m     \u001b[0mp3\u001b[0m \u001b[1;33m=\u001b[0m \u001b[0mmass_heavy\u001b[0m \u001b[1;33m*\u001b[0m \u001b[0mvelocities\u001b[0m\u001b[1;33m\u001b[0m\u001b[0m\n",
      "\u001b[1;31mTypeError\u001b[0m: 'type' object is not iterable"
     ]
    }
   ],
   "source": [
    "physics(system)"
   ]
  },
  {
   "cell_type": "code",
   "execution_count": null,
   "metadata": {
    "collapsed": true
   },
   "outputs": [],
   "source": []
  },
  {
   "cell_type": "code",
   "execution_count": 15,
   "metadata": {
    "collapsed": true
   },
   "outputs": [],
   "source": [
    "condition = Condition(rho_ash = 710 * kg/m**3,\n",
    "                          #using european ash via Engineering Toolbox\n",
    "                      rho_air = 1.225 * kg/m**3, \n",
    "                    \n",
    "                      knight_mass = 71 * kg,\n",
    "                      pull_strength = 76 * kg,\n",
    "                      strength = 744.8 * kg * m / s**2,\n",
    "                          #RoyMurray\n",
    "                      \n",
    "                   \n",
    "                      horse_mass = 500 * kg,\n",
    "                         #via medievalwarefare.info\n",
    "                      field_length = 36.6 * m,\n",
    "                      lance_length = 3.5 * m,\n",
    "                          #10 ft\n",
    "                      harmor_mass = 50 * kg,                    \n",
    "                      larmor_mass = 30 * kg,                     \n",
    "                      lance_angle = 30 * degree,\n",
    "                      max_speed = 13.4 * m / s,\n",
    "                        og_acceleration = 9.78 * m/s**2,\n",
    "                         og_armor_mass = 40 * kg)\n"
   ]
  },
  {
   "cell_type": "code",
   "execution_count": 16,
   "metadata": {
    "collapsed": true
   },
   "outputs": [],
   "source": [
    "init = State(x=0)"
   ]
  },
  {
   "cell_type": "code",
   "execution_count": 17,
   "metadata": {
    "collapsed": true
   },
   "outputs": [],
   "source": [
    "def make_knight_1(condition):\n",
    "    x_init = 0\n",
    "    mass = horse_mass + knight_mass\n",
    "    \n",
    "    \n",
    "    return (rho_ash, rho_air, knight_mass, strength, horse_mass, field_length, \n",
    "            lance_length, lance_Angle, max_speed, x_init)"
   ]
  },
  {
   "cell_type": "code",
   "execution_count": 18,
   "metadata": {
    "collapsed": true
   },
   "outputs": [],
   "source": [
    "def make_knight_2(condition):\n",
    "    x_init = field_length/2"
   ]
  },
  {
   "cell_type": "code",
   "execution_count": 14,
   "metadata": {
    "collapsed": true
   },
   "outputs": [],
   "source": [
    "mass = horse_mass + knight_mass + og_armor_mass\n",
    "F_horse = mass * og_acceleration \n",
    "\n",
    "acceleration = F_horse / mass"
   ]
  },
  {
   "cell_type": "code",
   "execution_count": 19,
   "metadata": {},
   "outputs": [
    {
     "ename": "SyntaxError",
     "evalue": "invalid syntax (<ipython-input-19-4eae09d8decb>, line 7)",
     "output_type": "error",
     "traceback": [
      "\u001b[1;36m  File \u001b[1;32m\"<ipython-input-19-4eae09d8decb>\"\u001b[1;36m, line \u001b[1;32m7\u001b[0m\n\u001b[1;33m    for mass in\u001b[0m\n\u001b[1;37m                ^\u001b[0m\n\u001b[1;31mSyntaxError\u001b[0m\u001b[1;31m:\u001b[0m invalid syntax\n"
     ]
    }
   ],
   "source": [
    "def acceleration_sweep(condition):\n",
    "    og_mass = horse_mass + knight_mass + og_armor_mass\n",
    "    F_horse = og_mass * og_acceleration \n",
    "    \n",
    "    armor_array = linspace(larmor_mass, harmor_mass, 20)\n",
    "    \n",
    "    for mass in armor_array:\n",
    "        \n",
    "\n",
    "    acceleration = F_horse / mass"
   ]
  },
  {
   "cell_type": "code",
   "execution_count": null,
   "metadata": {
    "collapsed": true
   },
   "outputs": [],
   "source": []
  },
  {
   "cell_type": "code",
   "execution_count": null,
   "metadata": {
    "collapsed": true
   },
   "outputs": [],
   "source": []
  },
  {
   "cell_type": "code",
   "execution_count": null,
   "metadata": {
    "collapsed": true
   },
   "outputs": [],
   "source": []
  },
  {
   "cell_type": "code",
   "execution_count": null,
   "metadata": {
    "collapsed": true
   },
   "outputs": [],
   "source": [
    "f_drag = -rho * v.mag * v * C_d * area / 2"
   ]
  }
 ],
 "metadata": {
  "kernelspec": {
   "display_name": "Python 3",
   "language": "python",
   "name": "python3"
  },
  "language_info": {
   "codemirror_mode": {
    "name": "ipython",
    "version": 3
   },
   "file_extension": ".py",
   "mimetype": "text/x-python",
   "name": "python",
   "nbconvert_exporter": "python",
   "pygments_lexer": "ipython3",
   "version": "3.6.1"
  }
 },
 "nbformat": 4,
 "nbformat_minor": 2
}
