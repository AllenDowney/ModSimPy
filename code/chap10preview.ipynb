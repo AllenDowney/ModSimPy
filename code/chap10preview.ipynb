{
 "cells": [
  {
   "cell_type": "markdown",
   "metadata": {},
   "source": [
    "# Modeling and Simulation in Python\n",
    "\n",
    "Chapter 10: Vectors\n",
    "\n",
    "Copyright 2017 Allen Downey\n",
    "\n",
    "License: [Creative Commons Attribution 4.0 International](https://creativecommons.org/licenses/by/4.0)\n"
   ]
  },
  {
   "cell_type": "code",
   "execution_count": 1,
   "metadata": {
    "collapsed": true
   },
   "outputs": [],
   "source": [
    "# If you want the figures to appear in the notebook, \n",
    "# and you want to interact with them, use\n",
    "# %matplotlib notebook\n",
    "\n",
    "# If you want the figures to appear in the notebook, \n",
    "# and you don't want to interact with them, use\n",
    "# %matplotlib inline\n",
    "\n",
    "# If you want the figures to appear in separate windows, use\n",
    "# %matplotlib qt5\n",
    "\n",
    "# to switch from one to another, you have to select Kernel->Restart\n",
    "\n",
    "%matplotlib notebook\n",
    "\n",
    "from modsim import *"
   ]
  },
  {
   "cell_type": "markdown",
   "metadata": {},
   "source": [
    "### Vectors"
   ]
  },
  {
   "cell_type": "markdown",
   "metadata": {},
   "source": [
    "A `Vector` object represents a vector quantity.  In the context of mechanics, vector quantities include position, velocity, acceleration, and force, all of which might be in 2D or 3D.\n",
    "\n",
    "You can define a `Vector` object without units, but if it represents a physical quantity, you will often want to attach units to it.\n",
    "\n",
    "I'll start by grabbing the units we'll need."
   ]
  },
  {
   "cell_type": "code",
   "execution_count": 2,
   "metadata": {
    "collapsed": true
   },
   "outputs": [],
   "source": [
    "m = UNITS.meter\n",
    "s = UNITS.second\n",
    "kg = UNITS.kilogram"
   ]
  },
  {
   "cell_type": "markdown",
   "metadata": {},
   "source": [
    "Here's a two dimensional `Vector` in meters."
   ]
  },
  {
   "cell_type": "code",
   "execution_count": 3,
   "metadata": {
    "collapsed": true
   },
   "outputs": [],
   "source": [
    "A = Vector(3, 4) * m"
   ]
  },
  {
   "cell_type": "markdown",
   "metadata": {},
   "source": [
    "We can access the elements by name."
   ]
  },
  {
   "cell_type": "code",
   "execution_count": 4,
   "metadata": {},
   "outputs": [
    {
     "data": {
      "text/html": [
       "3.0 meter"
      ],
      "text/latex": [
       "$3.0 meter$"
      ],
      "text/plain": [
       "<Quantity(3.0, 'meter')>"
      ]
     },
     "execution_count": 4,
     "metadata": {},
     "output_type": "execute_result"
    }
   ],
   "source": [
    "A.x"
   ]
  },
  {
   "cell_type": "code",
   "execution_count": 5,
   "metadata": {},
   "outputs": [
    {
     "data": {
      "text/html": [
       "4.0 meter"
      ],
      "text/latex": [
       "$4.0 meter$"
      ],
      "text/plain": [
       "<Quantity(4.0, 'meter')>"
      ]
     },
     "execution_count": 5,
     "metadata": {},
     "output_type": "execute_result"
    }
   ],
   "source": [
    "A.y"
   ]
  },
  {
   "cell_type": "markdown",
   "metadata": {},
   "source": [
    "The magnitude is the length of the vector."
   ]
  },
  {
   "cell_type": "code",
   "execution_count": 6,
   "metadata": {},
   "outputs": [
    {
     "data": {
      "text/html": [
       "5.0 meter"
      ],
      "text/latex": [
       "$5.0 meter$"
      ],
      "text/plain": [
       "<Quantity(5.0, 'meter')>"
      ]
     },
     "execution_count": 6,
     "metadata": {},
     "output_type": "execute_result"
    }
   ],
   "source": [
    "A.mag"
   ]
  },
  {
   "cell_type": "markdown",
   "metadata": {},
   "source": [
    "The angle is the number of radians between the vector and the positive x axis."
   ]
  },
  {
   "cell_type": "code",
   "execution_count": 7,
   "metadata": {},
   "outputs": [
    {
     "data": {
      "text/html": [
       "0.9272952180016122 radian"
      ],
      "text/latex": [
       "$0.9272952180016122 radian$"
      ],
      "text/plain": [
       "<Quantity(0.9272952180016122, 'radian')>"
      ]
     },
     "execution_count": 7,
     "metadata": {},
     "output_type": "execute_result"
    }
   ],
   "source": [
    "A.angle"
   ]
  },
  {
   "cell_type": "markdown",
   "metadata": {},
   "source": [
    "If we make another `Vector` with the same units,"
   ]
  },
  {
   "cell_type": "code",
   "execution_count": 8,
   "metadata": {
    "collapsed": true
   },
   "outputs": [],
   "source": [
    "B = Vector(1, 2) * m"
   ]
  },
  {
   "cell_type": "markdown",
   "metadata": {},
   "source": [
    "We can add `Vector` objects like this"
   ]
  },
  {
   "cell_type": "code",
   "execution_count": 9,
   "metadata": {},
   "outputs": [
    {
     "data": {
      "text/html": [
       "[ 4.  6.] meter"
      ],
      "text/latex": [
       "$[ 4.  6.] meter$"
      ],
      "text/plain": [
       "<Quantity([ 4.  6.], 'meter')>"
      ]
     },
     "execution_count": 9,
     "metadata": {},
     "output_type": "execute_result"
    }
   ],
   "source": [
    "A + B"
   ]
  },
  {
   "cell_type": "markdown",
   "metadata": {},
   "source": [
    "And subtract like this:"
   ]
  },
  {
   "cell_type": "code",
   "execution_count": 10,
   "metadata": {},
   "outputs": [
    {
     "data": {
      "text/html": [
       "[ 2.  2.] meter"
      ],
      "text/latex": [
       "$[ 2.  2.] meter$"
      ],
      "text/plain": [
       "<Quantity([ 2.  2.], 'meter')>"
      ]
     },
     "execution_count": 10,
     "metadata": {},
     "output_type": "execute_result"
    }
   ],
   "source": [
    "A - B"
   ]
  },
  {
   "cell_type": "markdown",
   "metadata": {},
   "source": [
    "We can compute the Euclidean distance between two Vectors."
   ]
  },
  {
   "cell_type": "code",
   "execution_count": 11,
   "metadata": {},
   "outputs": [
    {
     "data": {
      "text/html": [
       "2.8284271247461903 meter"
      ],
      "text/latex": [
       "$2.8284271247461903 meter$"
      ],
      "text/plain": [
       "<Quantity(2.8284271247461903, 'meter')>"
      ]
     },
     "execution_count": 11,
     "metadata": {},
     "output_type": "execute_result"
    }
   ],
   "source": [
    "A.dist(B)"
   ]
  },
  {
   "cell_type": "markdown",
   "metadata": {},
   "source": [
    "And the difference in angle"
   ]
  },
  {
   "cell_type": "code",
   "execution_count": 12,
   "metadata": {},
   "outputs": [
    {
     "data": {
      "text/html": [
       "-0.17985349979247822 radian"
      ],
      "text/latex": [
       "$-0.17985349979247822 radian$"
      ],
      "text/plain": [
       "<Quantity(-0.17985349979247822, 'radian')>"
      ]
     },
     "execution_count": 12,
     "metadata": {},
     "output_type": "execute_result"
    }
   ],
   "source": [
    "A.diff_angle(B)"
   ]
  },
  {
   "cell_type": "markdown",
   "metadata": {},
   "source": [
    "If we are given the magnitude and angle of a vector, what we have is the representation of the vector in polar coordinates."
   ]
  },
  {
   "cell_type": "code",
   "execution_count": 13,
   "metadata": {
    "collapsed": true
   },
   "outputs": [],
   "source": [
    "mag = A.mag\n",
    "angle = A.angle"
   ]
  },
  {
   "cell_type": "markdown",
   "metadata": {},
   "source": [
    "We can use `pol2cart` to convert from polar to Cartesian coordinates, and then use the Cartesian coordinates to make a `Vector` object.\n",
    "\n",
    "In this example, the `Vector` we get should have the same components as `A`."
   ]
  },
  {
   "cell_type": "code",
   "execution_count": 14,
   "metadata": {},
   "outputs": [
    {
     "data": {
      "text/html": [
       "[ 3.  4.] meter"
      ],
      "text/latex": [
       "$[ 3.  4.] meter$"
      ],
      "text/plain": [
       "<Quantity([ 3.  4.], 'meter')>"
      ]
     },
     "execution_count": 14,
     "metadata": {},
     "output_type": "execute_result"
    }
   ],
   "source": [
    "x, y = pol2cart(angle, mag)\n",
    "Vector(x, y)"
   ]
  },
  {
   "cell_type": "markdown",
   "metadata": {},
   "source": [
    "**Exercise:** Create a `Vector` named `a_grav` that represents acceleration due to gravity, with x component 0 and y component $-9.8$ meters / second$^2$."
   ]
  },
  {
   "cell_type": "code",
   "execution_count": 15,
   "metadata": {},
   "outputs": [
    {
     "data": {
      "text/html": [
       "[ 0.  -9.8] meter/second<sup>2</sup>"
      ],
      "text/latex": [
       "$[ 0.  -9.8] \\frac{meter}{second^{2}}$"
      ],
      "text/plain": [
       "<Quantity([ 0.  -9.8], 'meter / second ** 2')>"
      ]
     },
     "execution_count": 15,
     "metadata": {},
     "output_type": "execute_result"
    }
   ],
   "source": [
    "# Solution\n",
    "\n",
    "a_grav = Vector(0, -9.8 * m / s**2)\n",
    "a_grav"
   ]
  },
  {
   "cell_type": "markdown",
   "metadata": {},
   "source": [
    "### Degrees and radians\n",
    "\n",
    "Pint provides units to represent degree and radians."
   ]
  },
  {
   "cell_type": "code",
   "execution_count": 16,
   "metadata": {
    "collapsed": true
   },
   "outputs": [],
   "source": [
    "degree = UNITS.degree\n",
    "radian = UNITS.radian"
   ]
  },
  {
   "cell_type": "markdown",
   "metadata": {},
   "source": [
    "If you have an angle in degrees,"
   ]
  },
  {
   "cell_type": "code",
   "execution_count": 17,
   "metadata": {},
   "outputs": [
    {
     "data": {
      "text/html": [
       "45 degree"
      ],
      "text/latex": [
       "$45 degree$"
      ],
      "text/plain": [
       "<Quantity(45, 'degree')>"
      ]
     },
     "execution_count": 17,
     "metadata": {},
     "output_type": "execute_result"
    }
   ],
   "source": [
    "angle = 45 * degree\n",
    "angle"
   ]
  },
  {
   "cell_type": "markdown",
   "metadata": {},
   "source": [
    "You can convert to radians."
   ]
  },
  {
   "cell_type": "code",
   "execution_count": 18,
   "metadata": {},
   "outputs": [
    {
     "data": {
      "text/html": [
       "0.7853981633974483 radian"
      ],
      "text/latex": [
       "$0.7853981633974483 radian$"
      ],
      "text/plain": [
       "<Quantity(0.7853981633974483, 'radian')>"
      ]
     },
     "execution_count": 18,
     "metadata": {},
     "output_type": "execute_result"
    }
   ],
   "source": [
    "angle_rad = angle.to(radian)\n",
    "angle_rad"
   ]
  },
  {
   "cell_type": "markdown",
   "metadata": {},
   "source": [
    "If it's already in radians, `to` does the right thing."
   ]
  },
  {
   "cell_type": "code",
   "execution_count": 19,
   "metadata": {},
   "outputs": [
    {
     "data": {
      "text/html": [
       "0.7853981633974483 radian"
      ],
      "text/latex": [
       "$0.7853981633974483 radian$"
      ],
      "text/plain": [
       "<Quantity(0.7853981633974483, 'radian')>"
      ]
     },
     "execution_count": 19,
     "metadata": {},
     "output_type": "execute_result"
    }
   ],
   "source": [
    "angle_rad.to(radian)"
   ]
  },
  {
   "cell_type": "markdown",
   "metadata": {},
   "source": [
    "You can also convert from radians to degrees."
   ]
  },
  {
   "cell_type": "code",
   "execution_count": 20,
   "metadata": {},
   "outputs": [
    {
     "data": {
      "text/html": [
       "45.0 degree"
      ],
      "text/latex": [
       "$45.0 degree$"
      ],
      "text/plain": [
       "<Quantity(45.0, 'degree')>"
      ]
     },
     "execution_count": 20,
     "metadata": {},
     "output_type": "execute_result"
    }
   ],
   "source": [
    "angle_rad.to(degree)"
   ]
  },
  {
   "cell_type": "markdown",
   "metadata": {},
   "source": [
    "As an alterative, you can use `np.deg2rad`, which works with Pint quantities, but it also works with simple numbers and NumPy arrays:"
   ]
  },
  {
   "cell_type": "code",
   "execution_count": 21,
   "metadata": {},
   "outputs": [
    {
     "data": {
      "text/html": [
       "0.7853981633974483 radian"
      ],
      "text/latex": [
       "$0.7853981633974483 radian$"
      ],
      "text/plain": [
       "<Quantity(0.7853981633974483, 'radian')>"
      ]
     },
     "execution_count": 21,
     "metadata": {},
     "output_type": "execute_result"
    }
   ],
   "source": [
    "np.deg2rad(angle)"
   ]
  },
  {
   "cell_type": "markdown",
   "metadata": {},
   "source": [
    "**Exercise:** Create a `Vector` named `a_force` that represents acceleration due to a force of 0.5 Newton applied to an object with mass 0.3 kilograms, in a direction 45 degrees up from the positive x-axis.\n",
    "\n",
    "Add `a_force` to `a_drag` from the previous exercise.  If that addition succeeds, that means that the units are compatible.  Confirm that the total acceleration seems to make sense."
   ]
  },
  {
   "cell_type": "code",
   "execution_count": 22,
   "metadata": {},
   "outputs": [
    {
     "data": {
      "text/html": [
       "[ 1.1785113  1.1785113] newton/kilogram"
      ],
      "text/latex": [
       "$[ 1.1785113  1.1785113] \\frac{newton}{kilogram}$"
      ],
      "text/plain": [
       "<Quantity([ 1.1785113  1.1785113], 'newton / kilogram')>"
      ]
     },
     "execution_count": 22,
     "metadata": {},
     "output_type": "execute_result"
    }
   ],
   "source": [
    "# Solution\n",
    "\n",
    "N = UNITS.newton\n",
    "mag = 0.5 * N\n",
    "angle = 45 * degree\n",
    "theta = angle.to(radian)\n",
    "x, y = pol2cart(theta, mag)\n",
    "force = Vector(x, y)\n",
    "mass = 0.3 * kg\n",
    "a_force = force / mass\n",
    "a_force"
   ]
  },
  {
   "cell_type": "code",
   "execution_count": 23,
   "metadata": {},
   "outputs": [
    {
     "data": {
      "text/html": [
       "[ 1.1785113 -8.6214887] newton/kilogram"
      ],
      "text/latex": [
       "$[ 1.1785113 -8.6214887] \\frac{newton}{kilogram}$"
      ],
      "text/plain": [
       "<Quantity([ 1.1785113 -8.6214887], 'newton / kilogram')>"
      ]
     },
     "execution_count": 23,
     "metadata": {},
     "output_type": "execute_result"
    }
   ],
   "source": [
    "# Solution\n",
    "\n",
    "a_force + a_grav"
   ]
  },
  {
   "cell_type": "markdown",
   "metadata": {},
   "source": [
    "### Thinking in Vectors"
   ]
  },
  {
   "cell_type": "markdown",
   "metadata": {},
   "source": [
    "When you work on mechanics problems, a gravity-like force pulls you toward writing equations and code in terms of components rather than vectors.  If you resist this force, you will produce equations and code that are easier to read and more likely to be correct.  The best way to resist this force is to \"think in vectors\".\n",
    "\n",
    "1.  Whenever possible, express computations in terms of Vector objects rather than components.\n",
    "\n",
    "2.  If you are given components at the beginning of a computation, assemble them into Vectors as soon as possible.  If you are required to produce components at the end of a computation, delay extracting them as long as possible.\n",
    "\n",
    "3. Whenever you perform operations on vector quantities, think about how to express them as `Vector` operations.  Avoid unpacking the components if you can.\n",
    "\n",
    "In Chapter 10, you will see a few examples of Vector thinking.  For example, here's the slope function that computes acceleration due to gravity and drag."
   ]
  },
  {
   "cell_type": "code",
   "execution_count": 24,
   "metadata": {
    "collapsed": true
   },
   "outputs": [],
   "source": [
    "def slope_func(state, t, system):\n",
    "    \"\"\"Computes derivatives of the state variables.\n",
    "    \n",
    "    state: State (x, y, x velocity, y velocity)\n",
    "    t: time\n",
    "    system: System object with g, rho, C_d, area, mass\n",
    "    \n",
    "    returns: sequence (vx, vy, ax, ay)\n",
    "    \"\"\"\n",
    "    x, y, vx, vy = state\n",
    "    unpack(system)\n",
    "    \n",
    "    a_grav = Vector(0, -g)\n",
    "\n",
    "    v = Vector(vx, vy)\n",
    "    \n",
    "    f_drag = -rho * v.mag * v * C_d * area / 2\n",
    "    a_drag = f_drag / mass\n",
    "    \n",
    "    a = a_grav + a_drag\n",
    "    \n",
    "    return vx, vy, a.x, a.y"
   ]
  },
  {
   "cell_type": "markdown",
   "metadata": {},
   "source": [
    "A few things to comment on here:\n",
    "\n",
    "1.  `The System` object provides the magnitude of acceleration due to gravity, but not the direction.  Putting this magnitude into a Vector makes an implicit part of the program explicit.\n",
    "\n",
    "2.  In order to work with `odeint`, the state variables have to be scalars, not Vectors.  So I assemble `vx` and `vy` into a `Vector` as soon as possible.\n",
    "\n",
    "3.  To represent `f_drag`, we want to create a `Vector` that has the magnitude given by the drag equation and a direction opposite the direction of `v`.  There are two ways to think about that, which I'll explain below.\n",
    "\n",
    "4.  Because `a_grav` and `a_drag` are vectors that encode their direction, we can add them up without having to think about their signs.  Don't think about subtracting gravity from other forces, because it points down!  Just think about adding up vectors.\n",
    "\n",
    "5.  It is a common error to add forces to accelerations.  By attaching units to all `Vector` object, we catch that error right away."
   ]
  },
  {
   "cell_type": "code",
   "execution_count": 25,
   "metadata": {},
   "outputs": [],
   "source": [
    "condition = Condition(x = 0 * m, \n",
    "                      y = 1 * m,\n",
    "                      g = 9.8 * m/s**2,\n",
    "                      mass = 145e-3 * kg,\n",
    "                      diameter = 73e-3 * m,\n",
    "                      rho = 1.2 * kg/m**3,\n",
    "                      C_d = 0.3,\n",
    "                      angle = 45 * degree,\n",
    "                      velocity = 40 * m / s,\n",
    "                      duration = 5.1 * s)"
   ]
  },
  {
   "cell_type": "code",
   "execution_count": 26,
   "metadata": {
    "collapsed": true
   },
   "outputs": [],
   "source": [
    "def make_system(condition):\n",
    "    \"\"\"Make a system object.\n",
    "    \n",
    "    condition: Condition object with angle, velocity, x, y,\n",
    "               diameter, duration, g, mass, rho, and C_d\n",
    "               \n",
    "    returns: System object\n",
    "    \"\"\"\n",
    "    unpack(condition)\n",
    "    \n",
    "    # convert angle to degrees\n",
    "    theta = np.deg2rad(angle)\n",
    "    \n",
    "    # compute x and y components of velocity\n",
    "    vx, vy = pol2cart(theta, velocity)\n",
    "    \n",
    "    # make the initial state\n",
    "    init = State(x=x, y=y, vx=vx, vy=vy)\n",
    "    \n",
    "    # compute area from diameter\n",
    "    area = np.pi * (diameter/2)**2\n",
    "    \n",
    "    # compute timestamps\n",
    "    ts = linspace(0, duration, 101)\n",
    "    \n",
    "    return System(init=init, g=g, mass=mass, \n",
    "                  area=area, rho=rho, C_d=C_d, ts=ts)"
   ]
  },
  {
   "cell_type": "code",
   "execution_count": 27,
   "metadata": {},
   "outputs": [
    {
     "data": {
      "text/html": [
       "<div>\n",
       "<style>\n",
       "    .dataframe thead tr:only-child th {\n",
       "        text-align: right;\n",
       "    }\n",
       "\n",
       "    .dataframe thead th {\n",
       "        text-align: left;\n",
       "    }\n",
       "\n",
       "    .dataframe tbody tr th {\n",
       "        vertical-align: top;\n",
       "    }\n",
       "</style>\n",
       "<table border=\"1\" class=\"dataframe\">\n",
       "  <thead>\n",
       "    <tr style=\"text-align: right;\">\n",
       "      <th></th>\n",
       "      <th>value</th>\n",
       "    </tr>\n",
       "  </thead>\n",
       "  <tbody>\n",
       "    <tr>\n",
       "      <th>init</th>\n",
       "      <td>x                               0 meter\n",
       "y     ...</td>\n",
       "    </tr>\n",
       "    <tr>\n",
       "      <th>g</th>\n",
       "      <td>9.8 meter / second ** 2</td>\n",
       "    </tr>\n",
       "    <tr>\n",
       "      <th>mass</th>\n",
       "      <td>0.145 kilogram</td>\n",
       "    </tr>\n",
       "    <tr>\n",
       "      <th>area</th>\n",
       "      <td>0.004185386812745002 meter ** 2</td>\n",
       "    </tr>\n",
       "    <tr>\n",
       "      <th>rho</th>\n",
       "      <td>1.2 kilogram / meter ** 3</td>\n",
       "    </tr>\n",
       "    <tr>\n",
       "      <th>C_d</th>\n",
       "      <td>0.3</td>\n",
       "    </tr>\n",
       "    <tr>\n",
       "      <th>ts</th>\n",
       "      <td>[0.0 second, 0.051 second, 0.102 second, 0.153...</td>\n",
       "    </tr>\n",
       "  </tbody>\n",
       "</table>\n",
       "</div>"
      ],
      "text/plain": [
       "init    x                               0 meter\n",
       "y     ...\n",
       "g                                 9.8 meter / second ** 2\n",
       "mass                                       0.145 kilogram\n",
       "area                      0.004185386812745002 meter ** 2\n",
       "rho                             1.2 kilogram / meter ** 3\n",
       "C_d                                                   0.3\n",
       "ts      [0.0 second, 0.051 second, 0.102 second, 0.153...\n",
       "dtype: object"
      ]
     },
     "execution_count": 27,
     "metadata": {},
     "output_type": "execute_result"
    }
   ],
   "source": [
    "system = make_system(condition)\n",
    "system"
   ]
  },
  {
   "cell_type": "code",
   "execution_count": 28,
   "metadata": {},
   "outputs": [
    {
     "data": {
      "text/plain": [
       "(<Quantity(28.284271247461902, 'meter / second')>,\n",
       " <Quantity(28.2842712474619, 'meter / second')>,\n",
       " <Quantity(-5.878209892331404, 'meter / second ** 2')>,\n",
       " <Quantity(-15.678209892331404, 'meter / second ** 2')>)"
      ]
     },
     "execution_count": 28,
     "metadata": {},
     "output_type": "execute_result"
    }
   ],
   "source": [
    "slope_func(system.init, 0, system)"
   ]
  },
  {
   "cell_type": "code",
   "execution_count": 29,
   "metadata": {},
   "outputs": [],
   "source": [
    "def slope_func(state, t, system):\n",
    "    \"\"\"Computes derivatives of the state variables.\n",
    "    \n",
    "    state: State (x, y, x velocity, y velocity)\n",
    "    t: time\n",
    "    system: System object with g, rho, C_d, area, mass\n",
    "    \n",
    "    returns: sequence (vx, vy, ax, ay)\n",
    "    \"\"\"\n",
    "    x, y, vx, vy = state\n",
    "    unpack(system)\n",
    "    \n",
    "    a_grav = Vector(0, -g)\n",
    "\n",
    "    v = Vector(vx, vy)\n",
    "    \n",
    "    f_drag_mag = -rho * v.mag**2 * C_d * area / 2    # scalar\n",
    "    f_drag_dir = v / v.mag                           # vector\n",
    "    f_drag = f_drag_mag * f_drag_dir\n",
    "    \n",
    "    a_drag = f_drag / mass\n",
    "    \n",
    "    a = a_grav + a_drag\n",
    "    \n",
    "    return vx, vy, a.x, a.y"
   ]
  },
  {
   "cell_type": "code",
   "execution_count": 30,
   "metadata": {
    "scrolled": true
   },
   "outputs": [
    {
     "data": {
      "text/plain": [
       "(<Quantity(28.284271247461902, 'meter / second')>,\n",
       " <Quantity(28.2842712474619, 'meter / second')>,\n",
       " <Quantity(-5.878209892331404, 'meter / second ** 2')>,\n",
       " <Quantity(-15.678209892331406, 'meter / second ** 2')>)"
      ]
     },
     "execution_count": 30,
     "metadata": {},
     "output_type": "execute_result"
    }
   ],
   "source": [
    "slope_func(system.init, 0, system)"
   ]
  },
  {
   "cell_type": "code",
   "execution_count": 31,
   "metadata": {
    "collapsed": true
   },
   "outputs": [],
   "source": [
    "def slope_func(state, t, system):\n",
    "    \"\"\"Computes derivatives of the state variables.\n",
    "    \n",
    "    state: State (x, y, x velocity, y velocity)\n",
    "    t: time\n",
    "    system: System object with g, rho, C_d, area, mass\n",
    "    \n",
    "    returns: sequence (vx, vy, ax, ay)\n",
    "    \"\"\"\n",
    "    x, y, vx, vy = state\n",
    "    unpack(system)\n",
    "    \n",
    "    a_grav = Vector(0, -g)\n",
    "\n",
    "    v = Vector(vx, vy)\n",
    "    \n",
    "    f_drag_mag = -rho * v.mag**2 * C_d * area / 2    # scalar\n",
    "    f_drag_dir = v.hat()                             # vector\n",
    "    f_drag = f_drag_mag * f_drag_dir\n",
    "    \n",
    "    a_drag = f_drag / mass\n",
    "    \n",
    "    a = a_grav + a_drag\n",
    "    \n",
    "    return vx, vy, a.x, a.y"
   ]
  },
  {
   "cell_type": "code",
   "execution_count": 32,
   "metadata": {
    "scrolled": true
   },
   "outputs": [
    {
     "data": {
      "text/plain": [
       "(<Quantity(28.284271247461902, 'meter / second')>,\n",
       " <Quantity(28.2842712474619, 'meter / second')>,\n",
       " <Quantity(-5.878209892331404, 'meter / second ** 2')>,\n",
       " <Quantity(-15.678209892331406, 'meter / second ** 2')>)"
      ]
     },
     "execution_count": 32,
     "metadata": {},
     "output_type": "execute_result"
    }
   ],
   "source": [
    "slope_func(system.init, 0, system)"
   ]
  },
  {
   "cell_type": "markdown",
   "metadata": {},
   "source": []
  }
 ],
 "metadata": {
  "kernelspec": {
   "display_name": "Python 3",
   "language": "python",
   "name": "python3"
  },
  "language_info": {
   "codemirror_mode": {
    "name": "ipython",
    "version": 3
   },
   "file_extension": ".py",
   "mimetype": "text/x-python",
   "name": "python",
   "nbconvert_exporter": "python",
   "pygments_lexer": "ipython3",
   "version": "3.6.1"
  }
 },
 "nbformat": 4,
 "nbformat_minor": 1
}
