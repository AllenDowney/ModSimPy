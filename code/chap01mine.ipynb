{
 "cells": [
  {
   "cell_type": "markdown",
   "metadata": {},
   "source": [
    "# Modeling and Simulation in Python\n",
    "\n",
    "Chapter 1: Modeling\n",
    "\n",
    "Copyright 2017 Allen Downey\n",
    "\n",
    "License: [Creative Commons Attribution 4.0 International](https://creativecommons.org/licenses/by/4.0)"
   ]
  },
  {
   "cell_type": "code",
   "execution_count": 12,
   "metadata": {},
   "outputs": [
    {
     "name": "stdout",
     "output_type": "stream",
     "text": [
      "\n",
      "\n",
      "\n",
      "\n",
      "\n",
      "\n",
      "\n",
      "\n",
      "\n",
      "\n",
      "heads    4\n",
      "tails    6\n",
      "dtype: int64\n"
     ]
    }
   ],
   "source": [
    "#Diagnostic 1\n",
    "penny = System(heads=0, tails=0)\n",
    "for i in range (10):\n",
    "    if flip(0.5):\n",
    "        penny.heads += 1\n",
    "        print()\n",
    "    else:\n",
    "        penny.tails += 1\n",
    "        print()\n",
    "print(penny)"
   ]
  },
  {
   "cell_type": "code",
   "execution_count": 21,
   "metadata": {},
   "outputs": [
    {
     "name": "stdout",
     "output_type": "stream",
     "text": [
      "\n",
      "\n",
      "\n",
      "\n",
      "\n",
      "heads    3\n",
      "tails    2\n",
      "dtype: int64\n"
     ]
    }
   ],
   "source": [
    "#Diagnostic 1\n",
    "penny = System(heads=0, tails=0)\n",
    "penny = System(heads=0, tails=0)\n",
    "def flip_count(n,p):\n",
    "    for i in range (n):\n",
    "        if flip(p):\n",
    "            penny.heads += 1\n",
    "            print()\n",
    "        else:\n",
    "            penny.tails += 1\n",
    "            print()\n",
    "flip_count(n = 5, p = 0.5)\n",
    "print(penny)"
   ]
  },
  {
   "cell_type": "markdown",
   "metadata": {},
   "source": [
    "## Jupyter\n",
    "\n",
    "Welcome to Modeling and Simulation, welcome to Pythons, and welcome to Jupyter.\n",
    "\n",
    "This is a Jupyter notebook, which is a development environment where you can write and run Python code.  Each notebook is divided into cells.  Each cell contains either text (like this cell) or Python code (like the cell below this one).\n",
    "\n",
    "### Selecting and running cells\n",
    "\n",
    "To select a cell, click in the left margin next to the cell.  You should see a blue frame surrounding the selected cell.\n",
    "\n",
    "To edit a code cell, click inside the cell.  You should see a green frame around the selected cell, and you should see a cursor inside the cell.\n",
    "\n",
    "To edit a text cell, double-click inside the cell. \n",
    "Again, you should see a gren frame around the selected cell, and you should see a cursor inside the cell.\n",
    "\n",
    "To run a cell, hold down SHIFT and press ENTER.  If you run a text cell, it will typeset the text and display the result.\n",
    "\n",
    "If you run a code cell, it runs the Python code in the cell and displays the result, if any.\n",
    "\n",
    "To try it out, edit this cell, change some of the text, and then press SHIFT-ENTER to run it."
   ]
  },
  {
   "cell_type": "markdown",
   "metadata": {},
   "source": [
    "### Adding and removing cells\n",
    "\n",
    "You can add and remove cells from a notebook using the buttons in the toolbar and the items in the menu, both of which you should see at the top of this notebook.\n",
    "\n",
    "You might want to try the following exercises:\n",
    "\n",
    "1.  From the Insert menu select \"Insert cell below\" to add a cell below this one.  By default, you get a code cell, and you can see in the pulldown menu that says \"Code\".\n",
    "\n",
    "2.  In the new cell, add a print statement like `print('Hello')`, and run it.\n",
    "\n",
    "3.  Add another cell, select the new cell, and then click on the pulldown menu that says \"Code\" and select \"Markdown\".  This makes the new cell a text cell.\n",
    "\n",
    "4.  In the new cell, type some text, and then run it.\n",
    "\n",
    "5.  Use the arrow buttons in the toolbar to move cells up and down.\n",
    "\n",
    "6.  Use the cut, copy, and paste buttons to delete, add, and move cells.\n",
    "\n",
    "7.  As you make changes, Jupyter saves your notebook automatically, but if you want to make sure, you can press the save button, which looks like a floppy disk from the 1990s.\n",
    "\n",
    "8.  Finally, when you are done with a notebook, selection \"Close and Halt\" from the File menu."
   ]
  },
  {
   "cell_type": "code",
   "execution_count": 6,
   "metadata": {},
   "outputs": [
    {
     "name": "stdout",
     "output_type": "stream",
     "text": [
      "Hello\n"
     ]
    }
   ],
   "source": [
    "print(\"Hello\")\n",
    "from modsim import *"
   ]
  },
  {
   "cell_type": "markdown",
   "metadata": {},
   "source": [
    "Hello World!"
   ]
  },
  {
   "cell_type": "markdown",
   "metadata": {},
   "source": [
    "### Using the notebooks\n",
    "\n",
    "The notebooks for each chapter contain the code from the chapter along with addition examples, explanatory text, and exercises.  I recommend you read the chapter first to understand the concepts and vocabulary, then run the notebook to review what you learned and see it in action, and then attempt the exercises.\n",
    "\n",
    "The notebooks contain some explanatory text, but it is probably not enough to make sense if you have not read the book.  If you are working through a notebook and you get stuck, you might want to re-read (or read!) the corresponding section of the book.\n",
    "\n",
    "If you try to work through the notebooks without reading the book, you're gonna have a bad time.  If you have previous programming experience, you might get through the first few notebooks, but sooner or later, you will get to the end of your leash, and you won't like it."
   ]
  },
  {
   "cell_type": "markdown",
   "metadata": {},
   "source": [
    "### Importing modsim\n",
    "\n",
    "The following cell imports `modsim`, which is a collection of functions we will use throughout the book.  Whenever you start the notebook, you will have to run the following cell.  It does two things:\n",
    "\n",
    "1.  It uses a Jupyter \"magic command\" to specify whether figures should appear in the notebook, or pop up in a new window.\n",
    "\n",
    "2.  It imports everything defined in `modsim`.\n",
    "\n",
    "Select the following cell and press SHIFT-ENTER to run it."
   ]
  },
  {
   "cell_type": "code",
   "execution_count": 3,
   "metadata": {},
   "outputs": [
    {
     "name": "stdout",
     "output_type": "stream",
     "text": [
      "If this cell runs successfully, it produces no output other than this message.\n"
     ]
    }
   ],
   "source": [
    "# If you want the figures to appear in the notebook, \n",
    "# and you want to interact with them, use\n",
    "# %matplotlib notebook\n",
    "\n",
    "# If you want the figures to appear in the notebook, \n",
    "# and you don't want to interact with them, use\n",
    "# %matplotlib inline\n",
    "\n",
    "# If you want the figures to appear in separate windows, use\n",
    "# %matplotlib qt5\n",
    "\n",
    "# To switch from one to another, you have to select Kernel->Restart\n",
    "\n",
    "%matplotlib qt5\n",
    "\n",
    "from modsim import *\n",
    "\n",
    "print('If this cell runs successfully, it produces no output other than this message.')"
   ]
  },
  {
   "cell_type": "code",
   "execution_count": 5,
   "metadata": {},
   "outputs": [
    {
     "name": "stdout",
     "output_type": "stream",
     "text": [
      "If this cell runs successfully, it produces no output other than this message.\n"
     ]
    }
   ],
   "source": [
    "# If you want the figures to appear in the notebook, \n",
    "# and you want to interact with them, use\n",
    "# %matplotlib notebook\n",
    "\n",
    "# If you want the figures to appear in the notebook, \n",
    "# and you don't want to interact with them, use\n",
    "# %matplotlib inline\n",
    "\n",
    "# If you want the figures to appear in separate windows, use\n",
    "# %matplotlib qt5\n",
    "\n",
    "# To switch from one to another, you have to select Kernel->Restart\n",
    "\n",
    "%matplotlib qt5\n",
    "\n",
    "from modsim import *\n",
    "\n",
    "print('If this cell runs successfully, it produces no output other than this message.')\n",
    "\n",
    "meter = UNITS.meter\n",
    "second = UNITS.second\n",
    "\n"
   ]
  },
  {
   "cell_type": "code",
   "execution_count": 7,
   "metadata": {
    "collapsed": true
   },
   "outputs": [],
   "source": [
    "meter = UNITS.meter\n",
    "second = UNITS.second"
   ]
  },
  {
   "cell_type": "markdown",
   "metadata": {},
   "source": [
    "## The penny myth\n",
    "\n",
    "The following cells contain code from the beginning of Chapter 1.\n",
    "\n",
    "`modsim` defines `UNITS`, which contains variables representing pretty much every unit you've ever heard of.  The following to lines create new variables named `meter` and `second`."
   ]
  },
  {
   "cell_type": "code",
   "execution_count": 3,
   "metadata": {
    "collapsed": true
   },
   "outputs": [],
   "source": [
    "meter = UNITS.meter\n",
    "second = UNITS.second"
   ]
  },
  {
   "cell_type": "markdown",
   "metadata": {},
   "source": [
    "To find out what units are defined, type `UNITS.` in the next cell and then press TAB.  You should see a pop-up menu with a list of units."
   ]
  },
  {
   "cell_type": "code",
   "execution_count": 4,
   "metadata": {},
   "outputs": [
    {
     "ename": "SyntaxError",
     "evalue": "invalid syntax (<ipython-input-4-4dc06095e004>, line 1)",
     "output_type": "error",
     "traceback": [
      "\u001b[1;36m  File \u001b[1;32m\"<ipython-input-4-4dc06095e004>\"\u001b[1;36m, line \u001b[1;32m1\u001b[0m\n\u001b[1;33m    UNITS.\u001b[0m\n\u001b[1;37m           ^\u001b[0m\n\u001b[1;31mSyntaxError\u001b[0m\u001b[1;31m:\u001b[0m invalid syntax\n"
     ]
    }
   ],
   "source": [
    "UNITS."
   ]
  },
  {
   "cell_type": "markdown",
   "metadata": {},
   "source": [
    "Create a variable named `a` and display its value:"
   ]
  },
  {
   "cell_type": "code",
   "execution_count": 3,
   "metadata": {
    "collapsed": true
   },
   "outputs": [],
   "source": [
    "a = 9.8 * meter / second**2\n",
    "a"
   ]
  },
  {
   "cell_type": "markdown",
   "metadata": {
    "collapsed": true
   },
   "source": [
    "Create `t` and display its value:"
   ]
  },
  {
   "cell_type": "code",
   "execution_count": 4,
   "metadata": {
    "collapsed": true
   },
   "outputs": [],
   "source": [
    "t = 4 * second\n",
    "t"
   ]
  },
  {
   "cell_type": "markdown",
   "metadata": {
    "collapsed": true
   },
   "source": [
    "If you create a variable and don't display the value, you don't get any output:"
   ]
  },
  {
   "cell_type": "code",
   "execution_count": 8,
   "metadata": {
    "collapsed": true
   },
   "outputs": [],
   "source": [
    "meter = UNITS.meter\n",
    "a = 9.8 * meter / second**2\n",
    "t = 4 * second\n",
    "h = a * t**2"
   ]
  },
  {
   "cell_type": "markdown",
   "metadata": {
    "collapsed": true
   },
   "source": [
    "Add a second line to the previous cell to display the value of `h`.\n",
    "\n",
    "Now let's solve the falling penny problem.  The following lines set `h` to the height of the Empire State Building and compute the time it would take a penny to fall, assuming constant acceleration."
   ]
  },
  {
   "cell_type": "code",
   "execution_count": 6,
   "metadata": {
    "collapsed": true
   },
   "outputs": [],
   "source": [
    "h = 381 * meter\n",
    "t = sqrt(2 * h / a)\n",
    "t"
   ]
  },
  {
   "cell_type": "markdown",
   "metadata": {
    "collapsed": true
   },
   "source": [
    "Given `t`, we can compute the velocity of the penny when it lands."
   ]
  },
  {
   "cell_type": "code",
   "execution_count": 7,
   "metadata": {
    "collapsed": true
   },
   "outputs": [],
   "source": [
    "v = a * t\n",
    "v"
   ]
  },
  {
   "cell_type": "markdown",
   "metadata": {
    "collapsed": true
   },
   "source": [
    "We can convert from one set of units to another like this:"
   ]
  },
  {
   "cell_type": "code",
   "execution_count": 8,
   "metadata": {
    "collapsed": true
   },
   "outputs": [],
   "source": [
    "mile = UNITS.mile\n",
    "hour= UNITS.hour"
   ]
  },
  {
   "cell_type": "code",
   "execution_count": 9,
   "metadata": {
    "collapsed": true
   },
   "outputs": [],
   "source": [
    "v.to(mile/hour)"
   ]
  },
  {
   "cell_type": "markdown",
   "metadata": {},
   "source": [
    "**Exercise:** In reality, air resistance prevents the penny from reaching this velocity.  At about 20 meters per second, the force of air resistance equals the force of gravity and the penny stops accelerating.\n",
    "\n",
    "As a simplification, let's assume that the acceleration of the penny is `a` until the penny reaches 20 meters per second, and then 0 afterwards.  What is the total time for the penny to fall 381 meters?"
   ]
  },
  {
   "cell_type": "code",
   "execution_count": 24,
   "metadata": {},
   "outputs": [
    {
     "name": "stdout",
     "output_type": "stream",
     "text": [
      "2.0408163265306123 second\n",
      "20.408163265306126 meter\n",
      "20.070408163265306 second\n"
     ]
    }
   ],
   "source": [
    "# Solution goes here\n",
    "# find time for the penny to fall to the height of 20 meters/second\n",
    "\n",
    "meter = UNITS.meter\n",
    "second = UNITS.second\n",
    "\n",
    "a = 9.8 * meter / second**2\n",
    "v = 20 * meter / second\n",
    "\n",
    "time = v / a\n",
    "print(time)\n",
    "\n",
    "# find height at which penny reaches 20 m/s\n",
    "\n",
    "height = (time**2 * a) / 2\n",
    "print(height)\n",
    "\n",
    "# find time for penny to fall at 20 m/s for remainder of height\n",
    "\n",
    "h = 381 * meter - height\n",
    "t = h / v\n",
    "\n",
    "# add times\n",
    "\n",
    "print(time + t)\n"
   ]
  },
  {
   "cell_type": "markdown",
   "metadata": {},
   "source": [
    "## Modeling a bikeshare system"
   ]
  },
  {
   "cell_type": "markdown",
   "metadata": {},
   "source": [
    "We'll start with a `System` object that represents the number of bikes at each station."
   ]
  },
  {
   "cell_type": "code",
   "execution_count": 3,
   "metadata": {},
   "outputs": [],
   "source": [
    "bikeshare = System(olin=10, wellesley=2)"
   ]
  },
  {
   "cell_type": "markdown",
   "metadata": {},
   "source": [
    "If you display the value of a `System` object, it lists the system variables and their values (not necessarily in the order you defined them):"
   ]
  },
  {
   "cell_type": "code",
   "execution_count": 56,
   "metadata": {},
   "outputs": [
    {
     "data": {
      "text/html": [
       "<div>\n",
       "<style>\n",
       "    .dataframe thead tr:only-child th {\n",
       "        text-align: right;\n",
       "    }\n",
       "\n",
       "    .dataframe thead th {\n",
       "        text-align: left;\n",
       "    }\n",
       "\n",
       "    .dataframe tbody tr th {\n",
       "        vertical-align: top;\n",
       "    }\n",
       "</style>\n",
       "<table border=\"1\" class=\"dataframe\">\n",
       "  <thead>\n",
       "    <tr style=\"text-align: right;\">\n",
       "      <th></th>\n",
       "      <th>value</th>\n",
       "    </tr>\n",
       "  </thead>\n",
       "  <tbody>\n",
       "    <tr>\n",
       "      <th>olin</th>\n",
       "      <td>10</td>\n",
       "    </tr>\n",
       "    <tr>\n",
       "      <th>wellesley</th>\n",
       "      <td>2</td>\n",
       "    </tr>\n",
       "    <tr>\n",
       "      <th>babson</th>\n",
       "      <td>0</td>\n",
       "    </tr>\n",
       "  </tbody>\n",
       "</table>\n",
       "</div>"
      ],
      "text/plain": [
       "olin         10\n",
       "wellesley     2\n",
       "babson        0\n",
       "dtype: int64"
      ]
     },
     "execution_count": 56,
     "metadata": {},
     "output_type": "execute_result"
    }
   ],
   "source": [
    "bikeshare = System(olin=10, wellesley=2, babson=0)\n",
    "bikeshare"
   ]
  },
  {
   "cell_type": "markdown",
   "metadata": {},
   "source": [
    "We can access the system variables using dot notation."
   ]
  },
  {
   "cell_type": "code",
   "execution_count": 57,
   "metadata": {},
   "outputs": [
    {
     "data": {
      "text/plain": [
       "10"
      ]
     },
     "execution_count": 57,
     "metadata": {},
     "output_type": "execute_result"
    }
   ],
   "source": [
    "bikeshare.olin"
   ]
  },
  {
   "cell_type": "code",
   "execution_count": 58,
   "metadata": {
    "scrolled": true
   },
   "outputs": [
    {
     "data": {
      "text/plain": [
       "2"
      ]
     },
     "execution_count": 58,
     "metadata": {},
     "output_type": "execute_result"
    }
   ],
   "source": [
    "bikeshare.wellesley"
   ]
  },
  {
   "cell_type": "markdown",
   "metadata": {},
   "source": [
    "**Exercise:** What happens if you spell the name of a system variable wrong?  Edit the previous cell, change the spelling of `wellesley`, and run the cell again.\n",
    "\n",
    "The error message uses the word \"attribute\", which is another name for what we are calling a system variable. "
   ]
  },
  {
   "cell_type": "markdown",
   "metadata": {},
   "source": [
    "**Exercise:** Add a third attribute called `babson` with initial value 0, and print the state of `bikeshare` again."
   ]
  },
  {
   "cell_type": "markdown",
   "metadata": {},
   "source": [
    "## Plotting\n",
    "\n",
    "`newfig` creates a new figure, which should appear either in the notebook or in a new window, depending on which magic command you ran in the first code cell.\n",
    "\n",
    "`plot` adds a data point to the figure; in this example, you should see a red square and a blue circle representing the number of bikes at each station."
   ]
  },
  {
   "cell_type": "code",
   "execution_count": 5,
   "metadata": {},
   "outputs": [],
   "source": [
    "newfig()\n",
    "plot(bikeshare.olin, 'rs-')\n",
    "plot(bikeshare.wellesley, 'bo-')"
   ]
  },
  {
   "cell_type": "markdown",
   "metadata": {},
   "source": [
    "We can use the operators `+=` and `-=` to increase and decrease the system variables.  The following lines move a bike from Olin to Wellesley."
   ]
  },
  {
   "cell_type": "code",
   "execution_count": 6,
   "metadata": {},
   "outputs": [
    {
     "data": {
      "text/html": [
       "<div>\n",
       "<style>\n",
       "    .dataframe thead tr:only-child th {\n",
       "        text-align: right;\n",
       "    }\n",
       "\n",
       "    .dataframe thead th {\n",
       "        text-align: left;\n",
       "    }\n",
       "\n",
       "    .dataframe tbody tr th {\n",
       "        vertical-align: top;\n",
       "    }\n",
       "</style>\n",
       "<table border=\"1\" class=\"dataframe\">\n",
       "  <thead>\n",
       "    <tr style=\"text-align: right;\">\n",
       "      <th></th>\n",
       "      <th>value</th>\n",
       "    </tr>\n",
       "  </thead>\n",
       "  <tbody>\n",
       "    <tr>\n",
       "      <th>olin</th>\n",
       "      <td>9</td>\n",
       "    </tr>\n",
       "    <tr>\n",
       "      <th>wellesley</th>\n",
       "      <td>3</td>\n",
       "    </tr>\n",
       "    <tr>\n",
       "      <th>babson</th>\n",
       "      <td>0</td>\n",
       "    </tr>\n",
       "  </tbody>\n",
       "</table>\n",
       "</div>"
      ],
      "text/plain": [
       "olin         9\n",
       "wellesley    3\n",
       "babson       0\n",
       "dtype: int64"
      ]
     },
     "execution_count": 6,
     "metadata": {},
     "output_type": "execute_result"
    }
   ],
   "source": [
    "bikeshare.olin -= 1\n",
    "bikeshare.wellesley += 1\n",
    "bikeshare"
   ]
  },
  {
   "cell_type": "markdown",
   "metadata": {},
   "source": [
    "And the following lines plot the updated state of the system.  You should see two new data points with lines connecting them to the old data points."
   ]
  },
  {
   "cell_type": "code",
   "execution_count": 7,
   "metadata": {},
   "outputs": [],
   "source": [
    "plot(bikeshare.olin, 'rs-')\n",
    "plot(bikeshare.wellesley, 'bo-')"
   ]
  },
  {
   "cell_type": "markdown",
   "metadata": {},
   "source": [
    "**Exercise:** In the cell below, write a few lines of code to move a bike from Wellesley to Olin and plot the updated state."
   ]
  },
  {
   "cell_type": "code",
   "execution_count": 8,
   "metadata": {},
   "outputs": [
    {
     "data": {
      "image/png": "[encoded data removed]",
      "text/plain": [
       "<matplotlib.figure.Figure at 0x1a699f4b9b0>"
      ]
     },
     "metadata": {},
     "output_type": "display_data"
    }
   ],
   "source": [
    "# Solution goes here\n",
    "%matplotlib inline\n",
    "bikeshare = System(olin=10, wellesley=2, babson=0)\n",
    "bikeshare\n",
    "newfig()\n",
    "plot(bikeshare.olin, 'rs-')\n",
    "plot(bikeshare.wellesley, 'bo-')\n",
    "bikeshare.wellesley -= 1\n",
    "bikeshare.olin +=1\n",
    "plot(bikeshare.olin, 'rs-')\n",
    "plot(bikeshare.wellesley, 'bo-')"
   ]
  },
  {
   "cell_type": "markdown",
   "metadata": {},
   "source": [
    "## Functions\n",
    "\n",
    "Now we can take the code we've written so far and encapsulate it in functions."
   ]
  },
  {
   "cell_type": "code",
   "execution_count": 59,
   "metadata": {
    "collapsed": true
   },
   "outputs": [],
   "source": [
    "def bike_to_wellesley():\n",
    "    bikeshare.olin -= 1\n",
    "    bikeshare.wellesley += 1"
   ]
  },
  {
   "cell_type": "markdown",
   "metadata": {},
   "source": [
    "When you define a function, it doesn't run the statements inside the function, yet."
   ]
  },
  {
   "cell_type": "code",
   "execution_count": 60,
   "metadata": {
    "collapsed": true
   },
   "outputs": [],
   "source": [
    "def plot_state():\n",
    "    plot(bikeshare.olin, 'rs-', label='Olin')\n",
    "    plot(bikeshare.wellesley, 'bo-', label='Wellesley')\n"
   ]
  },
  {
   "cell_type": "markdown",
   "metadata": {},
   "source": [
    "Now when we run the functions, it runs the statements inside."
   ]
  },
  {
   "cell_type": "code",
   "execution_count": 11,
   "metadata": {},
   "outputs": [
    {
     "data": {
      "text/html": [
       "<div>\n",
       "<style>\n",
       "    .dataframe thead tr:only-child th {\n",
       "        text-align: right;\n",
       "    }\n",
       "\n",
       "    .dataframe thead th {\n",
       "        text-align: left;\n",
       "    }\n",
       "\n",
       "    .dataframe tbody tr th {\n",
       "        vertical-align: top;\n",
       "    }\n",
       "</style>\n",
       "<table border=\"1\" class=\"dataframe\">\n",
       "  <thead>\n",
       "    <tr style=\"text-align: right;\">\n",
       "      <th></th>\n",
       "      <th>value</th>\n",
       "    </tr>\n",
       "  </thead>\n",
       "  <tbody>\n",
       "    <tr>\n",
       "      <th>olin</th>\n",
       "      <td>10</td>\n",
       "    </tr>\n",
       "    <tr>\n",
       "      <th>wellesley</th>\n",
       "      <td>2</td>\n",
       "    </tr>\n",
       "    <tr>\n",
       "      <th>babson</th>\n",
       "      <td>0</td>\n",
       "    </tr>\n",
       "  </tbody>\n",
       "</table>\n",
       "</div>"
      ],
      "text/plain": [
       "olin         10\n",
       "wellesley     2\n",
       "babson        0\n",
       "dtype: int64"
      ]
     },
     "execution_count": 11,
     "metadata": {},
     "output_type": "execute_result"
    },
    {
     "data": {
      "image/png": "[encoded data removed]",
      "text/plain": [
       "<matplotlib.figure.Figure at 0x1a69dac0e80>"
      ]
     },
     "metadata": {},
     "output_type": "display_data"
    }
   ],
   "source": [
    "bike_to_wellesley()\n",
    "plot_state()\n",
    "bikeshare"
   ]
  },
  {
   "cell_type": "markdown",
   "metadata": {},
   "source": [
    "You should see two more data points that represent the current state of the system.  If the figure is embedded in the notebook, you might have to scroll up to see the change.\n",
    "\n",
    "One common error is to omit the parentheses, which has the effect of looking up the function, but not running it."
   ]
  },
  {
   "cell_type": "code",
   "execution_count": 12,
   "metadata": {},
   "outputs": [
    {
     "data": {
      "text/plain": [
       "<function __main__.bike_to_wellesley>"
      ]
     },
     "execution_count": 12,
     "metadata": {},
     "output_type": "execute_result"
    }
   ],
   "source": [
    "bike_to_wellesley"
   ]
  },
  {
   "cell_type": "markdown",
   "metadata": {},
   "source": [
    "The output indicates that `bike_to_wellesley` is a function defined in a \"namespace\" called `__main__`, but you don't have to understand what that means."
   ]
  },
  {
   "cell_type": "markdown",
   "metadata": {},
   "source": [
    "**Exercise:** Define a function called `bike_to_olin` that moves a bike from Wellesley to Olin.  Run the new function and print or plot the results to confirm that it works."
   ]
  },
  {
   "cell_type": "code",
   "execution_count": 61,
   "metadata": {},
   "outputs": [
    {
     "data": {
      "image/png": "[encoded data removed]",
      "text/plain": [
       "<matplotlib.figure.Figure at 0x1a69fc12a90>"
      ]
     },
     "metadata": {},
     "output_type": "display_data"
    }
   ],
   "source": [
    "# Solution goes here\n",
    "%matplotlib inline\n",
    "bikeshare = System(olin=10, wellesley=2, babson=0)\n",
    "bikeshare\n",
    "newfig()\n",
    "plot(bikeshare.olin, 'rs-')\n",
    "plot(bikeshare.wellesley, 'bo-')\n",
    "def bike_to_olin():\n",
    "    bikeshare.wellesley -= 1\n",
    "    bikeshare.olin +=1\n",
    "def plot_state():\n",
    "    plot(bikeshare.olin, 'rs-', label='Olin')\n",
    "    plot(bikeshare.wellesley, 'bo-', label='Wellesley')\n",
    "bike_to_olin()\n",
    "plot_state()"
   ]
  },
  {
   "cell_type": "markdown",
   "metadata": {},
   "source": [
    "## Parameters"
   ]
  },
  {
   "cell_type": "markdown",
   "metadata": {},
   "source": [
    "Before we go on, let's start with a new state object and a new plot."
   ]
  },
  {
   "cell_type": "code",
   "execution_count": 14,
   "metadata": {},
   "outputs": [
    {
     "data": {
      "image/png": "[encoded data removed]",
      "text/plain": [
       "<matplotlib.figure.Figure at 0x1a69db7f8d0>"
      ]
     },
     "metadata": {},
     "output_type": "display_data"
    }
   ],
   "source": [
    "bikeshare = System(olin=10, wellesley=2)\n",
    "newfig()\n",
    "plot_state()"
   ]
  },
  {
   "cell_type": "markdown",
   "metadata": {},
   "source": [
    "Since we have two similar functions, we can create a new function, `move_bike` that takes a parameter `n`, which indicates how many bikes are moving, and in which direction."
   ]
  },
  {
   "cell_type": "code",
   "execution_count": 15,
   "metadata": {
    "collapsed": true
   },
   "outputs": [],
   "source": [
    "def move_bike(n):\n",
    "    bikeshare.olin -= n\n",
    "    bikeshare.wellesley += n"
   ]
  },
  {
   "cell_type": "markdown",
   "metadata": {},
   "source": [
    "Now we can use `move_bike` to write simpler versions of the other functions."
   ]
  },
  {
   "cell_type": "code",
   "execution_count": 16,
   "metadata": {
    "collapsed": true
   },
   "outputs": [],
   "source": [
    "def bike_to_wellesley():\n",
    "    move_bike(1)\n",
    "    \n",
    "def bike_to_olin():\n",
    "    move_bike(-1)"
   ]
  },
  {
   "cell_type": "markdown",
   "metadata": {},
   "source": [
    "When we define these functions, we replace the old definitions with the new ones.\n",
    "\n",
    "Now we can test them and update the figure."
   ]
  },
  {
   "cell_type": "code",
   "execution_count": 17,
   "metadata": {},
   "outputs": [
    {
     "data": {
      "text/html": [
       "<div>\n",
       "<style>\n",
       "    .dataframe thead tr:only-child th {\n",
       "        text-align: right;\n",
       "    }\n",
       "\n",
       "    .dataframe thead th {\n",
       "        text-align: left;\n",
       "    }\n",
       "\n",
       "    .dataframe tbody tr th {\n",
       "        vertical-align: top;\n",
       "    }\n",
       "</style>\n",
       "<table border=\"1\" class=\"dataframe\">\n",
       "  <thead>\n",
       "    <tr style=\"text-align: right;\">\n",
       "      <th></th>\n",
       "      <th>value</th>\n",
       "    </tr>\n",
       "  </thead>\n",
       "  <tbody>\n",
       "    <tr>\n",
       "      <th>olin</th>\n",
       "      <td>9</td>\n",
       "    </tr>\n",
       "    <tr>\n",
       "      <th>wellesley</th>\n",
       "      <td>3</td>\n",
       "    </tr>\n",
       "  </tbody>\n",
       "</table>\n",
       "</div>"
      ],
      "text/plain": [
       "olin         9\n",
       "wellesley    3\n",
       "dtype: int64"
      ]
     },
     "execution_count": 17,
     "metadata": {},
     "output_type": "execute_result"
    },
    {
     "data": {
      "image/png": "[encoded data removed]",
      "text/plain": [
       "<matplotlib.figure.Figure at 0x1a69dca62e8>"
      ]
     },
     "metadata": {},
     "output_type": "display_data"
    }
   ],
   "source": [
    "bike_to_wellesley()\n",
    "plot_state()\n",
    "bikeshare"
   ]
  },
  {
   "cell_type": "markdown",
   "metadata": {},
   "source": [
    "Again, each time you run `plot_state` you should see changes in the figure."
   ]
  },
  {
   "cell_type": "code",
   "execution_count": 18,
   "metadata": {},
   "outputs": [
    {
     "data": {
      "text/html": [
       "<div>\n",
       "<style>\n",
       "    .dataframe thead tr:only-child th {\n",
       "        text-align: right;\n",
       "    }\n",
       "\n",
       "    .dataframe thead th {\n",
       "        text-align: left;\n",
       "    }\n",
       "\n",
       "    .dataframe tbody tr th {\n",
       "        vertical-align: top;\n",
       "    }\n",
       "</style>\n",
       "<table border=\"1\" class=\"dataframe\">\n",
       "  <thead>\n",
       "    <tr style=\"text-align: right;\">\n",
       "      <th></th>\n",
       "      <th>value</th>\n",
       "    </tr>\n",
       "  </thead>\n",
       "  <tbody>\n",
       "    <tr>\n",
       "      <th>olin</th>\n",
       "      <td>10</td>\n",
       "    </tr>\n",
       "    <tr>\n",
       "      <th>wellesley</th>\n",
       "      <td>2</td>\n",
       "    </tr>\n",
       "  </tbody>\n",
       "</table>\n",
       "</div>"
      ],
      "text/plain": [
       "olin         10\n",
       "wellesley     2\n",
       "dtype: int64"
      ]
     },
     "execution_count": 18,
     "metadata": {},
     "output_type": "execute_result"
    },
    {
     "data": {
      "image/png": "[encoded data removed]",
      "text/plain": [
       "<matplotlib.figure.Figure at 0x1a69dd2a198>"
      ]
     },
     "metadata": {},
     "output_type": "display_data"
    }
   ],
   "source": [
    "bike_to_olin()\n",
    "plot_state()\n",
    "bikeshare"
   ]
  },
  {
   "cell_type": "markdown",
   "metadata": {},
   "source": [
    "At this point, `move_bike` is complicated enough that we should add some documentation.  The text in triple-quotation marks is in English, not Python.  It doesn't do anything when the program runs, but it helps people understand what this function does and how to use it."
   ]
  },
  {
   "cell_type": "code",
   "execution_count": 19,
   "metadata": {
    "collapsed": true
   },
   "outputs": [],
   "source": [
    "def move_bike(n):\n",
    "    \"\"\"Move bikes.\n",
    "    \n",
    "    n: number of bikes: positive moves from Olin to Wellesley;\n",
    "                        negative moves from Wellesley to Olin\n",
    "    \"\"\"\n",
    "    bikeshare.olin -= n\n",
    "    bikeshare.wellesley += n"
   ]
  },
  {
   "cell_type": "markdown",
   "metadata": {},
   "source": [
    "Whenever you make a figure, you should put labels on the axes to explain what they mean and what units they are measured in.  Here's how:"
   ]
  },
  {
   "cell_type": "code",
   "execution_count": 20,
   "metadata": {},
   "outputs": [
    {
     "data": {
      "image/png": "[encoded data removed]",
      "text/plain": [
       "<matplotlib.figure.Figure at 0x1a69ddc8b00>"
      ]
     },
     "metadata": {},
     "output_type": "display_data"
    }
   ],
   "source": [
    "label_axes(title='Olin-Wellesley Bikeshare',\n",
    "           xlabel='Time step (min)', \n",
    "           ylabel='Number of bikes')"
   ]
  },
  {
   "cell_type": "markdown",
   "metadata": {},
   "source": [
    "Again, you might have to scroll up to see the effect.\n",
    "\n",
    "And you can save figures as files; the suffix of the filename indicates the format you want.  This example saves the current figure in a PDF file."
   ]
  },
  {
   "cell_type": "code",
   "execution_count": 32,
   "metadata": {
    "collapsed": true
   },
   "outputs": [],
   "source": [
    "savefig('chap01_fig01.pdf')"
   ]
  },
  {
   "cell_type": "markdown",
   "metadata": {},
   "source": [
    "**Exercise:** The following function definitions start with print statements so they display messages when they run.  Run each of these functions (with appropriate arguments) and confirm that they do what you expect.\n",
    "\n",
    "Adding print statements like this to functions is a useful debugging technique.  Keep it in mind!"
   ]
  },
  {
   "cell_type": "code",
   "execution_count": 21,
   "metadata": {
    "collapsed": true
   },
   "outputs": [],
   "source": [
    "def move_bike_debug(n):\n",
    "    print('Running move_bike_debug with argument', n)\n",
    "    bikeshare.olin -= n\n",
    "    bikeshare.wellesley += n\n",
    "    \n",
    "def bike_to_wellesley_debug():\n",
    "    print('Running bike_to_wellesley_debug')\n",
    "    move_bike_debug(1)\n",
    "    \n",
    "def bike_to_olin_debug():\n",
    "    print('Running bike_to_olin_debug')\n",
    "    move_bike_debug(-1)\n"
   ]
  },
  {
   "cell_type": "code",
   "execution_count": 22,
   "metadata": {},
   "outputs": [
    {
     "name": "stdout",
     "output_type": "stream",
     "text": [
      "Running move_bike_debug with argument 1\n",
      "olin         9\n",
      "wellesley    3\n",
      "dtype: int64\n"
     ]
    }
   ],
   "source": [
    "# Solution goes here\n",
    "move_bike_debug(1)\n",
    "print(bikeshare)"
   ]
  },
  {
   "cell_type": "code",
   "execution_count": 23,
   "metadata": {},
   "outputs": [
    {
     "name": "stdout",
     "output_type": "stream",
     "text": [
      "Running bike_to_wellesley_debug\n",
      "Running move_bike_debug with argument 1\n",
      "olin         8\n",
      "wellesley    4\n",
      "dtype: int64\n"
     ]
    }
   ],
   "source": [
    "# Solution goes here\n",
    "bike_to_wellesley_debug()\n",
    "print(bikeshare)"
   ]
  },
  {
   "cell_type": "code",
   "execution_count": 24,
   "metadata": {},
   "outputs": [
    {
     "name": "stdout",
     "output_type": "stream",
     "text": [
      "Running bike_to_olin_debug\n",
      "Running move_bike_debug with argument -1\n",
      "olin         9\n",
      "wellesley    3\n",
      "dtype: int64\n"
     ]
    }
   ],
   "source": [
    "# Solution goes here\n",
    "bike_to_olin_debug()\n",
    "print(bikeshare)"
   ]
  },
  {
   "cell_type": "markdown",
   "metadata": {},
   "source": [
    "## Conditionals"
   ]
  },
  {
   "cell_type": "markdown",
   "metadata": {},
   "source": [
    "The function `flip` takes a probability and returns either `True` or `False`, which are special values defined by Python.\n",
    "\n",
    "In the following example, the probability is 0.7 or 70%.  If you run this cell several times, you should get `True` about 70% of the time and `False` about 30%."
   ]
  },
  {
   "cell_type": "code",
   "execution_count": 25,
   "metadata": {},
   "outputs": [
    {
     "data": {
      "text/plain": [
       "False"
      ]
     },
     "execution_count": 25,
     "metadata": {},
     "output_type": "execute_result"
    }
   ],
   "source": [
    "flip(0.7)"
   ]
  },
  {
   "cell_type": "markdown",
   "metadata": {},
   "source": [
    "Modify the argument in the previous cell and see what effect it has.\n",
    "\n",
    "In the following example, we use `flip` as part of an if statement.  If the result from `flip` is `True`, we print `heads`; otherwise we do nothing."
   ]
  },
  {
   "cell_type": "code",
   "execution_count": 26,
   "metadata": {},
   "outputs": [
    {
     "name": "stdout",
     "output_type": "stream",
     "text": [
      "heads\n"
     ]
    }
   ],
   "source": [
    "if flip(0.7):\n",
    "    print('heads')"
   ]
  },
  {
   "cell_type": "markdown",
   "metadata": {},
   "source": [
    "With an else clause, we can print heads or tails depending on whether `flip` returns `True` or `False`."
   ]
  },
  {
   "cell_type": "code",
   "execution_count": 27,
   "metadata": {},
   "outputs": [
    {
     "name": "stdout",
     "output_type": "stream",
     "text": [
      "heads\n"
     ]
    }
   ],
   "source": [
    "if flip(0.7):\n",
    "    print('heads')\n",
    "else:\n",
    "    print('tails')"
   ]
  },
  {
   "cell_type": "markdown",
   "metadata": {},
   "source": [
    "Now let's get back to the bikeshare system.  Again let's start with a new `System` object and a new plot."
   ]
  },
  {
   "cell_type": "code",
   "execution_count": 28,
   "metadata": {},
   "outputs": [
    {
     "data": {
      "image/png": "[encoded data removed]",
      "text/plain": [
       "<matplotlib.figure.Figure at 0x1a69ddc82e8>"
      ]
     },
     "metadata": {},
     "output_type": "display_data"
    }
   ],
   "source": [
    "bikeshare = System(olin=10, wellesley=2)\n",
    "newfig()\n",
    "plot_state()"
   ]
  },
  {
   "cell_type": "markdown",
   "metadata": {},
   "source": [
    "Suppose that in any given minute, there is a 70% chance that a student picks up a bike at Olin and rides to Wellesley.  We can simulate that like this."
   ]
  },
  {
   "cell_type": "code",
   "execution_count": 29,
   "metadata": {},
   "outputs": [
    {
     "name": "stdout",
     "output_type": "stream",
     "text": [
      "Moving a bike to Wellesley\n"
     ]
    },
    {
     "data": {
      "text/html": [
       "<div>\n",
       "<style>\n",
       "    .dataframe thead tr:only-child th {\n",
       "        text-align: right;\n",
       "    }\n",
       "\n",
       "    .dataframe thead th {\n",
       "        text-align: left;\n",
       "    }\n",
       "\n",
       "    .dataframe tbody tr th {\n",
       "        vertical-align: top;\n",
       "    }\n",
       "</style>\n",
       "<table border=\"1\" class=\"dataframe\">\n",
       "  <thead>\n",
       "    <tr style=\"text-align: right;\">\n",
       "      <th></th>\n",
       "      <th>value</th>\n",
       "    </tr>\n",
       "  </thead>\n",
       "  <tbody>\n",
       "    <tr>\n",
       "      <th>olin</th>\n",
       "      <td>9</td>\n",
       "    </tr>\n",
       "    <tr>\n",
       "      <th>wellesley</th>\n",
       "      <td>3</td>\n",
       "    </tr>\n",
       "  </tbody>\n",
       "</table>\n",
       "</div>"
      ],
      "text/plain": [
       "olin         9\n",
       "wellesley    3\n",
       "dtype: int64"
      ]
     },
     "execution_count": 29,
     "metadata": {},
     "output_type": "execute_result"
    },
    {
     "data": {
      "image/png": "[encoded data removed]",
      "text/plain": [
       "<matplotlib.figure.Figure at 0x1a69df334a8>"
      ]
     },
     "metadata": {},
     "output_type": "display_data"
    }
   ],
   "source": [
    "if flip(0.7):\n",
    "    bike_to_wellesley()\n",
    "    print('Moving a bike to Wellesley')\n",
    "\n",
    "plot_state()\n",
    "bikeshare"
   ]
  },
  {
   "cell_type": "markdown",
   "metadata": {},
   "source": [
    "And maybe at the same time, there is also a 60% chance that a student at Wellesley rides to Olin."
   ]
  },
  {
   "cell_type": "code",
   "execution_count": 30,
   "metadata": {},
   "outputs": [
    {
     "data": {
      "text/html": [
       "<div>\n",
       "<style>\n",
       "    .dataframe thead tr:only-child th {\n",
       "        text-align: right;\n",
       "    }\n",
       "\n",
       "    .dataframe thead th {\n",
       "        text-align: left;\n",
       "    }\n",
       "\n",
       "    .dataframe tbody tr th {\n",
       "        vertical-align: top;\n",
       "    }\n",
       "</style>\n",
       "<table border=\"1\" class=\"dataframe\">\n",
       "  <thead>\n",
       "    <tr style=\"text-align: right;\">\n",
       "      <th></th>\n",
       "      <th>value</th>\n",
       "    </tr>\n",
       "  </thead>\n",
       "  <tbody>\n",
       "    <tr>\n",
       "      <th>olin</th>\n",
       "      <td>9</td>\n",
       "    </tr>\n",
       "    <tr>\n",
       "      <th>wellesley</th>\n",
       "      <td>3</td>\n",
       "    </tr>\n",
       "  </tbody>\n",
       "</table>\n",
       "</div>"
      ],
      "text/plain": [
       "olin         9\n",
       "wellesley    3\n",
       "dtype: int64"
      ]
     },
     "execution_count": 30,
     "metadata": {},
     "output_type": "execute_result"
    },
    {
     "data": {
      "image/png": "[encoded data removed]",
      "text/plain": [
       "<matplotlib.figure.Figure at 0x1a69dfb9898>"
      ]
     },
     "metadata": {},
     "output_type": "display_data"
    }
   ],
   "source": [
    "if flip(0.6):\n",
    "    bike_to_olin()\n",
    "    print('Moving a bike to Olin')\n",
    "\n",
    "plot_state()\n",
    "bikeshare"
   ]
  },
  {
   "cell_type": "markdown",
   "metadata": {},
   "source": [
    "We can wrap that code in a function called `step` that simulates one time step.  In any given minute, a student might ride from Olin to Wellesley, from Wellesley to Olin, or both, or neither, depending on the results of `flip`."
   ]
  },
  {
   "cell_type": "code",
   "execution_count": 31,
   "metadata": {
    "collapsed": true
   },
   "outputs": [],
   "source": [
    "def step():\n",
    "    if flip(0.7):\n",
    "        bike_to_wellesley()\n",
    "        print('Moving a bike to Wellesley')\n",
    "        \n",
    "    if flip(0.6):\n",
    "        bike_to_olin()\n",
    "        print('Moving a bike to Olin')"
   ]
  },
  {
   "cell_type": "markdown",
   "metadata": {},
   "source": [
    "If you run `step` a few times, it should update the current figure.  In each time step, the number of bikes at each location might go up, down, or stay the same."
   ]
  },
  {
   "cell_type": "code",
   "execution_count": 32,
   "metadata": {},
   "outputs": [
    {
     "data": {
      "text/html": [
       "<div>\n",
       "<style>\n",
       "    .dataframe thead tr:only-child th {\n",
       "        text-align: right;\n",
       "    }\n",
       "\n",
       "    .dataframe thead th {\n",
       "        text-align: left;\n",
       "    }\n",
       "\n",
       "    .dataframe tbody tr th {\n",
       "        vertical-align: top;\n",
       "    }\n",
       "</style>\n",
       "<table border=\"1\" class=\"dataframe\">\n",
       "  <thead>\n",
       "    <tr style=\"text-align: right;\">\n",
       "      <th></th>\n",
       "      <th>value</th>\n",
       "    </tr>\n",
       "  </thead>\n",
       "  <tbody>\n",
       "    <tr>\n",
       "      <th>olin</th>\n",
       "      <td>9</td>\n",
       "    </tr>\n",
       "    <tr>\n",
       "      <th>wellesley</th>\n",
       "      <td>3</td>\n",
       "    </tr>\n",
       "  </tbody>\n",
       "</table>\n",
       "</div>"
      ],
      "text/plain": [
       "olin         9\n",
       "wellesley    3\n",
       "dtype: int64"
      ]
     },
     "execution_count": 32,
     "metadata": {},
     "output_type": "execute_result"
    },
    {
     "data": {
      "image/png": "[encoded data removed]",
      "text/plain": [
       "<matplotlib.figure.Figure at 0x1a69e00dfd0>"
      ]
     },
     "metadata": {},
     "output_type": "display_data"
    }
   ],
   "source": [
    "step()\n",
    "plot_state()\n",
    "bikeshare"
   ]
  },
  {
   "cell_type": "markdown",
   "metadata": {},
   "source": [
    "The following function labels the axes and adds a legend to the figure."
   ]
  },
  {
   "cell_type": "code",
   "execution_count": 33,
   "metadata": {
    "collapsed": true
   },
   "outputs": [],
   "source": [
    "def decorate():  \n",
    "    legend(loc='best')\n",
    "    label_axes(title='Olin-Wellesley Bikeshare',\n",
    "               xlabel='Time step (min)', \n",
    "               ylabel='Number of bikes')"
   ]
  },
  {
   "cell_type": "markdown",
   "metadata": {},
   "source": [
    "As always, when you define a function, it has no effect until you run it."
   ]
  },
  {
   "cell_type": "code",
   "execution_count": 34,
   "metadata": {},
   "outputs": [
    {
     "name": "stderr",
     "output_type": "stream",
     "text": [
      "C:\\ProgramData\\Miniconda3\\lib\\site-packages\\matplotlib\\axes\\_axes.py:545: UserWarning: No labelled objects found. Use label='...' kwarg on individual plots.\n",
      "  warnings.warn(\"No labelled objects found. \"\n"
     ]
    },
    {
     "data": {
      "image/png": "[encoded data removed]",
      "text/plain": [
       "<matplotlib.figure.Figure at 0x1a69dea2cf8>"
      ]
     },
     "metadata": {},
     "output_type": "display_data"
    }
   ],
   "source": [
    "decorate()"
   ]
  },
  {
   "cell_type": "markdown",
   "metadata": {},
   "source": [
    "**Exercise:**  Change the argument of `legend` to `'random string'` and run `decorate` again.  You should get an error message that lists the valid location where you can put the legend."
   ]
  },
  {
   "cell_type": "code",
   "execution_count": 72,
   "metadata": {},
   "outputs": [
    {
     "data": {
      "application/javascript": [
       "/* Put everything inside the global mpl namespace */\n",
       "window.mpl = {};\n",
       "\n",
       "\n",
       "mpl.get_websocket_type = function() {\n",
       "    if (typeof(WebSocket) !== 'undefined') {\n",
       "        return WebSocket;\n",
       "    } else if (typeof(MozWebSocket) !== 'undefined') {\n",
       "        return MozWebSocket;\n",
       "    } else {\n",
       "        alert('Your browser does not have WebSocket support.' +\n",
       "              'Please try Chrome, Safari or Firefox ≥ 6. ' +\n",
       "              'Firefox 4 and 5 are also supported but you ' +\n",
       "              'have to enable WebSockets in about:config.');\n",
       "    };\n",
       "}\n",
       "\n",
       "mpl.figure = function(figure_id, websocket, ondownload, parent_element) {\n",
       "    this.id = figure_id;\n",
       "\n",
       "    this.ws = websocket;\n",
       "\n",
       "    this.supports_binary = (this.ws.binaryType != undefined);\n",
       "\n",
       "    if (!this.supports_binary) {\n",
       "        var warnings = document.getElementById(\"mpl-warnings\");\n",
       "        if (warnings) {\n",
       "            warnings.style.display = 'block';\n",
       "            warnings.textContent = (\n",
       "                \"This browser does not support binary websocket messages. \" +\n",
       "                    \"Performance may be slow.\");\n",
       "        }\n",
       "    }\n",
       "\n",
       "    this.imageObj = new Image();\n",
       "\n",
       "    this.context = undefined;\n",
       "    this.message = undefined;\n",
       "    this.canvas = undefined;\n",
       "    this.rubberband_canvas = undefined;\n",
       "    this.rubberband_context = undefined;\n",
       "    this.format_dropdown = undefined;\n",
       "\n",
       "    this.image_mode = 'full';\n",
       "\n",
       "    this.root = $('<div/>');\n",
       "    this._root_extra_style(this.root)\n",
       "    this.root.attr('style', 'display: inline-block');\n",
       "\n",
       "    $(parent_element).append(this.root);\n",
       "\n",
       "    this._init_header(this);\n",
       "    this._init_canvas(this);\n",
       "    this._init_toolbar(this);\n",
       "\n",
       "    var fig = this;\n",
       "\n",
       "    this.waiting = false;\n",
       "\n",
       "    this.ws.onopen =  function () {\n",
       "            fig.send_message(\"supports_binary\", {value: fig.supports_binary});\n",
       "            fig.send_message(\"send_image_mode\", {});\n",
       "            if (mpl.ratio != 1) {\n",
       "                fig.send_message(\"set_dpi_ratio\", {'dpi_ratio': mpl.ratio});\n",
       "            }\n",
       "            fig.send_message(\"refresh\", {});\n",
       "        }\n",
       "\n",
       "    this.imageObj.onload = function() {\n",
       "            if (fig.image_mode == 'full') {\n",
       "                // Full images could contain transparency (where diff images\n",
       "                // almost always do), so we need to clear the canvas so that\n",
       "                // there is no ghosting.\n",
       "                fig.context.clearRect(0, 0, fig.canvas.width, fig.canvas.height);\n",
       "            }\n",
       "            fig.context.drawImage(fig.imageObj, 0, 0);\n",
       "        };\n",
       "\n",
       "    this.imageObj.onunload = function() {\n",
       "        this.ws.close();\n",
       "    }\n",
       "\n",
       "    this.ws.onmessage = this._make_on_message_function(this);\n",
       "\n",
       "    this.ondownload = ondownload;\n",
       "}\n",
       "\n",
       "mpl.figure.prototype._init_header = function() {\n",
       "    var titlebar = $(\n",
       "        '<div class=\"ui-dialog-titlebar ui-widget-header ui-corner-all ' +\n",
       "        'ui-helper-clearfix\"/>');\n",
       "    var titletext = $(\n",
       "        '<div class=\"ui-dialog-title\" style=\"width: 100%; ' +\n",
       "        'text-align: center; padding: 3px;\"/>');\n",
       "    titlebar.append(titletext)\n",
       "    this.root.append(titlebar);\n",
       "    this.header = titletext[0];\n",
       "}\n",
       "\n",
       "\n",
       "\n",
       "mpl.figure.prototype._canvas_extra_style = function(canvas_div) {\n",
       "\n",
       "}\n",
       "\n",
       "\n",
       "mpl.figure.prototype._root_extra_style = function(canvas_div) {\n",
       "\n",
       "}\n",
       "\n",
       "mpl.figure.prototype._init_canvas = function() {\n",
       "    var fig = this;\n",
       "\n",
       "    var canvas_div = $('<div/>');\n",
       "\n",
       "    canvas_div.attr('style', 'position: relative; clear: both; outline: 0');\n",
       "\n",
       "    function canvas_keyboard_event(event) {\n",
       "        return fig.key_event(event, event['data']);\n",
       "    }\n",
       "\n",
       "    canvas_div.keydown('key_press', canvas_keyboard_event);\n",
       "    canvas_div.keyup('key_release', canvas_keyboard_event);\n",
       "    this.canvas_div = canvas_div\n",
       "    this._canvas_extra_style(canvas_div)\n",
       "    this.root.append(canvas_div);\n",
       "\n",
       "    var canvas = $('<canvas/>');\n",
       "    canvas.addClass('mpl-canvas');\n",
       "    canvas.attr('style', \"left: 0; top: 0; z-index: 0; outline: 0\")\n",
       "\n",
       "    this.canvas = canvas[0];\n",
       "    this.context = canvas[0].getContext(\"2d\");\n",
       "\n",
       "    var backingStore = this.context.backingStorePixelRatio ||\n",
       "\tthis.context.webkitBackingStorePixelRatio ||\n",
       "\tthis.context.mozBackingStorePixelRatio ||\n",
       "\tthis.context.msBackingStorePixelRatio ||\n",
       "\tthis.context.oBackingStorePixelRatio ||\n",
       "\tthis.context.backingStorePixelRatio || 1;\n",
       "\n",
       "    mpl.ratio = (window.devicePixelRatio || 1) / backingStore;\n",
       "\n",
       "    var rubberband = $('<canvas/>');\n",
       "    rubberband.attr('style', \"position: absolute; left: 0; top: 0; z-index: 1;\")\n",
       "\n",
       "    var pass_mouse_events = true;\n",
       "\n",
       "    canvas_div.resizable({\n",
       "        start: function(event, ui) {\n",
       "            pass_mouse_events = false;\n",
       "        },\n",
       "        resize: function(event, ui) {\n",
       "            fig.request_resize(ui.size.width, ui.size.height);\n",
       "        },\n",
       "        stop: function(event, ui) {\n",
       "            pass_mouse_events = true;\n",
       "            fig.request_resize(ui.size.width, ui.size.height);\n",
       "        },\n",
       "    });\n",
       "\n",
       "    function mouse_event_fn(event) {\n",
       "        if (pass_mouse_events)\n",
       "            return fig.mouse_event(event, event['data']);\n",
       "    }\n",
       "\n",
       "    rubberband.mousedown('button_press', mouse_event_fn);\n",
       "    rubberband.mouseup('button_release', mouse_event_fn);\n",
       "    // Throttle sequential mouse events to 1 every 20ms.\n",
       "    rubberband.mousemove('motion_notify', mouse_event_fn);\n",
       "\n",
       "    rubberband.mouseenter('figure_enter', mouse_event_fn);\n",
       "    rubberband.mouseleave('figure_leave', mouse_event_fn);\n",
       "\n",
       "    canvas_div.on(\"wheel\", function (event) {\n",
       "        event = event.originalEvent;\n",
       "        event['data'] = 'scroll'\n",
       "        if (event.deltaY < 0) {\n",
       "            event.step = 1;\n",
       "        } else {\n",
       "            event.step = -1;\n",
       "        }\n",
       "        mouse_event_fn(event);\n",
       "    });\n",
       "\n",
       "    canvas_div.append(canvas);\n",
       "    canvas_div.append(rubberband);\n",
       "\n",
       "    this.rubberband = rubberband;\n",
       "    this.rubberband_canvas = rubberband[0];\n",
       "    this.rubberband_context = rubberband[0].getContext(\"2d\");\n",
       "    this.rubberband_context.strokeStyle = \"#000000\";\n",
       "\n",
       "    this._resize_canvas = function(width, height) {\n",
       "        // Keep the size of the canvas, canvas container, and rubber band\n",
       "        // canvas in synch.\n",
       "        canvas_div.css('width', width)\n",
       "        canvas_div.css('height', height)\n",
       "\n",
       "        canvas.attr('width', width * mpl.ratio);\n",
       "        canvas.attr('height', height * mpl.ratio);\n",
       "        canvas.attr('style', 'width: ' + width + 'px; height: ' + height + 'px;');\n",
       "\n",
       "        rubberband.attr('width', width);\n",
       "        rubberband.attr('height', height);\n",
       "    }\n",
       "\n",
       "    // Set the figure to an initial 600x600px, this will subsequently be updated\n",
       "    // upon first draw.\n",
       "    this._resize_canvas(600, 600);\n",
       "\n",
       "    // Disable right mouse context menu.\n",
       "    $(this.rubberband_canvas).bind(\"contextmenu\",function(e){\n",
       "        return false;\n",
       "    });\n",
       "\n",
       "    function set_focus () {\n",
       "        canvas.focus();\n",
       "        canvas_div.focus();\n",
       "    }\n",
       "\n",
       "    window.setTimeout(set_focus, 100);\n",
       "}\n",
       "\n",
       "mpl.figure.prototype._init_toolbar = function() {\n",
       "    var fig = this;\n",
       "\n",
       "    var nav_element = $('<div/>')\n",
       "    nav_element.attr('style', 'width: 100%');\n",
       "    this.root.append(nav_element);\n",
       "\n",
       "    // Define a callback function for later on.\n",
       "    function toolbar_event(event) {\n",
       "        return fig.toolbar_button_onclick(event['data']);\n",
       "    }\n",
       "    function toolbar_mouse_event(event) {\n",
       "        return fig.toolbar_button_onmouseover(event['data']);\n",
       "    }\n",
       "\n",
       "    for(var toolbar_ind in mpl.toolbar_items) {\n",
       "        var name = mpl.toolbar_items[toolbar_ind][0];\n",
       "        var tooltip = mpl.toolbar_items[toolbar_ind][1];\n",
       "        var image = mpl.toolbar_items[toolbar_ind][2];\n",
       "        var method_name = mpl.toolbar_items[toolbar_ind][3];\n",
       "\n",
       "        if (!name) {\n",
       "            // put a spacer in here.\n",
       "            continue;\n",
       "        }\n",
       "        var button = $('<button/>');\n",
       "        button.addClass('ui-button ui-widget ui-state-default ui-corner-all ' +\n",
       "                        'ui-button-icon-only');\n",
       "        button.attr('role', 'button');\n",
       "        button.attr('aria-disabled', 'false');\n",
       "        button.click(method_name, toolbar_event);\n",
       "        button.mouseover(tooltip, toolbar_mouse_event);\n",
       "\n",
       "        var icon_img = $('<span/>');\n",
       "        icon_img.addClass('ui-button-icon-primary ui-icon');\n",
       "        icon_img.addClass(image);\n",
       "        icon_img.addClass('ui-corner-all');\n",
       "\n",
       "        var tooltip_span = $('<span/>');\n",
       "        tooltip_span.addClass('ui-button-text');\n",
       "        tooltip_span.html(tooltip);\n",
       "\n",
       "        button.append(icon_img);\n",
       "        button.append(tooltip_span);\n",
       "\n",
       "        nav_element.append(button);\n",
       "    }\n",
       "\n",
       "    var fmt_picker_span = $('<span/>');\n",
       "\n",
       "    var fmt_picker = $('<select/>');\n",
       "    fmt_picker.addClass('mpl-toolbar-option ui-widget ui-widget-content');\n",
       "    fmt_picker_span.append(fmt_picker);\n",
       "    nav_element.append(fmt_picker_span);\n",
       "    this.format_dropdown = fmt_picker[0];\n",
       "\n",
       "    for (var ind in mpl.extensions) {\n",
       "        var fmt = mpl.extensions[ind];\n",
       "        var option = $(\n",
       "            '<option/>', {selected: fmt === mpl.default_extension}).html(fmt);\n",
       "        fmt_picker.append(option)\n",
       "    }\n",
       "\n",
       "    // Add hover states to the ui-buttons\n",
       "    $( \".ui-button\" ).hover(\n",
       "        function() { $(this).addClass(\"ui-state-hover\");},\n",
       "        function() { $(this).removeClass(\"ui-state-hover\");}\n",
       "    );\n",
       "\n",
       "    var status_bar = $('<span class=\"mpl-message\"/>');\n",
       "    nav_element.append(status_bar);\n",
       "    this.message = status_bar[0];\n",
       "}\n",
       "\n",
       "mpl.figure.prototype.request_resize = function(x_pixels, y_pixels) {\n",
       "    // Request matplotlib to resize the figure. Matplotlib will then trigger a resize in the client,\n",
       "    // which will in turn request a refresh of the image.\n",
       "    this.send_message('resize', {'width': x_pixels, 'height': y_pixels});\n",
       "}\n",
       "\n",
       "mpl.figure.prototype.send_message = function(type, properties) {\n",
       "    properties['type'] = type;\n",
       "    properties['figure_id'] = this.id;\n",
       "    this.ws.send(JSON.stringify(properties));\n",
       "}\n",
       "\n",
       "mpl.figure.prototype.send_draw_message = function() {\n",
       "    if (!this.waiting) {\n",
       "        this.waiting = true;\n",
       "        this.ws.send(JSON.stringify({type: \"draw\", figure_id: this.id}));\n",
       "    }\n",
       "}\n",
       "\n",
       "\n",
       "mpl.figure.prototype.handle_save = function(fig, msg) {\n",
       "    var format_dropdown = fig.format_dropdown;\n",
       "    var format = format_dropdown.options[format_dropdown.selectedIndex].value;\n",
       "    fig.ondownload(fig, format);\n",
       "}\n",
       "\n",
       "\n",
       "mpl.figure.prototype.handle_resize = function(fig, msg) {\n",
       "    var size = msg['size'];\n",
       "    if (size[0] != fig.canvas.width || size[1] != fig.canvas.height) {\n",
       "        fig._resize_canvas(size[0], size[1]);\n",
       "        fig.send_message(\"refresh\", {});\n",
       "    };\n",
       "}\n",
       "\n",
       "mpl.figure.prototype.handle_rubberband = function(fig, msg) {\n",
       "    var x0 = msg['x0'] / mpl.ratio;\n",
       "    var y0 = (fig.canvas.height - msg['y0']) / mpl.ratio;\n",
       "    var x1 = msg['x1'] / mpl.ratio;\n",
       "    var y1 = (fig.canvas.height - msg['y1']) / mpl.ratio;\n",
       "    x0 = Math.floor(x0) + 0.5;\n",
       "    y0 = Math.floor(y0) + 0.5;\n",
       "    x1 = Math.floor(x1) + 0.5;\n",
       "    y1 = Math.floor(y1) + 0.5;\n",
       "    var min_x = Math.min(x0, x1);\n",
       "    var min_y = Math.min(y0, y1);\n",
       "    var width = Math.abs(x1 - x0);\n",
       "    var height = Math.abs(y1 - y0);\n",
       "\n",
       "    fig.rubberband_context.clearRect(\n",
       "        0, 0, fig.canvas.width, fig.canvas.height);\n",
       "\n",
       "    fig.rubberband_context.strokeRect(min_x, min_y, width, height);\n",
       "}\n",
       "\n",
       "mpl.figure.prototype.handle_figure_label = function(fig, msg) {\n",
       "    // Updates the figure title.\n",
       "    fig.header.textContent = msg['label'];\n",
       "}\n",
       "\n",
       "mpl.figure.prototype.handle_cursor = function(fig, msg) {\n",
       "    var cursor = msg['cursor'];\n",
       "    switch(cursor)\n",
       "    {\n",
       "    case 0:\n",
       "        cursor = 'pointer';\n",
       "        break;\n",
       "    case 1:\n",
       "        cursor = 'default';\n",
       "        break;\n",
       "    case 2:\n",
       "        cursor = 'crosshair';\n",
       "        break;\n",
       "    case 3:\n",
       "        cursor = 'move';\n",
       "        break;\n",
       "    }\n",
       "    fig.rubberband_canvas.style.cursor = cursor;\n",
       "}\n",
       "\n",
       "mpl.figure.prototype.handle_message = function(fig, msg) {\n",
       "    fig.message.textContent = msg['message'];\n",
       "}\n",
       "\n",
       "mpl.figure.prototype.handle_draw = function(fig, msg) {\n",
       "    // Request the server to send over a new figure.\n",
       "    fig.send_draw_message();\n",
       "}\n",
       "\n",
       "mpl.figure.prototype.handle_image_mode = function(fig, msg) {\n",
       "    fig.image_mode = msg['mode'];\n",
       "}\n",
       "\n",
       "mpl.figure.prototype.updated_canvas_event = function() {\n",
       "    // Called whenever the canvas gets updated.\n",
       "    this.send_message(\"ack\", {});\n",
       "}\n",
       "\n",
       "// A function to construct a web socket function for onmessage handling.\n",
       "// Called in the figure constructor.\n",
       "mpl.figure.prototype._make_on_message_function = function(fig) {\n",
       "    return function socket_on_message(evt) {\n",
       "        if (evt.data instanceof Blob) {\n",
       "            /* FIXME: We get \"Resource interpreted as Image but\n",
       "             * transferred with MIME type text/plain:\" errors on\n",
       "             * Chrome.  But how to set the MIME type?  It doesn't seem\n",
       "             * to be part of the websocket stream */\n",
       "            evt.data.type = \"image/png\";\n",
       "\n",
       "            /* Free the memory for the previous frames */\n",
       "            if (fig.imageObj.src) {\n",
       "                (window.URL || window.webkitURL).revokeObjectURL(\n",
       "                    fig.imageObj.src);\n",
       "            }\n",
       "\n",
       "            fig.imageObj.src = (window.URL || window.webkitURL).createObjectURL(\n",
       "                evt.data);\n",
       "            fig.updated_canvas_event();\n",
       "            fig.waiting = false;\n",
       "            return;\n",
       "        }\n",
       "        else if (typeof evt.data === 'string' && evt.data.slice(0, 21) == \"data:image/png;base64\") {\n",
       "            fig.imageObj.src = evt.data;\n",
       "            fig.updated_canvas_event();\n",
       "            fig.waiting = false;\n",
       "            return;\n",
       "        }\n",
       "\n",
       "        var msg = JSON.parse(evt.data);\n",
       "        var msg_type = msg['type'];\n",
       "\n",
       "        // Call the  \"handle_{type}\" callback, which takes\n",
       "        // the figure and JSON message as its only arguments.\n",
       "        try {\n",
       "            var callback = fig[\"handle_\" + msg_type];\n",
       "        } catch (e) {\n",
       "            console.log(\"No handler for the '\" + msg_type + \"' message type: \", msg);\n",
       "            return;\n",
       "        }\n",
       "\n",
       "        if (callback) {\n",
       "            try {\n",
       "                // console.log(\"Handling '\" + msg_type + \"' message: \", msg);\n",
       "                callback(fig, msg);\n",
       "            } catch (e) {\n",
       "                console.log(\"Exception inside the 'handler_\" + msg_type + \"' callback:\", e, e.stack, msg);\n",
       "            }\n",
       "        }\n",
       "    };\n",
       "}\n",
       "\n",
       "// from http://stackoverflow.com/questions/1114465/getting-mouse-location-in-canvas\n",
       "mpl.findpos = function(e) {\n",
       "    //this section is from http://www.quirksmode.org/js/events_properties.html\n",
       "    var targ;\n",
       "    if (!e)\n",
       "        e = window.event;\n",
       "    if (e.target)\n",
       "        targ = e.target;\n",
       "    else if (e.srcElement)\n",
       "        targ = e.srcElement;\n",
       "    if (targ.nodeType == 3) // defeat Safari bug\n",
       "        targ = targ.parentNode;\n",
       "\n",
       "    // jQuery normalizes the pageX and pageY\n",
       "    // pageX,Y are the mouse positions relative to the document\n",
       "    // offset() returns the position of the element relative to the document\n",
       "    var x = e.pageX - $(targ).offset().left;\n",
       "    var y = e.pageY - $(targ).offset().top;\n",
       "\n",
       "    return {\"x\": x, \"y\": y};\n",
       "};\n",
       "\n",
       "/*\n",
       " * return a copy of an object with only non-object keys\n",
       " * we need this to avoid circular references\n",
       " * http://stackoverflow.com/a/24161582/3208463\n",
       " */\n",
       "function simpleKeys (original) {\n",
       "  return Object.keys(original).reduce(function (obj, key) {\n",
       "    if (typeof original[key] !== 'object')\n",
       "        obj[key] = original[key]\n",
       "    return obj;\n",
       "  }, {});\n",
       "}\n",
       "\n",
       "mpl.figure.prototype.mouse_event = function(event, name) {\n",
       "    var canvas_pos = mpl.findpos(event)\n",
       "\n",
       "    if (name === 'button_press')\n",
       "    {\n",
       "        this.canvas.focus();\n",
       "        this.canvas_div.focus();\n",
       "    }\n",
       "\n",
       "    var x = canvas_pos.x * mpl.ratio;\n",
       "    var y = canvas_pos.y * mpl.ratio;\n",
       "\n",
       "    this.send_message(name, {x: x, y: y, button: event.button,\n",
       "                             step: event.step,\n",
       "                             guiEvent: simpleKeys(event)});\n",
       "\n",
       "    /* This prevents the web browser from automatically changing to\n",
       "     * the text insertion cursor when the button is pressed.  We want\n",
       "     * to control all of the cursor setting manually through the\n",
       "     * 'cursor' event from matplotlib */\n",
       "    event.preventDefault();\n",
       "    return false;\n",
       "}\n",
       "\n",
       "mpl.figure.prototype._key_event_extra = function(event, name) {\n",
       "    // Handle any extra behaviour associated with a key event\n",
       "}\n",
       "\n",
       "mpl.figure.prototype.key_event = function(event, name) {\n",
       "\n",
       "    // Prevent repeat events\n",
       "    if (name == 'key_press')\n",
       "    {\n",
       "        if (event.which === this._key)\n",
       "            return;\n",
       "        else\n",
       "            this._key = event.which;\n",
       "    }\n",
       "    if (name == 'key_release')\n",
       "        this._key = null;\n",
       "\n",
       "    var value = '';\n",
       "    if (event.ctrlKey && event.which != 17)\n",
       "        value += \"ctrl+\";\n",
       "    if (event.altKey && event.which != 18)\n",
       "        value += \"alt+\";\n",
       "    if (event.shiftKey && event.which != 16)\n",
       "        value += \"shift+\";\n",
       "\n",
       "    value += 'k';\n",
       "    value += event.which.toString();\n",
       "\n",
       "    this._key_event_extra(event, name);\n",
       "\n",
       "    this.send_message(name, {key: value,\n",
       "                             guiEvent: simpleKeys(event)});\n",
       "    return false;\n",
       "}\n",
       "\n",
       "mpl.figure.prototype.toolbar_button_onclick = function(name) {\n",
       "    if (name == 'download') {\n",
       "        this.handle_save(this, null);\n",
       "    } else {\n",
       "        this.send_message(\"toolbar_button\", {name: name});\n",
       "    }\n",
       "};\n",
       "\n",
       "mpl.figure.prototype.toolbar_button_onmouseover = function(tooltip) {\n",
       "    this.message.textContent = tooltip;\n",
       "};\n",
       "mpl.toolbar_items = [[\"Home\", \"Reset original view\", \"fa fa-home icon-home\", \"home\"], [\"Back\", \"Back to  previous view\", \"fa fa-arrow-left icon-arrow-left\", \"back\"], [\"Forward\", \"Forward to next view\", \"fa fa-arrow-right icon-arrow-right\", \"forward\"], [\"\", \"\", \"\", \"\"], [\"Pan\", \"Pan axes with left mouse, zoom with right\", \"fa fa-arrows icon-move\", \"pan\"], [\"Zoom\", \"Zoom to rectangle\", \"fa fa-square-o icon-check-empty\", \"zoom\"], [\"\", \"\", \"\", \"\"], [\"Download\", \"Download plot\", \"fa fa-floppy-o icon-save\", \"download\"]];\n",
       "\n",
       "mpl.extensions = [\"eps\", \"pdf\", \"png\", \"ps\", \"raw\", \"svg\"];\n",
       "\n",
       "mpl.default_extension = \"png\";var comm_websocket_adapter = function(comm) {\n",
       "    // Create a \"websocket\"-like object which calls the given IPython comm\n",
       "    // object with the appropriate methods. Currently this is a non binary\n",
       "    // socket, so there is still some room for performance tuning.\n",
       "    var ws = {};\n",
       "\n",
       "    ws.close = function() {\n",
       "        comm.close()\n",
       "    };\n",
       "    ws.send = function(m) {\n",
       "        //console.log('sending', m);\n",
       "        comm.send(m);\n",
       "    };\n",
       "    // Register the callback with on_msg.\n",
       "    comm.on_msg(function(msg) {\n",
       "        //console.log('receiving', msg['content']['data'], msg);\n",
       "        // Pass the mpl event to the overriden (by mpl) onmessage function.\n",
       "        ws.onmessage(msg['content']['data'])\n",
       "    });\n",
       "    return ws;\n",
       "}\n",
       "\n",
       "mpl.mpl_figure_comm = function(comm, msg) {\n",
       "    // This is the function which gets called when the mpl process\n",
       "    // starts-up an IPython Comm through the \"matplotlib\" channel.\n",
       "\n",
       "    var id = msg.content.data.id;\n",
       "    // Get hold of the div created by the display call when the Comm\n",
       "    // socket was opened in Python.\n",
       "    var element = $(\"#\" + id);\n",
       "    var ws_proxy = comm_websocket_adapter(comm)\n",
       "\n",
       "    function ondownload(figure, format) {\n",
       "        window.open(figure.imageObj.src);\n",
       "    }\n",
       "\n",
       "    var fig = new mpl.figure(id, ws_proxy,\n",
       "                           ondownload,\n",
       "                           element.get(0));\n",
       "\n",
       "    // Call onopen now - mpl needs it, as it is assuming we've passed it a real\n",
       "    // web socket which is closed, not our websocket->open comm proxy.\n",
       "    ws_proxy.onopen();\n",
       "\n",
       "    fig.parent_element = element.get(0);\n",
       "    fig.cell_info = mpl.find_output_cell(\"<div id='\" + id + \"'></div>\");\n",
       "    if (!fig.cell_info) {\n",
       "        console.error(\"Failed to find cell for figure\", id, fig);\n",
       "        return;\n",
       "    }\n",
       "\n",
       "    var output_index = fig.cell_info[2]\n",
       "    var cell = fig.cell_info[0];\n",
       "\n",
       "};\n",
       "\n",
       "mpl.figure.prototype.handle_close = function(fig, msg) {\n",
       "    var width = fig.canvas.width/mpl.ratio\n",
       "    fig.root.unbind('remove')\n",
       "\n",
       "    // Update the output cell to use the data from the current canvas.\n",
       "    fig.push_to_output();\n",
       "    var dataURL = fig.canvas.toDataURL();\n",
       "    // Re-enable the keyboard manager in IPython - without this line, in FF,\n",
       "    // the notebook keyboard shortcuts fail.\n",
       "    IPython.keyboard_manager.enable()\n",
       "    $(fig.parent_element).html('<img src=\"' + dataURL + '\" width=\"' + width + '\">');\n",
       "    fig.close_ws(fig, msg);\n",
       "}\n",
       "\n",
       "mpl.figure.prototype.close_ws = function(fig, msg){\n",
       "    fig.send_message('closing', msg);\n",
       "    // fig.ws.close()\n",
       "}\n",
       "\n",
       "mpl.figure.prototype.push_to_output = function(remove_interactive) {\n",
       "    // Turn the data on the canvas into data in the output cell.\n",
       "    var width = this.canvas.width/mpl.ratio\n",
       "    var dataURL = this.canvas.toDataURL();\n",
       "    this.cell_info[1]['text/html'] = '<img src=\"' + dataURL + '\" width=\"' + width + '\">';\n",
       "}\n",
       "\n",
       "mpl.figure.prototype.updated_canvas_event = function() {\n",
       "    // Tell IPython that the notebook contents must change.\n",
       "    IPython.notebook.set_dirty(true);\n",
       "    this.send_message(\"ack\", {});\n",
       "    var fig = this;\n",
       "    // Wait a second, then push the new image to the DOM so\n",
       "    // that it is saved nicely (might be nice to debounce this).\n",
       "    setTimeout(function () { fig.push_to_output() }, 1000);\n",
       "}\n",
       "\n",
       "mpl.figure.prototype._init_toolbar = function() {\n",
       "    var fig = this;\n",
       "\n",
       "    var nav_element = $('<div/>')\n",
       "    nav_element.attr('style', 'width: 100%');\n",
       "    this.root.append(nav_element);\n",
       "\n",
       "    // Define a callback function for later on.\n",
       "    function toolbar_event(event) {\n",
       "        return fig.toolbar_button_onclick(event['data']);\n",
       "    }\n",
       "    function toolbar_mouse_event(event) {\n",
       "        return fig.toolbar_button_onmouseover(event['data']);\n",
       "    }\n",
       "\n",
       "    for(var toolbar_ind in mpl.toolbar_items){\n",
       "        var name = mpl.toolbar_items[toolbar_ind][0];\n",
       "        var tooltip = mpl.toolbar_items[toolbar_ind][1];\n",
       "        var image = mpl.toolbar_items[toolbar_ind][2];\n",
       "        var method_name = mpl.toolbar_items[toolbar_ind][3];\n",
       "\n",
       "        if (!name) { continue; };\n",
       "\n",
       "        var button = $('<button class=\"btn btn-default\" href=\"#\" title=\"' + name + '\"><i class=\"fa ' + image + ' fa-lg\"></i></button>');\n",
       "        button.click(method_name, toolbar_event);\n",
       "        button.mouseover(tooltip, toolbar_mouse_event);\n",
       "        nav_element.append(button);\n",
       "    }\n",
       "\n",
       "    // Add the status bar.\n",
       "    var status_bar = $('<span class=\"mpl-message\" style=\"text-align:right; float: right;\"/>');\n",
       "    nav_element.append(status_bar);\n",
       "    this.message = status_bar[0];\n",
       "\n",
       "    // Add the close button to the window.\n",
       "    var buttongrp = $('<div class=\"btn-group inline pull-right\"></div>');\n",
       "    var button = $('<button class=\"btn btn-mini btn-primary\" href=\"#\" title=\"Stop Interaction\"><i class=\"fa fa-power-off icon-remove icon-large\"></i></button>');\n",
       "    button.click(function (evt) { fig.handle_close(fig, {}); } );\n",
       "    button.mouseover('Stop Interaction', toolbar_mouse_event);\n",
       "    buttongrp.append(button);\n",
       "    var titlebar = this.root.find($('.ui-dialog-titlebar'));\n",
       "    titlebar.prepend(buttongrp);\n",
       "}\n",
       "\n",
       "mpl.figure.prototype._root_extra_style = function(el){\n",
       "    var fig = this\n",
       "    el.on(\"remove\", function(){\n",
       "\tfig.close_ws(fig, {});\n",
       "    });\n",
       "}\n",
       "\n",
       "mpl.figure.prototype._canvas_extra_style = function(el){\n",
       "    // this is important to make the div 'focusable\n",
       "    el.attr('tabindex', 0)\n",
       "    // reach out to IPython and tell the keyboard manager to turn it's self\n",
       "    // off when our div gets focus\n",
       "\n",
       "    // location in version 3\n",
       "    if (IPython.notebook.keyboard_manager) {\n",
       "        IPython.notebook.keyboard_manager.register_events(el);\n",
       "    }\n",
       "    else {\n",
       "        // location in version 2\n",
       "        IPython.keyboard_manager.register_events(el);\n",
       "    }\n",
       "\n",
       "}\n",
       "\n",
       "mpl.figure.prototype._key_event_extra = function(event, name) {\n",
       "    var manager = IPython.notebook.keyboard_manager;\n",
       "    if (!manager)\n",
       "        manager = IPython.keyboard_manager;\n",
       "\n",
       "    // Check for shift+enter\n",
       "    if (event.shiftKey && event.which == 13) {\n",
       "        this.canvas_div.blur();\n",
       "        // select the cell after this one\n",
       "        var index = IPython.notebook.find_cell_index(this.cell_info[0]);\n",
       "        IPython.notebook.select(index + 1);\n",
       "    }\n",
       "}\n",
       "\n",
       "mpl.figure.prototype.handle_save = function(fig, msg) {\n",
       "    fig.ondownload(fig, null);\n",
       "}\n",
       "\n",
       "\n",
       "mpl.find_output_cell = function(html_output) {\n",
       "    // Return the cell and output element which can be found *uniquely* in the notebook.\n",
       "    // Note - this is a bit hacky, but it is done because the \"notebook_saving.Notebook\"\n",
       "    // IPython event is triggered only after the cells have been serialised, which for\n",
       "    // our purposes (turning an active figure into a static one), is too late.\n",
       "    var cells = IPython.notebook.get_cells();\n",
       "    var ncells = cells.length;\n",
       "    for (var i=0; i<ncells; i++) {\n",
       "        var cell = cells[i];\n",
       "        if (cell.cell_type === 'code'){\n",
       "            for (var j=0; j<cell.output_area.outputs.length; j++) {\n",
       "                var data = cell.output_area.outputs[j];\n",
       "                if (data.data) {\n",
       "                    // IPython >= 3 moved mimebundle to data attribute of output\n",
       "                    data = data.data;\n",
       "                }\n",
       "                if (data['text/html'] == html_output) {\n",
       "                    return [cell, data, j];\n",
       "                }\n",
       "            }\n",
       "        }\n",
       "    }\n",
       "}\n",
       "\n",
       "// Register the function which deals with the matplotlib target/channel.\n",
       "// The kernel may be null if the page has been refreshed.\n",
       "if (IPython.notebook.kernel != null) {\n",
       "    IPython.notebook.kernel.comm_manager.register_target('matplotlib', mpl.mpl_figure_comm);\n",
       "}\n"
      ],
      "text/plain": [
       "<IPython.core.display.Javascript object>"
      ]
     },
     "metadata": {},
     "output_type": "display_data"
    },
    {
     "data": {
      "text/html": [
       "<img src=\"data:image/png;base64,iVBORw0KGgoAAAANSUhEUgAAAyAAAAJYCAYAAACadoJwAAAgAElEQVR4XuzdeZwkdX3/8c+3ema5UUEDLER32a5vzSyC6IogXuuFB3iCxiNKPKLBA02MxujPeESN95WA931FjRrvGK8VFbxQWWR36ls9LEZcvACFZYGd7fr+Hp+2eu3t7Zmpnvr2dM/Mq/5Jdqb609/v81uD/e6q7/drhAMBBBBAAAEEEEAAAQQQWCQBs0jvw9sggAACCCCAAAIIIIAAAkIA4SJAAAEEEEAAAQQQQACBRRMggCwaNW+EAAIIIIAAAggggAACBBCuAQQQQAABBBBAAAEEEFg0AQLIolHzRggggAACCCCAAAIIIEAA4RpAAAEEEEAAAQQQQACBRRMggCwaNW+EAAIIIIAAAggggAACBBCuAQQQQAABBBBAAAEEEFg0AQLIolHzRggggAACCCCAAAIIIEAA4RpAAAEEEEAAAQQQQACBRRMggCwaNW+EAAIIIIAAAggggAACBBCuAQQQQAABBBBAAAEEEFg0AQLIolHzRggggAACCCCAAAIIIEAA4RpAAAEEEEAAAQQQQACBRRMggCwaNW+EAAIIIIAAAggggAACBBCuAQQQQAABBBBAAAEEEFg0AQLIolHzRggggAACCCCAAAIIIEAA4RpAAAEEEEAAAQQQQACBRRMggCwaNW+EAAIIIIAAAggggAACBBCuAQQQQAABBBBAAAEEEFg0AQLIolHzRggggAACCCCAAAIIIEAA4RpAAAEEEEAAAQQQQACBRRMggCwaNW+EAAIIIIAAAggggAACBBCuAQQQQAABBBBAAAEEEFg0AQLIolHzRggggAACCCCAAAIIIEAA4RpAAAEEEEAAAQQQQACBRRMggCwaNW+EAAIIIIAAAggggAACBBCuAQQQQAABBBBAAAEEEFg0AQLIolHzRggggAACCCCAAAIIIEAA4RpAAAEEEEAAAQQQQACBRRMggCwaNW+EAAIIIIAAAggggAACBBCuAQQQQAABBBBAAAEEEFg0AQLIolHzRggggAACCCCAAAIIIEAA4RpAAAEEEEAAAQQQQACBRRMggCwaNW+EAAIIIIAAAggggAACBBCuAQQQQAABBBBAAAEEEFg0AQLIolHzRggggAACCCCAAAIIIEAA4RpAAAEEEEAAAQQQQACBRRMggCwaNW+EwGAFjj322FuMj4+fmef5g4wxJ4jIX4jIQSJyrTFmq/d+UxRFH5uamnLztSRJkk3e+3sV593GOff79mustR8QkbP138aYk9I0/fF89UL/vl6v3yuKok1F3R84506Z7z2stZmI1Ivzbty1a9dhV1xxxU1zvS5Jks977x9S9PU+aZp+a773Kft7a+0VInI7EbnBOXdw5+vm+l3Z+oM8b9TbV6bv1lo/z3m5jo2I/FJELsrz/L2NRuOi2V4Tx/HfGGPer7/33j8/y7I3tM+dmJjYmOd5+9o5zzn3rDJtHKVzRuHvfpQ8aAsCCFQTIIBU8+PVCIyCQM1a+xwRebGIHFbiQ9UnxsbG/mHLli2/nu3cUQ8g69evX7V79+4/iMgBIrJr165dt5grTCRJstZ7f3lnf733p2VZ9rU5vIy1VoPXYcaYnc1m87BGo3FzqAEngISSXFidEgGku7D33r8jy7Jni0iz+5cEkIWNA69CAIGVKUAAWZnjTq+XiUCSJId47z8hIg/q6NLPROTL3vtGFEX6De5R3vt7isjpIrJfcd7vjTEPT9P0e70oRj2AaJuttRoe7le0/x7Oue/ONqxxHP+dMebtIqLfakd6njHmDWmaPn+210xOTt6+2WxeWpz7v2maPiDkZUMACanZf62uAPKIHhX0b+VwY8zxIvJE7/2Bc103BJD+x4BXIIDAyhUggKzcsafnS1xg48aNY9u3b9fHkO5WdOXyKIqeMTU19dVeXavX68dEUfROEXlw8UFqpzHmnlNTUxd3nz9XABkVNmvtP4vIq4u+/FOapq+brW3W2s+IiH7I3Cwi4yIyKSKXOuf0UbWeR5Ik53jvz9dfeu9fkGXZ60P2nQASUrP/Wp0BxDk35/8Wrlu3rl6r1b6vgURDbLPZTKanpxtl35VHsMpKcR4CCKwUAQLIShlp+rnsBKy1+oz584qO/WB8fPzBl1122TXzdLSWJMl/eO//rjjvFzt27Fi/ffv2nZ2vWwoBJI7jk40x+qFQj8855x4+S9/1EbWrReQWInKe5gkRaT2DX6vVVm/duvWqXq+z1n5MRB6rv8vz/E6NRuOnIS8iAkhIzf5r9RNAtHqSJP/kvX+N/v/GmFelafr/yr4rAaSsFOchgMBKESCArJSRpp/LSqBer6+LoijVz9Ai8jtjzIlpmm4v2cnIWquTae9SnP9y59zLlloA0b5bazVwHSoiv3XOHdGr/xMTE6fmed5+1OyRxpim9/5zxbl/45z74CwBRCcfH6O+Re35Ji2X5P/TaQSQvriCn7yAAHJn7/2PioZ81jn3yLKNIoCUleI8BBBYKQIEkJUy0vRzWQlYa/Wb/GcUnXqRc+7f+ulgHMcnGmPa3+j/Ps/zYzonWC90DkjHSjlXO+duXazMda73Xj+sHauhwXu/LYqizxlj3jw1NaV3JhZ8WGu/ICJnaIE8z+uNRmO6u5i1VsPVS3Xi8K5du249NjaWR1Gk7ztmjPlYmqaP737NxMTEmjzPtxU//4Rz7jG9Grl69eoDDznkkKeJyMO99/pY1y1FREPRT733n8yy7MO9JiyHCiD1ev00Y8wTjTF3FxENYDpJXtv9lVqt9u+z3d1p9yWO49OL15/ivT+yeP1vROS73vuPzTZJv+wqWAtpn7VW5zDdQdtYq9Xs1q1bdfWynsfatWuPGB8fv1LHUkRmHadeL+43gNTr9fVRFF02WwCpOgfEWvu3IvKuov4foii6X6/HI621E8Xfvs5/OsYYo39T+uXDpjzP395oNH4y1x9UkiQneO+fLiL3Nsbcznuvc6J+JyI/0WB+6KGHfuTiiy+e6fF3tNfqd7VabWpmZuY5xpgz26vLee9/EUXRf+/ates/tm3bptfRrEe9Xr9jFEVP0Plpxpi/FJFbiciNRVsu8t5/aL7rzxjz6Waz+fgoil4lIn9d3OW8yhjz1TRNz+l88+OOO+6wXbt2PcMYo/+90NXwDine6wci8hHn3GcX/B8iXogAAn0LEED6JuMFCAxfwFqrK1jpB06f5/kRjUZDP0D0dVhr9YPKHfVF3vszsiz7UrtAiAASRdG98zzXmvrhotdxdZ7n96/yaJO19u9F5E1F8Sc65/QD/15HkiQXeu/vKiLfd87p/9W7DzphXefO9Ly7Ya19goh8qCj0t86593TXrdfrp0RR9F8icvQc8JujKHrY1NSULrm711HlDsj69esP3r1790dE5GGzvbeu3KWP2vUy2bBhw/h11133UWPMo+a6aLz3n5+Zmfmr7hXG5gsgVdqXJMlzvfdvLtq1z925zvZ2nftg59xXyv4R9BtA4jg+0xij463HPu2qEkCstX8lIvrIn4aB60Tk/s65H/a4ZjRM62p3Grh6HbpS19uyLNNHM/dZqcta+w8ionOZWgsxzHK4KIoe0H3Ndi7D671/kjHmX4s7hL3K/EY/6PdaortYwe7dOrG/xFh92DmnS37vdfex4/rTuV2r2l9CdNR7r3Puqe1/J0nyUO+9BigNObPBbarVamdV/VKkRJ84BQEE9FFWFBBAYGkJJEmSeO+nilanzjn9RrTvI0mSl3jvX1G88M3OOf1w0joCBBBdfUvvBGj4+J7eDTDG6Dei2lb9ZrL9uNSUc+72s90lmK9T1lr9ply/Mdfn8t/R/a2n3oEZGxvTux36LfG/Zln2L3qutVbviLQeO8vzfEP3t8bWWv0mWr+RliiK1vb4MKaPr+kCALoMsH44+pIx5ssicrX3Xh/b0jsmJxXt3z4zM3On7m+EFxpAig9w3xaR9t4nDWPMh7z3TldqMsZsFJHHdXxIPds51w5T7fH9V+99aw6D9/7nURRpmNnmvdf+6KpP2nd9tE2Pva6Nwm/WPUyqtq9er98miqJfFYsFNJxz8WzXQZIkF3vv7yQiv3bOqfs+H7pne20/AaSrTzO7d++uX3755f/XWXuhAcRaq4tC/HfR3x15np/Wa78Ra+0bRaT9N/oH7/0HoyjSPXj0+jtRQ0ExSV7H9H1Zlj2lq333M8a0l53WLyzeY4y5zHuvZnp3Uj+wry2uiYuzLNPrd88H/84AIiK7i+vrEu+9XjvbjTE6TnpXVvcf0jZk4+Pjt9+yZcuuznYkSfK+oq36Y51/9UFjjE7o1+C1uth3577t13jvn5xlWWt/lfbR8bej+/jsLyJbjTH/rnfwvPcPjaLodVNTUxcW16rODft0Ebq03RoivyEi14vIOhHRLxta/w3Vv4Ubbrjh5O45cfP9d4jfI4BA/wIEkP7NeAUCQxVIkuTRxdK72o7/dM61Jkr3eyRJ8jDvvX7w0Q/vey0zGyCAtJqjH3KzLNPHIzo/POgdA7370vqgYoy5b5qm3+y3/cX5ulfHb0Xk1rrClXOu9ehO+4jjWOd86IcPPfYs1ds1L+SfnXOtycXtw1q7tfhQMu2ca29e2Pp1vV7fL4oi/b1+WNMPQGc65zR8dB4mjuMXGWNeWTh8Psuyve5WLDSAWGvV80XFm733kEMOOaf7kZl6vX6nKIr+R0RuU+xhkjQaDX1USQ+dA6T7m+i3wZt37tx5ypVXXqmPvuw5Jicn42azqd/A31JfX6vVbtX5QXKetldtnwZEfRymtaiA9/6ULMv0MZm9jnq9flwURT8vfvhG59w/dp8z179LBJBavV4/LIqiO4uIhrVTtZ4x5hlpmuqSznsdCwkgcRzr40c6Thr8NLQ/yDn3nR59PS2Kovbqdj+amZl5SHegnZiYOLy443hy8fpHdj5WZK3Vv3W9Bm9sNpsndK/idcwxxxxw4IEHXiAi2l899lrauiuA6O/fVJjvCSkaHmu12o+997ctxm6vO6vF0ta6Ep1+9vjp2NjYPbds2bKjh+UrjDEvKX7+LefcfTrP6bj+9MeX7969+06XX375H7vrrFu37i/0UbHiWtcvItS3PY+ndbquJnjVVVfpwhz6WJqO79vSNNV9lTgQQGCAAgSQAeJSGoFBCHQuDysi/+Gc043R+j66VpHaa0naQAFkzyNP83zAeLFzrrWc7kKOOI4/ZYw5S29mGGNumaapfrPZOpIkeUfxweL61atXH7Zp0yb9BrT1oWP79u36geRQ3SE+y7J7t19TfAOvoUY/jLwzTdP2imGtU+I41sdP3lf8/u/TNH3LbO3u3Kskz/PbNxqN9hyCBU1Cr9frh0ZRpEHiEGPMT9I01W+pdW+TfY4kSR5ffDut/Xh9mqYv0JOKeRPtTSj1Q2R7JbW9aiRJ8jrvve4dox/wntn5jf9sASRE+4px00dm2gsF/Ltz7twe19BrjDH/pD+PouiEqamp1p4tZY8FbER4nT7SlmXZx3u9R78BZGJiYkOe5xq89U7TjVEUPXhqakrvqu1zWGv1jpeGFV2tLp5twYlicQq9xnQPkx8559oLTej11grVxXWzYZZrRr+U0EcadUnvN3Qu6d0VQH7qnNOgss+1F8fx840x7SWxX+qca99l1Ta8XERadyHzPH9Ao9H4317tKMKQBjL9jHKVc25153mdAcQYM+vfYOf76TLczrnWFy7dR/HfAw1GOo9Lx+IveRSr7F8S5yGwMAECyMLceBUCQxOw1uq33+27Cq92zukz4X0fxbfcrnjhXt/0Bwogz3POtedn7NW+rufpZ/0QXKZTHZsM6rfl98+y7Ovt11lrdVL6scaYL6Rp+tCuDzHtb4R37b///odt3rxZP/DohyTdL0SfLdd6Z2VZ1r6D0np5HMf/Y4zRTQmbu3fvPrzXN6/t90mS5FH6+Jn+2xjzwjRNX9vRtlkfY5rtA761Vh/tan8AfpZzThcjmO3QOx26W7xOttVH3fTDVfsOjvZVV1C7Ms/zjb0m789lP8j26fsWHwj1MSy9S/bb1atXH90Oj0W7tG+/KOYg6IdhfQyrr2MBAUQD7mf1UT7n3CXdb9ZPAMnz/PwoijRU6J27m/Sxo87rtrP2+vXrj9y9e3drqWjv/X9lWTbnvB1rrc67au31MzMzc2T7Tom1Vu+s6GIF+sjVQ3vctZvTrzOAaPCbbd8da60+PtX6G/Tevz3LsvZiGe1rb633fl2WZXrnZ9ZH5qy1OrH+KBH5o3NOF3fYc3QGEL1D1WuyfvG3rHc/kjIr2XUFp8c453SDVw4EEBiQAAFkQLCURWBQAl37Ecy5m/dcbShWoWmvmBP8Dogx5kFpmuqHjH2OOI47n0fv+Q13Wb+JiQmb57kuSazHnm9ci83jWisoee/PzbJMnxHv/BCje4G0fua9P6294o61VkOTTm7P99tvv1tfeuml13a9Tj/U654i+sy6TpCd69BvblshQR8FS9NU79S0joU8gpUkyVu1L0W9V3rv99lEsqsx+miZfgDT9z+0fXcoSZL/8t7r6kV67NJVg3TlrGaz+b9lwshsbQ/VvsKnPQ76z70mmHd+yJ3rG/C5Bma+ndCNMbphpd4h00fwHtRemau4C3Fm97XdRwDRgKCLP7S/1deJ1rNOyO4MxMVckZ7LRrf7aoz56/bYFsHmi4Xnnuu9OPf73vsv6uOXzjm9jnreSeu4XvesgtU9Hl1/H3pXrjWB3hjz/jRNnzzP38ieX09OTh7VbDbvWKyMpde5Ppq2wzmnIXrP0RlA9t9//4PbXx50nqOrXs3MzLRX2dM5Js+fpx0nFqvl6Wl9P9JXto+chwACfxIggHAlILDEBKy1+qFXPwz0/T/wnV2N4/j++uGj+Nk3nHO6rGfrCHEHJM/zuzYajfZGgXspz7YvgrVWvxHWb2nnOr7rnNM5DJ0fSFp7dnjvv5pl2QP1F9Za/ea1fYdg0jnXnrjf7uOeyfydG8tZa/UZcX285MfOufZE8vZrDvHea/BYyPEd59w92y9cSACx1urdmNL7T3Q2svjW+XL9mT6GNTY29p1i4nB3X/ScLxtjPpOmqT4StM/+J3PcAQnSPm3QxMTE8Xme62Mxep3vtVxyx7fxu5vN5tHT09OtR+b6OUrMAeksp3ON9HGv9nLX+pjO+s7FCfoIIN3NbBpjTum1YpSeGMfxs3VeQj99a59rjHlKmqatxwWLfXM+pY8i9ailC0ZoCP3czp07P989J6j4e9oTQPI8P7XXRHk9L0mSzv1SPuic+5se76dzpO5hjNFHHyc15BljdEL4Xnc6itfd4Jw7uLNGx/U345zTVbD2OTqvnwXYzRkKF1CPlyCAQJcAAYRLAoElJlBMMG598z3X89zzdavrTspeEy9DBBBjzEmzfaiaLYB0/bxnF3R53+5n5a21usqTrmajj2vo5GrfMen2Sudcz6WArbW6klFrpS7n3N2L5WP1jocuc/oa59w/d33w0Qn07cnc8xF3//5nzrnWssfFB7qFPIKlqxjtCYp9NuDEzkeHdA+Tgw466B+MMbp6kq6C1OvQ0KbLEOuyxXuOOQJIsPbpm3WscnXD/vvvf4R+063tPvjgg3VFtYN7PVpX1qTPANIeMw3s9y/eY69HB/sMIProkS67q9esHj9bvXr1SV2PmbV+Ecfxi9uLGZTtW/s8Y8xz0zR9a+frkiTROyTPFBGdrN7rM4CGkRc653Sp3M4x32sfkNn+tucLIMWdV13Vaq8FIzreSh830zCkj0weppPz5wgg+/yuXSdJkrt57/e6bvvw+2/nXK+g1kcJTkUAgbkECCBcHwgsPQF9/l2/8T28eIb6yO47AmW6lCTJV/XRIz3XGPPwNE3bk36D3AFZzADS9eFv/dFHH521J5nP9RhIHMfvNcboIyK7du7cecsDDjjgbh1Lld7POafLde45jj/++FvdfPPN+gFNjx8459pL4ZYh3+uchdwBieNYN3Bsz2XZ565O340oXqDfFjebTb1zdN8oiu6hy/l2fIjdqd/Qd07ynq3todtnre18TO7xWZZ9rHMeTK85OmUNFhJAOhcg6J7k3UcAaXrvn6CT2TuDfvccoXY/Ove68d6fk2XZO8r2ca7zrLVHG2Me6L3XQKvzNm7Teb4x5qlpmr63ox2VA0ixCpbeFT2oqKvzfL7pvb9UlxbP8/yS9mIH1trWXc2FBpCuR0z72qQyhC81EEBgbgECCFcIAktQwFqrcxf0w5nOX3hJlmWt5V7LHsUEdJ03of8NuHbHjh3HdK59P6w7IGXb333esccee9uxsTGdlKxhSndX1sn17aVbH+uc+89etbsmdes3wjp5V/cIuWnXrl236t6AT8tba3XJWl1laNY7K2X6sZAA0rk/id4J6Q5IZd53vnPWrFmz/6pVqzSM6EIH64tr7KNZlulO061jjjsge/ZPCdG+4jl+/UZ8lff+U1mWPdpaq2OpG/ddOzY2dmT3PhPz9a+jD3seLXPOlfrfwomJiQfked6e1+Scc635NXr0EUD2bJJX7K6u+9jofJMb8zw/vnsOThzHjzPGfLS4tl+Zpml7edqyXS1zntGNNWu12j8X+3Doa35V7K3SHvPKAcRa23kH6WXOOd3MsOfcE2utrmanj14t9A6I7imiAUcPfWzzHmUgOAcBBBZHoNR/dBenKbwLAgiUFSgmWG8pPrj80RhzxzRNt5V8vT5//ZViJSd9yb8559r7SrRKLLUAUnwo1omm67z3bzHG6GNSb5hvp/hiyV19nEf/W6ib7z26eMTma8651t2h7qNjNSFpNptx934Knedba/VuwrlRFF2R57ku97tnt/mFBJAkSZ7ivW/tyt45b6VXO4uVpD5sjNFJ89uOOuqoN+kjPsW30PfSaRbNZvOts7V/cnLyds1ms7WDu27QlmWZblDY/jDa8/GxEO3r7kvHMsvXj42Nrd69e7eO7S26V1gqee3vOW0hd0A651+JyAXOOXVsHX0EkPOcc60vD4rrVpegbj/qt9dcLP19sbSuXtt6tB4VnKuvxdKzug/HFbVa7QNbt279hc75WbVq1el5nmtg+k6WZa2J6T2OmrVWv5jQ+Ri6vPGt28vRdq2CNevjlbM9glUEW11GWP/WtjnnZnvsb68+66T/NE3bd0zmvP66+9NxF+VGY8wRnUt0d5+bJMlZxeR9vba/1P3YYb/XF+cjgMDcAgQQrhAElqhAHMevNca09nYQkUvyPL9/o9HQHY7nPLpepzsYT3T/D/MSDSDtb991uVF9TEo3XZt3iVZrra4EpnMz9K6SPpOvm+/Ntcyo7katu1L33HG6E99aq49wtTZR616JayEBpFglSD8g6cTb30VRNDnbfgXWWl1ZqbViUudcoa5JzbPuwVLsIq+OkTHmojRNWxvx6TFb20O0r/vijeP4dGNM+wOzrozV2g18tg0K57v+O/rQ9x0Qa+0XROSMwvRVaZq2dpPXY6EBpNjzQr9MWFP0q9fO3zoZvxUAvff3yrJMNwzc54jjWJec1gChc5hmoig6Sq+PrgnZs4ZrLdgx7ybftWvXQe27gFUDSHFt6NK6+wTa7o4kSfJ23XOl+Pk+E83n+tvp+vvTyfutfZKMMf+SpqnecdnnKMK67p9i9Zd5nj+00WjoWHMggMCABAggA4KlLAKDFtiwYcP49ddfr+vtt1dWulw33ZttP4EkSfSRhDcX3/Jr83YVE7ov7PEBYJN+0Cl+fpvOOSZzfRAp+yFltknoVcw6HqfSnZV1h/Jbe+9fl2VZa7O62Y52IDPG/F97B+c8zzc0Go32EsV7vbTYbE+/kW49M++9f36WZXq3Za8jSZJ/1Z3gix/+3hhzbGfQW0gA0VodmyvqP7+z3377Pax7qeBioYJvFZvc6Xl7HkPTZ//12/HiQ+oO7/09sizTx4D2OuI43rPRn4jstd/MXG2v2r4e46TfyutdjyNFRDeS1A/XqXNuouL10lcAieP4aboxZfGeM3meT3Y+LrXQAKL1ukLWNc1mc7JzZa+uRwWv0rkbaZq2VghrH8X8JN1bpBVUujfRtNbqB+zWI3XFwgKtO2mdh7VWH0HUD96RiFzonLtb+/dl/7ZnuwNSfMjXBR70sSp97Gpjj13f9e6sTrrfKyg453TPmj2PapUNIEmS6J4jGu7212vHe//EHhtJ6pw6XSmsvaT2FuecGs65LHGVa4/XIoAAy/ByDSCwpAV01aaZmZn/6nicSvvzY32EQB9zEJGbjTFH6rr6IqLP9eu6+nrors5nzhFWllwAWbdu3V/UajV9nGrP0b0xYa/B7tqTRE+52jmn4WKf5Wfbry/mAqixfjDS4wfGGJ2bsN17rxNndY5Cexdqb4x5ROckf33BQgNIsVKX7rPQ2lhQRH7vvdcPUD8zxhxkjDnVe6/zNXRegR6fcc619/xo/cBaq4GpvQP6jIjoHANdfljveGhA0RWA2h8+r8rz/A6dd9fmanuI9nWPU7Ere+c+DrPeuSn7Bz3fPiBaxxijc090srbuEL7ncSsReblz7mWd71UlgBRjoptftlde+k/n3GM761trPywi7Xk4rTHz3n87iqLdeZ7f3hijjxDqqlF6XL5r164NV1xxhT5+1zriOD5DVw3rqKlfXnxF53oUGyLqeOsjiHpN746i6P6dq81VDSD6vl3hVL8keK/uZWOM0XAQG2O0z7rvyl7Hfvvtd1hnyC4bQIr33PPYYlFUV2rTTUh1j5C1RfBoh9mbReQezjn9W+BAAIEBCnAHZIC4lEZgkQRMkiTn6mT0YmWsud5WP1R/ttlsPnd6elpXmel5LMVHsLQj1tqfi8hxRadmm0i+V5+LZ9P1m1n9llTvaLQmO883dkUI+Ujx4W2203Ui7dN6TYJfaAAp+qn7pegO67qPwqyH914/pD6l0WjoB6s9h949u+66695vjHn8PP2cNsY8svvb9vk+ABb7uSy4fd1tKiZr6zf4emOKxnQAACAASURBVOTNZnPNXNfvfGNXGM4aMOd4/Ywx5rW9JoJXDSD1ev2YKIq2FncItAmnd+1WXkuS5E3ee32kaNb/7dbH7Xbv3v3wXj5xHJ9rjNHHB/Uu0myH7nPz9O5rNkQAKe4eavDZa3+d7obo/J5ig8zntAY8zzc2Gg29u9M65rv+uusVjyOe37H6Vq++/1YDUJqm3yxz/XAOAghUEyCAVPPj1QiMjECSJLpb8KO896cXcxr0kRX9FvxaY8wW7/0mY8zH0zRt7xo+a9uXagDp3IlbROZ81r2z852r8xSPsel8knkPNc/z/On6YdEYo4+36DfQO733WRRFulrS+Wmatp577/GhqO99QLpr6KM7URQ9znuv8zOOKB6d0bswF9Zqtfd075fS4/W6I/3Z3vuToyg62nuv18vvjDEa5P775ptvfn+PlcBKfwCs2r6O9upjMvqNtW5Ut89E7XkHqrf/fAFEf6+TpjWc6t/MBd77j2RZ1trMsYfl3+iSz/rz7sfyyj5yaK3Vu1Ktx/n0kcBarXbcli1b9JHCPUcxn+NpRfjUPWz0rqbeudK9gfTOie4vovuM9DziONY7Z083xugdHb0DoBO89U5JawPKWq32rq1bt+rKY3sdIQKIFly/fv2qZrOpm4Q+2nuvfzP6SJb28Qqda9RsNt+tjz927Xb/jjRNz2k3qN8Aoq8r7pBqDb0THOtCBsX7bjHGfH7VqlXv6n6UcSHXFa9BAIFyAgSQck6chQACCCAwJIHOx+SMMX+dpmlrWVoOBBBAAIGlKUAAWZrjRqsRQACBFSNgrf24iDxG70bs2rVrda+7MisGg44igAACy0CAALIMBpEuIIAAAstVII7jM40xOp9ElwN+fZqm7aWnl2uX6RcCCCCw7AUIIMt+iOkgAgggsLQE4jj+nyiKDvXeH97em0HnKczMzExs27Ztr5XOllbPaC0CCCCAgAoQQLgOEEAAAQRGSiCO488ZYx7a0ai8WKFI74RwIIAAAggscQECyBIfQJqPAAIILDeBJEme473XDel0haZLROQVaZrqqmIcCCCAAALLQIAAsgwGkS4ggAACCCCAAAIIILBUBAggS2WkaCcCCCCAAAIIIIAAAstAgAAyOoNYq9friTan2WxeHUXRfJtkjU7LaQkCCCCAAAIIILACBPI8N7VaTRfIkEajoZuUzrrx5wrgWHAXCSAddJOTk3Gz2bzEe39BlmW6W2rPY3Jy8qhms/n/ROTBInK0rk3vvf++9/5NjUbj2wsZjXq9vj6KossW8lpegwACCCCAAAIIILC4AnmeH9doNLYs7rsuj3cjgBTjmCTJIXmef8sYs8F7/9XZAkgcx8caYy4UkSOKl/5RRA7RNepFRO9a/KNz7k39Xh4EkH7FOB8BBBBAAAEEEBieAAFk4fYEEBE57rjjDpuZmfmciNxdKWcLIBs3bhzbvn37pSIyISI/8t6fnWXZ1jVr1txyv/32e7n3/twihNzLOfedfoZl7dq1R4yPj/9aX/PFL35RDjvssH5ezrkIIIAAAggggAACAxa45ppr5Iwzzmi9y8zMzJHsTbQw8BUfQOr1+l2jKPq4iNyuTThbALHWni0iHxCR6/M8X9doNH7XyW6t1TqPEZHvOOfu2c+QrFu37i9qtVprg60LL7xQDj+89XghBwIIIIAAAggggMCICFx99dVy6qmntlrTbDaPmJ6e/u2ING1JNWPFBpB6vX5oFEXnicjjdUNG731mjLlKRO45RwC5SEROEZHznHPP6h7pJElO8N7rmvUSRdHaqampK8peDfMGkKc/vWypP533znf2dz5nI4AAAggggAACy12g4ucpAkiYC2TFBpA4jk80xvxUH5kyxrxLRJ7vvf93ETm7VwA54YQTDrrpppuuK+Z6PMI599+9hsBaq0n4Nt77c7Ise0fZYSKAlJXiPAQQQAABBBBAYIECBJAFwoV92YoNIHq3QkRe2Ww2X9ZoNH6irNZafbyqZwCp1+t3iqLoYj3PGDORpqkuvbbPYa39nojovbn/cM49u+xwEUDKSnEeAggggAACCCCwQAECyALhwr5sxQaQWcLDrAEkjuMzjDFf0Nftv//+B2/evPmGXjXiOP6kMeZRxphPp2l6VtnhWnAAmZkRyfN93+Ytbyn71pyHAAIIIIAAAgisDIHnPrd3P6NIZHx83991PdLOI1hhLhMCSIfjXHdA4jh+nDHmo3q6c6695O4+o2Ct/aCIPFFEvuacO63sMPUdQHbuFNm6VeSGnjlI5J59zYEv20zOQwABBBBAAAEElq7ABRfM3vaDDhKZnBQ58MA/n0MAGchYE0BKBhBrrYYKDRczzrlVs42GtVbnk/ytiHzLOXefsqPWdwC5+OLZw4e+KQGkLD3nIYAAAggggMBKEZgrgKiBhpANGwggA74eCCAlA0iSJI/y3n9STy9zB2SuzQx7jWlfAaTZFPmeTjWZ4yCADPhPh/IIIIAAAgggsOQE5gsg2qG73U2kVvtT17gDMpAhJoCUDyAP9N5/RU/fuXPngVdeeeWNvUYkjuNPGWPO8t5/KsuyR5cdtb4CiBblDkhZWs5DAAEEEEAAAQT+JDBfAOEOyKJcKQSQkgGkXq8fF0XRz/X0ZrMZT09PN3qNUJIkF3rv7+q9f2uWZbPMdNr3lX0HEOaALMofCG+CAAIIIIAAAstIgDkgIzGYBJCSAWTDhg3j119/vc741iUSTnfOfbnXCHbsA/L0LMt0Pkipo+8A0q7KKlilfDkJAQQQQAABBBAQVsEaiYuAAFIygOhpcRx/yxizUUTe5Jx7XvcIWmvvICI/05/PtVdIr5FfcACZ7TJiJ/SR+AOjEQgggAACCCAwQgLsAzISg0EA6S+APN0Yo7ub/3FmZibZtm3bbzpHsb0HSL8rYGkNAshI/D3QCAQQQAABBBBYzgIEkJEYXQJIHwFk/fr1q3bv3r1ZRBIR2ey9PzvLsp+tWbPmlqtWrfpXEXmW6LaAeX6fRqPx7X5GeN4A0k8xzkUAAQQQQAABBBAILsBGhGFICSB9BBA9dWJi4vg8z78pIrcuXvpHETlYRIr12uRZzrnz+h0eAki/YpyPAAIIIIAAAggsrgABJIw3AaTPAKKnr1279ojx8fEXi8gZInK0rszrvf+BiLwxy7KvLWRoCCALUeM1CCCAAAIIIIDA4gkQQMJYE0DCOFauQgCpTEgBBBBAAAEEEEBgoAIEkDC8BJAwjpWrEEAqE1IAAQQQQAABBBAYqAABJAwvASSMY+UqBJDKhBRAAAEEEEAAAQQGKkAACcNLAAnjWLkKAaQyIQUQQAABBBBAAIGBChBAwvASQMI4Vq5CAKlMSAEEEEAAAQQQQGCgAgSQMLwEkDCOlasQQCoTUgABBBBAAAEEEBioAAEkDC8BJIxj5SoEkMqEFEAAAQQQQAABBAYqQAAJw0sACeNYuQoBpDIhBRBAAAEEEEAAgYEKEEDC8BJAwjhWrkIAqUxIAQQQQAABBBBAYKACBJAwvASQMI6VqxBAKhNSAAEEEEAAAQQQGKgAASQMLwEkjGPlKgSQyoQUQAABBBBAAAEEBipAAAnDSwAJ41i5CgGkMiEFEEAAAQQQQACBgQoQQMLwEkDCOFauQgCpTEgBBBBAAAEEEEBgoAIEkDC8BJAwjpWrEEAqE1IAAQQQQAABBBAYqAABJAwvASSMY+UqBJDKhBRAAAEEEEAAAQQGKkAACcNLAAnjWLkKAaQyIQUQQAABBBBAAIGBChBAwvASQMI4Vq5CAKlMSAEEEEAAAQQQQGCgAgSQMLwEkDCOlasQQCoTUgABBBBAAAEEEBioAAEkDC8BJIxj5SoEkMqEFEAAAQQQQAABBAYqQAAJw0sACeNYuQoBpDIhBRBAAAEEEEAAgYEKEEDC8BJAwjhWrkIAqUxIAQQQQAABBBBAYKACBJAwvASQMI6VqxBAKhNSAAEEEEAAAQQQGKgAASQMLwEkjGPlKgSQyoQUQAABBBBAAAEEBipAAAnDSwAJ41i5CgGkMiEFEEAAAQQQQACBgQoQQMLwEkDCOFauQgCpTEgBBBBAAAEEEEBgoAIEkDC8BJAwjpWrEEAqE1IAAQQQQAABBBAYqAABJAwvASSMY+UqBJDKhBRAAAEEEEAAAQQGKkAACcNLAAnjWLkKAaQyIQUQQAABBBBAAIGBChBAwvASQMI4Vq5CAKlMSAEEEEAAAQQQQGCgAgSQMLwEkDCOlasQQCoTUgABBBBAAAEEEBioAAEkDC8BJIxj5SoEkMqEFEAAAQQQQAABBAYqQAAJw0sACeNYuQoBpDIhBRBAAAEEEEAAgYEKEEDC8BJAwjhWrkIAqUxIAQQQQAABBBBAYKACBJAwvASQMI6VqxBAKhNSAAEEEEAAAQQQGKgAASQMLwEkjGPlKgSQyoQUQAABBBBAAAEEBipAAAnDSwAJ41i5CgGkMiEFEEAAAQQQQACBgQoQQMLwEkDCOFauQgCpTEgBBBBAAAEEEEBgoAIEkDC8BJAwjpWrEEAqE1IAAQQQQAABBBAYqAABJAwvASSMY+UqBJDKhBRAAAEEEEAAAQQGKkAACcNLAAnjWLkKAaQyIQUQQAABBBBAAIGBChBAwvASQMI4Vq5CAKlMSAEEEEAAAQQQQGCgAgSQMLwEkDCOlasQQCoTUgABBBBAAAEEEBioAAEkDC8BJIxj5SoEkMqEFEAAAQQQQAABBAYqQAAJw0sACeNYuQoBpDIhBRBAAAEEEEAAgYEKEEDC8BJAwjhWrkIAqUxIAQQQQAABBBBAYKACBJAwvASQMI6VqxBAKhNSAAEEEEAAAQQQGKgAASQMLwEkjGPlKgSQyoQUQAABBBBAAAEEBipAAAnDSwAJ41i5CgGkMiEFEEAAAQQQQACBgQoQQMLwEkDCOFauQgCpTEgBBBBAAAEEEEBgoAIEkDC8BJAwjpWrEEAqE1IAAQQQQAABBBAYqAABJAwvASSMY+UqBJDKhBRAAAEEEEAAAQQGKkAACcNLAAnjWLkKAaQyIQUQQAABBBBAAIGBChBAwvASQMI4Vq5CAKlMSAEEEEAAAQQQQGCgAgSQMLwEkDCOlasQQCoTUgABBBBAAAEEEBioAAEkDC8BJIxj5SoEkMqEFEAAAQQQQAABBAYqQAAJw0sACeNYuQoBpDIhBRBAAAEEEEAAgYEKEEDC8BJAwjhWrkIAqUxIAQQQQAABBBBAYKACBJAwvASQMI6VqxBAKhNSAAEEEEAAAQQQGKgAASQMLwEkjGPlKgSQyoQUQAABBBBAAAEEBipAAAnDSwAJ41i5CgGkMiEFEEAAAQQQQACBgQoQQMLwEkDCOFauQgCpTEgBBBBAAAEEEEBgoAIEkDC8BJAwjpWrEEAqE1IAAQQQQAABBBAYqAABJAwvASSMY+UqBJDKhBRAAAEEEEAAAQQGKkAACcNLAAnjWLkKAaQyIQUQQAABBBBAAIGBChBAwvASQMI4Vq5CAKlMSAEEEEAAAQQQQGCgAgSQMLwEkDCOlasQQCoTUgABBBBAAAEEEBioAAEkDC8BJIxj5SoEkMqEFEAAAQQQQAABBAYqQAAJw0sACeNYuQoBpDIhBRBAAAEEEEAAgYEKEEDC8BJAwjhWrkIAqUxIAQQQQAABBBBAYKACBJAwvASQMI6VqxBAKhNSAAEEEEAAAQQQGKgAASQMLwEkjGPlKgSQyoQUQAABBBBAAAEEBipAAAnDSwAJ41i5CgGkMiEFEEAAAQQQQACBgQoQQMLwEkDCOFauQgCpTEgBBBBAAAEEEEBgoAIEkDC8BJAwjpWrEEAqE1IAAQQQQAABBBAYqAABJAwvASSMY+UqBJDKhBRAAAEEEEAAAQQGKkAACcNLAAnjWLkKAaQyIQUQQAABBBBAAIGBChBAwvASQMI4Vq5CAKlMSAEEEEAAAQQQQGCgAgSQMLwEkDCOlasQQCoTUgABBBBAAAEEEBioAAEkDC8BJIxj5SoEkMqEFEAAAQQQQAABBAYqQAAJw0sACeNYuQoBpDIhBRBAAAEEEEAAgYEKEEDC8BJAwjhWrkIAqUxIAQQQQAABBBBAYKACBJAwvASQMI6VqxBAKhNSAAEEEEAAAQQQGKgAASQMLwEkjGPlKgSQyoQUQAABBBBAAAEEBipAAAnDSwAJ41i5CgGkMiEFEEAAAQQQQACBgQoQQMLwEkDCOFauQgCpTEgBBBBAAAEEEEBgoAIEkDC8BJAwjpWrEEAqE1IAAQQQQAABBBAYqAABJAwvASSMY+UqBJDKhBRAAAEEEEAAAQQGKkAACcNLAAnjWLkKAaQyIQUQQAABBBBAAIGBChBAwvASQMI4Vq5CAKlMSAEEEEAAAQQQQGCgAgSQMLwEkDCOlasQQCoTUgABBBBAAAEEEBioAAEkDC8BJIxj5SoEkMqEFEAAAQQQQAABBAYqQAAJw0sACeNYuQoBpDIhBRBAAAEEEEAAgYEKEEDC8BJA+nRcs2bN/uPj488SkccYYyZEZMx7/39RFH2l2Wy+vtFoXNlnydbpBJCFqPEaBBBAAAEEEEBg8QQIIGGsCSB9OB577LG3qNVq3zDGbChetltEZkTkgOLffzDGnJGm6ff6KEsA6ReL8xFAAAEEEEAAgSEIEEDCoBNA+nCM4/gjxpjHi8gfROScQw455NMXX3zx7iRJTvXev0dE9I7Ir40xNk3T6/sozR2QfrA4FwEEEEAAAQQQGIIAASQMOgGkpONxxx132MzMzG9FpCYiT3TOfbjzpZOTk3Gz2XT6M+/947Ms+1jJ0twB6QeKcxFAAAEEEEAAgSEJEEDCwBNASjrW6/VToii6SE+v1Wp269atWfdLrbW/EpHVxpgXpmn62pKlCSD9QHEuAggggAACCCAwJAECSBh4AkhJR2utPl61tTj9bOfchzpfum7dur+s1WpXiEjkvT8ry7JPlyxNAOkHinMRQAABBBBAAIEhCRBAwsATQMo7RnEcTxljYhG5xnv/tEMPPfTzOgdkYmLiTnme6xyQE0XkZ6tXrz5p06ZNOkG99MEqWKWpOBEBBBBAAAEEEBiKAAEkDDsBpA/HiYmJU/M8/4qIHFq8bLcxZpf3/kAR0cDx0fHx8X+47LLLrumjLHdA+sXifAQQQAABBBBAYAgCBJAw6ASQPh3r9fq6KIq+qlt3dL00F5GPNZvNF01PT/+yz7KsgtUvGOcjgAACCCCAAAKLLEAACQNOAOnD0Vr7YBHR1a80bDxv165dnz/00ENnbrzxxo3GmDcUy/DqPJC7O+d0Qnrpg0ewSlNxIgIIIIAAAgggMBQBAkgYdgJIScd6vX6nKIq+X4SPk51zl3S+tFim92IRWSMiH3HOPaFk6dZpBJB+tDgXAQQQQAABBBBYfAECSBhzAkhJR2utrmr1SO/9+7Ise0qvlyVJ8pRiQ8LdY2Njt9qyZcuOkuUJIGWhOA8BBBBAAAEEEBiSAAEkDDwBpKSjtfZKETnaGPPUNE3f2+tlExMTNs/zVH8XRdEJU1NTl5YsTwApC8V5CCCAAAIIIIDAkAQIIGHgCSAlHa21N4nIfiLyNOfcu2cJIGvyPN9W/O4uzrkflSxPACkLxXkIIIAAAggggMCQBAggYeAJICUdrbWNYuWrDzjnntTrZXEcn2mM+S+dJzI+Pn6bfpbjZQ5IyYHgNAQQQAABBBBAYEgCBJAw8ASQko5xHL/FGPMcEdE7IXd0zk11vnTDhg3j119//YUicmcR+YZz7n4lS7dOI4D0o8W5CCCAAAIIIIDA4gsQQMKYE0BKOk5OTh7VbDY3i8itRWS7MeYZaZp+UUSacRxPGmPeJiIaOnZFUXTq1NSUrohV+iCAlKbiRAQQQAABBBBAYCgCBJAw7ASQPhzjOD7ZGPM5ETmieNmMiOwUkVvov40xO/M8f0KWZZ/po2zrVAJIv2KcjwACCCCAAAIILK4AASSM98gGkDiOjxWR06Io2j/P859kWXZBmC5Xq2KtvbU+iuW9f4iI1EVkTER05/P/9d6/McuyyxfyDgSQhajxGgQQQAABBBBAYPEECCBhrIcaQOI4flwURWfnef6BLMs+3u6StfZ5IvIaXc22o5sXzczMnLlt27bfhOn6aFUhgIzWeNAaBBBAAAEEEECgW4AAEuaaGFoAsda+R0Taq0m91jn3Iu1SvV6/axRF39Unmrq66EVks3NOJ3k3w3R/dKoQQEZnLGgJAggggAACCCDQS4AAEua6GEoAsdbeV0S+VnRB72i8xDmngUTiOP6kMeYsXcrWGPPsPM+/aoz5KxF5hd4RMcY8bbaNAMOQDKcKAWQ47rwrAggggAACCCBQVoAAUlZq7vOGFUA+LCKPFxHdNfwezrnfazOPOeaYAw466KDfe+/3F5EvO+d0nkXrKO6YPFlEvu6cOy1M90enCgFkdMaCliCAAAIIIIAAAr0ECCBhrothBRCdqH077/1Tsyx7f7srcRyfboz5goj47t/V6/WHRFGkK1D9xjl3VJjuj04VAsjojAUtQQABBBBAAAEECCCDuwaGEkCSJLlB73LkeX63RqPx/Y67HP8uIs/UAGKM+cs0Tbd3/O4uIqLnzjjn9hscyXAqE0CG4867IoAAAggggAACZQW4A1JWau7zhhJArLU7ROQAY8z90jT9VkfIyHRLDO/9ZVmWHd/ZdGvtw0VE99f4o3PuVmG6PzpVCCCjMxa0BAEEEEAAAQQQ4A7I4K6BYQWQn4nI8caY56Vp+hbt3sTExPF5nl+idz90CV7n3Iu7AsgHReQJIvJj55zeDVlWBwFkWQ0nnUEAAQQQQACBZSjAHZAwgzqUABLH8WuNMc8XkatE5OFRFF2e5/mnRGSjBpAoik6cmpq6tOPOyDNE5G3F0ryvdM69NEz3R6cKAWR0xoKWIIAAAggggAAC3AEZ3DUwlAAyOTl5VLPZ/LmI3LK7a977L2ZZ9rDirsgG7/1nvPfHFOFDV8ta3141a3Asi1+ZALL45rwjAggggAACCCDQjwB3QPrRmv3coQQQbY61Vh+j+k8RWdPRvE3j4+NnXXbZZdfoz5IkSbz3W4vf64T0RzjnfhSm66NVhQAyWuNBaxBAAAEEEEAAgW4BAkiYa2JoAaRofq1er989iqIjvfdplmU6N6TzqMVx/KUoir4iIu9L0/T6MN0evSoEkNEbE1qEAAIIIIAAAgh0ChBAwlwPww4gYXqxDKoQQJbBINIFBBBAAAEEEFjWAgSQMMM7SgGkZq09Ms9znRfSaDQaN4tITUSaYbo62lUIIKM9PrQOAQQQQAABBBAggIS5BoYeQKy1jxCRc0TkVN0bRLtljLljmqabdWf0KIrOF5Hzm83mW4pQEqbnI1aFADJiA0JzEEAAAQQQQACBLgECSJhLYmgBZPXq1QcefPDBHxWRhxZdabdFd0FvBRBr7bOK5Xd1b5DLRORBzrlfhen6aFUhgIzWeNAaBBBAAAEEEECgW4AAEuaaGFoAsdZ+VkRay+2KiBORr4uI7vexJ4AkSfJo7/07ReQWxXmbDznkkJMuvvjimTDdH50qBJDRGQtaggACCCCAAAII9BIggIS5LoYSQOr1+kOiKPpcETZelqbpq0Qkt9bmnQFEu7h+/fqDd+/e/S4ReUzxu2elafr2MN0fnSoEkNEZC1qCAAIIIIAAAggQQAZ3DQwlgLTvfnjvv9DedFC72CuAtLturb1ARO4uIt9xzt1rcCTDqUwAGY4774oAAggggAACCJQV4A5IWam5zxtWANFNBY/w3j8qy7LPdISMfe6AtH9XPI6lGxde65w7PEz3R6cKAWR0xoKWIIAAAggggAAC3AEZ3DUwrAByk4iMR1F0l6mpqYvLBJBi5/Tvi8iMc26/wZEMpzIBZDjuvCsCCCCAAAIIIFBWgDsgZaVG8w7Ir0XkNlEUPXhqauqrZQJIkiRnee8/KSK/cc4dFab7o1OFADI6Y0FLEEAAAQQQQAAB7oAM7hoY1h2Qr4jIaSJynnPu3JIB5Kve+/uLyFedcw8aHMlwKhNAhuPOuyKAAAIIIIAAAmUFuANSVmo074A8QUQ+KCK7jDH3TdP0e9rM2SahW2tfLSIv1FWwvPdPybLsA2G6PzpVCCCjMxa0BAEEEEAAAQQQ4A7I4K6BodwB0c3OrbXfFZG7GmNu1J3OvfffEpEvFiFD9wf5nTHmJBF5sojcQV8jIpc45zbokr2DIxlOZQLIcNx5VwQQQAABBBBAoKwAd0DKSo3gHRBt0sTExOF5nn9NRE7U0DFPdzR8TOd5fu9Go3FlmK6PVhUCyGiNB61BAAEEEEAAAQS6BQggYa6JYd0BabV+w4YN4zt27Hih9153QD9ili5dLyLvGRsbe+mWLVt2hOn26FUhgIzemNAiBBBAAAEEEECgU4AAEuZ6GGoA6ehCbWJi4kTv/R3yPD/cGFPz3l9rjNmS5/kPG43GzWG6O7pVCCCjOza0DAEEEEAAAQQQUAECSJjrYFQCSOneJEmyOk1T3chwWR0EkGU1nHQGAQQQQAABBJahAAEkzKAOJYDEcXxmlmWf7rMLJkmSc733r3DO3aLP14786QSQkR8iGogAAggggAACK1yAABLmAhhKALHW6vK7T0rT9KNlujExMbGh2Wy+0xhzRz3fOVcr87qldA4BZCmNFm1FAAEEEEAAgZUoQAAJM+rDCiC6jG6uk8+zLHvXbF1Zv379wc1m81XFJPWoWIr3D865w8J0f3SqEEBGZyxoCQIIIIAAAggg0EuAABLmuhhWALlMRCZ1+V1jzPPSNH1Ld3f0MS1jjP58dRE89JQPz8zMvGDbtm2/CdP90alCABmdsaAlCCCAAAIIIIAAAWRw18BQAsjxxx9/q5tvvvnLInJysfHgS7Mse6V2c3Jy8nbNZvM8EXlQ0W1t42YReZZzTjcvXJYHAWRZDiudQgABBBBAAIFlJMAdkDCDOZQAok0/INZhtAAAIABJREFU5phjDjjwwAM/IyIPKELI66MousZ7/y8ickBx1+OP3nsNJ/+xHHc/7xxCAkiYC5oqCCCAAAIIIIDAoAQIIGFkhxZAtPkbN24cu+qqqz7ovX9sx27o2ibdGf3DzWbzBdPT078N09XRrkIAGe3xoXUIIIAAAggggAABJMw1MNQA0u5CHMdvMcacW/z7Zu/9A7IsuyBMF5dGFQLI0hgnWokAAggggAACK1eAABJm7EcigGhXrLUvEhGdB+K99585+uijH7tp06bdYbo5+lUIIKM/RrQQAQQQQAABBFa2AAEkzPgPNIDEcXx+P800xjxYRG5bPIJ1kfdeJ5/vdRhjvHPumf3UXQrnEkCWwijRRgQQQAABBBBYyQIEkDCjP9AAYq3V/T50PkfQg40Ig3JSDAEEEEAAAQQQQKCEAAGkBFKJUxYjgJRoRn+nOOd0U8JldXAHZFkNJ51BAAEEEEAAgWUoQAAJM6gDDSBhmrgyqhBAVsY400sEEEAAAQQQWLoCBJAwY0cACeNYuQoBpDIhBRBAAAEEEEAAgYEKEEDC8BJAwjhWrkIAqUxIAQQQQAABBBBAYKACBJAwvAMNINbau7Sb6Zz7Yfv/7/z5QrrRWWshrx/F1xBARnFUaBMCCCCAAAIIIPBnAQJImKth0AGkvQqWLp071hFAqqyOtVetMAzDr0IAGf4Y0AIEEEAAAQQQQGAuAQJImOtjMQKItlRDQ60rgCy0B3vVWmiRUXsdAWTURoT2IIAAAggggAACewsQQMJcEYMOIGe3m+mc+2BHANnz84V0o7PWQl4/iq8hgIziqNAmBBBAAAEEEEDgzwIEkDBXw0ADSJgmrowqBJCVMc70EgEEEEAAAQSWrgABJMzYEUDCOFauQgCpTEgBBBBAAAEEEEBgoAIEkDC8IxFAkiRZnef5RmPM7Y0xh3nvd4nI1caYn61ateqCSy+99Now3R3dKgSQ0R0bWoYAAggggAACCKgAASTMdTDUAFKv14+Louh1InKaiESzdOlm7/3Ha7XaC6ampq4O0+3Rq0IAGb0xoUUIIIAAAggggECnAAEkzPUwtAASx/GZxpiPisi4iHS2Y6b4955le3UVLRH5tff+flmWbQ3T9dGqQgAZrfGgNQgggAACCCCAQLcAASTMNTGUAJIkyVrv/WUisr+INI0x7/Hef9QYc0maptdr19asWXPL8fHxOxtjniwif6WhxBjzSxG5ffucMASjUYUAMhrjQCsQQAABBBBAAIHZBAggYa6NoQQQa+15InKOMeZGY8zpU1NTm+bqjrX2ESLyyeIxrVc6514apvujU4UAMjpjQUsQQAABBBBAAIFeAgSQMNfFsALItN7k8N6/KsuyfynTlTiO32KMOVdEtjrnjivzmqV0DgFkKY0WbUUAAQQQQACBlShAAAkz6sMKIDeKyKo8z+/eaDQuKtMVa+09ROTbetckTdODyrxmKZ1DAFlKo0VbEUAAAQQQQGAlChBAwoz6sALIlSJylPf+gVmWfa1MVyYmJjbmef5NEfmNc+6oMq9ZSucQQJbSaNFWBBBAAAEEEFiJAgSQMKM+rADyLhF5qvf+Y1mW/XWZriRJ8lbv/bONMR9P0/TxZV6zlM4hgCyl0aKtCCCAAAIIILASBQggYUZ9KAFkcnLyqGazeYmIHC4iL3bOvWau7sRx/FhjzIdF5IZms7lhenq6Eab7o1OFADI6Y0FLEEAAAQQQQACBXgIEkDDXxUADSJIkj56tmXme667nLy5+/xMR+UCe5xeLyO+MMT6KIt0RfdJ7f5Yx5gwR0Xkjz4ii6PtTU1MuTPdHpwoBZHTGgpYggAACCCCAAAIEkMFdAwMNINbavNhEsGoPtJ26GaEe3jnXuUlh1doj8XoCyEgMA41AAAEEEEAAAQRmFeAOSJiLYzECSJiW/rmKBpBa6KLDrkcAGfYI8P4IIIAAAggggMDcAgSQMFfIQANIvV6/V5hm7l2l0Wh8exB1h1mTADJMfd4bAQQQQAABBBCYX4AAMr9RmTMGGkDKNIBz/iRAAOFKQAABBBBAAAEERluAABJmfAggYRwrVyGAVCakAAIIIIAAAgggMFABAkgYXgJIGMfKVQgglQkpgAACCCCAAAIIDFSAABKGlwASxrFyFQJIZUIKIIAAAggggAACAxUggIThJYCEcaxchQBSmZACCCCAAAIIIIDAQAUIIGF4CSBhHCtXIYBUJqQAAggggAACCCAwUAECSBheAkgYx8pVCCCVCSmAAAIIIIAAAggMVIAAEoaXABLGsXIVAkhlQgoggAACCCCAAAIDFSCAhOEdaABJkuTt3vvdeZ6/pdFoTIdp8vKsQgBZnuNKrxBAAAEEEEBg+QgQQMKM5UADiLX2ShE5yhhzzzRNv9dusrX2myLivfd/m2XZ5WG6srSrEECW9vjRegQQQAABBBBY/gIEkDBjPOgAcpOIjHvv751l2QUdASTXAGKMuWOappvDdGVpVyGALO3xo/UIIIAAAgggsPwFCCBhxnjQAaR1B8R7//GZmZmnXnHFFRpIxFrbCiBRFJ04NTV1aZiuLO0qBJClPX60HgEEEEAAAQSWvwABJMwYDzqAfEhE/lrDhojMiMhvRWS3iKwpfnaViOzqsyveObeuz9eM/OkEkJEfIhqIAAIIIIAAAitcgAAS5gIYaAA59thjbzs2NqZzP44O09xWFQ0gtYD1RqIUAWQkhoFGIIAAAggggAACswoQQMJcHAMNINrEJEkO8d4/QUQmvPcHGWMiETm7mIT+RWPMNf12xTn3pH5fM+rnE0BGfYRoHwIIIIAAAgisdAECSJgrYOABpFcz23NAmIT+Zx0CSJgLmioIIIAAAggggMCgBAggYWSHFUCuKOaAPMg5NxWmK0u7CgFkaY8frUcAAQQQQACB5S9AAAkzxkMJIGGavryqEECW13jSGwQQQAABBBBYfgIEkDBjOhIBpF6vn2KMuZ8xZr2I3KqYH3KNMSYTkW86574TprujW4UAMrpjQ8sQQAABBBBAAAEVIICEuQ6GGkDq9fr6KIreJyInzdUd7/1PReQJWZZtDdPt0atCABm9MaFFCCCAAAIIIIBApwABJMz1MLQAkiTJ3bz3XxWRA0Sk3Y4/iMjvRESX2b21iBza7qYx5kbv/Ubn3I/CdH20qhBARms8aA0CCCCAAAIIINAtQAAJc00MJYDU6/VDoyjSx6tuoxsTeu/fnOf5u6enpxud3UqSJBGRp3rvnyMiY8aYX4rI7dM0vT5M90enCgFkdMaCliCAAAIIIIAAAr0ECCBhrouhBJA4jv+fMeYVuju69/70LMu+Pld34jjW+SFf0hAiIuc6584L0/3RqUIAGZ2xoCUIIIAAAggggAABZHDXwFACiLX2hyKyQUTOc86dW6Z71tq3icizRORC59zdy7xmKZ1DAFlKo0VbEUAAAQQQQGAlCnAHJMyoDyuAXFvM7zjNOfeNMl1JkuQ+3nu9U/Jb59yRZV6zlM4hgCyl0aKtCCCAAAIIILASBQggYUZ9WAHkRhFZ5b0/NcuyH5TpShzHJxtjLhKRm5xzB5Z5zVI6hwCylEaLtiKAAAIIIIDAShQggIQZ9WEFkGkRWeO9f2aWZe8o05UkSc7x3uvcj23OuXVlXrOUziGALKXRoq0IIIAAAgggsBIFCCBhRn0oASSO4/caY54kIlfkeX5io9G4bq7uFKtm/UxEbmeM+WCapk8O0/3RqUIAGZ2xoCUIIIAAAggggEAvAQJImOtiKAGkXq/fKYqi9n4eP/HeP3G2TQbjOJ7U0CEid9Yd0o0xJ6dp+uMw3V9YlXq9flytVnueiNzXe6/zUW4wxmh/zkvT9PMLqUoAWYgar0EAAQQQQAABBBZPgAASxnooAUSbniTJ67z3/6ihouiKroz1I+/9b/XfURTpHiEnee/vUmxUaIwxb0jT9AVhur6wKnEc/40x5l0iMl5U0D1JDmlX896/Ncuy5/ZbnQDSrxjnI4AAAggggAACiytAAAnjPbQAos231r5aRDRQRB1BpLtn2kYNKa9xzr04TLcXViWO43saYzYVgeiDY2NjL9yyZcuv165de8TY2NirjTGtR8OMMQ9P0/Rz/bwLAaQfLc5FAAEEEEAAAQQWX4AAEsZ8qAFEu6CPWEVRdG6e5/c1xtQ7u+W9153Rvz42Nnb+1q1bfx6mywuvEsfxpcaY24vIB5xzOodlryNJkk3e+3uJyFeccw/u550IIP1ocS4CCCCAAAIIILD4AgSQMOZDDyCd3di4cePYL3/5y8PyPDcHHHDAtVu2bNkVppvVq9Tr9VOiKNJlgK8bHx9fe9lll13TXVXPqdVqp3jvf+Gc+2w/70oA6UeLcxFAAAEEEEAAgcUXIICEMR+pABKmS4OpYq39NxF5oYj8p3PusaHfhQASWpR6CCCAAAIIIIBAWAECSBhPAkhJR2vtl0XkQcaYF6Zp+ro4jh9jjHmCzqfXzRFF5LvNZvP109PT+thY3wcBpG8yXoAAAggggAACCCyqAAEkDDcBpKSjtfZyEVnrvT/HGPMwEXlgj5feZIx5TL8T0LUOAaTkQHAaAggggAACCCAwJAECSBh4AkhJR2utzvm4lYhcJSJH6Z4fxpg3NpvN7WNjYxuazebbjDEbROTGPM9PajQal5Us3TqNANKPFucigAACCCCAAAKLL0AACWNOACnpaK3VCfGtvT+K/Uie3/nSJEkO8d7rbu3HishnnXOPLFmaANIPFOcigAACCCCAAAJDEiCAhIEngJR07AggN4yNjR25ZcuWHd0vTZLkHO/9+SKya+fOnbe88sorbyxZnjsgZaE4DwEEEEAAAQQQGJIAASQMPAGkpKO19moROUxEvuOcu2evl01MTByf5/nm4i7JHdI0bf3/ZQ4ewSqjxDkIIIAAAggggMDwBAggYeyHEkD0w/b09PRvw3RhcapYa7eIyORcmwzW6/Vjoij6pbYoz/O7NhqN75dtHQGkrBTnIYAAAggggAACwxEggIRxH0oAsdZ+Q0Ru671/VZZlHwjTlcFWsdZ+QkQe7b3/eZZlx/d6tyRJTvDeX6K/i6Jo7dTU1BVlW0UAKSvFeQgggAACCCCAwHAECCBh3IcVQH6njzN575+aZdn7w3RlsFU65nf4ZrN5u+np6dadjs7DWvsMXR1LRH7vnDtSRJplW0UAKSvFeQgggAACCCCAwHAECCBh3IcVQHaKyH55nt+90WhcFKYrg60yMTFxeJ7nGjoOEJEPOefO7nzH1atXH3jwwQfr3Y+6iJzvnHtmPy0igPSjxbkIIIAAAggggMDiCxBAwpgPJYAkSbLJe38PEXmJc+7VYboy+CpxHP+jMeb1xTu9q9lsvkTnstTr9XXGmPcYYzaKyLUzMzOT27Zt+00/LSKA9KPFuQgggAACCCCAwOILEEDCmA8lgFhrJ0TkAhG5hYi8NIqid09NTekqU6N+mDiO32SMeW5HQ/9Y9EN/9AdjzCPTNP1Wvx0hgPQrxvkIIIAAAggggMDiChBAwngPK4D8g/f+tsaYZ+m+fkVXfiEi20XkehHxc3TPO+dOD9P9hVVJkuQ+3vtni8ipRfj4la6OFUXRG/qZeN757gSQhY0Fr0IAAQQQQAABBBZLgAASRnpYASTvCBmdbZgreGiP9VwNILUw3R+dKgSQ0RkLWoIAAggggAACCPQSIICEuS6GFUB0edr5wsasPXTOrQ3T/dGpQgAZnbGgJQgggAACCCCAAAFkcNfAUALI4LqzdCsTQJbu2NFyBBBAAAEEEFgZAtwBCTPOBJAwjpWrEEAqE1IAAQQQQAABBBAYqAABJAzvyAWQE0444aDNmzfrPiELfkQrDM3iViGALK4374YAAggggAACCPQrQADpV6z3+UMPIPV6/Y5RFJ3jvd9ojLmdiNSMMXdK03RzHMf3N8a8RHcXd859IkyXR7MKAWQ0x4VWIYAAAggggAACbQECSJhrYZgBJEqS5M3ee12KV492W7wx5o5FAPk7Y8z5ejfEGPN1ETkrTVNdpnfZHQSQZTekdAgBBBBAAAEElpkAASTMgA4tgCRJ8nbv/dOK4PEHEblQRB5chI12AHmaMeY8vStSPJL1befcfcJ0fbSqEEBGazxoDQIIIIAAAggg0C1AAAlzTQwlgFhr7yEi3y5CxfvGxsb+fsuWLTusta39Qdp3QLSLSZKs9d5/QET0Nfq7J6Zp+tEw3R+dKgSQ0RkLWoIAAggggAACCPQSIICEuS6GFUA+JiKPEZHvOOfu1e5KrwCiv9uwYcP49ddf/yMROd57/7Usyx4YpvujU4UAMjpjQUsQQAABBBBAAAECyOCugWEFkP8TkaO990/IskzDSOuYLYAUv3uiiOidkN875/5icCTDqUwAGY4774oAAggggAACCJQV4A5IWam5zxtWALlJRMaNMSenafrjMgEkjuOTjTEXiciMc26/MN0fnSoEkNEZC1qCAAIIIIAAAgj0EiCAhLkuhhVAficihxlj7pem6bfKBJB6vf6QKIo+xx2QMANPFQQQQAABBBBAAIH+BAgg/XnNdvZQAkiSJJu89zqp/DXOuReXCSDWWt0H5FHe+29nWXbvMN0fnSrcARmdsaAlCCCAAAIIIIAAd0AGdw0MJYBYa3Xvj7eJyA5jzElpmqbaxdnmgMRxrMvxvkNXwfLe/32WZfraZXUQQJbVcNIZBBBAAAEEEFiGAtwBCTOoQwkgxapWm3WVXX2kSkRenuf5t6Io+rmGjDzP79xsNrePjY2dJCJ/a4w5o9gv5Bd5nk80Go2bw3R/dKoQQEZnLGgJAggggAACCCDAHZDBXQNDCSDanTiOjzXGbBKRY4r9QObqpbbzmlqttnHr1q0aUpbdQQBZdkNKhxBAAAEEEEBgmQlwByTMgA4tgGjzjz/++FvddNNNbzDGPE5EZlvZSjcn1Mnn5zrnfhWm26NXhQAyemNCixBAAAEEEEAAgU4BAkiY62GoAaTdhYmJicObzeZGEbmDMeZwY0zNe3+tiGzRR7MajcaVYbo7ulUIIKM7NrQMAQQQQAABBBBQAQJImOtgJAJImK4s7SoEkKU9frQeAQQQQAABBJa/AAEkzBiPUgCpTUxMrNu9e/dhIrJrfHz86q1bt/4iTDdHvwoBZPTHiBYigAACCCCAwMoWIICEGf+hB5AkSXRvjyeLiO4LckBXt/4oIl/z3p+XZdkFYbo8mlUIIKM5LrQKAQQQQAABBBBoCxBAwlwLQwsg9Xr9NlEUfVZE7lp0Zba2+OL371u9evU5mzZt2h2m66NVhQAyWuNBaxBAAAEEEEAAgW4BAkiYa2IoAaTYB+RiETmu2N/jal3pynt/ie4LEkVRJCK30f1AjDEPFZGDi6V6P+mce2yYro9WFQLIaI0HrUEAAQQQQAABBAggg7kGhhJAkiR5jvf+zUWoeP+OHTvO3b59+85eXdSlem+++eb3iMgjip3QH5Vl2WcGwzG8qgSQ4dnzzggggAACCCCAQBkB7oCUUZr/nKEEEGvt90VEdzn/H+fc6fM3UyJrrc4BOVVEvumcu1+J1yypUwggS2q4aCwCCCCAAAIIrEABAkiYQR9WANHJ5fpY1UOcc18u0xVrrd4B+bSIXOucO7zMa5bSOQSQpTRatBUBBBBAAAEEVqIAASTMqA8rgPxBRA7J8/xujUZD74bMe8RxfLIx5iIR2eGcO3TeFyyxEwggS2zAaC4CCCCAAAIIrDgBAkiYIR9WAPmGiGz03v9TlmVvKNOVOI7/zhhzvjHm+2ma6qNYy+oggCyr4aQzCCCAAAIIILAMBQggYQZ1KAEkSZIHeu/10Su9E3Kqc25qru4UH85/LCJHi8jjnHOfCNP90alCABmdsaAlCCCAAAIIIIBALwECSJjrYigBRJueJMkLvPevKULIv+R5/qFGo3FdZ7eK5XrPEBFdMesvvfdvyLLsn8J0fbSqEEBGazxoDQIIIIAAAggg0C1AAAlzTQw0gFhrey6t29H0/Yp9QHSzwVxEpkXkd8XyvIeJyLEi0j5npzFms/feO+fuFqb7o1OFADI6Y0FLEEAAAQQQQAAB7oAM7hoYdADRUBH60ABSC1102PUIIMMeAd4fAQQQQAABBBCYW4A7IGGukEEHkPeHaebeVZxzTxpE3WHWJIAMU5/3RgABBBBAAAEE5hcggMxvVOaMgQaQMg3gnD8JEEC4EhBAAAEEEEAAgdEWIICEGR8CSBjHylUIIJUJKYAAAggggAACCAxUgAAShpcAEsaxchUCSGVCCiCAAAIIIIAAAgMVIICE4R1qAJmcnIzzPH+w936d9/6gKIrmbU+e5z7LsqeE6f7oVCGAjM5Y0BIEEEAAAQQQQKCXAAEkzHUx7wf+MG+zbxVr7RtF5Ll91tf2sgpWn2icjgACCCCAAAIIIFBdgABS3VArDCWAxHH8NGPMOzq6cFOxIeHNZbrlnFtb5ryldA53QJbSaNFWBBBAAAEEEFiJAgSQMKM+lACSJMnF3vs7isjvvfePy7Lsm8VGhGF6tQSrEECW4KDRZAQQQAABBBBYUQIEkDDDPawAcoP3fn8R+Tvn3LvDdGVpVyGALO3xo/UIIIAAAgggsPwFCCBhxngoAcRae7WI3FJETnHO/ShMV5Z2FQLI0h4/Wo8AAggggAACy1+AABJmjIcVQL4uIvc2xjwmTdNPhenK0q5CAFna40frEUAAAQQQQGD5CxBAwozxUAJIHMdnGGM+LyI/XL169d03bdq0O0x3lm4VAsjSHTtajgACCCCAAAIrQ4AAEmachxJAtOlxHL/WGPN8Ednkvf/nLMt+qEvshunW0qtCAFl6Y0aLEUAAAQQQQGBlCRBAwoz30AKIiNTiOP6SMeY0DR7GmJu89zo3ZL67IboPyLow3R+dKgSQ0RkLWoIAAggggAACCPQSIICEuS6GEkCOOeaYAw488MD/FZFTi2700w42Igwz9lRBAAEEEEAAAQQQ6EOAANIH1hyn9vPBP8w7ioi19uUi8pKioPfebzHGXCUiZTcifEiwxoxIIe6AjMhA0AwEEEAAAQQQQGAWAQJImEtjWAFkSnOIiLhms3nG9PR0I0x3lm4VAsjSHTtajgACCCCAAAIrQ4AAEmachxJAkiRpbUTIMrx/HkQCSJgLmioIIIAAAggggMCgBAggYWSHEkCstb8SkSPzPL97o9G4KExXlnYVAsjSHj9ajwACCCCAAALLX4AAEmaMhxJA4jj+pDHmTGPM/2/vTuDkKOv8j/+e6skFiQcqKyFgyHQ9NQnCHwkI4hVFvO9r12NFPFnFY3VF10XF9b4XRNcTb3eVXXVXXMVjxQtlNayCJFNPdUgQGA8UdQnBTKbr+b9+Q03sTHpmuruemumefOr12tdKpupXT72fzqS+XfU8z8vSND0vzKUMdhUCyGD3H61HAAEEEEAAgcUvQAAJ08cLEkBGRkY25nmuTz5+Z4w5JU3T7WEuZ3CrEEAGt+9oOQIIIIAAAggcGAIEkDD9vCABRJueJMmzvPcfEJFbROT93vtLa7Xatd77nRMTE7OuBbJt27bfhLn8/qlCAOmfvqAlCCCAAAIIIIBAOwECSJjPxYIEEGvtFUXzjxKR23e5ArquAzIU5vL7pwoBpH/6gpYggAACCCCAAAIEkOo+AwsVQPISl8RChCXwOBQBBBBAAAEEEECgNwGegPTmNv2ohQogryvTfOecLmS4qDaegCyq7uRiEEAAAQQQQGARChBAwnTqggSQME1fXFUIIIurP7kaBBBAAAEEEFh8AgSQMH1KAAnjWLoKAaQ0IQUQQAABBBBAAIFKBQggYXgJIGEcS1chgJQmpAACCCCAAAIIIFCpAAEkDO+CBJA4jt/fa/ONMToI/YW9Ht+vxxFA+rVnaBcCCCCAAAIIIHCbAAEkzCdhQQKItVZnwfI9XIK2l1mweoDjEAQQQAABBBBAAIFyAgSQcn5TRy9kAOnmCrwx5nrv/RY9yDn3sG4OHoR9eQIyCL1EGxFAAAEEEEDgQBYggITp/QUJIB003dTr9VUisqZWqz3Ye//3umCh9/5ZWZZ9toPjB24XAsjAdRkNRgABBBBAAIEDTIAAEqbD+zWA7HN19Xp9OIqiy0XkoDzPT2w0GleHufz+qUIA6Z++oCUIIIAAAggggEA7AQJImM/FQAQQvdQ4js8xxvyjiHzKOXd6mMvvnyoEkP7pC1qCAAIIIIAAAggQQKr7DAxMALHW3ldEviMiNzjnjqiOZGEqE0AWxp2zIoAAAggggAACnQrwBKRTqdn3G5gAEsfxacaYS0Rkt3NuRZjL758qBJD+6QtaggACCCCAAAII8ASkus/AIAWQTxtjnioiO5xz66ojWZjKBJCFceesCCCAAAIIIIBApwI8AelUqg+fgOjN9lzNz/PcLF++fHmz2TzSGHOm9/4pugaI9/6DWZa9YK7jB+3nBJBB6zHaiwACCCCAAAIHmgABJEyPL8gTEGtts4fma1t31Wq1o7du3XptD8f39SEEkL7uHhqHAAIIIIAAAgiwEnqgz8BCBRBdCb3b7RfGmDPSNP12twcOwv4EkEHoJdqIAAIIIIAAAgeyAE9AwvT+QgWQ13XQfC8iEyLyB+/9zw8//PDLLr30Uv3vRbkRQBZlt3JRCCCAAAIIILCIBAggYTpzQQJImKYvrioEkMXVn1wNAggggAACCCw+AQJImD4lgIRxLF2FAFKakAIIIIAAAggggEClAgSQMLwEkDCOpasQQEoTUgABBBBAAAEEEKhUgAAShrfSABLH8f3CNHPfKlmWfbeKugtZkwCykPqcGwEEEEAAAQQQmFuAADK3USd7VBpArLU625UOJg+5eefcUMiC/VCLANIPvUAbEEAAAQQQQACBmQUIIGE+HfMRQMK09M9VNIDUQhdd6HoEkIXuAc6PAAIIIIAAAgjMLkAACfMJqTQSbjrVAAAgAElEQVSAxHH8hDLNNMZsFJGXi8jUEw9t70+dc8eXqduPxxJA+rFXaBMCCCCAAAIIIPBnAQJImE9DpQGk1yYee+yxB996661vMsa8QET0aYe28xYReZ1z7jwR6WUl9V6bMy/HEUDmhZmTIIAAAggggAACPQsQQHqm2+fAvgsgSZI8RkTO996vKYKHeO+/nOf5Wdu2bbsuzGX3XxUCSP/1CS1CAAEEEEAAAQRaBQggYT4PfRNArLWHi8gFIvLo4tK0bTeIyIudc18Mc7n9W4UA0r99Q8sQQAABBBBAAAEVIICE+Rz0QwAxSZK8xHv/ehFZWTz1yL33FyxZsuScLVu27Axzqf1dhQDS3/1D6xBAAAEEEEAAAQJImM/AggaQer1+vDHmQ8aYe7S8bnWF9/55jUbjijCXOBhVCCCD0U+0EgEEEEAAAQQOXAECSJi+X5AA0jLI/IUiEhXh42bv/WuyLNPXsHT9kANqI4AcUN3NxSKAAAIIIIDAAAoQQMJ02rwHEGvt40REZ7LSMR9T59cxHjrWQ8d8HJAbAeSA7HYuGgEEEEAAAQQGSIAAEqaz5i2A1Ov1NVEU6dONRxVN13P/Is/zFzUajS+HuZzBrUIAGdy+o+UIIIAAAgggcGAIEEDC9PN8BBBjrX2piOgg84OLpx66jsd5O3fufO3Y2NiuMJcy2FUIIIPdf7QeAQQQQAABBBa/AAEkTB9XGkBGRkY2eu8/5L0/ruV1q8uNMc9P0/TKMJewOKoQQBZHP3IVCCCAAAIIILB4BQggYfq20gBirZ0ogoeex4vIuPf+O8aYMoPMvXPuEWEuv3+qEED6py9oCQIIIIAAAggg0E6AABLmc1F1ANGgocEj1DYZZJxztVAF+6UOAaRfeoJ2IIAAAggggAAC7QUIIGE+GVUHkB2BA8jkVTvnjgpz+eGqWGvfJCKvNsZ8J03TTd1WJoB0K8b+CCCAAAIIIIDA/AoQQMJ4VxpAwjSx/6skSXJvfbVMRGoEkP7vL1qIAAIIIIAAAgj0IkAA6UVt/2MIICUdkyRZ5b3/mYhMPpUhgJQE5XAEEEAAAQQQQKBPBQggYTqGAFLSMUmSC733Z4jIrSKyggBSEpTDEUAAAQQQQACBPhUggITpGAJICcdiVfcviMhPjTH/q0GEAFIClEMRQAABBBBAAIE+FiCAhOkcAkiPjhs2bLjrxMTEVSKyqlarnZDn+Vne++cTQHoE5TAEEEAAAQQQQKDPBQggYTqIANKjo7X2v0TkYd77s7Mse0eSJB8ggPSIyWEIIIAAAggggMAACBBAwnQSAaQHR2vtC0TkfSLyPeecTrmbE0B6gOQQBBBAAAEEEEBggAQIIGE6iwDSpWOSJImIXOG9z40xx6Zpul1LEEC6hGR3BBBAAAEEEEBgwAQIIGE6jADSheOmTZuGxsbGfigiJ4jIc51zH5k6nADSBSS7IoAAAggggAACAyhAAAnTaQSQLhyTJHmD9/4cEbnYOfeo1kMJIF1AsisCCCCAAAIIIDCAAgSQMJ1GAOnQsV6v3yuKou+JyO+HhoaO2bJly68IIB3isRsCCCCAAAIIILAIBAggYTqRANKho7X2YyLyTBH5k4j8sc1ht9OFCEVkj4jcpD+Poujxo6Ojl3VyiuHh4UNrtdqvdd/LLrtM7nSnO3VyGPsggAACCCCAAAIIzJMAASQMNAGkQ0dr7cdF5PQOd5/cLYqiB4yOjl7ayTEEkE6U2AcBBBBAAAEEEFg4AQJIGHsCSBhHZsEK5EgZBBBAAAEEEECgXwUIIGF6hgASxpEAEsiRMggggAACCCCAQL8KEEDC9AwBJIwjASSQI2UQQAABBBBAAIF+FSCAhOkZAkgYRwJIIEfKIIAAAggggAAC/SpAAAnTMwSQMI4EkECOlEEAAQQQQAABBPpVgAASpmcIIGEcS1dhFqzShBRAAAEEEEAAAQQqFSCAhOElgIRxLF2FAFKakAIIIIAAAggggEClAgSQMLwEkDCOpasQQEoTUgABBBBAAAEEEKhUgAAShpcAEsaxdBUCSGlCCiCAAAIIIIAAApUKEEDC8BJAwjiWrkIAKU1IAQQQQAABBBBAoFIBAkgYXgJIGMfSVQggpQkpgAACCCCAAAIIVCpAAAnDSwAJ41i6CgGkNCEFEEAAAQQQQACBSgUIIGF4CSBhHEtXIYCUJqQAAggggAACCCBQqQABJAwvASSMY+kqBJDShBRAAAEEEEAAAQQqFSCAhOElgIRxLF2FAFKakAIIIIAAAggggEClAgSQMLwEkDCOpasQQEoTUgABBBBAAAEEEKhUgAAShpcAEsaxdBUCSGlCCiCAAAIIIIAAApUKEEDC8BJAwjiWrkIAKU1IAQQQQAABBBBAoFIBAkgYXgJIGMfSVQggpQkpgAACCCCAAAIIVCpAAAnDSwAJ41i6CgGkNCEFEEAAAQQQQACBSgUIIGF4CSBhHEtXIYCUJqQAAggggAACCCBQqQABJAwvASSMY+kqBJDShBRAAAEEEEAAAQQqFSCAhOElgIRxLF2FAFKakAIIIIAAAggggEClAgSQMLwEkDCOpasQQEoTUgABBBBAAAEEEKhUgAAShpcAEsaxdBUCSGlCCiCAAAIIIIAAApUKEEDC8BJAwjiWrkIAKU1IAQQQQAABBBBAoFIBAkgYXgJIGMfSVQggpQkpgAACCCCAAAIIVCpAAAnDSwAJ41i6CgGkNCEFEEAAAQQQQACBSgUIIGF4CSBhHEtXIYCUJqQAAggggAACCCBQqQABJAwvASSMY+kqBJDShBRAAAEEEEAAAQQqFSCAhOElgIRxLF2FAFKakAIIIIAAAggggEClAgSQMLwEkDCOpasQQEoTUgABBBBAAAEEEKhUgAAShpcAEsaxdBUCSGlCCiCAAAIIIIAAApUKEEDC8BJAwjiWrkIAKU1IAQQQQAABBBBAoFIBAkgYXgJIGMfSVQggpQkpgAACCCCAAAIIVCpAAAnDSwAJ41i6CgGkNCEFEEAAAQQQQACBSgUIIGF4CSBhHEtXIYCUJqQAAggggAACCCBQqQABJAwvASSMY+kqBJDShBRAAAEEEEAAAQQqFSCAhOElgIRxLF2FAFKakAIIIIAAAggggEClAgSQMLwEkDCOpasQQEoTUgABBBBAAAEEEKhUgAAShpcAEsaxdBUCSGlCCiCAAAIIIIAAApUKEEDC8BJAwjiWrkIAKU1IAQQQQAABBBBAoFIBAkgYXgJIGMfSVQggpQkpgAACCCCAAAIIVCpAAAnDSwAJ41i6CgGkNCEFEEAAAQQQQACBSgUIIGF4CSBhHEtXIYCUJqQAAggggAACCCBQqQABJAwvASSMY+kqBJDShBRAAAEEEEAAAQQqFSCAhOElgIRxLF2FAFKakAIIIIAAAggggEClAgSQMLwEkDCOpasQQEoTUgABBBBAAAEEEKhUgAAShpcAEsaxdBUCSGlCCiCAAAIIIIAAApUKEEDC8BJAwjiWrkIAKU1IAQQQQAABBBBAoFIBAkgYXgJIGMfSVQggpQkpgAACCCCAAAIIVCpAAAnDSwAJ41i6CgGkNCEFEEAAAQQQQACBSgUIIGF4CSBhHEtXIYCUJqQAAggggAACCCBQqQABJAwvASSMY+kqBJDShBRAAAEEEEAAAQQqFSCAhOElgIRxLF2FAFKakAIIIIAAAggggEClAgSQMLwEkDCOpasQQEoTUgABBBBAAAEEEKhUgAAShpcAEsaxdBUCSGlCCiCAAAIIIIAAApUKEEDC8BJAwjiWrkIAKU1IAQQQQAABBBBAoFIBAkgYXgJIGMfSVQggpQkpgAACCCCAAAIIVCpAAAnDSwAJ41i6CgGkNCEFEEAAAQQQQACBSgUIIGF4CSBhHEtXIYCUJqQAAggggAACCCBQqQABJAwvASSMY+kqBJDShBRAAAEEEEAAAQQqFSCAhOElgIRxLF2FAFKakAIIIIAAAggggEClAgSQMLwEkDCOpasQQEoTUgABBBBAAAEEEKhUgAAShpcAEsaxdBUCSGlCCiCAAAIIIIAAApUKEEDC8BJAwjiWrkIAKU1IAQQQQAABBBBAoFIBAkgYXgJIGMfSVQggpQkpgAACCCCAAAIIVCpAAAnDSwAJ41i6CgGkNCEFEEAAAQQQQACBSgUIIGF4CSBhHEtXIYCUJqQAAggggAACCCBQqQABJAwvASSMY+kqBJDShBRAAAEEEEAAAQQqFSCAhOElgIRxLF2FAFKakAIIIIAAAggggEClAgSQMLwEkDCOpasQQEoTUgABBBBAAAEEEKhUgAAShpcAEsaxdBUCSGlCCiCAAAIIIIAAApUKEEDC8BJAwjiWrkIAKU1IAQQQQAABBBBAoFIBAkgYXgJIGMfSVQggpQkpgAACCCCAAAIIVCpAAAnDSwAJ41i6CgGkNCEFEEAAAQQQQACBSgUIIGF4CSBhHEtXIYCUJqQAAggggAACCCBQqQABJAwvASSMY+kqBJDShBRAAAEEEEAAAQQqFSCAhOElgIRxLF2FAFKakAIIIIAAAggggEClAgSQMLwEkDCOpasQQEoTUgABBBBAAAEEEKhUgAAShpcAEsaxdBUCSGlCCiCAAAIIIIAAApUKEEDC8BJAwjiWrkIAKU1IAQQQQAABBBBAoFIBAkgYXgJIGMfSVQggpQkpgAACCCCAAAIIVCpAAAnDSwAJ41i6CgGkNCEFEEAAAQQQQACBSgUIIGF4CSBhHEtXIYCUJqQAAggggAACCCBQqQABJAwvASSMY+kqBJDShBRAAAEEEEAAAQQqFSCAhOElgIRxLF2FAFKakAIIIIAAAggggEClAgSQMLwEkDCOpasQQEoTUgABBBBAAAEEEKhUgAAShpcAEsaxdBUCSGlCCiCAAAIIIIAAApUKEEDC8BJAwjiWrkIAKU1IAQQQQAABBBBAoFIBAkgYXgJIGMfSVQggpQkpgAACCCCAAAIIVCpAAAnDSwAJ41i6CgGkNCEFEEAAAQQQQACBSgUIIGF4CSBhHEtXIYCUJqQAAggggAACCCBQqQABJAwvASSMY+kqBJDShBRAAAEEEEAAAQQqFSCAhOElgIRxLF2FAFKakAIIIIAAAggggEClAgSQMLwEkDCOpasQQEoTUgABBBBAAAEEEKhUgAAShpcAEsaxdBUCSGlCCiCAAAIIIIAAApUKEEDC8BJAenBct27d7Wu12otE5LHGGCsiy0TklyLy7Vqt9q6tW7f+vNuyBJBuxdgfAQQQQAABBBCYXwECSBhvAkiXjiMjIzbP86+LyN2KQ/9kjMm99wcV/z1ujHl2mqaf7qY0AaQbLfZFAAEEEEAAAQTmX4AAEsacANKF46ZNm4bGxsauFJH1IrLde//8LMu+JSJ+ZGTk7s1m83xjzCYR2ZPn+cmNRuOKTssTQDqVYj8EEEAAAQQQQGBhBAggYdwJIF04xnH8FGPMZ0Wk6b0/Icuyn7Yevnbt2uVLly7V0LHee/9vWZY9qdPy3QaQsTGRK64Q2bVL5KCDRI4/XmT16k7Pxn4IIIAAAggggAAC3d5PEUDCfGYIIF04Wms/JSJPF5FvOudOa3eotfbVIvImEbnROXdop+U7DSA33ijyyU+KOLd/ZWtFnvEMkbvcpdOzsh8CCCCAAAIIIHDgCfR6P0UACfNZIYB04WitfZkx5hTv/WXOuXe3OzSO4zOMMReKyG7n3PJOy3cSQPQvy9veJnLzzTNXXbVK5JWvJIR06s5+CCCAAAIIIHBgCZS5nyKAhPmsEEDCOO6tYq39iIg8W0S2OefqnZbvJIC86137P/nYs0ckz/c9S70uctZZnZ6Z/RBAAAEEEEAAgQNH4IILRBqNfa83ikSWLNn3z/TNkpe/fN8/I4CE+ZwQQMI4TlZJkuQo7/3VIrJCRN7rnHtxp+XnCiD6juLrX//najr2Y+tWkVtuaX+GE064bWwIGwIIIIAAAggggMBtAnrftHlze42DDxZZv37f+6dzzxU57LA/708ACfNJIoCEcZRiAPqlInKSiPxpYmIiueaaa37Rafm5AsjFF4t8+ct/rqZ/eWYKH7rX3e522/+xIYAAAggggAACCNwmcO21t/3fTJuGkI0b//zTRz1K5JGPJICE/vwQQAKIbtiwYenExMQXReThRbnnOec+3E3puQLI5z8v8i2d8Fen4GqK/OAHs1c//HCR4eFuWsC+CCCAAAIIIIDA4hbYtk3khhtmv8Z731ukVrttn1NPFXnykwkgoT8VBJCSohs2bFhZhI8HFaXe7Zyb9sbg3CeZK4DwBGRuQ/ZAAAEEEEAAAQRmE+AJSH98PgggJfph/fr1hzWbza+IyD2KMu9xzr2sl5JzBRDGgPSiyjEIIIAAAggggMCfBRgD0h+fBgJIj/1Qr9c31Gq1r3rvj9QSxpjXpmn6hh7LyVwBROsyC1avuhyHAAIIIIAAAgjcJsAsWAv/SSCA9NAH9Xr95CiK/ktE7qhDMowxz0/T9KM9lNp7SCcBpMy81WXaxrEIIIAAAggggMBiEShzP8UsWGE+BQSQLh2TJDnWe/8dEbmDiNya5/lfNhqNlvmpuixY7N5JANFde125s7dWcRQCCCCAAAIIILD4BHq9nyKAhPksEEC6cCwGnP9URIaNMbuazebDG42GhpHSW6cBZOpEv/zlbfNY63ogut6HThnXOk916QZRAAEEEEAAAQQQWOQC3d5PEUDCfCAIIF04WmvfIiKvKg453Tn3yS4On3XXo4466i+WLFnyK93p4osvlkMOOSRUaeoggAACCCCAAAIIBBC46aab5JHFwiB79uy56/bt238doOwBV4IA0mGX1+v1ZVEU/UZEbiciXkT0f8+6NZvNE7dt23bdXPvpz3VQexRFuoo6GwIIIIAAAggggECfC+R5fnSj0djS583sy+YRQDrslpGRkY15nv+kw90nd4ui6KjR0dEdnRxDAOlEiX0QQAABBBBAAIH+ECCA9N4PBJDe7UIfWavX64kWbTabv4uiSJ+ysCGAAAIIIIAAAgj0iUCe56ZWq91Jm9NoNFK9beuTpg1UMwggA9VdNBYBBBBAAAEEEEAAgcEWIIAMdv/RegQQQAABBBBAAAEEBkqAADJQ3UVjEUAAAQQQQAABBBAYbAECyGD3H61HAAEEEEAAAQQQQGCgBAggA9VdNBYBBBBAAAEEEEAAgcEWIIAMdv/RegQQQAABBBBAAAEEBkqAADJQ3UVjEUAAAQQQQAABBBAYbAECyGD3H61HAAEEEEAAAQQQQGCgBAggA9VdNBYBBBBAAAEEEEAAgcEWIIAMdv/RegQQQAABBBBAAAEEBkqAANIn3ZUkyZO99y8UkXuIyJCIbBeRi5YvX/6OK6+88pZum1mv15fVarWXeu+fJiKxiOwWkau99x/JsuzjIuK7rcn+vQmE7tvh4eF6rVb7WxF5kIgcaYzJ8zy/xhhzcZ7n7240Gjf21lKO6lYgdN+2OX9krb1URO4rIq93zp3bbRvZv3eBKvo3juNHGGPOFJF7isgdReRGY4z28dvSNL2y99ZyZDcCoft2/fr1h01MTJwtItq/R4rIhPd+NIqii2655Zbzr7/++lu7aR/7hhNYv3593Gw2f+a9/26WZQ/tpTL3VL2ozX4MASS8adcVkyR5h/f+74oD9xRhYWXx327Pnj332759+687Lbx27drlS5cu/Xpx06KHaYDRULOsqPEF59yTRCTvtCb79SYQum+ttY81xnzGe39Q0aL/ExH939q/uv1SRB7mnPtZby3mqE4FQvdtu/Naa18lIm8pfkYA6bRzAuxXQf8aa+0HROR5RfP096/elB489bvfGPO0NE0vCtB8SswiELpv4zg+zhjzDRG5c3Fa7dclU7+Xvfc/z/P81G3btv2GjplfgSRJVuV5/m1jzEbv/SW9BBDuqarpMwJINa4dV02S5Gne+09rGDDGvKzZbH6g0WjsHhkZ2eS9/4T3Xr9J+aZz7rROi1prPyIizy6+WXtGmqaXbNy4cejmm28+XUQu0CDivX9NlmVv7LQm+3UvELpv6/X6cBRFPxeR5fqZyPP8JY1GY8uGDRuWNpvNB3rv/1lE1orIdTt37hwZGxvb1X2rOaITgdB92+6c9Xr9HlEUXV7cyOguBJBOOifAPlX0bxzH5xhj3iAiTRF55a5du96v34qPjIwc473/oPf+XvplkTHGpmk6FuAyKNFGIHTf6u/fiYmJrSKyToOG9/65jUbj8g0bNixpNptPKn4vrxKRrzjnHkmnzJ/A0UcffciePXv+Q0Tuo2ftNYBwT1VNnxFAqnHttGrNWjsqInUReatz7u9bD6zX60dHUaTfZNeMMaemafrfcxWO43idMcbpMVEUPXR0dPSS1mPiOD7TGKM3qjePj48fuWPHjj/MVZOf9yQQvG+ttR8svj1tGzCstSMi8r9FQDnLOfe+nlrOQXMJBO/b6ScsvnHbLCIbRORPRZ8SQObqmTA/D96/9Xp9TRRFmfaj9/6M4jXYva095phj7rh79+5rROQOxphXpmn69jCXQpVpAsH7NkmSx3jvv6RfItZqtXVbt269tvWc1trnisiH9M+MMYcTLufnM1mv1+8VRdG/iMjdps7YSwDhnqq6/iKAVGc7Z+WRkZGH5Hn+NQ3mzWbzru0ez1prvyAijxORTzjnnjlXUWutvq6hr21c7Zy7+/T9N23aNDQ2Nqbfrt2l3T+Ec9Xn550JVNS314nIGu/9OVmWvaldS6y1+urdad77i7Ise3JnrWWvbgSq6Nvp50+S5Dzv/YtF5P0icqqIJDwB6aaXet+3iv5teZXu+845Hc+z31aMSbhLnuebG43Gj3q/Ao6cSaDivh1zzh0+/dzF+AP9UlC/gT85yzJ9qslWkUC9Xr9dFEX65ZuOfzXe+8wYo68m36+XAMI9VUUdpZ1TXWkqzyUQx/Fb9dsuEfmZc+64GW4oXyAi+pfp1865u85V01qr/3Cd5L0/L8uyl7bbP47jzxtjdAzI55xzfzVXTX7evUAFfVtLkuQC7/0aY8x7ZnoaZq39hIg8o5dftN1f5YF5RAV9uw9kHMenGWMu8d43brnlluNWrlx5BQFk/j5rVfSvtfaHInKy9/7MLMv0SSbbAghU0bctbxX4Wq121PQnIC2vfDWbzeZqxoFU2/HFeBx9E8AbY/TJ0yu89+8VkdN7+XeRe6rq+osAUp3tnJWTJPlP7/2jRORfnXNPmSEs6M2IfqstURTdeXR09HezFbbW6qDkVbP9Q2et1W/PX63vq2ZZdsycDWWHrgWq6NsOGqGDXPWbNn2l76POued0cAy7dClQZd8W7yxfJSJ/kef5ffSb8OI1TZ6AdNlPve5eQf/q38ubdbC5fgO+YsWKn996660vMMY8pnii+duWGez09zdbRQIV9K0kSXKU915/7+pEID/V12Sdcz/ZtGlTbWxsTP991zGZh+gXic65syq6NMoWAkmSHCsib2w2m+c2Gg398kastTrzZ68BhHuqij5dBJCKYDspG8fxT3RmBmPMO9M0fUW7Y+r1+oYoiq7Wn9VqtWO2bt2qg5Dbbhs2bFg5MTGh/9Dpo95HZln2lXY7Wmunnqr8zjk3NWtHJ01mnw4FQvdtJ6e11urTLH3nVfv/CVmW6et7bIEFquzblqeTb3bO/UPxj6eOEyOABO7HmcqF7t9169YdOTQ0NDUuQKfO1m9l17U5/7W1Wu20rVu36lgRtgoEQvftVBPjOH6RMea8lrdKdBYsDSQ6E9YfvPfvyrLszcw8WUGndlCy1wDCPVUHuCV2IYCUwCt7aBzHzhija3TMOLi0+HZFByfqE5B7j46OXjbTeZMkWe29v6HY9wGjo6M6t/x+WxzHZxhjLhSRPc65pWWvg+PbGgft27mMixmy/ke/aSuebP0//rGbS623n4f+ezvVCmvtX4vIJ/Vb1FWrVt1z8+bNOiW3fntHAOmtq3o6KnT/6jey3vupabH1XfQ7iMjZOkA2iqLdExMTjxCR80XkUBFJd+7ceTwz2PXUdXMeFLpvW09orX24MeailinSp358s4aT3bt3v2nHjh06oQTbPAv0GkC4p6q2owgg1frOWt1aq8HiKBH5B+ecfjuy39b6F8B7f/8sy747U9HWb9pmCytxHD9V15LQL8qdc9ECEizaU4fu29mghoeHj6jVavq50Cl4/2SMOYkFzar7aFXRt+vXr79bs9nUReh0AdETWp90EkCq68t2lUP378jIyCl5nv9g6lztnk4X763rFwhLvPcvybJMAwlbYIHQfTvVvCRJXqOTg4jIFmPMy3fv3n3Z0qVLV+qTaGOMzmh2OxH5r1WrVj126ouFwJdGuVkEeg0g3FNV+7EigFTrO1cA0VerdJrNjp6A5Hl+r9lmR6nX63eJomhyoaMoijp5ArLbOadrSrAFFrDWBu3bmZo3MjJivfffKNaLmRCRJzvnvhj4cijXIlBB3+pq598uZml5RZZl72wFJ4DM78cvdP9OCyDfdc7df4bg8zn9+ysi33PO3W9+r/rAOFvovlW14vWr83W2pSiKNqZpOvka9NQWx/FJxpjvabg0xjwnTdOPHhja/XOVvQYQ7qmq7UMCSLW+cwWQqRmr3p5lmc6Gtd9WrAUyOe4jz/OjdeG5mYoWawfou6e6Pdw599UZ/qF7YbEg4Y3OOX3szxZYoGXmjCB92655SZLc23uviyzdSV+nYxXlwJ04Q7nQfZskydne+7eJiN6cPmD6q3MEkPnp16mzhO5fXWgwz3N9uqVjs96QZdlr213R1I2siPzeOaeDltkCC4Tu22Jae33tWf8dfYZz7lMz/Jurf/50EfmRc04XnGSbR4FeAwj3VNV2EgGkWt9Zq8dxfJEx5one+89kWaa/nPbb6vX6g6MomlxMcNmyZYdcddVVv5+tqLX2RhHRgeXPdc7p7Bv7bdZafd1LF0Tjzg8AABaxSURBVD2ccfrfBWRZFKeuom9bYeI41kf7ny4WqNPVk5+YpqmuKcNWsUDovrXWbi9en9PZVqa+QGi9Cv37XNNVskVkp/6gkym5K2ZYtOVD9+/w8PChtVrt1wo22yKDSZI83XuvN6o8ma7o01VB39ZrtdrkpAF5ntcbjca2dk2P4/h5xhidfvkm55x+YcQ2jwK9BhBtIvdU1XUUAaQ62zkrW2vPFZHXiciPnXP3nCEsTD2t+KVzbvVcRZMkuVTHihhj3pGm6dkz/DKcDD46Y5Jz7qlz1eTn3QtU0bdTrUiS5G+89xfom3YiooHzEc65H3ffSo7oRSB031prd7Su1ttJm5xz/O7uBKqHfUL3b3ETowFEvyW/wDn3ohl+L7+4mEnpWuecjudiCywQum/r9frJURTpGi86S6WdaQazOI6faYz5mDFmV5qmBwe+LMrNIVAmgHBPVd3Hi3/EqrOds3K9Xr9/FEU6U9XEsmXLDm33dMNaq+/zP3a2tUJaT2St1UBzrjHmijRNN05vxLSV0FkUa85e6m2HKvq2uJF5hojonOb6d3d7rVZ7CNN29tZHvR5VVd/O1B5eweq1p3o7ror+tdZOju/QcQJZlumUyn5661qmYP6ic+7xvbWeo2YTCN23xQQgvyjO+UznnC4Eu99mrdWF8HQNEN46WICPaJkAwj1VdR1GAKnOtpPKOvhUf3kdLiJvdc7pa1F7t+LdYV3RszbXDFhTB1lrR3QmDr1BjaLooaOjo5Ovb7X8fGoNkD/meX5ko9Fg4atOeqr7faroW51aV2fKWVoMeNyUpulY903jiJICwft2tvYQQEr2VveHB+9fa+3DdBYkbYox5tlpmuo06Hu3YqyfLpq21Bjz5DRNL+q+2RzRgUAVfauLD+rv5tHx8fF7TJ9qt5hJSRcXvZ33/jVZlr2xg3ayS0CBkgGEe6qAfdFaigBSEWynZa21pxffaOs3Yufs2rXrPddff/2tIyMjm/I81zUBjhCRbznndAGryc1aq4HlW8V/6iN9fR1n72at/ZiIPFMHM4rIs51zXypWZT1DRPSbmGX8Iuy0h3rfL3TfWmv1Uf/JOhbAe39ilmVbe28dR5YRCN23s7WFAFKmp3o7tor+tdZerK9Lisi49/7v9uzZ82G9WZ32u/4Hzrn7tntC0tuVcNR0gdB9W4zT1Alf9JXYy6IoevHo6Ohm/e84jh9YjP3QhSe353l+HF/6zf9ncq4Awj3V/PeJnpEAsjDu+5w1SZIPeO+fX/yhLj6mixWtKv47XbJkySlXX331TVMHjYyMrM3zXAeu6rbfFL7r1q27/dDQ0NdFZHJcib536r3XQazLimM+75zTVbP3ew2gDzgWVRNC9W3ru8Y6SFVX150D6jrn3ImLCrPPLiZU3851WQSQuYSq+Xno/q3X67eLoujLOt1y0eKmiOxq+V1/dbPZfNi2bduuq+aKqDolELpvrbXPFZH3FSuf62l0wggNJCuKc+7w3j+cL40W5jM4VwDhnmph+oUAsjDu+501SRKdDUtfjzpef2l5768VkS80m823XHPNNX9sPWCuvyy6b71e1wXNXuK910UHY++99vXVugJ6mqY6G0feJ5e+6JsRom+ttS8XkX3Wh5gDjoGs8/DJCtG3czWTADKXUHU/r6B/oyRJzvDe65PvY0VkSER0QdrPGmPeN30NiequjMqh+7Zer2+IouhvReSBxWvV+mVi5r3/d+/9e3nysXCfubIBhHuqavqOAFKNK1URQAABBBBAAAEEEECgjQABhI8FAggggAACCCCAAAIIzJsAAWTeqDkRAggggAACCCCAAAIIEED4DCCAAAIIIIAAAggggMC8CRBA5o2aEyGAAAIIIIAAAggggAABhM8AAggggAACCCCAAAIIzJsAAWTeqDkRAggggAACCCCAAAIIEED4DCCAAAIIIIAAAggggMC8CRBA5o2aEyGAAAIIIIAAAggggAABhM8AAggggAACCCCAAAIIzJsAAWTeqDkRAggggAACCCCAAAIIEED4DCCAAAIIIIAAAggggMC8CRBA5o2aEyGAwHwKxHH8TGPMx0qc81rn3Fo9Po7jTxtjniYitzjnVpaouegOjeN4fZZlWwf5woaHhw+t1WpXi8iNzrljRKRZ9fUMDw/Xa7Vapufx3r8iy7J3hjqntfZyEVk/MTFx92uuueYXoepSBwEEEAglQAAJJUkdBBDoKwECSLXdkSTJahE533t/e+fcadWerdrq1toviMjjjDGPSdP0P6s9223Vqwwg9Xr9/lEUXSoi3xz0vpmPvuAcCCAw/wIEkPk354wIIDAPAkcfffQh4+PjR7Y7VRRF/+i9f1Txs0d478em7+e9H280Glv0z3kCsr9ikiSXeu/vLyLfcs49aB66tJJTxHH8CGPMxcaYH6ZpekolJ2lTtMoAoqez1n5VRB4qIk9xzv3rfF0X50EAAQQ6ESCAdKLEPgggsKgErLUfF5HT9aKiKDpqdHR0x6K6wHm4GGvt90Xk3oMcQDZt2jQ0Njamr17ZPM8f0mg0vj4PdPNyinq9fnIURT8UkevGx8ftjh07/jQvJ+YkCCCAQAcCBJAOkNgFAQQWlwABpHx/LoYAYq19hoh8QkSuds7dvbxKf1VIkuQy7/29ROQs59z7+qt1tAYBBA5kAQLIgdz7XDsCB6gAAaR8xy+SAKKv2K0Xkb9zzr2rvEp/VYjj+HnGmA8aY36Rpum6+Rhc318CtAYBBPpVgADSrz1DuxBAoDKBbgPITGNA4jh+kDHmG9rQoaGhVRMTE7c3xpztvX+0iNxVZ1USka/XarU3bN269VrdL0mSY733fy8im0TkEBHRWYr+bfny5W+88sorb5npoouBxc8XkfuIyKEislO/uReRzw8NDX14y5Yt472ArVmzZsVBBx10pog8QUT0KcAKEfmdiPyv9/6iLMs+1Xrj2mLR7nT3dc7pq1l7tziOjzPGnCUiDxSRw0REXwVyIvIlY8wFaZrePL2QtfY5IvJhEdntnFuuZiLyWu/9fUXkDt77a40x/5nn+dsajYYad71Za7XWd/VAY8zhaZruMw6oeD1rj/5cxwt5779Rq9Ve4r1/ujFm2HuvffVjY8yb0zT9ge5Xr9fvEkXRq0TksSKyRkRuEpFvGGNel6bp9tZGzjYGZCrcee/Py7LspUmSPEZEXuC9v4eIrPLeXxdF0X80m823z3b9a9euvcPSpUvVZ8h7/8gsy77SNRQHIIAAAhUIEEAqQKUkAgj0t0AVAcQYc6r3/nMicuc2V/+riYmJk5YsWXKS915v6JdN30cHQa9cufL+mzdvnrzpndqKG+H3i8hzZ1HdWtxgXtONvN4wG2P+2xgz2+tHP1m2bNmDr7rqqt9r7W4CiLX2dRocdKjNDO0ai6Lo0aOjo5tbf94aQPS69Gbbe39Qmxq/zPP8tEajoUGsq81a+6HC9CrnnAacfbbWAFKMF/pbETmuzUn2eO8fJyLXGGN0DIkGj+nbb2u12glTIVR/2GkAMcYMicgLZ7i430RRdN/R0VENdG03a62Go1OKMPnkrpDYGQEEEKhIgABSESxlEUCgfwWqCCDFU4NVxpjzROSreZ4frO/eG2MeUkjot+33LPZ7s/d+cxRFR3jv9QZd157Qb+Kfnabpha1y1toPisjzij/T2Zo+UTwBuFOe5482xujTgiUisn18fPz4HTt2/KFTeWvtv4jIX+mTBmPMe733/+29v6lo198UTy20XR9M01Sfksi6deuOrNVqhxRrrOgN+eXe+8mfrVixIpt6imOt1ac8by7a8n2t4b3XG2X9Bv/Bxhi9qVaj30dRdHzrRAAtAUTX49Dr0SdFFxpjPmOM8d77v/Leq4n+G/ab8fHxpJvr1uOstTfoE5mppwzTzaYFEH0idCcR+YL3/sIoinblef4YY8xLiuO2Ff//cBF5t4h8zXu/rLhGfRqi26ecczrmZHLrJICIyK9F5C9EZNQY8848z39ujNGnSC8TEX2Co9usU+0mSfIG7/05IvJ/q1atuvP0gNvpZ4X9EEAAgZACBJCQmtRCAIGBEKgogOi1P94598UphOImVmfY0htT3X5tjDm+9XWf4rUdfT1Hb8a/4JzTV6EmtyRJHqChoPjPlzvn9OZ2n614DewSfcrgvf+nLMv0m/o5t+LVqz9qeJlhIbzIWvtNEXmAvu61evXqO1566aUTU4VnGwOyfv36uNls6vgKffVHXyPSNvnWRo2MjByT57nO0qTX/SXnnD5FmNxaAsjkf3vv/ybLsg+0Hm+t1SdC+hRDA9I70zR9xZwXXewwMjKis16lxbHPSdP0o9OPnRZA9Bznp2k6FTim2qnT2/5lcWzuvX9olmWTr+QVmwYdvcaTNHg65/Y+HeswgGiZy3fu3PnAsbGxXVNFN27cuGTnzp0/8t4frzy1Wu3wrVu3/rLd9SdJ8iTv/eeLaz0xTdOfdOrEfggggEBVAgSQqmSpiwACfStQUQD5gXNOx2fssyVJ8gHvvY7d0JvYV6Zp+vbp+8Rx/G1jjI4J+Zlzbu9rPtbaL4mIvv//P845vYltu7Vcz85Vq1Yd0sm33PV6fU0URdcVBfcJTlMn0QCk3/SLyLYVK1Zc2DpGZbYAEsfxPxVPB25YtWrVUTO1x1p7rojoa1q5MeaIqWA2LYB8zTn3sHYXbq3VcKYB6bfOOX1SkHfyobPW6lMfffojeZ6f0mg0NCTss7UGEGPMrmazeVij0fi/1p1a6+hTL+fcw6fXKV5D0+uU8fHxO049qek0gERR9IDR0VFdVHCfzVqroW4qkD7IOfetdtder9ePjqLo5/qzdkGuEy/2QQABBEILEEBCi1IPAQT6XqCKAGKMeWOapq+Z7QbUe39ylmWXT98njuOLjDFPFJGGcy4ufl6z1uoTioO992/LskwHN7fd4jh+ijHms8UN9b0ajcaP5uqE4gZbXy26nYjsiKLozNHRUf32vtOb+BnXAbHWjuoDHBH5nHNOb/bbbvV6/V5RFF1W/HDvgnnTAkjbcKTHJEnyLO/91NOLk5xz/zPXdevP4zj+B+0v/d979uy56/bt2/VVp322aU9Avu+cm3rlae9+LSuOa7h8VZqmb2vT//qq2QXFn69xzumrX52+grV79erVK1ufPE3Vt9bqq12TT9uMMY9N0/Q/2l372rVrly9duvTWYr93pGl6didG7IMAAghUKUAAqVKX2ggg0JcCVQQQHdDsnPtImxtQDQ5v0T+fadHDloHd25xz9eLmOvHe6418V5v3/qlZlk1+uz/X1jI+YGrX33rvLzHGXJLn+ddmm2FppicgxQ2vvi7U7b8vr3bOTTq1BpBarbZ6pteL6vX68VEUTQ5gN8b8dZqmn57rmov6GggmB3aPj4+vaLdI37RZsD6TZdnTp9duWexPny6ckWWZLnC5z9Z6LXmeH9FoNK7XHTp8ArLDOXdUu2uK4/i0YtC7nvuJWZb9+0zXbq3dLSJLReTTzrm/7sSIfRBAAIEqBbr9B6LKtlAbAQQQmBeBigLI3m/wWy/CWrs3gLTegLbu0y6AjIyMnJLn+eT0rt1sxpgXpGn6zx0eo09Z9Ft7Hdugsy21bvokRJ9y/LNzTsc6TL+xbvsEJEmS1d77yW/5u9m892/PsuyVekzLTbt3ztWmjx+ZqqsD4oeGhianNxaRtmNk2rXBWvsxEXmmPgBxzumN+X7btFew9g7Cb92xNYDMFIBKBpAZF0hsnQLaGPOkNE3/bSZva61OxavjT77onHt8N/3CvggggEAVAgSQKlSpiQACfS1QRQCZ6Saw1wDSuk6FiJzrvW/7is10aGPM9c6533bTAdbaw733+hqXjvfQlbP1pn/vZoz59zRNdbC1zko1uc30BGR4ePiIWq2ma5vo9iHvfUdhKIqi37QZA9J0zk0PRnvbNTIysjbP88n1Nbz3L86y7L2dXHeSJBfqE4updUbaHTPtFaz3Oed0LZN9tgEKIPqKma4ds88kB51YsQ8CCCBQhQABpApVaiKAQF8LDEIAWb9+/d2bzeZVxc312VmWvWM+UNetW3f7Wq12qjFGp/jVGZSm1t843Tn3ybkCyIYNG1ZOTExMLS74fufcTGtYzHg5054a3H764O+WNpyoA/T1v40xf5mm6eRsT3Nt1trzReRFul/xhGW/cS+LLIBof6wUkU86506fy4efI4AAAlULEECqFqY+Agj0ncAgBJBiLIUOQl861yJyOpjbGHOfKIq2e+8v7fAJiFm3bt0RS5YsGU7T9NvtOqlYxVzHWOhCgv/inHvqXAFEf26t1ScgR+hK4c45Xfuk7WatHRERnX53e57n358aHzFtEPp+q6tPFYvj+PnGmKnpedc75zoaM9O6RsnQ0NBhW7Zs+dX0Bi6WALJ69eqDVq5cqau26/ZW55yuz8KGAAIILKgAAWRB+Tk5AggshMAgBJDiRn5qmtk/7dmzZ2272ZqK/XSRw8lZmmYa6D7dOUmS13jv/3GuY6y1ur7EXaePH7DWfk9EdNrhbznnHtRav+UVJ/3j45xzP2vXz9ZafaIyOSi6dbrZaQGk7etPxXVPtaF19rA5P1JJkjxRQ53uONPMZIslgMRxvN4Yo2uy6FOitmuezAnGDggggEBgAQJIYFDKIYBA/wsMSgCJ4/jxOv6iEP3m+Pj4o6bP2GStbZ3mte1aFO16JEmSE7z3Py5+1na63NZxKN7712RZNjl1bXHzr4sUnioiP3LO6biRvdvIyMjGPM+1tv4bc2UURQ8cHR3VKX/3bkmSPNp7r9PI6tMVHWytq8FPLlY4LYDs0fM45zRs7N3iOH6RLg6of2CMeWmaproCfUdbkiRHee+vKXZuO3vZYgkg1loduzM1icCMYbAjOHZCAAEEAgkQQAJBUgYBBAZHYFACSHEzrgFkauYifcXo3XmeX2WMubOO0SieIOjv8luiKDp+dHTUddoT1tqvishDi/2/Z4z5YLPZvGZoaOh2ukCfiLy0WCfk93meJ63T8iZJ8hmd8ldnsjXG6Hoc2ZIlSxpXX331TUW73yUiLytq36CrlRtjdLzGKu/9w733ZxZTwza99w/Mskyf4kxu01dCF5FbjTFa72t5nq8wxjxNRHQsg173T1evXn1iu7UyZnOw1uoijGt0oLxzbnKhyNZtEQWQd+oMYSLy+2Il9o7Ween0M8R+CCCAQC8CBJBe1DgGAQQGWmCQAsiaNWtWrFix4hNF2JjJ/XdRFD2x3YrZs3XU8PDwobVa7esi8v9m2U9n1Hqcc06n3d27xXH8VGPMZ6Yd1zpQvZYkybt1dqqZausK4977ZznnPte6T2sA8d6fZ4zRGaj2mZmr2F8DzSM6HPOyTzOstTpjltbdu/bKIg0gV4jIPUTk4845nfmLDQEEEFhwAQLIgncBDUAAgfkWGKQAMmVTr9cfHEXRs0REn0zolKoTunK6iHxlz5495880PmQu2w0bNiydmJh4rog8QUT0Nag7iIjOmrRNRL68ZMmSC6aeakyvlSTJS/I8f6Ex5m4i8kdjzJumvwplrb2nMeZM7/39ReSwosa1uohenufnZVk29SrU3vKtAcQYc2Kz2VwSRdE5xbXrfluMMR9duXLlpzZv3qyvaHW9TVuFfb8B7IvhCYhOrywi+qTHeO8fnGWZrnTPhgACCCy4AAFkwbuABiCAAAIItApMDyBpmv6kCiFr7Y9E5CQReZ1zbnJA/mLakiR5qff+PSJylXPu2MV0bVwLAggMtsD/B5A/TvoMdOs3AAAAAElFTkSuQmCC\" width=\"640\">"
      ],
      "text/plain": [
       "<IPython.core.display.HTML object>"
      ]
     },
     "metadata": {},
     "output_type": "display_data"
    },
    {
     "name": "stderr",
     "output_type": "stream",
     "text": [
      "C:\\ProgramData\\Miniconda3\\lib\\site-packages\\matplotlib\\axes\\_axes.py:545: UserWarning: No labelled objects found. Use label='...' kwarg on individual plots.\n",
      "  warnings.warn(\"No labelled objects found. \"\n"
     ]
    }
   ],
   "source": [
    "%matplotlib notebook\n",
    "bikeshare = System(olin=10, wellesley=2)\n",
    "newfig()\n",
    "plot(bikeshare.olin, 'rs-')\n",
    "plot(bikeshare.wellesley, 'bo-')\n",
    "plot_state()\n",
    "\n",
    "def step():\n",
    "    if flip(0.7):\n",
    "        bike_to_wellesley()\n",
    "        print('Moving a bike to Wellesley')\n",
    "        \n",
    "    if flip(0.6):\n",
    "        bike_to_olin()\n",
    "        print('Moving a bike to Olin')\n",
    "def decorate():  \n",
    "    legend(loc='best')\n",
    "    label_axes(title='Olin-Wellesley Bikeshare',\n",
    "               xlabel='Time step (min)', \n",
    "               ylabel='Number of bikes')\n",
    "decorate()"
   ]
  },
  {
   "cell_type": "markdown",
   "metadata": {},
   "source": [
    "## Optional parameters"
   ]
  },
  {
   "cell_type": "markdown",
   "metadata": {},
   "source": [
    "Again let's start with a new `System` object and a new plot."
   ]
  },
  {
   "cell_type": "code",
   "execution_count": 35,
   "metadata": {},
   "outputs": [
    {
     "data": {
      "image/png": "[encoded data removed]",
      "text/plain": [
       "<matplotlib.figure.Figure at 0x1a69e0a8e80>"
      ]
     },
     "metadata": {},
     "output_type": "display_data"
    }
   ],
   "source": [
    "bikeshare = System(olin=10, wellesley=2)\n",
    "newfig()\n",
    "plot_state()"
   ]
  },
  {
   "cell_type": "markdown",
   "metadata": {},
   "source": [
    "We can make `step` more general by adding parameters.  Because these parameters have default values, they are optional."
   ]
  },
  {
   "cell_type": "code",
   "execution_count": 36,
   "metadata": {
    "collapsed": true
   },
   "outputs": [],
   "source": [
    "def step(p1=0.5, p2=0.5):\n",
    "    print('p1 ->', p1)\n",
    "    print('p2 ->', p2)\n",
    "    if flip(p1):\n",
    "        bike_to_wellesley()\n",
    "    \n",
    "    if flip(p2):\n",
    "        bike_to_olin()"
   ]
  },
  {
   "cell_type": "markdown",
   "metadata": {},
   "source": [
    "I added print statements, so each time we run `step` we can see the arguments.\n",
    "\n",
    "If you provide no arguments, you get the default values:"
   ]
  },
  {
   "cell_type": "code",
   "execution_count": 37,
   "metadata": {},
   "outputs": [
    {
     "name": "stdout",
     "output_type": "stream",
     "text": [
      "p1 -> 0.5\n",
      "p2 -> 0.5\n"
     ]
    },
    {
     "data": {
      "image/png": "[encoded data removed]",
      "text/plain": [
       "<matplotlib.figure.Figure at 0x1a69e19cb38>"
      ]
     },
     "metadata": {},
     "output_type": "display_data"
    }
   ],
   "source": [
    "step()\n",
    "plot_state()"
   ]
  },
  {
   "cell_type": "markdown",
   "metadata": {},
   "source": [
    "If you provide one argument, it overrides the first parameter."
   ]
  },
  {
   "cell_type": "code",
   "execution_count": 38,
   "metadata": {},
   "outputs": [
    {
     "name": "stdout",
     "output_type": "stream",
     "text": [
      "p1 -> 0.4\n",
      "p2 -> 0.5\n"
     ]
    },
    {
     "data": {
      "image/png": "[encoded data removed]",
      "text/plain": [
       "<matplotlib.figure.Figure at 0x1a69e219f98>"
      ]
     },
     "metadata": {},
     "output_type": "display_data"
    }
   ],
   "source": [
    "step(0.4)\n",
    "plot_state()"
   ]
  },
  {
   "cell_type": "markdown",
   "metadata": {},
   "source": [
    "If you provide two arguments, they override both."
   ]
  },
  {
   "cell_type": "code",
   "execution_count": 39,
   "metadata": {},
   "outputs": [
    {
     "name": "stdout",
     "output_type": "stream",
     "text": [
      "p1 -> 0.4\n",
      "p2 -> 0.2\n"
     ]
    },
    {
     "data": {
      "image/png": "[encoded data removed]",
      "text/plain": [
       "<matplotlib.figure.Figure at 0x1a69e3612b0>"
      ]
     },
     "metadata": {},
     "output_type": "display_data"
    }
   ],
   "source": [
    "step(0.4, 0.2)\n",
    "plot_state()"
   ]
  },
  {
   "cell_type": "markdown",
   "metadata": {},
   "source": [
    "You can specify the names of the parameters you want to override."
   ]
  },
  {
   "cell_type": "code",
   "execution_count": 40,
   "metadata": {},
   "outputs": [
    {
     "name": "stdout",
     "output_type": "stream",
     "text": [
      "p1 -> 0.4\n",
      "p2 -> 0.2\n"
     ]
    },
    {
     "data": {
      "image/png": "[encoded data removed]",
      "text/plain": [
       "<matplotlib.figure.Figure at 0x1a69f3c08d0>"
      ]
     },
     "metadata": {},
     "output_type": "display_data"
    }
   ],
   "source": [
    "step(p1=0.4, p2=0.2)\n",
    "plot_state()"
   ]
  },
  {
   "cell_type": "markdown",
   "metadata": {},
   "source": [
    "Which means you can override the second parameter and use the default for the first."
   ]
  },
  {
   "cell_type": "code",
   "execution_count": 41,
   "metadata": {},
   "outputs": [
    {
     "name": "stdout",
     "output_type": "stream",
     "text": [
      "p1 -> 0.5\n",
      "p2 -> 0.2\n"
     ]
    },
    {
     "data": {
      "image/png": "[encoded data removed]",
      "text/plain": [
       "<matplotlib.figure.Figure at 0x1a69f455470>"
      ]
     },
     "metadata": {},
     "output_type": "display_data"
    }
   ],
   "source": [
    "step(p2=0.2)\n",
    "plot_state()"
   ]
  },
  {
   "cell_type": "markdown",
   "metadata": {},
   "source": [
    "You can combine both forms, but it is not very common:"
   ]
  },
  {
   "cell_type": "code",
   "execution_count": 42,
   "metadata": {},
   "outputs": [
    {
     "name": "stdout",
     "output_type": "stream",
     "text": [
      "p1 -> 0.4\n",
      "p2 -> 0.2\n"
     ]
    },
    {
     "data": {
      "image/png": "[encoded data removed]",
      "text/plain": [
       "<matplotlib.figure.Figure at 0x1a69f4d59b0>"
      ]
     },
     "metadata": {},
     "output_type": "display_data"
    }
   ],
   "source": [
    "step(0.4, p2=0.2)\n",
    "plot_state()"
   ]
  },
  {
   "cell_type": "markdown",
   "metadata": {},
   "source": [
    "One reason it's not common is that it's error prone.  The following example causes an error."
   ]
  },
  {
   "cell_type": "code",
   "execution_count": 43,
   "metadata": {
    "collapsed": true
   },
   "outputs": [],
   "source": [
    "# If you remove the # at the beginning of the next line and run it, you get\n",
    "# SyntaxError: positional argument follows keyword argument\n",
    "\n",
    "#step(p1=0.4, 0.2)"
   ]
  },
  {
   "cell_type": "markdown",
   "metadata": {},
   "source": [
    "From the error message, you might infer that arguments like `step(0.4, 0.2)` are called \"positional\" and arguments like `step(p1=0.4, p2=0.2)` are called \"keyword arguments\"."
   ]
  },
  {
   "cell_type": "markdown",
   "metadata": {},
   "source": [
    "**Exercise:** Write a version of `decorate` that takes an optional parameter named `loc` with default value `'best'`.  It should pass the value of `loc` along as an argument to `legend.`  Test your function with different values of `loc`.  [You can see the list of legal values here](https://matplotlib.org/api/pyplot_api.html#matplotlib.pyplot.legend)."
   ]
  },
  {
   "cell_type": "code",
   "execution_count": 44,
   "metadata": {},
   "outputs": [
    {
     "name": "stderr",
     "output_type": "stream",
     "text": [
      "C:\\ProgramData\\Miniconda3\\lib\\site-packages\\matplotlib\\axes\\_axes.py:545: UserWarning: No labelled objects found. Use label='...' kwarg on individual plots.\n",
      "  warnings.warn(\"No labelled objects found. \"\n"
     ]
    },
    {
     "data": {
      "image/png": "[encoded data removed]",
      "text/plain": [
       "<matplotlib.figure.Figure at 0x1a69f515588>"
      ]
     },
     "metadata": {},
     "output_type": "display_data"
    }
   ],
   "source": [
    "# Solution goes here\n",
    "newfig()\n",
    "def decorate(loc='best'):  \n",
    "    legend(loc=loc)\n",
    "    label_axes(title='Olin-Wellesley Bikeshare',\n",
    "               xlabel='Time step (min)', \n",
    "               ylabel='Number of bikes')\n",
    "decorate()\n",
    "plot_state()"
   ]
  },
  {
   "cell_type": "code",
   "execution_count": 45,
   "metadata": {},
   "outputs": [
    {
     "name": "stderr",
     "output_type": "stream",
     "text": [
      "C:\\ProgramData\\Miniconda3\\lib\\site-packages\\matplotlib\\axes\\_axes.py:545: UserWarning: No labelled objects found. Use label='...' kwarg on individual plots.\n",
      "  warnings.warn(\"No labelled objects found. \"\n"
     ]
    },
    {
     "data": {
      "image/png": "[encoded data removed]",
      "text/plain": [
       "<matplotlib.figure.Figure at 0x1a69f5bd438>"
      ]
     },
     "metadata": {},
     "output_type": "display_data"
    }
   ],
   "source": [
    "# Solution goes here\n",
    "decorate(loc = 10)\n",
    "plot_state()"
   ]
  },
  {
   "cell_type": "markdown",
   "metadata": {},
   "source": [
    "## For loop"
   ]
  },
  {
   "cell_type": "markdown",
   "metadata": {},
   "source": [
    "Before we go on, I'll redefine `step` without the print statements."
   ]
  },
  {
   "cell_type": "code",
   "execution_count": 46,
   "metadata": {
    "collapsed": true
   },
   "outputs": [],
   "source": [
    "def step(p1=0.5, p2=0.5):\n",
    "    if flip(p1):\n",
    "        bike_to_wellesley()\n",
    "    \n",
    "    if flip(p2):\n",
    "        bike_to_olin()"
   ]
  },
  {
   "cell_type": "markdown",
   "metadata": {},
   "source": [
    "And let's start again with a new `System` object and a new figure."
   ]
  },
  {
   "cell_type": "code",
   "execution_count": 47,
   "metadata": {},
   "outputs": [
    {
     "data": {
      "image/png": "[encoded data removed]",
      "text/plain": [
       "<matplotlib.figure.Figure at 0x1a69f56bc88>"
      ]
     },
     "metadata": {},
     "output_type": "display_data"
    }
   ],
   "source": [
    "bikeshare = System(olin=10, wellesley=2)\n",
    "newfig()\n",
    "plot_state()\n",
    "decorate()"
   ]
  },
  {
   "cell_type": "markdown",
   "metadata": {},
   "source": [
    "We can use a for loop to move 4 bikes from Olin to Wellesley."
   ]
  },
  {
   "cell_type": "code",
   "execution_count": 48,
   "metadata": {},
   "outputs": [
    {
     "data": {
      "image/png": "[encoded data removed]",
      "text/plain": [
       "<matplotlib.figure.Figure at 0x1a69e0dc0f0>"
      ]
     },
     "metadata": {},
     "output_type": "display_data"
    }
   ],
   "source": [
    "for i in range(4):\n",
    "    bike_to_wellesley()\n",
    "    plot_state()"
   ]
  },
  {
   "cell_type": "markdown",
   "metadata": {},
   "source": [
    "Or we can simulate 4 random time steps."
   ]
  },
  {
   "cell_type": "code",
   "execution_count": 50,
   "metadata": {},
   "outputs": [
    {
     "data": {
      "image/png": "[encoded data removed]",
      "text/plain": [
       "<matplotlib.figure.Figure at 0x1a69f742a58>"
      ]
     },
     "metadata": {},
     "output_type": "display_data"
    }
   ],
   "source": [
    "for i in range(4):\n",
    "    step()\n",
    "    plot_state()"
   ]
  },
  {
   "cell_type": "markdown",
   "metadata": {},
   "source": [
    "If each step corresponds to a minute, we can simulate the rest of the hour like this."
   ]
  },
  {
   "cell_type": "code",
   "execution_count": 51,
   "metadata": {},
   "outputs": [
    {
     "data": {
      "image/png": "[encoded data removed]",
      "text/plain": [
       "<matplotlib.figure.Figure at 0x1a69f896278>"
      ]
     },
     "metadata": {},
     "output_type": "display_data"
    }
   ],
   "source": [
    "for i in range(52):\n",
    "    step(p1=0.4, p2=0.2)\n",
    "    plot_state()"
   ]
  },
  {
   "cell_type": "markdown",
   "metadata": {},
   "source": [
    "**Exercise:** Combine the examples from the previous two sections to write a function named `run_steps` that takes three parameters, named `num_steps`, `p1`, and `p2`.  It should use a for loop to run `step` the number of times specified by `num_steps`, passing along the specified values of `p1` and `p2`.  After each step, it should plot the updated state.\n",
    "\n",
    "Test your function by creating a new `System` object, creating a new figure, and running `run_steps`."
   ]
  },
  {
   "cell_type": "code",
   "execution_count": 79,
   "metadata": {},
   "outputs": [],
   "source": [
    "# Solution goes here\n",
    "\n",
    "def step(p1,p2):\n",
    "        if flip(p1):\n",
    "            bike_to_wellesley()\n",
    "            print('Moving a bike to Wellesley')\n",
    "        if flip(p2):\n",
    "            bike_to_olin()\n",
    "            print('Moving a bike to Olin')\n",
    "            \n",
    "def run_steps(num_steps, p1, p2):\n",
    "    for i in range(num_steps):\n",
    "        step(p1=p1, p2=p2)\n",
    "        plot_state()"
   ]
  },
  {
   "cell_type": "code",
   "execution_count": 80,
   "metadata": {},
   "outputs": [
    {
     "name": "stdout",
     "output_type": "stream",
     "text": [
      "Moving a bike to Olin\n",
      "Moving a bike to Olin\n",
      "Moving a bike to Wellesley\n",
      "Moving a bike to Olin\n",
      "Moving a bike to Olin\n",
      "Moving a bike to Wellesley\n",
      "Moving a bike to Olin\n",
      "Moving a bike to Wellesley\n",
      "Moving a bike to Olin\n"
     ]
    },
    {
     "data": {
      "image/png": "[encoded data removed]",
      "text/plain": [
       "<matplotlib.figure.Figure at 0x1a6a1428cc0>"
      ]
     },
     "metadata": {},
     "output_type": "display_data"
    }
   ],
   "source": [
    "bikeshare = System(olin=10, wellesley=2)\n",
    "newfig()\n",
    "\n",
    "run_steps(10, .5, .5)"
   ]
  },
  {
   "cell_type": "code",
   "execution_count": 86,
   "metadata": {},
   "outputs": [
    {
     "name": "stdout",
     "output_type": "stream",
     "text": [
      "add 1 sun\n",
      "add 1 moon\n",
      "add 1 sun\n",
      "add 1 sun\n",
      "add 1 moon\n",
      "add 1 sun\n",
      "add 1 sun\n",
      "add 1 moon\n",
      "add 1 sun\n",
      "add 1 moon\n",
      "add 1 moon\n"
     ]
    },
    {
     "data": {
      "image/png": "[encoded data removed]",
      "text/plain": [
       "<matplotlib.figure.Figure at 0x1a6a17a2908>"
      ]
     },
     "metadata": {},
     "output_type": "display_data"
    }
   ],
   "source": [
    "# I couldn't get this to work\n",
    "\n",
    "def plot_state():\n",
    "    plot(sunandmoon.sun, 'rs-', label='Sun')\n",
    "    plot(sunandmoon.moon, 'bo-', label='Moon')\n",
    "\n",
    "def step(p1, p2):\n",
    "        if flip(p1):\n",
    "            sunandmoon.sun += 1\n",
    "            sunandmoon.moon -= 1\n",
    "            print('add 1 sun')\n",
    "        if flip(p2):\n",
    "            sunandmoon.moon += 1\n",
    "            sunandmoon.sun -= 1\n",
    "            print('add 1 moon')\n",
    "\n",
    "def run_steps(num_steps, p1, p2):\n",
    "    for i in range(num_steps):\n",
    "        step(p1=p1, p2=p2)\n",
    "        plot_state()\n",
    "        \n",
    "\n",
    "newfig()\n",
    "sunandmoon = System(sun=5, moon=3)\n",
    "        \n",
    "run_steps(10, .5, .5)"
   ]
  },
  {
   "cell_type": "code",
   "execution_count": 73,
   "metadata": {},
   "outputs": [
    {
     "data": {
      "text/plain": [
       "<matplotlib.figure.Figure at 0x1a6a124a5f8>"
      ]
     },
     "metadata": {},
     "output_type": "display_data"
    }
   ],
   "source": [
    "# Solution goes here\n",
    "newfig()\n",
    "sunandmoon = System(sun=5, moon=3)\n"
   ]
  },
  {
   "cell_type": "code",
   "execution_count": 74,
   "metadata": {},
   "outputs": [
    {
     "data": {
      "text/html": [
       "<div>\n",
       "<style>\n",
       "    .dataframe thead tr:only-child th {\n",
       "        text-align: right;\n",
       "    }\n",
       "\n",
       "    .dataframe thead th {\n",
       "        text-align: left;\n",
       "    }\n",
       "\n",
       "    .dataframe tbody tr th {\n",
       "        vertical-align: top;\n",
       "    }\n",
       "</style>\n",
       "<table border=\"1\" class=\"dataframe\">\n",
       "  <thead>\n",
       "    <tr style=\"text-align: right;\">\n",
       "      <th></th>\n",
       "      <th>value</th>\n",
       "    </tr>\n",
       "  </thead>\n",
       "  <tbody>\n",
       "    <tr>\n",
       "      <th>sun</th>\n",
       "      <td>5</td>\n",
       "    </tr>\n",
       "    <tr>\n",
       "      <th>moon</th>\n",
       "      <td>3</td>\n",
       "    </tr>\n",
       "  </tbody>\n",
       "</table>\n",
       "</div>"
      ],
      "text/plain": [
       "sun     5\n",
       "moon    3\n",
       "dtype: int64"
      ]
     },
     "execution_count": 74,
     "metadata": {},
     "output_type": "execute_result"
    }
   ],
   "source": [
    "sunandmoon"
   ]
  },
  {
   "cell_type": "code",
   "execution_count": null,
   "metadata": {
    "collapsed": true
   },
   "outputs": [],
   "source": []
  }
 ],
 "metadata": {
  "kernelspec": {
   "display_name": "Python 3",
   "language": "python",
   "name": "python3"
  },
  "language_info": {
   "codemirror_mode": {
    "name": "ipython",
    "version": 3
   },
   "file_extension": ".py",
   "mimetype": "text/x-python",
   "name": "python",
   "nbconvert_exporter": "python",
   "pygments_lexer": "ipython3",
   "version": "3.6.1"
  }
 },
 "nbformat": 4,
 "nbformat_minor": 1
}
