{
 "cells": [
  {
   "cell_type": "markdown",
   "metadata": {},
   "source": [
    "# Modeling and Simulation in Python\n",
    "\n",
    "\n",
    "Copyright 2017 Allen Downey\n",
    "\n",
    "License: [Creative Commons Attribution 4.0 International](https://creativecommons.org/licenses/by/4.0)\n"
   ]
  },
  {
   "cell_type": "code",
   "execution_count": 1,
   "metadata": {},
   "outputs": [],
   "source": [
    "# Configure Jupyter so figures appear in the notebook\n",
    "%matplotlib inline\n",
    "\n",
    "# Configure Jupyter to display the assigned value after an assignment\n",
    "%config InteractiveShell.ast_node_interactivity='last_expr_or_assign'\n",
    "\n",
    "# import functions from the modsim.py module\n",
    "from modsim import *"
   ]
  },
  {
   "cell_type": "markdown",
   "metadata": {},
   "source": [
    "### Low pass filter\n",
    "\n",
    "The following circuit diagram (from [Wikipedia](https://en.wikipedia.org/wiki/File:RC_Divider.svg)) shows a low-pass filter built with one resistor and one capacitor.  \n",
    "\n",
    "![Low-pass filter circuit diagram](diagrams/RC_Divider.png)\n",
    "\n",
    "A \"filter\" is a circuit takes a signal, $V_{in}$, as input and produces a signal, $V_{out}$, as output.  In this context, a \"signal\" is a voltage that changes over time.\n",
    "\n",
    "A filter is \"low-pass\" if it allows low-frequency signals to pass from $V_{in}$ to $V_{out}$ unchanged, but it reduces the amplitude of high-frequency signals.\n",
    "\n",
    "By applying the laws of circuit analysis, we can derive a differential equation that describes the behavior of this system.  By solving the differential equation, we can predict the effect of this circuit on any input signal.\n",
    "\n",
    "Suppose we are given $V_{in}$ and $V_{out}$ at a particular instant in time.  By Ohm's law, which is a simple model of the behavior of resistors, the instantaneous current through the resistor is:\n",
    "\n",
    "$ I_R = (V_{in} - V_{out}) / R $\n",
    "\n",
    "where $R$ is resistance in ohms.\n",
    "\n",
    "Assuming that no current flows through the output of the circuit, Kirchhoff's current law implies that the current through the capacitor is:\n",
    "\n",
    "$ I_C = I_R $\n",
    "\n",
    "According to a simple model of the behavior of capacitors, current through the capacitor causes a change in the voltage across the capacitor:\n",
    "\n",
    "$ I_C = C \\frac{d V_{out}}{dt} $\n",
    "\n",
    "where $C$ is capacitance in farads (F).\n",
    "\n",
    "Combining these equations yields a differential equation for $V_{out}$:\n",
    "\n",
    "$ \\frac{d }{dt} V_{out} = \\frac{V_{in} - V_{out}}{R C} $\n",
    "\n",
    "Follow the instructions blow to simulate the low-pass filter for input signals like this:\n",
    "\n",
    "$ V_{in}(t) = A \\cos (2 \\pi f t) $\n",
    "\n",
    "where $A$ is the amplitude of the input signal, say 5 V, and $f$ is the frequency of the signal in Hz."
   ]
  },
  {
   "cell_type": "markdown",
   "metadata": {},
   "source": [
    "### Params and System objects\n",
    "\n",
    "Here's a `Params` object to contain the quantities we need.  I've chosen values for `R1` and `C1` that might be typical for a circuit that works with audio signal."
   ]
  },
  {
   "cell_type": "code",
   "execution_count": 2,
   "metadata": {},
   "outputs": [],
   "source": [
    "ohm = UNITS.ohm\n",
    "farad = UNITS.farad\n",
    "volt = UNITS.volt\n",
    "Hz = UNITS.Hz\n",
    "second = UNITS.second"
   ]
  },
  {
   "cell_type": "code",
   "execution_count": 3,
   "metadata": {},
   "outputs": [],
   "source": [
    "params = Params(\n",
    "    R1 = 1e6 * ohm,\n",
    "    C1 = 1e-9 * farad,\n",
    "    A = 5 * volt,\n",
    "    f = 1000 * Hz)"
   ]
  },
  {
   "cell_type": "markdown",
   "metadata": {},
   "source": [
    "Normally I would recommend running this computation with units, but for this example it turns out to be too slow.\n",
    "\n",
    "Here's  a `Params` object with no units."
   ]
  },
  {
   "cell_type": "code",
   "execution_count": 4,
   "metadata": {},
   "outputs": [],
   "source": [
    "params = Params(\n",
    "    R1 = 1e6,   # ohm\n",
    "    C1 = 1e-9,  # farad\n",
    "    A = 5,      # volt\n",
    "    f = 1000,   # Hz\n",
    ")"
   ]
  },
  {
   "cell_type": "markdown",
   "metadata": {},
   "source": [
    "Now we can pass the `Params` object `make_system` which computes some additional parameters and defines `init`.\n",
    "\n",
    "* `omega` is the frequency of the input signal in radians/second.\n",
    "\n",
    "* `tau` is the time constant for this circuit, which is the time it takes to get from an initial startup phase to \n",
    "\n",
    "* `cutoff` is the cutoff frequency for this circuit (in Hz), which marks the transition from low frequency signals, which pass through the filter unchanged, to high frequency signals, which are attenuated.\n",
    "\n",
    "* `t_end` is chosen so we run the simulation for 4 cycles of the input signal."
   ]
  },
  {
   "cell_type": "code",
   "execution_count": 5,
   "metadata": {},
   "outputs": [],
   "source": [
    "def make_system(params):\n",
    "    \"\"\"Makes a System object for the given conditions.\n",
    "    \n",
    "    params: Params object\n",
    "    \n",
    "    returns: System object\n",
    "    \"\"\"\n",
    "    unpack(params)\n",
    "    \n",
    "    init = State(V_out = 0)\n",
    "    omega = 2 * np.pi * f\n",
    "    tau = R1 * C1\n",
    "    cutoff = 1 / R1 / C1 / 2 / np.pi\n",
    "    t_end = 4 / f\n",
    "    ts = linspace(0, t_end, 401)\n",
    "    \n",
    "    return System(R1=R1, C1=C1, A=A, f=f,\n",
    "                  init=init, t_end=t_end, ts=ts,\n",
    "                  omega=omega, tau=tau, cutoff=cutoff)"
   ]
  },
  {
   "cell_type": "markdown",
   "metadata": {},
   "source": [
    "Let's make a `System`"
   ]
  },
  {
   "cell_type": "code",
   "execution_count": 6,
   "metadata": {},
   "outputs": [],
   "source": [
    "system = make_system(params)"
   ]
  },
  {
   "cell_type": "markdown",
   "metadata": {},
   "source": [
    "**Exercise:** Write a slope function that takes as an input a `State` object that contains `V_out`, and returns the derivative of `V_out`."
   ]
  },
  {
   "cell_type": "code",
   "execution_count": 7,
   "metadata": {},
   "outputs": [],
   "source": [
    "# Solution goes here"
   ]
  },
  {
   "cell_type": "markdown",
   "metadata": {},
   "source": [
    "Test the slope function with the initial conditions."
   ]
  },
  {
   "cell_type": "code",
   "execution_count": 8,
   "metadata": {},
   "outputs": [],
   "source": [
    "slope_func(system.init, 0, system)"
   ]
  },
  {
   "cell_type": "markdown",
   "metadata": {},
   "source": [
    "And then run the simulation.  I suggest using `t_eval=ts` to make sure we have enough data points to plot and analyze the results. "
   ]
  },
  {
   "cell_type": "code",
   "execution_count": 9,
   "metadata": {},
   "outputs": [],
   "source": [
    "results, details = run_ode_solver(system, slope_func, t_eval=system.ts)\n",
    "details"
   ]
  },
  {
   "cell_type": "markdown",
   "metadata": {},
   "source": [
    "Here's a function you can use to plot `V_out` as a function of time."
   ]
  },
  {
   "cell_type": "code",
   "execution_count": 10,
   "metadata": {},
   "outputs": [],
   "source": [
    "def plot_results(results):\n",
    "    xs = results.V_out.index\n",
    "    ys = results.V_out.values\n",
    "\n",
    "    t_end = get_last_label(results)\n",
    "    if t_end < 10:\n",
    "        xs *= 1000\n",
    "        xlabel = 'Time (ms)'\n",
    "    else:\n",
    "        xlabel = 'Time (s)'\n",
    "        \n",
    "    plot(xs, ys)\n",
    "    decorate(xlabel=xlabel,\n",
    "             ylabel='$V_{out}$ (volt)',\n",
    "             legend=False)\n",
    "    \n",
    "plot_results(results)"
   ]
  },
  {
   "cell_type": "markdown",
   "metadata": {},
   "source": [
    "If things have gone according to plan, the amplitude of the output signal should be about 0.8 V.\n",
    "\n",
    "Also, you might notice that it takes a few cycles for the signal to get to the full amplitude. "
   ]
  },
  {
   "cell_type": "markdown",
   "metadata": {},
   "source": [
    "### Sweeping frequency\n",
    "\n",
    "Plot `V_out` looks like for a range of frequencies:"
   ]
  },
  {
   "cell_type": "code",
   "execution_count": 11,
   "metadata": {},
   "outputs": [],
   "source": [
    "fs = [1, 10, 100, 1000, 10000, 100000]\n",
    "\n",
    "for i, f in enumerate(fs):\n",
    "    system = make_system(Params(params, f=f))\n",
    "    results, details = run_ode_solver(system, slope_func, t_eval=system.ts)\n",
    "    subplot(3, 2, i+1)\n",
    "    plot_results(results)"
   ]
  },
  {
   "cell_type": "markdown",
   "metadata": {},
   "source": [
    "At low frequencies, notice that there is an initial \"transient\" before the output gets to a steady-state sinusoidal output.  The duration of this transient is a small multiple of the time constant, `tau`, which is 1 ms."
   ]
  },
  {
   "cell_type": "markdown",
   "metadata": {},
   "source": [
    "### Estimating the output ratio\n",
    "\n",
    "Let's compare the amplitudes of the input and output signals.  Below the cutoff frequency, we expect them to be about the same.  Above the cutoff, we expect the amplitude of the output signal to be smaller.\n",
    "\n",
    "We'll start with a signal at the cutoff frequency, `f=1000` Hz."
   ]
  },
  {
   "cell_type": "code",
   "execution_count": 12,
   "metadata": {},
   "outputs": [],
   "source": [
    "system = make_system(Params(params, f=1000))\n",
    "results, details = run_ode_solver(system, slope_func, t_eval=system.ts)\n",
    "V_out = results.V_out\n",
    "plot_results(results)"
   ]
  },
  {
   "cell_type": "markdown",
   "metadata": {},
   "source": [
    "The following function computes `V_in` as a `TimeSeries`:"
   ]
  },
  {
   "cell_type": "code",
   "execution_count": 13,
   "metadata": {},
   "outputs": [],
   "source": [
    "def compute_vin(results, system):\n",
    "    \"\"\"Computes V_in as a TimeSeries.\n",
    "    \n",
    "    results: TimeFrame with simulation results\n",
    "    system: System object with A and omega\n",
    "    \n",
    "    returns: TimeSeries\n",
    "    \"\"\"\n",
    "    unpack(system)\n",
    "    V_in = A * np.cos(omega * results.index)\n",
    "    return TimeSeries(V_in, results.index, name='V_in')"
   ]
  },
  {
   "cell_type": "markdown",
   "metadata": {},
   "source": [
    "Here's what the input and output look like.  Notice that the output is not just smaller; it is also \"out of phase\"; that is, the peaks of the output are shifted to the right, relative to the peaks of the input."
   ]
  },
  {
   "cell_type": "code",
   "execution_count": 14,
   "metadata": {},
   "outputs": [],
   "source": [
    "V_in = compute_vin(results, system)\n",
    "\n",
    "plot(V_out)\n",
    "plot(V_in)\n",
    "\n",
    "decorate(xlabel='Time (s)',\n",
    "         ylabel='V (volt)')"
   ]
  },
  {
   "cell_type": "markdown",
   "metadata": {},
   "source": [
    "The following function estimates the amplitude of a signal by computing half the distance between the min and max."
   ]
  },
  {
   "cell_type": "code",
   "execution_count": 15,
   "metadata": {},
   "outputs": [],
   "source": [
    "def estimate_A(series):\n",
    "    \"\"\"Estimate amplitude.\n",
    "    \n",
    "    series: TimeSeries\n",
    "    \n",
    "    returns: amplitude in volts\n",
    "    \"\"\"\n",
    "    return (series.max() - series.min()) / 2"
   ]
  },
  {
   "cell_type": "markdown",
   "metadata": {},
   "source": [
    "The amplitude of `V_in` should be near 5 (but not exact because we evaluated it at a finite number of points)."
   ]
  },
  {
   "cell_type": "code",
   "execution_count": 16,
   "metadata": {},
   "outputs": [],
   "source": [
    "A_in = estimate_A(V_in)"
   ]
  },
  {
   "cell_type": "markdown",
   "metadata": {},
   "source": [
    "The amplitude of `V_out` should be lower."
   ]
  },
  {
   "cell_type": "code",
   "execution_count": 17,
   "metadata": {},
   "outputs": [],
   "source": [
    "A_out = estimate_A(V_out)"
   ]
  },
  {
   "cell_type": "markdown",
   "metadata": {},
   "source": [
    "And here's the ratio between them."
   ]
  },
  {
   "cell_type": "code",
   "execution_count": 18,
   "metadata": {},
   "outputs": [],
   "source": [
    "ratio = A_out / A_in"
   ]
  },
  {
   "cell_type": "markdown",
   "metadata": {},
   "source": [
    "**Exercise:** Encapsulate the code we have so far in a function that takes two TimeSeries objects and returns the ratio between their amplitudes."
   ]
  },
  {
   "cell_type": "code",
   "execution_count": 19,
   "metadata": {},
   "outputs": [],
   "source": [
    "# Solution goes here"
   ]
  },
  {
   "cell_type": "markdown",
   "metadata": {},
   "source": [
    "And test your function."
   ]
  },
  {
   "cell_type": "code",
   "execution_count": 20,
   "metadata": {},
   "outputs": [],
   "source": [
    "estimate_ratio(V_out, V_in)"
   ]
  },
  {
   "cell_type": "markdown",
   "metadata": {},
   "source": [
    "### Estimating phase offset\n",
    "\n",
    "The delay between the peak of the input and the peak of the output is call a \"phase shift\" or \"phase offset\", usually measured in fractions of a cycle, degrees, or radians.\n",
    "\n",
    "To estimate the phase offset between two signals, we can use cross-correlation.  Here's what the cross-correlation looks like between `V_out` and `V_in`:"
   ]
  },
  {
   "cell_type": "code",
   "execution_count": 21,
   "metadata": {},
   "outputs": [],
   "source": [
    "corr = np.correlate(V_out, V_in, mode='same')\n",
    "corr = TimeSeries(corr, V_in.index)\n",
    "plot(corr, color='C5')\n",
    "decorate(xlabel='Lag (s)',\n",
    "         ylabel='Correlation')"
   ]
  },
  {
   "cell_type": "markdown",
   "metadata": {},
   "source": [
    "The location of the peak in the cross correlation is the estimated shift between the two signals, in seconds."
   ]
  },
  {
   "cell_type": "code",
   "execution_count": 22,
   "metadata": {},
   "outputs": [],
   "source": [
    "peak_time = corr.idxmax()"
   ]
  },
  {
   "cell_type": "markdown",
   "metadata": {},
   "source": [
    "We can express the phase offset as a multiple of the period of the input signal:"
   ]
  },
  {
   "cell_type": "code",
   "execution_count": 23,
   "metadata": {},
   "outputs": [],
   "source": [
    "period = 1 / system.f"
   ]
  },
  {
   "cell_type": "code",
   "execution_count": 24,
   "metadata": {},
   "outputs": [],
   "source": [
    "peak_time / period"
   ]
  },
  {
   "cell_type": "markdown",
   "metadata": {},
   "source": [
    "We don't care about whole period offsets, only the fractional part, which we can get using `modf`:"
   ]
  },
  {
   "cell_type": "code",
   "execution_count": 25,
   "metadata": {},
   "outputs": [],
   "source": [
    "frac, whole = np.modf(peak_time / period)\n",
    "frac"
   ]
  },
  {
   "cell_type": "markdown",
   "metadata": {},
   "source": [
    "Finally, we can convert from a fraction of a cycle to degrees:"
   ]
  },
  {
   "cell_type": "code",
   "execution_count": 26,
   "metadata": {},
   "outputs": [],
   "source": [
    "frac * 360"
   ]
  },
  {
   "cell_type": "markdown",
   "metadata": {},
   "source": [
    "**Exercise:** Encapsulate this code in a function that takes two `TimeSeries` objects and a `System` object, and returns the phase offset in degrees.\n",
    "\n",
    "Note: by convention, if the output is shifted to the right, the phase offset is negative."
   ]
  },
  {
   "cell_type": "code",
   "execution_count": 27,
   "metadata": {},
   "outputs": [],
   "source": [
    "# Solution goes here"
   ]
  },
  {
   "cell_type": "markdown",
   "metadata": {},
   "source": [
    "Test your function."
   ]
  },
  {
   "cell_type": "code",
   "execution_count": 28,
   "metadata": {},
   "outputs": [],
   "source": [
    "estimate_offset(V_out, V_in, system)"
   ]
  },
  {
   "cell_type": "markdown",
   "metadata": {},
   "source": [
    "### Sweeping frequency again\n",
    "\n",
    "**Exercise:** Write a function that takes as parameters an array of input frequencies and a `Params` object.\n",
    "\n",
    "For each input frequency it should run a simulation and use the results to estimate the output ratio (dimensionless) and phase offset (in degrees).\n",
    "\n",
    "It should return two `SweepSeries` objects, one for the ratios and one for the offsets."
   ]
  },
  {
   "cell_type": "code",
   "execution_count": 29,
   "metadata": {},
   "outputs": [],
   "source": [
    "# Solution goes here"
   ]
  },
  {
   "cell_type": "markdown",
   "metadata": {},
   "source": [
    "Run your function with these frequencies."
   ]
  },
  {
   "cell_type": "code",
   "execution_count": 30,
   "metadata": {},
   "outputs": [],
   "source": [
    "fs = 10 ** linspace(0, 4, 9)"
   ]
  },
  {
   "cell_type": "code",
   "execution_count": 31,
   "metadata": {},
   "outputs": [],
   "source": [
    "ratios, offsets = sweep_frequency(fs, params)"
   ]
  },
  {
   "cell_type": "markdown",
   "metadata": {},
   "source": [
    "We can plot output ratios like this:"
   ]
  },
  {
   "cell_type": "code",
   "execution_count": 32,
   "metadata": {},
   "outputs": [],
   "source": [
    "plot(ratios, color='C2', label='output ratio')\n",
    "decorate(xlabel='Frequency (Hz)',\n",
    "         ylabel='$V_{out} / V_{in}$')"
   ]
  },
  {
   "cell_type": "markdown",
   "metadata": {},
   "source": [
    "But it is useful and conventional to plot ratios on a log-log scale.  The vertical gray line shows the cutoff frequency."
   ]
  },
  {
   "cell_type": "code",
   "execution_count": 33,
   "metadata": {},
   "outputs": [],
   "source": [
    "def plot_ratios(ratios, system):\n",
    "    \"\"\"Plot output ratios.\n",
    "    \"\"\"\n",
    "    plt.axvline(system.cutoff, color='gray', alpha=0.4)\n",
    "    plot(ratios, color='C2', label='output ratio')\n",
    "    decorate(xlabel='Frequency (Hz)',\n",
    "             ylabel='$V_{out} / V_{in}$',\n",
    "             xscale='log', yscale='log')"
   ]
  },
  {
   "cell_type": "code",
   "execution_count": 34,
   "metadata": {},
   "outputs": [],
   "source": [
    "plot_ratios(ratios, system)"
   ]
  },
  {
   "cell_type": "markdown",
   "metadata": {},
   "source": [
    "This plot shows the cutoff behavior more clearly.  Below the cutoff, the output ratio is close to 1.  Above the cutoff, it drops off linearly, on a log scale, which indicates that output ratios for high frequencies are practically 0.\n",
    "\n",
    "Here's the plot for phase offset, on a log-x scale:"
   ]
  },
  {
   "cell_type": "code",
   "execution_count": 35,
   "metadata": {},
   "outputs": [],
   "source": [
    "def plot_offsets(offsets, system):\n",
    "    \"\"\"Plot phase offsets.\n",
    "    \"\"\"\n",
    "    plt.axvline(system.cutoff, color='gray', alpha=0.4)\n",
    "    plot(offsets, color='C9')\n",
    "    decorate(xlabel='Frequency (Hz)',\n",
    "             ylabel='Phase offset (degree)',\n",
    "             xscale='log')"
   ]
  },
  {
   "cell_type": "code",
   "execution_count": 36,
   "metadata": {},
   "outputs": [],
   "source": [
    "plot_offsets(offsets, system)"
   ]
  },
  {
   "cell_type": "markdown",
   "metadata": {},
   "source": [
    "For low frequencies, the phase offset is near 0.  For high frequencies, it approaches 90 degrees."
   ]
  },
  {
   "cell_type": "markdown",
   "metadata": {},
   "source": [
    "### Analysis\n",
    "\n",
    "By analysis we can show that the output ratio for this signal is\n",
    "\n",
    "$A = \\frac{1}{\\sqrt{1 + (R C \\omega)^2}}$ \n",
    "\n",
    "where $\\omega = 2 \\pi f$, and the phase offset is\n",
    "\n",
    "$ \\phi = \\arctan (- R C \\omega)$ \n",
    "\n",
    "**Exercise:** Write functions that take an array of input frequencies and returns $A(f)$ and $\\phi(f)$ as `SweepSeries` objects.  Plot these objects and compare them with the results from the previous section.\n"
   ]
  },
  {
   "cell_type": "code",
   "execution_count": 37,
   "metadata": {},
   "outputs": [],
   "source": [
    "# Solution goes here"
   ]
  },
  {
   "cell_type": "markdown",
   "metadata": {},
   "source": [
    "Test your function:"
   ]
  },
  {
   "cell_type": "code",
   "execution_count": 38,
   "metadata": {},
   "outputs": [],
   "source": [
    "A = output_ratios(fs, system)"
   ]
  },
  {
   "cell_type": "code",
   "execution_count": 39,
   "metadata": {},
   "outputs": [],
   "source": [
    "# Solution goes here"
   ]
  },
  {
   "cell_type": "markdown",
   "metadata": {},
   "source": [
    "Test your function:"
   ]
  },
  {
   "cell_type": "code",
   "execution_count": 40,
   "metadata": {},
   "outputs": [],
   "source": [
    "phi = phase_offsets(fs, system)"
   ]
  },
  {
   "cell_type": "markdown",
   "metadata": {},
   "source": [
    "Plot the theoretical results along with the simulation results and see if they agree."
   ]
  },
  {
   "cell_type": "code",
   "execution_count": 41,
   "metadata": {},
   "outputs": [],
   "source": [
    "plot(A, ':', color='gray')\n",
    "plot_ratios(ratios, system)"
   ]
  },
  {
   "cell_type": "code",
   "execution_count": 42,
   "metadata": {},
   "outputs": [],
   "source": [
    "plot(phi, ':', color='gray')\n",
    "plot_offsets(offsets, system)"
   ]
  },
  {
   "cell_type": "markdown",
   "metadata": {},
   "source": [
    "For the phase offsets, there are small differences between the theoretical results and our estimates, but that is probably because it is not easy to estimate phase offsets precisely from numerical results."
   ]
  },
  {
   "cell_type": "markdown",
   "metadata": {},
   "source": [
    "**Exercise:** Consider modifying this notebook to model a [first order high-pass filter](https://en.wikipedia.org/wiki/High-pass_filter#First-order_continuous-time_implementation), a [two-stage second-order low-pass filter](https://www.electronics-tutorials.ws/filter/filter_2.html), or a [passive band-pass filter](https://www.electronics-tutorials.ws/filter/filter_4.html)."
   ]
  },
  {
   "cell_type": "code",
   "execution_count": null,
   "metadata": {},
   "outputs": [],
   "source": []
  }
 ],
 "metadata": {
  "kernelspec": {
   "display_name": "Python 3",
   "language": "python",
   "name": "python3"
  },
  "language_info": {
   "codemirror_mode": {
    "name": "ipython",
    "version": 3
   },
   "file_extension": ".py",
   "mimetype": "text/x-python",
   "name": "python",
   "nbconvert_exporter": "python",
   "pygments_lexer": "ipython3",
   "version": "3.6.8"
  }
 },
 "nbformat": 4,
 "nbformat_minor": 2
}
