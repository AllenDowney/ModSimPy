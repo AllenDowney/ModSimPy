{
 "cells": [
  {
   "cell_type": "code",
   "execution_count": 243,
   "metadata": {
    "scrolled": false
   },
   "outputs": [
    {
     "name": "stdout",
     "output_type": "stream",
     "text": [
      "the total error rate is: 0.022222\n",
      "the total error rate is: 0.000000\n",
      "the total error rate is: 0.003704\n",
      "the total error rate is: 0.005556\n",
      "the total error rate is: 0.002222\n",
      "the total error rate is: 0.003704\n",
      "the total error rate is: 0.006349\n",
      "the total error rate is: 0.001389\n",
      "the total error rate is: 0.001235\n",
      "the total error rate is: 0.006667\n"
     ]
    }
   ],
   "source": [
    "import pandas as pd\n",
    "from numpy import *\n",
    "import operator\n",
    "import timeit\n",
    "import seaborn as sns\n",
    "import matplotlib.pyplot as plt\n",
    "%matplotlib inline\n",
    "%timeit\n",
    "\n",
    "df=pd.read_excel('output3.xlsx', index_col=0) \n",
    "df.head()\n",
    "def dataSet(dataSet,length):\n",
    "    dataset = np.zeros((length,2))\n",
    "    labels  = dataSet.at[1,'label']\n",
    "    df =dataSet\n",
    "    for i in range(1,length):\n",
    "        dataset[i-1] = [df.at[i,'x'],df.at[i,'y']]\n",
    "        labels +=df.at[i+1,'label']\n",
    "    #     print(dataset[i],labels)\n",
    "#     dataset[0]=[df.at[0,'x'],df.at[0,'y']]\n",
    "    #     print(dataset,labels)\n",
    "    group = dataset\n",
    "    labels =labels\n",
    "    return group,labels\n",
    "\n",
    "def classify0(inX, dataSet, labels, k):\n",
    "    dataSetSize = dataSet.shape[0]\n",
    "    diffMat = np.tile(inX, (dataSetSize,1)) - dataSet\n",
    "    sqDiffMat = diffMat**2\n",
    "    sqDistances = sqDiffMat.sum(axis=1)\n",
    "    distances = sqDistances**0.5\n",
    "    sortedDistIndicies = distances.argsort()     \n",
    "    classCount={}          \n",
    "    for i in range(k):\n",
    "        voteIlabel = labels[sortedDistIndicies[i]]\n",
    "        classCount[voteIlabel] = classCount.get(voteIlabel,0) + 1\n",
    "    sortedClassCount = sorted(classCount.items(), key=operator.itemgetter(1), reverse=True)\n",
    "    return sortedClassCount[0][0]\n",
    "def testclassify(inX):\n",
    "    dataset,labels=dataSet(df,2000)\n",
    "    a=classify0(inX,dataset,labels,3)\n",
    "    print(a) \n",
    "def autoNorm(dataSet):\n",
    "    minVals = dataSet.min(0)\n",
    "    maxVals = dataSet.max(0)\n",
    "    ranges = maxVals - minVals\n",
    "    normDataSet = zeros(shape(dataSet))\n",
    "    m = dataSet.shape[0]\n",
    "#     print(dataSet)\n",
    "    normDataSet = dataSet - tile(minVals, (m,1))\n",
    "#     print(normDataSet)\n",
    "    normDataSet = normDataSet/tile(ranges, (m,1))   #element wise divide\n",
    "    return normDataSet, ranges, minVals\n",
    "def TestClass(numbers):\n",
    "    hoRatio = 0.9      #hold out 10%\n",
    "    datingDataMat,datingLabels = dataSet(df,numbers) #load data setfrom file\n",
    "    normMat, ranges, minVals = autoNorm(datingDataMat)\n",
    "    m = normMat.shape[0]\n",
    "    numTestVecs = int(m*hoRatio)\n",
    "    errorCount = 0.0\n",
    "    \n",
    "    for i in range(numTestVecs):\n",
    "        classifierResult = classify0(normMat[i,:],normMat[numTestVecs:m,:],datingLabels[numTestVecs:m],3)\n",
    "#         print (\"the classifier came back with: %s, the real answer is: %s\" % (classifierResult, datingLabels[i]))\n",
    "        if (classifierResult != datingLabels[i]): errorCount += 1.0\n",
    "    print (\"the total error rate is: %f\" % (errorCount/float(numTestVecs)))\n",
    "#     print (errorCount)\n",
    "#     print(\"Total test:\",numTestVecs)\n",
    "\n",
    "# test =zeros(10) \n",
    "# # teslassify([2,2])\n",
    "\n",
    "for i in range(10):\n",
    "    a=timeit.timeit()\n",
    "    TestClass((i+1)*100)   #number is total number to test\n",
    "    b=timeit.timeit()\n",
    "#     print(b-a)\n",
    "#     test[i]= b-a\n",
    "# test=autoNorm(test)\n",
    "# plt.plot(test)\n",
    "# a=autoNorm(test)"
   ]
  },
  {
   "cell_type": "code",
   "execution_count": 27,
   "metadata": {},
   "outputs": [
    {
     "data": {
      "text/plain": [
       "4.061145023013975"
      ]
     },
     "execution_count": 27,
     "metadata": {},
     "output_type": "execute_result"
    }
   ],
   "source": [
    "df.at[1,'x']t"
   ]
  },
  {
   "cell_type": "code",
   "execution_count": 195,
   "metadata": {},
   "outputs": [
    {
     "data": {
      "text/plain": [
       "numpy.ndarray"
      ]
     },
     "execution_count": 195,
     "metadata": {},
     "output_type": "execute_result"
    }
   ],
   "source": [
    "test - tile(0.0002, (10,1))\n",
    "type(test)"
   ]
  },
  {
   "cell_type": "code",
   "execution_count": 236,
   "metadata": {},
   "outputs": [
    {
     "name": "stdout",
     "output_type": "stream",
     "text": [
      "[1, 2, 3, 4]\n"
     ]
    }
   ],
   "source": [
    "# a=autoNorm(test)\n",
    "# print(a)\n",
    "t1= ([1,2,3,4],[5,6,7,8])\n",
    "t2 =[1,2,3,4]\n",
    "\n",
    "\n",
    "# t2=t2.I\n",
    "# print(t1-tile(0.0002, (1,4)))\n"
   ]
  },
  {
   "cell_type": "code",
   "execution_count": 208,
   "metadata": {},
   "outputs": [
    {
     "data": {
      "text/plain": [
       "array([[0.1],\n",
       "       [0.1],\n",
       "       [0.1],\n",
       "       [0.1],\n",
       "       [0.1],\n",
       "       [0.1],\n",
       "       [0.1],\n",
       "       [0.1],\n",
       "       [0.1],\n",
       "       [0.1]])"
      ]
     },
     "execution_count": 208,
     "metadata": {},
     "output_type": "execute_result"
    }
   ],
   "source": [
    "tile(0.1, (10,1))"
   ]
  },
  {
   "cell_type": "code",
   "execution_count": 83,
   "metadata": {},
   "outputs": [],
   "source": [
    "def dataSet(dataSet,length):\n",
    "    dataset = np.zeros((length,2))\n",
    "    labels  = dataSet.at[1,'label']\n",
    "    df =dataSet\n",
    "    for i in range(1,length):\n",
    "        dataset[i-1] = [df.at[i,'x'],df.at[i,'y']]\n",
    "        labels +=df.at[i+1,'label']\n",
    "    #     print(dataset[i],labels)\n",
    "#     dataset[0]=[df.at[0,'x'],df.at[0,'y']]\n",
    "    #     print(dataset,labels)\n",
    "    group = dataset\n",
    "    labels =labels\n",
    "    return group,labels\n",
    "a=classify0([4.2,4],dataset,labels,3)\n",
    "print(a)    "
   ]
  },
  {
   "cell_type": "code",
   "execution_count": 84,
   "metadata": {},
   "outputs": [],
   "source": [
    "dataset,labels=dataSet(df,2000)"
   ]
  },
  {
   "cell_type": "code",
   "execution_count": 86,
   "metadata": {},
   "outputs": [
    {
     "data": {
      "text/plain": [
       "'BABBBABABB'"
      ]
     },
     "execution_count": 86,
     "metadata": {},
     "output_type": "execute_result"
    }
   ],
   "source": [
    "dataset[0:10]\n",
    "labels[0:10]"
   ]
  },
  {
   "cell_type": "code",
   "execution_count": 90,
   "metadata": {},
   "outputs": [],
   "source": [
    "def classify0(inX, dataSet, labels, k):\n",
    "    dataSetSize = dataSet.shape[0]\n",
    "    diffMat = np.tile(inX, (dataSetSize,1)) - dataSet\n",
    "    sqDiffMat = diffMat**2\n",
    "    sqDistances = sqDiffMat.sum(axis=1)\n",
    "    distances = sqDistances**0.5\n",
    "    sortedDistIndicies = distances.argsort()     \n",
    "    classCount={}          \n",
    "    for i in range(k):\n",
    "        voteIlabel = labels[sortedDistIndicies[i]]\n",
    "        classCount[voteIlabel] = classCount.get(voteIlabel,0) + 1\n",
    "    sortedClassCount = sorted(classCount.items(), key=operator.itemgetter(1), reverse=True)\n",
    "    return sortedClassCount[0][0]"
   ]
  },
  {
   "cell_type": "code",
   "execution_count": 93,
   "metadata": {},
   "outputs": [
    {
     "name": "stdout",
     "output_type": "stream",
     "text": [
      "B\n"
     ]
    }
   ],
   "source": [
    "\n",
    "a=classify0([4.2,4],dataset,labels,3)\n",
    "print(a)"
   ]
  },
  {
   "cell_type": "code",
   "execution_count": null,
   "metadata": {},
   "outputs": [],
   "source": []
  }
 ],
 "metadata": {
  "kernelspec": {
   "display_name": "Python 3",
   "language": "python",
   "name": "python3"
  },
  "language_info": {
   "codemirror_mode": {
    "name": "ipython",
    "version": 3
   },
   "file_extension": ".py",
   "mimetype": "text/x-python",
   "name": "python",
   "nbconvert_exporter": "python",
   "pygments_lexer": "ipython3",
   "version": "3.7.1"
  }
 },
 "nbformat": 4,
 "nbformat_minor": 2
}
