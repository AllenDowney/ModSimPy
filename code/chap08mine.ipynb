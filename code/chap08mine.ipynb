{
 "cells": [
  {
   "cell_type": "markdown",
   "metadata": {},
   "source": [
    "# Modeling and Simulation in Python\n",
    "\n",
    "Chapter 8: Pharmacokinetics\n",
    "\n",
    "Copyright 2017 Allen Downey\n",
    "\n",
    "License: [Creative Commons Attribution 4.0 International](https://creativecommons.org/licenses/by/4.0)\n"
   ]
  },
  {
   "cell_type": "code",
   "execution_count": 1,
   "metadata": {
    "collapsed": true
   },
   "outputs": [],
   "source": [
    "# If you want the figures to appear in the notebook, \n",
    "# and you want to interact with them, use\n",
    "# %matplotlib notebook\n",
    "\n",
    "# If you want the figures to appear in the notebook, \n",
    "# and you don't want to interact with them, use\n",
    "# %matplotlib inline\n",
    "\n",
    "# If you want the figures to appear in separate windows, use\n",
    "# %matplotlib qt5\n",
    "\n",
    "# tempo switch from one to another, you have to select Kernel->Restart\n",
    "\n",
    "%matplotlib inline\n",
    "\n",
    "from modsim import *"
   ]
  },
  {
   "cell_type": "markdown",
   "metadata": {},
   "source": [
    "### Data\n",
    "\n",
    "We have data from Pacini and Bergman (1986), \"MINMOD: a computer program to calculate insulin sensitivity and pancreatic responsivity from the frequently sampled intravenous glucose tolerance test\", *Computer Methods and Programs in Biomedicine*, 23: 113-122.."
   ]
  },
  {
   "cell_type": "code",
   "execution_count": 2,
   "metadata": {},
   "outputs": [
    {
     "data": {
      "text/html": [
       "<div>\n",
       "<style>\n",
       "    .dataframe thead tr:only-child th {\n",
       "        text-align: right;\n",
       "    }\n",
       "\n",
       "    .dataframe thead th {\n",
       "        text-align: left;\n",
       "    }\n",
       "\n",
       "    .dataframe tbody tr th {\n",
       "        vertical-align: top;\n",
       "    }\n",
       "</style>\n",
       "<table border=\"1\" class=\"dataframe\">\n",
       "  <thead>\n",
       "    <tr style=\"text-align: right;\">\n",
       "      <th></th>\n",
       "      <th>glucose</th>\n",
       "      <th>insulin</th>\n",
       "    </tr>\n",
       "    <tr>\n",
       "      <th>time</th>\n",
       "      <th></th>\n",
       "      <th></th>\n",
       "    </tr>\n",
       "  </thead>\n",
       "  <tbody>\n",
       "    <tr>\n",
       "      <th>0</th>\n",
       "      <td>92</td>\n",
       "      <td>11</td>\n",
       "    </tr>\n",
       "    <tr>\n",
       "      <th>2</th>\n",
       "      <td>350</td>\n",
       "      <td>26</td>\n",
       "    </tr>\n",
       "    <tr>\n",
       "      <th>4</th>\n",
       "      <td>287</td>\n",
       "      <td>130</td>\n",
       "    </tr>\n",
       "    <tr>\n",
       "      <th>6</th>\n",
       "      <td>251</td>\n",
       "      <td>85</td>\n",
       "    </tr>\n",
       "    <tr>\n",
       "      <th>8</th>\n",
       "      <td>240</td>\n",
       "      <td>51</td>\n",
       "    </tr>\n",
       "    <tr>\n",
       "      <th>10</th>\n",
       "      <td>216</td>\n",
       "      <td>49</td>\n",
       "    </tr>\n",
       "    <tr>\n",
       "      <th>12</th>\n",
       "      <td>211</td>\n",
       "      <td>45</td>\n",
       "    </tr>\n",
       "    <tr>\n",
       "      <th>14</th>\n",
       "      <td>205</td>\n",
       "      <td>41</td>\n",
       "    </tr>\n",
       "    <tr>\n",
       "      <th>16</th>\n",
       "      <td>196</td>\n",
       "      <td>35</td>\n",
       "    </tr>\n",
       "    <tr>\n",
       "      <th>19</th>\n",
       "      <td>192</td>\n",
       "      <td>30</td>\n",
       "    </tr>\n",
       "    <tr>\n",
       "      <th>22</th>\n",
       "      <td>172</td>\n",
       "      <td>30</td>\n",
       "    </tr>\n",
       "    <tr>\n",
       "      <th>27</th>\n",
       "      <td>163</td>\n",
       "      <td>27</td>\n",
       "    </tr>\n",
       "    <tr>\n",
       "      <th>32</th>\n",
       "      <td>142</td>\n",
       "      <td>30</td>\n",
       "    </tr>\n",
       "    <tr>\n",
       "      <th>42</th>\n",
       "      <td>124</td>\n",
       "      <td>22</td>\n",
       "    </tr>\n",
       "    <tr>\n",
       "      <th>52</th>\n",
       "      <td>105</td>\n",
       "      <td>15</td>\n",
       "    </tr>\n",
       "    <tr>\n",
       "      <th>62</th>\n",
       "      <td>92</td>\n",
       "      <td>15</td>\n",
       "    </tr>\n",
       "    <tr>\n",
       "      <th>72</th>\n",
       "      <td>84</td>\n",
       "      <td>11</td>\n",
       "    </tr>\n",
       "    <tr>\n",
       "      <th>82</th>\n",
       "      <td>77</td>\n",
       "      <td>10</td>\n",
       "    </tr>\n",
       "    <tr>\n",
       "      <th>92</th>\n",
       "      <td>82</td>\n",
       "      <td>8</td>\n",
       "    </tr>\n",
       "    <tr>\n",
       "      <th>102</th>\n",
       "      <td>81</td>\n",
       "      <td>11</td>\n",
       "    </tr>\n",
       "    <tr>\n",
       "      <th>122</th>\n",
       "      <td>82</td>\n",
       "      <td>7</td>\n",
       "    </tr>\n",
       "    <tr>\n",
       "      <th>142</th>\n",
       "      <td>82</td>\n",
       "      <td>8</td>\n",
       "    </tr>\n",
       "    <tr>\n",
       "      <th>162</th>\n",
       "      <td>85</td>\n",
       "      <td>8</td>\n",
       "    </tr>\n",
       "    <tr>\n",
       "      <th>182</th>\n",
       "      <td>90</td>\n",
       "      <td>7</td>\n",
       "    </tr>\n",
       "  </tbody>\n",
       "</table>\n",
       "</div>"
      ],
      "text/plain": [
       "      glucose  insulin\n",
       "time                  \n",
       "0          92       11\n",
       "2         350       26\n",
       "4         287      130\n",
       "6         251       85\n",
       "8         240       51\n",
       "10        216       49\n",
       "12        211       45\n",
       "14        205       41\n",
       "16        196       35\n",
       "19        192       30\n",
       "22        172       30\n",
       "27        163       27\n",
       "32        142       30\n",
       "42        124       22\n",
       "52        105       15\n",
       "62         92       15\n",
       "72         84       11\n",
       "82         77       10\n",
       "92         82        8\n",
       "102        81       11\n",
       "122        82        7\n",
       "142        82        8\n",
       "162        85        8\n",
       "182        90        7"
      ]
     },
     "execution_count": 2,
     "metadata": {},
     "output_type": "execute_result"
    }
   ],
   "source": [
    "data = pd.read_csv('glucose_insulin.csv', index_col='time')\n",
    "data"
   ]
  },
  {
   "cell_type": "markdown",
   "metadata": {},
   "source": [
    "Here's what the glucose time series looks like."
   ]
  },
  {
   "cell_type": "code",
   "execution_count": 3,
   "metadata": {},
   "outputs": [
    {
     "data": {
      "image/png": "[encoded data removed]",
      "text/plain": [
       "<matplotlib.figure.Figure at 0x7f7daac79748>"
      ]
     },
     "metadata": {},
     "output_type": "display_data"
    }
   ],
   "source": [
    "plot(data.glucose, 'bo', label='glucose')\n",
    "decorate(xlabel='Time (min)',\n",
    "         ylabel='Concentration (mg/dL)')"
   ]
  },
  {
   "cell_type": "markdown",
   "metadata": {},
   "source": [
    "And the insulin time series."
   ]
  },
  {
   "cell_type": "code",
   "execution_count": 4,
   "metadata": {},
   "outputs": [
    {
     "data": {
      "image/png": "[encoded data removed]",
      "text/plain": [
       "<matplotlib.figure.Figure at 0x7f7daac13390>"
      ]
     },
     "metadata": {},
     "output_type": "display_data"
    }
   ],
   "source": [
    "plot(data.insulin, 'go', label='insulin')\n",
    "decorate(xlabel='Time (min)',\n",
    "         ylabel='Concentration ($\\mu$U/mL)')"
   ]
  },
  {
   "cell_type": "markdown",
   "metadata": {},
   "source": [
    "For the book, I put them in a single figure, using `subplot`"
   ]
  },
  {
   "cell_type": "code",
   "execution_count": 5,
   "metadata": {},
   "outputs": [
    {
     "name": "stdout",
     "output_type": "stream",
     "text": [
      "Saving figure to file chap08-fig01.pdf\n"
     ]
    },
    {
     "data": {
      "image/png": "[encoded data removed]",
      "text/plain": [
       "<matplotlib.figure.Figure at 0x7f7daab2d3c8>"
      ]
     },
     "metadata": {},
     "output_type": "display_data"
    }
   ],
   "source": [
    "subplot(2, 1, 1)\n",
    "plot(data.glucose, 'bo', label='glucose')\n",
    "decorate(ylabel='mg/dL')\n",
    "\n",
    "subplot(2, 1, 2)\n",
    "plot(data.insulin, 'go', label='insulin')\n",
    "decorate(xlabel='Time (min)',\n",
    "         ylabel='$\\mu$U/mL')\n",
    "\n",
    "savefig('chap08-fig01.pdf')"
   ]
  },
  {
   "cell_type": "markdown",
   "metadata": {},
   "source": [
    "### Interpolation\n",
    "\n",
    "We have measurements of insulin concentration at discrete points in time, but we need to estimate it at intervening points.  We'll use `interpolate`, which is a wrapper for `scipy.interpolate.interp1d`"
   ]
  },
  {
   "cell_type": "code",
   "execution_count": 6,
   "metadata": {
    "collapsed": true
   },
   "outputs": [],
   "source": [
    "%psource interpolate"
   ]
  },
  {
   "cell_type": "markdown",
   "metadata": {},
   "source": [
    "The return value from `interpolate` is a function."
   ]
  },
  {
   "cell_type": "code",
   "execution_count": 7,
   "metadata": {
    "collapsed": true
   },
   "outputs": [],
   "source": [
    "I = interpolate(data.insulin)"
   ]
  },
  {
   "cell_type": "markdown",
   "metadata": {},
   "source": [
    "We can use the result, `I`, to estimate the insulin level at any point in time."
   ]
  },
  {
   "cell_type": "code",
   "execution_count": 8,
   "metadata": {
    "scrolled": true
   },
   "outputs": [
    {
     "data": {
      "text/plain": [
       "array(68.0)"
      ]
     },
     "execution_count": 8,
     "metadata": {},
     "output_type": "execute_result"
    }
   ],
   "source": [
    "I(7)"
   ]
  },
  {
   "cell_type": "markdown",
   "metadata": {},
   "source": [
    "`I` can also take an array of time and return an array of estimates, which we can plot."
   ]
  },
  {
   "cell_type": "code",
   "execution_count": 9,
   "metadata": {},
   "outputs": [
    {
     "name": "stdout",
     "output_type": "stream",
     "text": [
      "Saving figure to file chap08-fig02.pdf\n"
     ]
    },
    {
     "data": {
      "image/png": "[encoded data removed]",
      "text/plain": [
       "<matplotlib.figure.Figure at 0x7f7daa640ac8>"
      ]
     },
     "metadata": {},
     "output_type": "display_data"
    }
   ],
   "source": [
    "ts = linrange(0, 182, 2)\n",
    "\n",
    "plot(data.insulin, 'go', label='insulin data')\n",
    "plot(ts, I(ts), color='green', label='interpolated')\n",
    "\n",
    "decorate(xlabel='Time (min)',\n",
    "         ylabel='Concentration ($\\mu$U/mL)')\n",
    "\n",
    "savefig('chap08-fig02.pdf')"
   ]
  },
  {
   "cell_type": "markdown",
   "metadata": {},
   "source": [
    "**Exercise:** [Read the documentation](https://docs.scipy.org/doc/scipy/reference/generated/scipy.interpolate.interp1d.html) of `scipy.interpolate.interp1d`.  Pass a keyword argument to `interpolate` to specify one of the other kinds of interpolation, and run the code again to see what it looks like. "
   ]
  },
  {
   "cell_type": "code",
   "execution_count": 10,
   "metadata": {},
   "outputs": [
    {
     "name": "stdout",
     "output_type": "stream",
     "text": [
      "Saving figure to file chap08-fig03.pdf\n"
     ]
    },
    {
     "data": {
      "image/png": "[encoded data removed]",
      "text/plain": [
       "<matplotlib.figure.Figure at 0x7f7daab22f28>"
      ]
     },
     "metadata": {},
     "output_type": "display_data"
    }
   ],
   "source": [
    "I = interpolate(data.insulin, kind='quadratic')\n",
    "\n",
    "plot(data.insulin, 'go', label='insulin data')\n",
    "plot(ts, I(ts), color='green', label='interpolated')\n",
    "\n",
    "decorate(xlabel='Time (min)',\n",
    "         ylabel='Concentration ($\\mu$U/mL)')\n",
    "\n",
    "savefig('chap08-fig03.pdf')"
   ]
  },
  {
   "cell_type": "markdown",
   "metadata": {},
   "source": [
    "\n",
    "\n",
    "### The glucose minimal model\n",
    "\n",
    "I'll cheat by starting with parameters that fit the data roughly; then we'll see how to improve them."
   ]
  },
  {
   "cell_type": "code",
   "execution_count": 11,
   "metadata": {
    "collapsed": true
   },
   "outputs": [],
   "source": [
    "k1 = 0.03\n",
    "k2 = 0.02\n",
    "k3 = 1e-05\n",
    "G0 = 290"
   ]
  },
  {
   "cell_type": "markdown",
   "metadata": {},
   "source": [
    "To estimate basal levels, we'll use the concentrations at `t=0`."
   ]
  },
  {
   "cell_type": "code",
   "execution_count": 12,
   "metadata": {
    "collapsed": true
   },
   "outputs": [],
   "source": [
    "Gb = data.glucose[0]\n",
    "Ib = data.insulin[0]"
   ]
  },
  {
   "cell_type": "markdown",
   "metadata": {},
   "source": [
    "In the initial conditions, `X(0)=0` and `G(0)=G0`, where `G0` is one of the parameters we'll choose."
   ]
  },
  {
   "cell_type": "code",
   "execution_count": 13,
   "metadata": {
    "collapsed": true
   },
   "outputs": [],
   "source": [
    "init = State(G=G0, X=0)"
   ]
  },
  {
   "cell_type": "markdown",
   "metadata": {},
   "source": [
    "Here's the system object with all parameters and the interpolation object `I`."
   ]
  },
  {
   "cell_type": "code",
   "execution_count": 14,
   "metadata": {
    "collapsed": true
   },
   "outputs": [],
   "source": [
    "system = System(init=init, \n",
    "                k1=k1, k2=k2, k3=k3,\n",
    "                I=I, Gb=Gb, Ib=Ib,\n",
    "                t0=0, t_end=182, dt=2)"
   ]
  },
  {
   "cell_type": "markdown",
   "metadata": {},
   "source": [
    "And here's the update function.  Using `unpack` to make the system variables accessible without using dot notation, which makes the translation of the differential equations more readable and checkable."
   ]
  },
  {
   "cell_type": "code",
   "execution_count": 15,
   "metadata": {
    "collapsed": true
   },
   "outputs": [],
   "source": [
    "def update_func(state, t, system):\n",
    "    \"\"\"Updates the glucose minimal model.\n",
    "    \n",
    "    state: State object\n",
    "    t: time in min\n",
    "    system: System object\n",
    "    \n",
    "    returns: State object\n",
    "    \"\"\"\n",
    "    G, X = state\n",
    "    unpack(system)\n",
    "        \n",
    "    dGdt = -k1 * (G - Gb) - X*G\n",
    "    dXdt = k3 * (I(t) - Ib) - k2 * X\n",
    "    \n",
    "    G += dGdt * dt\n",
    "    X += dXdt * dt\n",
    "\n",
    "    return State(G=G, X=X)"
   ]
  },
  {
   "cell_type": "markdown",
   "metadata": {},
   "source": [
    "Before running the simulation, it is always a good idea to test the update function using the initial conditions.  In this case we can veryify that the results are at least qualitatively correct."
   ]
  },
  {
   "cell_type": "code",
   "execution_count": 16,
   "metadata": {},
   "outputs": [
    {
     "data": {
      "text/html": [
       "<div>\n",
       "<style>\n",
       "    .dataframe thead tr:only-child th {\n",
       "        text-align: right;\n",
       "    }\n",
       "\n",
       "    .dataframe thead th {\n",
       "        text-align: left;\n",
       "    }\n",
       "\n",
       "    .dataframe tbody tr th {\n",
       "        vertical-align: top;\n",
       "    }\n",
       "</style>\n",
       "<table border=\"1\" class=\"dataframe\">\n",
       "  <thead>\n",
       "    <tr style=\"text-align: right;\">\n",
       "      <th></th>\n",
       "      <th>value</th>\n",
       "    </tr>\n",
       "  </thead>\n",
       "  <tbody>\n",
       "    <tr>\n",
       "      <th>G</th>\n",
       "      <td>278.12</td>\n",
       "    </tr>\n",
       "    <tr>\n",
       "      <th>X</th>\n",
       "      <td>0.00</td>\n",
       "    </tr>\n",
       "  </tbody>\n",
       "</table>\n",
       "</div>"
      ],
      "text/plain": [
       "G    278.12\n",
       "X      0.00\n",
       "dtype: float64"
      ]
     },
     "execution_count": 16,
     "metadata": {},
     "output_type": "execute_result"
    }
   ],
   "source": [
    "update_func(init, 0, system)"
   ]
  },
  {
   "cell_type": "markdown",
   "metadata": {},
   "source": [
    "Now run simulation is pretty much the same as it always is."
   ]
  },
  {
   "cell_type": "code",
   "execution_count": 17,
   "metadata": {
    "collapsed": true
   },
   "outputs": [],
   "source": [
    "def run_simulation(system, update_func):\n",
    "    \"\"\"Runs a simulation of the system.\n",
    "    \n",
    "    Adds a TimeFrame to `system` as `results`\n",
    "    \n",
    "    system: System object\n",
    "    update_func: function that updates state\n",
    "    \"\"\"\n",
    "    unpack(system)\n",
    "    \n",
    "    frame = TimeFrame(columns=init.index)\n",
    "    frame.loc[t0] = init\n",
    "    ts = linrange(t0, t_end-dt, dt)\n",
    "    \n",
    "    for t in ts:\n",
    "        frame.loc[t+dt] = update_func(frame.loc[t], t, system)\n",
    "    \n",
    "    system.results = frame"
   ]
  },
  {
   "cell_type": "markdown",
   "metadata": {},
   "source": [
    "And here's how we run it.  `%time` is a Jupyter magic command that runs the function and reports its run time."
   ]
  },
  {
   "cell_type": "code",
   "execution_count": 18,
   "metadata": {},
   "outputs": [
    {
     "name": "stdout",
     "output_type": "stream",
     "text": [
      "CPU times: user 327 ms, sys: 2.89 ms, total: 330 ms\n",
      "Wall time: 357 ms\n"
     ]
    }
   ],
   "source": [
    "%time run_simulation(system, update_func)"
   ]
  },
  {
   "cell_type": "markdown",
   "metadata": {},
   "source": [
    "The results are in a `TimeFrame object` with one column per state variable."
   ]
  },
  {
   "cell_type": "code",
   "execution_count": 19,
   "metadata": {},
   "outputs": [
    {
     "data": {
      "text/html": [
       "<div>\n",
       "<style>\n",
       "    .dataframe thead tr:only-child th {\n",
       "        text-align: right;\n",
       "    }\n",
       "\n",
       "    .dataframe thead th {\n",
       "        text-align: left;\n",
       "    }\n",
       "\n",
       "    .dataframe tbody tr th {\n",
       "        vertical-align: top;\n",
       "    }\n",
       "</style>\n",
       "<table border=\"1\" class=\"dataframe\">\n",
       "  <thead>\n",
       "    <tr style=\"text-align: right;\">\n",
       "      <th></th>\n",
       "      <th>G</th>\n",
       "      <th>X</th>\n",
       "    </tr>\n",
       "  </thead>\n",
       "  <tbody>\n",
       "    <tr>\n",
       "      <th>0</th>\n",
       "      <td>290.000000</td>\n",
       "      <td>0.000000</td>\n",
       "    </tr>\n",
       "    <tr>\n",
       "      <th>2</th>\n",
       "      <td>278.120000</td>\n",
       "      <td>0.000000</td>\n",
       "    </tr>\n",
       "    <tr>\n",
       "      <th>4</th>\n",
       "      <td>266.952800</td>\n",
       "      <td>0.000300</td>\n",
       "    </tr>\n",
       "    <tr>\n",
       "      <th>6</th>\n",
       "      <td>256.295460</td>\n",
       "      <td>0.002668</td>\n",
       "    </tr>\n",
       "    <tr>\n",
       "      <th>8</th>\n",
       "      <td>245.070140</td>\n",
       "      <td>0.004041</td>\n",
       "    </tr>\n",
       "    <tr>\n",
       "      <th>10</th>\n",
       "      <td>233.905138</td>\n",
       "      <td>0.004680</td>\n",
       "    </tr>\n",
       "    <tr>\n",
       "      <th>12</th>\n",
       "      <td>223.201651</td>\n",
       "      <td>0.005252</td>\n",
       "    </tr>\n",
       "    <tr>\n",
       "      <th>14</th>\n",
       "      <td>212.984844</td>\n",
       "      <td>0.005722</td>\n",
       "    </tr>\n",
       "    <tr>\n",
       "      <th>16</th>\n",
       "      <td>203.288207</td>\n",
       "      <td>0.006093</td>\n",
       "    </tr>\n",
       "    <tr>\n",
       "      <th>18</th>\n",
       "      <td>194.133461</td>\n",
       "      <td>0.006330</td>\n",
       "    </tr>\n",
       "    <tr>\n",
       "      <th>20</th>\n",
       "      <td>185.547835</td>\n",
       "      <td>0.006476</td>\n",
       "    </tr>\n",
       "    <tr>\n",
       "      <th>22</th>\n",
       "      <td>177.531719</td>\n",
       "      <td>0.006591</td>\n",
       "    </tr>\n",
       "    <tr>\n",
       "      <th>24</th>\n",
       "      <td>170.059502</td>\n",
       "      <td>0.006708</td>\n",
       "    </tr>\n",
       "    <tr>\n",
       "      <th>26</th>\n",
       "      <td>163.094548</td>\n",
       "      <td>0.006798</td>\n",
       "    </tr>\n",
       "    <tr>\n",
       "      <th>28</th>\n",
       "      <td>156.611564</td>\n",
       "      <td>0.006850</td>\n",
       "    </tr>\n",
       "    <tr>\n",
       "      <th>30</th>\n",
       "      <td>150.589137</td>\n",
       "      <td>0.006900</td>\n",
       "    </tr>\n",
       "    <tr>\n",
       "      <th>32</th>\n",
       "      <td>144.995544</td>\n",
       "      <td>0.006980</td>\n",
       "    </tr>\n",
       "    <tr>\n",
       "      <th>34</th>\n",
       "      <td>139.791589</td>\n",
       "      <td>0.007081</td>\n",
       "    </tr>\n",
       "    <tr>\n",
       "      <th>36</th>\n",
       "      <td>134.944343</td>\n",
       "      <td>0.007177</td>\n",
       "    </tr>\n",
       "    <tr>\n",
       "      <th>38</th>\n",
       "      <td>130.430614</td>\n",
       "      <td>0.007244</td>\n",
       "    </tr>\n",
       "    <tr>\n",
       "      <th>40</th>\n",
       "      <td>126.234976</td>\n",
       "      <td>0.007263</td>\n",
       "    </tr>\n",
       "    <tr>\n",
       "      <th>42</th>\n",
       "      <td>122.347258</td>\n",
       "      <td>0.007234</td>\n",
       "    </tr>\n",
       "    <tr>\n",
       "      <th>44</th>\n",
       "      <td>118.756227</td>\n",
       "      <td>0.007165</td>\n",
       "    </tr>\n",
       "    <tr>\n",
       "      <th>46</th>\n",
       "      <td>115.449093</td>\n",
       "      <td>0.007060</td>\n",
       "    </tr>\n",
       "    <tr>\n",
       "      <th>48</th>\n",
       "      <td>112.411982</td>\n",
       "      <td>0.006925</td>\n",
       "    </tr>\n",
       "    <tr>\n",
       "      <th>50</th>\n",
       "      <td>109.630337</td>\n",
       "      <td>0.006765</td>\n",
       "    </tr>\n",
       "    <tr>\n",
       "      <th>52</th>\n",
       "      <td>107.089116</td>\n",
       "      <td>0.006590</td>\n",
       "    </tr>\n",
       "    <tr>\n",
       "      <th>54</th>\n",
       "      <td>104.772421</td>\n",
       "      <td>0.006406</td>\n",
       "    </tr>\n",
       "    <tr>\n",
       "      <th>56</th>\n",
       "      <td>102.663729</td>\n",
       "      <td>0.006223</td>\n",
       "    </tr>\n",
       "    <tr>\n",
       "      <th>58</th>\n",
       "      <td>100.746171</td>\n",
       "      <td>0.006048</td>\n",
       "    </tr>\n",
       "    <tr>\n",
       "      <th>...</th>\n",
       "      <td>...</td>\n",
       "      <td>...</td>\n",
       "    </tr>\n",
       "    <tr>\n",
       "      <th>124</th>\n",
       "      <td>86.337793</td>\n",
       "      <td>0.001159</td>\n",
       "    </tr>\n",
       "    <tr>\n",
       "      <th>126</th>\n",
       "      <td>86.477393</td>\n",
       "      <td>0.001028</td>\n",
       "    </tr>\n",
       "    <tr>\n",
       "      <th>128</th>\n",
       "      <td>86.630924</td>\n",
       "      <td>0.000900</td>\n",
       "    </tr>\n",
       "    <tr>\n",
       "      <th>130</th>\n",
       "      <td>86.797084</td>\n",
       "      <td>0.000778</td>\n",
       "    </tr>\n",
       "    <tr>\n",
       "      <th>132</th>\n",
       "      <td>86.974289</td>\n",
       "      <td>0.000662</td>\n",
       "    </tr>\n",
       "    <tr>\n",
       "      <th>134</th>\n",
       "      <td>87.160705</td>\n",
       "      <td>0.000555</td>\n",
       "    </tr>\n",
       "    <tr>\n",
       "      <th>136</th>\n",
       "      <td>87.354270</td>\n",
       "      <td>0.000458</td>\n",
       "    </tr>\n",
       "    <tr>\n",
       "      <th>138</th>\n",
       "      <td>87.552965</td>\n",
       "      <td>0.000370</td>\n",
       "    </tr>\n",
       "    <tr>\n",
       "      <th>140</th>\n",
       "      <td>87.755062</td>\n",
       "      <td>0.000289</td>\n",
       "    </tr>\n",
       "    <tr>\n",
       "      <th>142</th>\n",
       "      <td>87.959098</td>\n",
       "      <td>0.000214</td>\n",
       "    </tr>\n",
       "    <tr>\n",
       "      <th>144</th>\n",
       "      <td>88.163851</td>\n",
       "      <td>0.000146</td>\n",
       "    </tr>\n",
       "    <tr>\n",
       "      <th>146</th>\n",
       "      <td>88.368322</td>\n",
       "      <td>0.000082</td>\n",
       "    </tr>\n",
       "    <tr>\n",
       "      <th>148</th>\n",
       "      <td>88.571715</td>\n",
       "      <td>0.000023</td>\n",
       "    </tr>\n",
       "    <tr>\n",
       "      <th>150</th>\n",
       "      <td>88.773420</td>\n",
       "      <td>-0.000034</td>\n",
       "    </tr>\n",
       "    <tr>\n",
       "      <th>152</th>\n",
       "      <td>88.972994</td>\n",
       "      <td>-0.000087</td>\n",
       "    </tr>\n",
       "    <tr>\n",
       "      <th>154</th>\n",
       "      <td>89.170153</td>\n",
       "      <td>-0.000139</td>\n",
       "    </tr>\n",
       "    <tr>\n",
       "      <th>156</th>\n",
       "      <td>89.364751</td>\n",
       "      <td>-0.000189</td>\n",
       "    </tr>\n",
       "    <tr>\n",
       "      <th>158</th>\n",
       "      <td>89.556731</td>\n",
       "      <td>-0.000239</td>\n",
       "    </tr>\n",
       "    <tr>\n",
       "      <th>160</th>\n",
       "      <td>89.746071</td>\n",
       "      <td>-0.000287</td>\n",
       "    </tr>\n",
       "    <tr>\n",
       "      <th>162</th>\n",
       "      <td>89.932781</td>\n",
       "      <td>-0.000334</td>\n",
       "    </tr>\n",
       "    <tr>\n",
       "      <th>164</th>\n",
       "      <td>90.116905</td>\n",
       "      <td>-0.000381</td>\n",
       "    </tr>\n",
       "    <tr>\n",
       "      <th>166</th>\n",
       "      <td>90.298509</td>\n",
       "      <td>-0.000427</td>\n",
       "    </tr>\n",
       "    <tr>\n",
       "      <th>168</th>\n",
       "      <td>90.477688</td>\n",
       "      <td>-0.000473</td>\n",
       "    </tr>\n",
       "    <tr>\n",
       "      <th>170</th>\n",
       "      <td>90.654557</td>\n",
       "      <td>-0.000518</td>\n",
       "    </tr>\n",
       "    <tr>\n",
       "      <th>172</th>\n",
       "      <td>90.829251</td>\n",
       "      <td>-0.000564</td>\n",
       "    </tr>\n",
       "    <tr>\n",
       "      <th>174</th>\n",
       "      <td>91.001926</td>\n",
       "      <td>-0.000610</td>\n",
       "    </tr>\n",
       "    <tr>\n",
       "      <th>176</th>\n",
       "      <td>91.172750</td>\n",
       "      <td>-0.000655</td>\n",
       "    </tr>\n",
       "    <tr>\n",
       "      <th>178</th>\n",
       "      <td>91.341908</td>\n",
       "      <td>-0.000702</td>\n",
       "    </tr>\n",
       "    <tr>\n",
       "      <th>180</th>\n",
       "      <td>91.509597</td>\n",
       "      <td>-0.000749</td>\n",
       "    </tr>\n",
       "    <tr>\n",
       "      <th>182</th>\n",
       "      <td>91.676027</td>\n",
       "      <td>-0.000796</td>\n",
       "    </tr>\n",
       "  </tbody>\n",
       "</table>\n",
       "<p>92 rows × 2 columns</p>\n",
       "</div>"
      ],
      "text/plain": [
       "              G         X\n",
       "0    290.000000  0.000000\n",
       "2    278.120000  0.000000\n",
       "4    266.952800  0.000300\n",
       "6    256.295460  0.002668\n",
       "8    245.070140  0.004041\n",
       "10   233.905138  0.004680\n",
       "12   223.201651  0.005252\n",
       "14   212.984844  0.005722\n",
       "16   203.288207  0.006093\n",
       "18   194.133461  0.006330\n",
       "20   185.547835  0.006476\n",
       "22   177.531719  0.006591\n",
       "24   170.059502  0.006708\n",
       "26   163.094548  0.006798\n",
       "28   156.611564  0.006850\n",
       "30   150.589137  0.006900\n",
       "32   144.995544  0.006980\n",
       "34   139.791589  0.007081\n",
       "36   134.944343  0.007177\n",
       "38   130.430614  0.007244\n",
       "40   126.234976  0.007263\n",
       "42   122.347258  0.007234\n",
       "44   118.756227  0.007165\n",
       "46   115.449093  0.007060\n",
       "48   112.411982  0.006925\n",
       "50   109.630337  0.006765\n",
       "52   107.089116  0.006590\n",
       "54   104.772421  0.006406\n",
       "56   102.663729  0.006223\n",
       "58   100.746171  0.006048\n",
       "..          ...       ...\n",
       "124   86.337793  0.001159\n",
       "126   86.477393  0.001028\n",
       "128   86.630924  0.000900\n",
       "130   86.797084  0.000778\n",
       "132   86.974289  0.000662\n",
       "134   87.160705  0.000555\n",
       "136   87.354270  0.000458\n",
       "138   87.552965  0.000370\n",
       "140   87.755062  0.000289\n",
       "142   87.959098  0.000214\n",
       "144   88.163851  0.000146\n",
       "146   88.368322  0.000082\n",
       "148   88.571715  0.000023\n",
       "150   88.773420 -0.000034\n",
       "152   88.972994 -0.000087\n",
       "154   89.170153 -0.000139\n",
       "156   89.364751 -0.000189\n",
       "158   89.556731 -0.000239\n",
       "160   89.746071 -0.000287\n",
       "162   89.932781 -0.000334\n",
       "164   90.116905 -0.000381\n",
       "166   90.298509 -0.000427\n",
       "168   90.477688 -0.000473\n",
       "170   90.654557 -0.000518\n",
       "172   90.829251 -0.000564\n",
       "174   91.001926 -0.000610\n",
       "176   91.172750 -0.000655\n",
       "178   91.341908 -0.000702\n",
       "180   91.509597 -0.000749\n",
       "182   91.676027 -0.000796\n",
       "\n",
       "[92 rows x 2 columns]"
      ]
     },
     "execution_count": 19,
     "metadata": {},
     "output_type": "execute_result"
    }
   ],
   "source": [
    "system.results"
   ]
  },
  {
   "cell_type": "markdown",
   "metadata": {},
   "source": [
    "The following plot shows the results of the simulation along with the actual glucose data."
   ]
  },
  {
   "cell_type": "code",
   "execution_count": 20,
   "metadata": {},
   "outputs": [
    {
     "name": "stdout",
     "output_type": "stream",
     "text": [
      "Saving figure to file chap08-fig03.pdf\n"
     ]
    },
    {
     "data": {
      "image/png": "[encoded data removed]",
      "text/plain": [
       "<matplotlib.figure.Figure at 0x7f7daa640ef0>"
      ]
     },
     "metadata": {},
     "output_type": "display_data"
    }
   ],
   "source": [
    "subplot(2, 1, 1)\n",
    "\n",
    "plot(system.results.G, 'b-', label='simulation')\n",
    "plot(data.glucose, style='bo', label='glucose data')\n",
    "decorate(ylabel='mg/dL')\n",
    "\n",
    "subplot(2, 1, 2)\n",
    "\n",
    "plot(system.results.X, style='g-', label='remote insulin')\n",
    "\n",
    "decorate(xlabel='Time (min)', \n",
    "         ylabel='Arbitrary units')\n",
    "\n",
    "savefig('chap08-fig03.pdf')"
   ]
  },
  {
   "cell_type": "markdown",
   "metadata": {},
   "source": [
    "### Numerical solution\n",
    "\n",
    "We can do the same thing using `odeint`.  Instead of an update function, we provide a slope function that just evaluates the right-hand side of the differential equations.  We don't have to do the update part; `odeint` does it for us."
   ]
  },
  {
   "cell_type": "code",
   "execution_count": 21,
   "metadata": {
    "collapsed": true
   },
   "outputs": [],
   "source": [
    "def slope_func(state, t, system):\n",
    "    \"\"\"Computes derivatives of the glucose minimal model.\n",
    "    \n",
    "    state: State object\n",
    "    t: time in min\n",
    "    system: System object\n",
    "    \n",
    "    returns: derivatives of G and X\n",
    "    \"\"\"\n",
    "    G, X = state\n",
    "    unpack(system)\n",
    "    \n",
    "    dGdt = -k1 * (G - Gb) - X*G\n",
    "    dXdt = k3 * (I(t) - Ib) - k2 * X\n",
    "    \n",
    "    return dGdt, dXdt"
   ]
  },
  {
   "cell_type": "markdown",
   "metadata": {},
   "source": [
    "We can test the slope function with the initial conditions."
   ]
  },
  {
   "cell_type": "code",
   "execution_count": 22,
   "metadata": {},
   "outputs": [
    {
     "data": {
      "text/plain": [
       "(-5.9399999999999995, 0.0)"
      ]
     },
     "execution_count": 22,
     "metadata": {},
     "output_type": "execute_result"
    }
   ],
   "source": [
    "slope_func(init, 0, system)"
   ]
  },
  {
   "cell_type": "markdown",
   "metadata": {},
   "source": [
    "The `System` object we use with `run_odeint` is almost the same as the one we used with `run_simulation`, but instead of providing `t0`, `t_end`, and `dt`, we provide an array of times where we want to evaluate the solution.  In this case, we use `data.index`, so the results are evaluated at the same times as the measurements."
   ]
  },
  {
   "cell_type": "code",
   "execution_count": 23,
   "metadata": {
    "collapsed": true
   },
   "outputs": [],
   "source": [
    "system2 = System(init=init, \n",
    "                k1=k1, k2=k2, k3=k3,\n",
    "                I=I, Gb=Gb, Ib=Ib,\n",
    "                ts=data.index)"
   ]
  },
  {
   "cell_type": "markdown",
   "metadata": {},
   "source": [
    "`run_odeint` is a wrapper for `scipy.integrate.odeint`"
   ]
  },
  {
   "cell_type": "code",
   "execution_count": 24,
   "metadata": {
    "collapsed": true
   },
   "outputs": [],
   "source": [
    "%psource run_odeint"
   ]
  },
  {
   "cell_type": "markdown",
   "metadata": {},
   "source": [
    "Here's how we run it."
   ]
  },
  {
   "cell_type": "code",
   "execution_count": 25,
   "metadata": {},
   "outputs": [
    {
     "name": "stdout",
     "output_type": "stream",
     "text": [
      "CPU times: user 244 ms, sys: 0 ns, total: 244 ms\n",
      "Wall time: 424 ms\n"
     ]
    }
   ],
   "source": [
    "%time run_odeint(system2, slope_func)"
   ]
  },
  {
   "cell_type": "markdown",
   "metadata": {},
   "source": [
    "And here are the results."
   ]
  },
  {
   "cell_type": "code",
   "execution_count": 26,
   "metadata": {},
   "outputs": [
    {
     "data": {
      "text/html": [
       "<div>\n",
       "<style>\n",
       "    .dataframe thead tr:only-child th {\n",
       "        text-align: right;\n",
       "    }\n",
       "\n",
       "    .dataframe thead th {\n",
       "        text-align: left;\n",
       "    }\n",
       "\n",
       "    .dataframe tbody tr th {\n",
       "        vertical-align: top;\n",
       "    }\n",
       "</style>\n",
       "<table border=\"1\" class=\"dataframe\">\n",
       "  <thead>\n",
       "    <tr style=\"text-align: right;\">\n",
       "      <th></th>\n",
       "      <th>G</th>\n",
       "      <th>X</th>\n",
       "    </tr>\n",
       "    <tr>\n",
       "      <th>time</th>\n",
       "      <th></th>\n",
       "      <th></th>\n",
       "    </tr>\n",
       "  </thead>\n",
       "  <tbody>\n",
       "    <tr>\n",
       "      <th>0</th>\n",
       "      <td>290.000000</td>\n",
       "      <td>0.000000</td>\n",
       "    </tr>\n",
       "    <tr>\n",
       "      <th>2</th>\n",
       "      <td>278.503218</td>\n",
       "      <td>-0.000072</td>\n",
       "    </tr>\n",
       "    <tr>\n",
       "      <th>4</th>\n",
       "      <td>267.407044</td>\n",
       "      <td>0.001329</td>\n",
       "    </tr>\n",
       "    <tr>\n",
       "      <th>6</th>\n",
       "      <td>255.962566</td>\n",
       "      <td>0.003315</td>\n",
       "    </tr>\n",
       "    <tr>\n",
       "      <th>8</th>\n",
       "      <td>244.552487</td>\n",
       "      <td>0.004232</td>\n",
       "    </tr>\n",
       "    <tr>\n",
       "      <th>10</th>\n",
       "      <td>233.570125</td>\n",
       "      <td>0.004808</td>\n",
       "    </tr>\n",
       "    <tr>\n",
       "      <th>12</th>\n",
       "      <td>223.075469</td>\n",
       "      <td>0.005331</td>\n",
       "    </tr>\n",
       "    <tr>\n",
       "      <th>14</th>\n",
       "      <td>213.094204</td>\n",
       "      <td>0.005750</td>\n",
       "    </tr>\n",
       "    <tr>\n",
       "      <th>16</th>\n",
       "      <td>203.651201</td>\n",
       "      <td>0.006054</td>\n",
       "    </tr>\n",
       "    <tr>\n",
       "      <th>19</th>\n",
       "      <td>190.540814</td>\n",
       "      <td>0.006312</td>\n",
       "    </tr>\n",
       "    <tr>\n",
       "      <th>22</th>\n",
       "      <td>178.671483</td>\n",
       "      <td>0.006494</td>\n",
       "    </tr>\n",
       "    <tr>\n",
       "      <th>27</th>\n",
       "      <td>161.389180</td>\n",
       "      <td>0.006705</td>\n",
       "    </tr>\n",
       "    <tr>\n",
       "      <th>32</th>\n",
       "      <td>146.879018</td>\n",
       "      <td>0.006894</td>\n",
       "    </tr>\n",
       "    <tr>\n",
       "      <th>42</th>\n",
       "      <td>124.440473</td>\n",
       "      <td>0.007088</td>\n",
       "    </tr>\n",
       "    <tr>\n",
       "      <th>52</th>\n",
       "      <td>109.230932</td>\n",
       "      <td>0.006417</td>\n",
       "    </tr>\n",
       "    <tr>\n",
       "      <th>62</th>\n",
       "      <td>99.405510</td>\n",
       "      <td>0.005610</td>\n",
       "    </tr>\n",
       "    <tr>\n",
       "      <th>72</th>\n",
       "      <td>93.178906</td>\n",
       "      <td>0.004775</td>\n",
       "    </tr>\n",
       "    <tr>\n",
       "      <th>82</th>\n",
       "      <td>89.501328</td>\n",
       "      <td>0.003855</td>\n",
       "    </tr>\n",
       "    <tr>\n",
       "      <th>92</th>\n",
       "      <td>87.562395</td>\n",
       "      <td>0.002954</td>\n",
       "    </tr>\n",
       "    <tr>\n",
       "      <th>102</th>\n",
       "      <td>86.786289</td>\n",
       "      <td>0.002279</td>\n",
       "    </tr>\n",
       "    <tr>\n",
       "      <th>122</th>\n",
       "      <td>86.832321</td>\n",
       "      <td>0.001258</td>\n",
       "    </tr>\n",
       "    <tr>\n",
       "      <th>142</th>\n",
       "      <td>88.339444</td>\n",
       "      <td>0.000219</td>\n",
       "    </tr>\n",
       "    <tr>\n",
       "      <th>162</th>\n",
       "      <td>90.119785</td>\n",
       "      <td>-0.000323</td>\n",
       "    </tr>\n",
       "    <tr>\n",
       "      <th>182</th>\n",
       "      <td>91.759884</td>\n",
       "      <td>-0.000789</td>\n",
       "    </tr>\n",
       "  </tbody>\n",
       "</table>\n",
       "</div>"
      ],
      "text/plain": [
       "               G         X\n",
       "time                      \n",
       "0     290.000000  0.000000\n",
       "2     278.503218 -0.000072\n",
       "4     267.407044  0.001329\n",
       "6     255.962566  0.003315\n",
       "8     244.552487  0.004232\n",
       "10    233.570125  0.004808\n",
       "12    223.075469  0.005331\n",
       "14    213.094204  0.005750\n",
       "16    203.651201  0.006054\n",
       "19    190.540814  0.006312\n",
       "22    178.671483  0.006494\n",
       "27    161.389180  0.006705\n",
       "32    146.879018  0.006894\n",
       "42    124.440473  0.007088\n",
       "52    109.230932  0.006417\n",
       "62     99.405510  0.005610\n",
       "72     93.178906  0.004775\n",
       "82     89.501328  0.003855\n",
       "92     87.562395  0.002954\n",
       "102    86.786289  0.002279\n",
       "122    86.832321  0.001258\n",
       "142    88.339444  0.000219\n",
       "162    90.119785 -0.000323\n",
       "182    91.759884 -0.000789"
      ]
     },
     "execution_count": 26,
     "metadata": {},
     "output_type": "execute_result"
    }
   ],
   "source": [
    "system2.results"
   ]
  },
  {
   "cell_type": "markdown",
   "metadata": {},
   "source": [
    "Plotting the results from `run_simulation` and `run_odeint`, we can see that they are not very different."
   ]
  },
  {
   "cell_type": "code",
   "execution_count": 27,
   "metadata": {},
   "outputs": [
    {
     "data": {
      "image/png": "[encoded data removed]",
      "text/plain": [
       "<matplotlib.figure.Figure at 0x7f7daa980d68>"
      ]
     },
     "metadata": {},
     "output_type": "display_data"
    }
   ],
   "source": [
    "plot(system.results.G, 'r-')\n",
    "plot(system2.results.G, 'b-')\n",
    "plot(data.glucose, 'bo')"
   ]
  },
  {
   "cell_type": "markdown",
   "metadata": {},
   "source": [
    "The differences are usually less than 1% and always less than 2%."
   ]
  },
  {
   "cell_type": "code",
   "execution_count": 28,
   "metadata": {
    "scrolled": false
   },
   "outputs": [
    {
     "data": {
      "text/html": [
       "<div>\n",
       "<style>\n",
       "    .dataframe thead tr:only-child th {\n",
       "        text-align: right;\n",
       "    }\n",
       "\n",
       "    .dataframe thead th {\n",
       "        text-align: left;\n",
       "    }\n",
       "\n",
       "    .dataframe tbody tr th {\n",
       "        vertical-align: top;\n",
       "    }\n",
       "</style>\n",
       "<table border=\"1\" class=\"dataframe\">\n",
       "  <thead>\n",
       "    <tr style=\"text-align: right;\">\n",
       "      <th></th>\n",
       "      <th>G</th>\n",
       "      <th>X</th>\n",
       "    </tr>\n",
       "  </thead>\n",
       "  <tbody>\n",
       "    <tr>\n",
       "      <th>2</th>\n",
       "      <td>-0.137599</td>\n",
       "      <td>-100.000000</td>\n",
       "    </tr>\n",
       "    <tr>\n",
       "      <th>4</th>\n",
       "      <td>-0.169870</td>\n",
       "      <td>-77.434912</td>\n",
       "    </tr>\n",
       "    <tr>\n",
       "      <th>6</th>\n",
       "      <td>0.130056</td>\n",
       "      <td>-19.505817</td>\n",
       "    </tr>\n",
       "    <tr>\n",
       "      <th>8</th>\n",
       "      <td>0.211674</td>\n",
       "      <td>-4.504691</td>\n",
       "    </tr>\n",
       "    <tr>\n",
       "      <th>10</th>\n",
       "      <td>0.143431</td>\n",
       "      <td>-2.674804</td>\n",
       "    </tr>\n",
       "    <tr>\n",
       "      <th>12</th>\n",
       "      <td>0.056565</td>\n",
       "      <td>-1.472096</td>\n",
       "    </tr>\n",
       "    <tr>\n",
       "      <th>14</th>\n",
       "      <td>-0.051320</td>\n",
       "      <td>-0.482966</td>\n",
       "    </tr>\n",
       "    <tr>\n",
       "      <th>16</th>\n",
       "      <td>-0.178243</td>\n",
       "      <td>0.648509</td>\n",
       "    </tr>\n",
       "    <tr>\n",
       "      <th>22</th>\n",
       "      <td>-0.637911</td>\n",
       "      <td>1.495184</td>\n",
       "    </tr>\n",
       "    <tr>\n",
       "      <th>32</th>\n",
       "      <td>-1.282330</td>\n",
       "      <td>1.246544</td>\n",
       "    </tr>\n",
       "    <tr>\n",
       "      <th>42</th>\n",
       "      <td>-1.682102</td>\n",
       "      <td>2.058923</td>\n",
       "    </tr>\n",
       "    <tr>\n",
       "      <th>52</th>\n",
       "      <td>-1.960815</td>\n",
       "      <td>2.688650</td>\n",
       "    </tr>\n",
       "    <tr>\n",
       "      <th>62</th>\n",
       "      <td>-2.000588</td>\n",
       "      <td>2.243049</td>\n",
       "    </tr>\n",
       "    <tr>\n",
       "      <th>72</th>\n",
       "      <td>-1.869449</td>\n",
       "      <td>2.598662</td>\n",
       "    </tr>\n",
       "    <tr>\n",
       "      <th>82</th>\n",
       "      <td>-1.665704</td>\n",
       "      <td>2.426032</td>\n",
       "    </tr>\n",
       "    <tr>\n",
       "      <th>92</th>\n",
       "      <td>-1.425725</td>\n",
       "      <td>2.657894</td>\n",
       "    </tr>\n",
       "    <tr>\n",
       "      <th>102</th>\n",
       "      <td>-1.159541</td>\n",
       "      <td>1.045825</td>\n",
       "    </tr>\n",
       "    <tr>\n",
       "      <th>122</th>\n",
       "      <td>-0.713099</td>\n",
       "      <td>2.627447</td>\n",
       "    </tr>\n",
       "    <tr>\n",
       "      <th>142</th>\n",
       "      <td>-0.430551</td>\n",
       "      <td>-1.933447</td>\n",
       "    </tr>\n",
       "    <tr>\n",
       "      <th>162</th>\n",
       "      <td>-0.207506</td>\n",
       "      <td>3.583700</td>\n",
       "    </tr>\n",
       "    <tr>\n",
       "      <th>182</th>\n",
       "      <td>-0.091388</td>\n",
       "      <td>0.890527</td>\n",
       "    </tr>\n",
       "  </tbody>\n",
       "</table>\n",
       "</div>"
      ],
      "text/plain": [
       "            G           X\n",
       "2   -0.137599 -100.000000\n",
       "4   -0.169870  -77.434912\n",
       "6    0.130056  -19.505817\n",
       "8    0.211674   -4.504691\n",
       "10   0.143431   -2.674804\n",
       "12   0.056565   -1.472096\n",
       "14  -0.051320   -0.482966\n",
       "16  -0.178243    0.648509\n",
       "22  -0.637911    1.495184\n",
       "32  -1.282330    1.246544\n",
       "42  -1.682102    2.058923\n",
       "52  -1.960815    2.688650\n",
       "62  -2.000588    2.243049\n",
       "72  -1.869449    2.598662\n",
       "82  -1.665704    2.426032\n",
       "92  -1.425725    2.657894\n",
       "102 -1.159541    1.045825\n",
       "122 -0.713099    2.627447\n",
       "142 -0.430551   -1.933447\n",
       "162 -0.207506    3.583700\n",
       "182 -0.091388    0.890527"
      ]
     },
     "execution_count": 28,
     "metadata": {},
     "output_type": "execute_result"
    }
   ],
   "source": [
    "diff = system.results - system2.results\n",
    "percent_diff = diff / system2.results * 100\n",
    "percent_diff.dropna()"
   ]
  },
  {
   "cell_type": "markdown",
   "metadata": {},
   "source": [
    "**Exercise:** What happens to these errors if you run the simulation with a smaller value of `dt`?"
   ]
  },
  {
   "cell_type": "code",
   "execution_count": 29,
   "metadata": {},
   "outputs": [
    {
     "name": "stdout",
     "output_type": "stream",
     "text": [
      "                G         X\n",
      "0.0    290.000000  0.000000\n",
      "0.5    287.030000  0.000000\n",
      "1.0    284.104550 -0.000044\n",
      "1.5    281.229268 -0.000090\n",
      "2.0    278.403529 -0.000096\n",
      "2.5    275.620863 -0.000020\n",
      "3.0    272.869334  0.000179\n",
      "3.5    270.131906  0.000541\n",
      "4.0    267.386792  0.001052\n",
      "4.5    264.615400  0.001636\n",
      "5.0    261.809705  0.002223\n",
      "5.5    258.971601  0.002740\n",
      "6.0    256.112255  0.003160\n",
      "6.5    253.245932  0.003498\n",
      "7.0    250.384283  0.003770\n",
      "7.5    247.536483  0.003992\n",
      "8.0    244.709378  0.004176\n",
      "8.5    241.907820  0.004334\n",
      "9.0    239.134995  0.004478\n",
      "9.5    236.392528  0.004620\n",
      "10.0   233.680592  0.004763\n",
      "10.5   230.998839  0.004906\n",
      "11.0   228.347255  0.005044\n",
      "11.5   225.726142  0.005176\n",
      "12.0   223.136086  0.005300\n",
      "12.5   220.577749  0.005417\n",
      "13.0   218.051663  0.005528\n",
      "13.5   215.558239  0.005633\n",
      "14.0   213.097773  0.005732\n",
      "14.5   210.670550  0.005825\n",
      "...           ...       ...\n",
      "167.0   90.506027 -0.000442\n",
      "167.5   90.548441 -0.000454\n",
      "168.0   90.590749 -0.000465\n",
      "168.5   90.632952 -0.000477\n",
      "169.0   90.675052 -0.000488\n",
      "169.5   90.717051 -0.000499\n",
      "170.0   90.758950 -0.000511\n",
      "170.5   90.800752 -0.000522\n",
      "171.0   90.842458 -0.000534\n",
      "171.5   90.884070 -0.000545\n",
      "172.0   90.925591 -0.000557\n",
      "172.5   90.967023 -0.000568\n",
      "173.0   91.008367 -0.000580\n",
      "173.5   91.049626 -0.000591\n",
      "174.0   91.090802 -0.000603\n",
      "174.5   91.131899 -0.000614\n",
      "175.0   91.172917 -0.000626\n",
      "175.5   91.213861 -0.000638\n",
      "176.0   91.254731 -0.000649\n",
      "176.5   91.295531 -0.000661\n",
      "177.0   91.336264 -0.000673\n",
      "177.5   91.376932 -0.000684\n",
      "178.0   91.417539 -0.000696\n",
      "178.5   91.458085 -0.000708\n",
      "179.0   91.498576 -0.000719\n",
      "179.5   91.539013 -0.000731\n",
      "180.0   91.579400 -0.000743\n",
      "180.5   91.619739 -0.000755\n",
      "181.0   91.660033 -0.000767\n",
      "181.5   91.700286 -0.000779\n",
      "\n",
      "[364 rows x 2 columns]\n"
     ]
    }
   ],
   "source": [
    "import pandas as pd\n",
    "system = pd.Series({'init': init, 'k1': k1, 'k2': k2, 'k3': k3,\n",
    "                    'I': I, 'Gb': Gb, 'Ib': Ib, 't0': 0, 't_end': 182, 'dt': 0.5})\n",
    "\n",
    "\n",
    "def update_func(state, t, system):\n",
    "    G, X = state\n",
    "    dGdt = -system.k1 * (G - system.Gb) - X * G\n",
    "    dXdt = system.k3 * (I(t) - system.Ib) - system.k2 * X\n",
    "    G += dGdt * system['dt']\n",
    "    X += dXdt * system['dt']\n",
    "    return pd.Series({'G': G, 'X': X})\n",
    "\n",
    "\n",
    "def run_simulation(system, update_func):\n",
    "    frame = pd.DataFrame(columns=system.init.index, dtype=np.float64)\n",
    "    frame.loc[system.t0] = system.init\n",
    "    ts = np.float64(np.arange(system.t0, system.t_end - system['dt'], system['dt']))\n",
    "    for t in ts:\n",
    "        frame.loc[t + system['dt']] = update_func(frame.loc[t], t, system)\n",
    "    system.results = frame\n",
    "\n",
    "run_simulation(system, update_func)\n",
    "\n",
    "\n",
    "system2 = pd.Series({'init': init, 'k1': k1, 'k2': k2,\n",
    "                     'k3': k3, 'I': I, 'Gb': Gb, 'Ib': Ib, 'ts': data.index})\n",
    "\n",
    "\n",
    "system2.results = pd.DataFrame(scipy.integrate.odeint(slope_func, list(\n",
    "    system2.init), system2.ts[:-1], (system,)), columns=system.init.index, index=system2.ts[:-1], dtype=np.float64)\n",
    "\n",
    "diff = system.results - system2.results\n",
    "percent_diff = (diff / system2.results * 100).dropna()\n",
    "print(system.results)\n"
   ]
  },
  {
   "cell_type": "markdown",
   "metadata": {},
   "source": [
    "### Optimization"
   ]
  },
  {
   "cell_type": "markdown",
   "metadata": {},
   "source": [
    "Now let's find the parameters that yield the best fit for the data."
   ]
  },
  {
   "cell_type": "code",
   "execution_count": 30,
   "metadata": {
    "collapsed": true
   },
   "outputs": [],
   "source": [
    "k1 = 0.03\n",
    "k2 = 0.02\n",
    "k3 = 1e-05\n",
    "G0 = 290"
   ]
  },
  {
   "cell_type": "markdown",
   "metadata": {},
   "source": [
    "Again, we'll get basal levels from the initial values."
   ]
  },
  {
   "cell_type": "code",
   "execution_count": 31,
   "metadata": {
    "collapsed": true
   },
   "outputs": [],
   "source": [
    "Gb = data.glucose[0]\n",
    "Ib = data.insulin[0]"
   ]
  },
  {
   "cell_type": "markdown",
   "metadata": {},
   "source": [
    "And the slope function is the same."
   ]
  },
  {
   "cell_type": "code",
   "execution_count": 32,
   "metadata": {
    "collapsed": true
   },
   "outputs": [],
   "source": [
    "def slope_func(state, t, system):\n",
    "    \"\"\"Computes derivatives of the glucose minimal model.\n",
    "    \n",
    "    state: State object\n",
    "    t: time in min\n",
    "    system: System object\n",
    "    \n",
    "    returns: derivatives of G and X\n",
    "    \"\"\"\n",
    "    G, X = state\n",
    "    unpack(system)\n",
    "    \n",
    "    dGdt = -k1 * (G - Gb) - X*G\n",
    "    dXdt = k3 * (I(t) - Ib) - k2 * X\n",
    "    \n",
    "    return dGdt, dXdt"
   ]
  },
  {
   "cell_type": "markdown",
   "metadata": {},
   "source": [
    "`make_system` takes the parameters and `DataFrame` and returns a `System` object."
   ]
  },
  {
   "cell_type": "code",
   "execution_count": 33,
   "metadata": {
    "collapsed": true
   },
   "outputs": [],
   "source": [
    "def make_system(G0, k1, k2, k3, data):\n",
    "    \"\"\"Makes a System object with the given parameters.\n",
    "    \n",
    "    G0: initial blood glucose\n",
    "    k1: rate parameter\n",
    "    k2: rate parameter\n",
    "    k3: rate parameter\n",
    "    data: DataFrame\n",
    "    \n",
    "    returns: System object\n",
    "    \"\"\"\n",
    "    init = State(G=G0, X=0)\n",
    "    system = System(init=init, \n",
    "                    k1=k1, k2=k2, k3=k3,\n",
    "                    Gb=Gb, Ib=Ib, \n",
    "                    I=interpolate(data.insulin),\n",
    "                    ts=data.index)\n",
    "    return system"
   ]
  },
  {
   "cell_type": "markdown",
   "metadata": {},
   "source": [
    "`error_func` takes the parameters and actual data, makes a `System` object and runs it, then compares the results of the simulation to the data.  It returns an array of errors."
   ]
  },
  {
   "cell_type": "code",
   "execution_count": 34,
   "metadata": {
    "collapsed": true
   },
   "outputs": [],
   "source": [
    "def error_func(params, data):\n",
    "    \"\"\"Computes an array of errors to be minimized.\n",
    "    \n",
    "    params: sequence of parameters\n",
    "    data: DataFrame of values to be matched\n",
    "    \n",
    "    returns: array of errors\n",
    "    \"\"\"\n",
    "    print(params)\n",
    "    \n",
    "    # make a System with the given parameters\n",
    "    system = make_system(*params, data)\n",
    "    \n",
    "    # solve the ODE\n",
    "    run_odeint(system, slope_func)\n",
    "    \n",
    "    # compute the difference between the model\n",
    "    # results and actual data\n",
    "    error = system.results.G - data.glucose\n",
    "    return error"
   ]
  },
  {
   "cell_type": "markdown",
   "metadata": {},
   "source": [
    "When we call `error_func`, we provide a sequence of parameters as a single object."
   ]
  },
  {
   "cell_type": "code",
   "execution_count": 35,
   "metadata": {},
   "outputs": [
    {
     "data": {
      "text/plain": [
       "(290, 0.03, 0.02, 1e-05)"
      ]
     },
     "execution_count": 35,
     "metadata": {},
     "output_type": "execute_result"
    }
   ],
   "source": [
    "params = G0, k1, k2, k3\n",
    "params"
   ]
  },
  {
   "cell_type": "markdown",
   "metadata": {},
   "source": [
    "Here's how that works:"
   ]
  },
  {
   "cell_type": "code",
   "execution_count": 36,
   "metadata": {},
   "outputs": [
    {
     "name": "stdout",
     "output_type": "stream",
     "text": [
      "(290, 0.03, 0.02, 1e-05)\n"
     ]
    },
    {
     "data": {
      "text/plain": [
       "time\n",
       "0      198.000000\n",
       "2      -71.558054\n",
       "4      -19.753661\n",
       "6        4.791154\n",
       "8        4.385049\n",
       "10      17.385689\n",
       "12      11.875391\n",
       "14       7.883104\n",
       "16       7.432604\n",
       "19      -1.688894\n",
       "22       6.430723\n",
       "27      -1.858707\n",
       "32       4.627308\n",
       "42       0.272257\n",
       "52       4.125928\n",
       "62       7.310554\n",
       "72       9.102455\n",
       "82      12.434359\n",
       "92       5.498085\n",
       "102      5.712650\n",
       "122      4.844866\n",
       "142      6.356758\n",
       "162      5.136930\n",
       "182      1.795663\n",
       "dtype: float64"
      ]
     },
     "execution_count": 36,
     "metadata": {},
     "output_type": "execute_result"
    }
   ],
   "source": [
    "error_func(params, data)"
   ]
  },
  {
   "cell_type": "markdown",
   "metadata": {},
   "source": [
    "`fit_leastsq` is a wrapper for `scipy.optimize.leastsq`"
   ]
  },
  {
   "cell_type": "code",
   "execution_count": 37,
   "metadata": {
    "collapsed": true
   },
   "outputs": [],
   "source": [
    "%psource fit_leastsq"
   ]
  },
  {
   "cell_type": "markdown",
   "metadata": {},
   "source": [
    "Here's how we call it."
   ]
  },
  {
   "cell_type": "code",
   "execution_count": 38,
   "metadata": {},
   "outputs": [
    {
     "name": "stdout",
     "output_type": "stream",
     "text": [
      "[  2.90000000e+02   3.00000000e-02   2.00000000e-02   1.00000000e-05]\n",
      "[  2.90000000e+02   3.00000000e-02   2.00000000e-02   1.00000000e-05]\n",
      "[  2.90000000e+02   3.00000000e-02   2.00000000e-02   1.00000000e-05]\n",
      "[  2.90000004e+02   3.00000000e-02   2.00000000e-02   1.00000000e-05]\n",
      "[  2.90000000e+02   3.00000004e-02   2.00000000e-02   1.00000000e-05]\n",
      "[  2.90000000e+02   3.00000000e-02   2.00000003e-02   1.00000000e-05]\n",
      "[  2.90000000e+02   3.00000000e-02   2.00000000e-02   1.00000001e-05]\n",
      "[  2.62493674e+02   2.01273810e-02   2.45144666e-03   1.92369457e-05]\n",
      "[  2.68162651e+02   2.74362052e-02   1.33003595e-02   1.34043117e-05]\n",
      "[  2.68162655e+02   2.74362052e-02   1.33003595e-02   1.34043117e-05]\n",
      "[  2.68162651e+02   2.74362056e-02   1.33003595e-02   1.34043117e-05]\n",
      "[  2.68162651e+02   2.74362052e-02   1.33003597e-02   1.34043117e-05]\n",
      "[  2.68162651e+02   2.74362052e-02   1.33003595e-02   1.34043119e-05]\n",
      "[  2.68130427e+02   2.67895723e-02   1.33400852e-02   1.32669040e-05]\n",
      "[  2.68130431e+02   2.67895723e-02   1.33400852e-02   1.32669040e-05]\n",
      "[  2.68130427e+02   2.67895727e-02   1.33400852e-02   1.32669040e-05]\n",
      "[  2.68130427e+02   2.67895723e-02   1.33400854e-02   1.32669040e-05]\n",
      "[  2.68130427e+02   2.67895723e-02   1.33400852e-02   1.32669042e-05]\n",
      "[  2.68106028e+02   2.67883857e-02   1.33425246e-02   1.32677630e-05]\n",
      "[  2.68106032e+02   2.67883857e-02   1.33425246e-02   1.32677630e-05]\n",
      "[  2.68106028e+02   2.67883861e-02   1.33425246e-02   1.32677630e-05]\n",
      "[  2.68106028e+02   2.67883857e-02   1.33425248e-02   1.32677630e-05]\n",
      "[  2.68106028e+02   2.67883857e-02   1.33425246e-02   1.32677632e-05]\n",
      "[  2.68041048e+02   2.67750698e-02   1.33457781e-02   1.32557121e-05]\n",
      "[  2.68041052e+02   2.67750698e-02   1.33457781e-02   1.32557121e-05]\n",
      "[  2.68041048e+02   2.67750702e-02   1.33457781e-02   1.32557121e-05]\n",
      "[  2.68041048e+02   2.67750698e-02   1.33457783e-02   1.32557121e-05]\n",
      "[  2.68041048e+02   2.67750698e-02   1.33457781e-02   1.32557123e-05]\n",
      "[  2.68121217e+02   2.67401554e-02   1.33518009e-02   1.32595427e-05]\n",
      "[  2.68121221e+02   2.67401554e-02   1.33518009e-02   1.32595427e-05]\n",
      "[  2.68121217e+02   2.67401558e-02   1.33518009e-02   1.32595427e-05]\n",
      "[  2.68121217e+02   2.67401554e-02   1.33518011e-02   1.32595427e-05]\n",
      "[  2.68121217e+02   2.67401554e-02   1.33518009e-02   1.32595429e-05]\n",
      "[  2.68098642e+02   2.67349642e-02   1.33494450e-02   1.32402827e-05]\n",
      "[  2.68098646e+02   2.67349642e-02   1.33494450e-02   1.32402827e-05]\n",
      "[  2.68098642e+02   2.67349646e-02   1.33494450e-02   1.32402827e-05]\n",
      "[  2.68098642e+02   2.67349642e-02   1.33494452e-02   1.32402827e-05]\n",
      "[  2.68098642e+02   2.67349642e-02   1.33494450e-02   1.32402829e-05]\n",
      "[  2.67981165e+02   2.67464081e-02   1.33479731e-02   1.32382983e-05]\n",
      "[  2.67981169e+02   2.67464081e-02   1.33479731e-02   1.32382983e-05]\n",
      "[  2.67981165e+02   2.67464085e-02   1.33479731e-02   1.32382983e-05]\n",
      "[  2.67981165e+02   2.67464081e-02   1.33479733e-02   1.32382983e-05]\n",
      "[  2.67981165e+02   2.67464081e-02   1.33479731e-02   1.32382985e-05]\n",
      "[  2.67941003e+02   2.67405065e-02   1.33494212e-02   1.32333368e-05]\n",
      "[  2.67941007e+02   2.67405065e-02   1.33494212e-02   1.32333368e-05]\n",
      "[  2.67941003e+02   2.67405069e-02   1.33494212e-02   1.32333368e-05]\n",
      "[  2.67941003e+02   2.67405065e-02   1.33494214e-02   1.32333368e-05]\n",
      "[  2.67941003e+02   2.67405065e-02   1.33494212e-02   1.32333370e-05]\n",
      "[  2.67821508e+02   2.67309385e-02   1.33515814e-02   1.32268293e-05]\n",
      "[  2.67821512e+02   2.67309385e-02   1.33515814e-02   1.32268293e-05]\n",
      "[  2.67821508e+02   2.67309389e-02   1.33515814e-02   1.32268293e-05]\n",
      "[  2.67821508e+02   2.67309385e-02   1.33515816e-02   1.32268293e-05]\n",
      "[  2.67821508e+02   2.67309385e-02   1.33515814e-02   1.32268295e-05]\n",
      "[  2.67876674e+02   2.67386568e-02   1.33541272e-02   1.32100667e-05]\n",
      "[  2.67868601e+02   2.67361280e-02   1.33523041e-02   1.32213157e-05]\n",
      "[  2.67847465e+02   2.67336336e-02   1.33514712e-02   1.32262515e-05]\n",
      "[  2.67831538e+02   2.67319763e-02   1.33514987e-02   1.32267845e-05]\n",
      "[  2.67825532e+02   2.67313547e-02   1.33515447e-02   1.32268268e-05]\n",
      "[  2.67823196e+02   2.67311130e-02   1.33515656e-02   1.32268303e-05]\n",
      "[  2.67822200e+02   2.67310101e-02   1.33515748e-02   1.32268301e-05]\n",
      "[  2.67821784e+02   2.67309671e-02   1.33515788e-02   1.32268297e-05]\n",
      "[  2.67821617e+02   2.67309498e-02   1.33515804e-02   1.32268294e-05]\n",
      "[  2.67821550e+02   2.67309428e-02   1.33515810e-02   1.32268294e-05]\n",
      "[  2.67821526e+02   2.67309403e-02   1.33515813e-02   1.32268293e-05]\n",
      "[  2.67821516e+02   2.67309394e-02   1.33515814e-02   1.32268293e-05]\n",
      "modsim.py: scipy.optimize.leastsq ran successfully\n",
      "                 and returned the following message:\n",
      "The relative error between two consecutive iterates is at most 0.000000\n"
     ]
    }
   ],
   "source": [
    "best_params = fit_leastsq(error_func, params, data)"
   ]
  },
  {
   "cell_type": "markdown",
   "metadata": {},
   "source": [
    "Now that we have `best_params`, we can use it to make a `System` object and run it.\n",
    "\n",
    "We have to use the scatter operator, `*`, to make `best_params` behave like four separate parameters, rather than a single object."
   ]
  },
  {
   "cell_type": "code",
   "execution_count": 102,
   "metadata": {
    "collapsed": true
   },
   "outputs": [],
   "source": [
    "system = make_system(*best_params, data)\n",
    "run_odeint(system, slope_func)"
   ]
  },
  {
   "cell_type": "markdown",
   "metadata": {},
   "source": [
    "Here are the results, along with the data.  The first few points of the model don't fit the data, but we don't expect them to."
   ]
  },
  {
   "cell_type": "code",
   "execution_count": 42,
   "metadata": {},
   "outputs": [
    {
     "data": {
      "text/plain": [
       "<matplotlib.axes._subplots.AxesSubplot at 0x7f7daa504908>"
      ]
     },
     "execution_count": 42,
     "metadata": {},
     "output_type": "execute_result"
    },
    {
     "data": {
      "image/png": "[encoded data removed]",
      "text/plain": [
       "<matplotlib.figure.Figure at 0x7f7daa429128>"
      ]
     },
     "metadata": {},
     "output_type": "display_data"
    }
   ],
   "source": [
    "system.results.plot() #the fit is slightly better"
   ]
  },
  {
   "cell_type": "markdown",
   "metadata": {},
   "source": [
    "**Exercise:** Since we don't expect the first few points to agree, it's probably better not to make them part of the optimization process.  We can ignore them by leaving them out of the `Series` returned by `error_func`.  Modify the last line of `error_func` to return `errors.loc[8:]`, which includes only the elements of the `Series` from `t=8` and up.\n",
    "\n",
    "Does that improve the quality of the fit?  Does it change the best parameters by much?\n",
    "\n",
    "Note: You can read more about this use of `loc` [in the Pandas documentation](https://pandas.pydata.org/pandas-docs/stable/indexing.html#indexing-integer)."
   ]
  },
  {
   "cell_type": "code",
   "execution_count": 43,
   "metadata": {
    "collapsed": true
   },
   "outputs": [],
   "source": [
    "def error_func(params, data):\n",
    "    \"\"\"Computes an array of errors to be minimized.\n",
    "    \n",
    "    params: sequence of parameters\n",
    "    data: DataFrame of values to be matched\n",
    "    \n",
    "    returns: array of errors\n",
    "    \"\"\"\n",
    "    print(params)\n",
    "    \n",
    "    # make a System with the given parameters\n",
    "    system = make_system(*params, data)\n",
    "    \n",
    "    # solve the ODE\n",
    "    run_odeint(system, slope_func)\n",
    "    \n",
    "    error = system.results.G - data.glucose\n",
    "    return error.loc[8:]\n",
    "\n",
    "# The fit is better without"
   ]
  },
  {
   "cell_type": "markdown",
   "metadata": {},
   "source": [
    "**Exercise:** How sensitive are the results to the starting guess for the parameters.  If you try different values for the starting guess, do we get the same values for the best parameters?"
   ]
  },
  {
   "cell_type": "code",
   "execution_count": 44,
   "metadata": {},
   "outputs": [
    {
     "name": "stdout",
     "output_type": "stream",
     "text": [
      "(90, 0.03, 0.02, 1e-05)\n",
      "time\n",
      "8     -150.755637\n",
      "10    -127.386945\n",
      "12    -123.071252\n",
      "14    -117.787609\n",
      "16    -109.515216\n",
      "19    -106.583617\n",
      "22     -87.593075\n",
      "27     -80.128353\n",
      "32     -60.471399\n",
      "42     -44.662951\n",
      "52     -26.978262\n",
      "62     -14.385637\n",
      "72      -6.151731\n",
      "82       1.611766\n",
      "92      -2.249138\n",
      "102      0.121443\n",
      "122      1.884066\n",
      "142      4.753431\n",
      "162      4.255768\n",
      "182      1.306500\n",
      "dtype: float64\n"
     ]
    }
   ],
   "source": [
    "params = (90, 0.03, 0.02, 1e-05)\n",
    "print(error_func(params, data))\n",
    "\n",
    "# The results change by quite a bit"
   ]
  },
  {
   "cell_type": "markdown",
   "metadata": {},
   "source": [
    "### Interpreting parameters\n",
    "\n",
    "Based on the parameters of the model, we can estimate glucose effectiveness and insulin sensitivity."
   ]
  },
  {
   "cell_type": "code",
   "execution_count": 45,
   "metadata": {
    "collapsed": true
   },
   "outputs": [],
   "source": [
    "def indices(G0, k1, k2, k3):\n",
    "    \"\"\"Compute glucose effectiveness and insulin sensitivity.\n",
    "    \n",
    "    G0: initial blood glucose\n",
    "    k1: rate parameter\n",
    "    k2: rate parameter\n",
    "    k3: rate parameter\n",
    "    data: DataFrame\n",
    "    \n",
    "    returns: State object containing S_G and S_I\n",
    "    \"\"\"\n",
    "    return State(S_G=k1, S_I=k3/k2)"
   ]
  },
  {
   "cell_type": "markdown",
   "metadata": {},
   "source": [
    "Here are the results."
   ]
  },
  {
   "cell_type": "code",
   "execution_count": 46,
   "metadata": {},
   "outputs": [
    {
     "data": {
      "text/html": [
       "<div>\n",
       "<style>\n",
       "    .dataframe thead tr:only-child th {\n",
       "        text-align: right;\n",
       "    }\n",
       "\n",
       "    .dataframe thead th {\n",
       "        text-align: left;\n",
       "    }\n",
       "\n",
       "    .dataframe tbody tr th {\n",
       "        vertical-align: top;\n",
       "    }\n",
       "</style>\n",
       "<table border=\"1\" class=\"dataframe\">\n",
       "  <thead>\n",
       "    <tr style=\"text-align: right;\">\n",
       "      <th></th>\n",
       "      <th>value</th>\n",
       "    </tr>\n",
       "  </thead>\n",
       "  <tbody>\n",
       "    <tr>\n",
       "      <th>S_G</th>\n",
       "      <td>0.026731</td>\n",
       "    </tr>\n",
       "    <tr>\n",
       "      <th>S_I</th>\n",
       "      <td>0.000991</td>\n",
       "    </tr>\n",
       "  </tbody>\n",
       "</table>\n",
       "</div>"
      ],
      "text/plain": [
       "S_G    0.026731\n",
       "S_I    0.000991\n",
       "dtype: float64"
      ]
     },
     "execution_count": 46,
     "metadata": {},
     "output_type": "execute_result"
    }
   ],
   "source": [
    "indices(*best_params)"
   ]
  },
  {
   "cell_type": "markdown",
   "metadata": {},
   "source": [
    "### The insulin minimal model\n",
    "\n",
    "In addition to the glucose minimal mode, Pacini and Bergman present an insulin minimal model, in which the concentration of insulin, $I$, is governed by this differential equation:\n",
    "\n",
    "$ \\frac{dI}{dt} = -k I(t) + \\gamma (G(t) - G_T) t $"
   ]
  },
  {
   "cell_type": "markdown",
   "metadata": {},
   "source": [
    "**Exercise:**  Write a version of `make_system` that takes the parameters of this model, `I0`, `k`, `gamma`, and `G_T` as parameters, along with a `DataFrame` containing the measurements, and returns a `System` object suitable for use with `run_simulation` or `run_odeint`.\n",
    "\n",
    "Use it to make a `System` object with the following parameters:"
   ]
  },
  {
   "cell_type": "code",
   "execution_count": 47,
   "metadata": {
    "collapsed": true
   },
   "outputs": [],
   "source": [
    "I0 = 360\n",
    "k = 0.25\n",
    "gamma = 0.004\n",
    "G_T = 80"
   ]
  },
  {
   "cell_type": "code",
   "execution_count": 48,
   "metadata": {
    "collapsed": true
   },
   "outputs": [],
   "source": [
    "def make_system(I0, k, gamma, G_T, data):\n",
    "\n",
    "    state = State(I=I0)\n",
    "    system = System(init=state, \n",
    "                    k=k, gamma=gamma, G_T=G_T,\n",
    "                    G=interpolate(data.glucose),\n",
    "                    ts=data.index)\n",
    "    return system"
   ]
  },
  {
   "cell_type": "code",
   "execution_count": 49,
   "metadata": {
    "collapsed": true
   },
   "outputs": [],
   "source": [
    "system = make_system(I0, k, gamma, G_T, data)"
   ]
  },
  {
   "cell_type": "markdown",
   "metadata": {},
   "source": [
    "**Exercise:** Write a slope function that takes state, t, system as parameters and returns the derivative of `I` with respect to time.  Test your function with the initial condition $I(0)=360$."
   ]
  },
  {
   "cell_type": "code",
   "execution_count": 50,
   "metadata": {
    "collapsed": true
   },
   "outputs": [],
   "source": [
    "\n",
    "def slope_func(state, t, system):\n",
    "    I = state\n",
    "    unpack(system)\n",
    "    \n",
    "    return - k * I + gamma * (G(t) - G_T) * t\n"
   ]
  },
  {
   "cell_type": "code",
   "execution_count": 52,
   "metadata": {},
   "outputs": [
    {
     "data": {
      "text/plain": [
       "0   -90.0\n",
       "dtype: float64"
      ]
     },
     "execution_count": 52,
     "metadata": {},
     "output_type": "execute_result"
    }
   ],
   "source": [
    "# Solution goes here\n",
    "init = State(360)\n",
    "slope_func(init, 0, system)\n",
    "    "
   ]
  },
  {
   "cell_type": "markdown",
   "metadata": {},
   "source": [
    "**Exercise:** Run `run_odeint` with your `System` object and slope function, and plot the results, along with the measured insulin levels."
   ]
  },
  {
   "cell_type": "code",
   "execution_count": 54,
   "metadata": {},
   "outputs": [
    {
     "name": "stdout",
     "output_type": "stream",
     "text": [
      "               I\n",
      "time            \n",
      "0     360.000000\n",
      "2     219.652719\n",
      "4     137.739127\n",
      "6      89.505898\n",
      "8      61.636133\n",
      "10     45.765330\n",
      "12     37.053121\n",
      "14     32.989732\n",
      "16     31.406589\n",
      "19     31.811071\n",
      "22     32.581632\n",
      "27     34.014287\n",
      "32     33.758216\n",
      "42     30.932902\n",
      "52     24.554216\n",
      "62     15.767804\n",
      "72      7.782053\n",
      "82     -0.382598\n",
      "92      0.598298\n",
      "102     1.943431\n",
      "122     3.415756\n",
      "142     4.413573\n",
      "162    11.170251\n",
      "182    25.702699\n"
     ]
    },
    {
     "data": {
      "image/png": "[encoded data removed]",
      "text/plain": [
       "<matplotlib.figure.Figure at 0x7f7daa2e9518>"
      ]
     },
     "metadata": {},
     "output_type": "display_data"
    }
   ],
   "source": [
    "run_odeint(system, slope_func)\n",
    "print(system.results)\n",
    "plot(system.results, 'r-', label='model')\n",
    "plot(data.insulin, 'bo-', label='insulin')\n",
    "\n",
    "decorate(xlabel='Time (min)',\n",
    "         ylabel='Concentration')\n"
   ]
  },
  {
   "cell_type": "markdown",
   "metadata": {},
   "source": [
    "**Exercise:**  Write an error function that takes a sequence of parameters as an argument, along with the `DataFrame` containing the measurements.  It should make a `System` object with the given parameters, run it, and compute the difference between the results of the simulation and the measured values.  Test your error function by calling it with the parameters from the previous exercise.\n",
    "\n",
    "Hint: As we did in a previous exercise, you might want to drop the errors for times prior to `t=8`."
   ]
  },
  {
   "cell_type": "code",
   "execution_count": 57,
   "metadata": {
    "collapsed": true
   },
   "outputs": [],
   "source": [
    "# Solution goes here\n",
    "def error_func(params, data):\n",
    "    system = make_system(*params, data)\n",
    "    run_odeint(system, slope_func)\n",
    "    \n",
    "    return (system.results.I - data.insulin)[8:]"
   ]
  },
  {
   "cell_type": "code",
   "execution_count": 58,
   "metadata": {},
   "outputs": [
    {
     "data": {
      "text/plain": [
       "time\n",
       "16     -3.593411\n",
       "19      1.811071\n",
       "22      2.581632\n",
       "27      7.014287\n",
       "32      3.758216\n",
       "42      8.932902\n",
       "52      9.554216\n",
       "62      0.767804\n",
       "72     -3.217947\n",
       "82    -10.382598\n",
       "92     -7.401702\n",
       "102    -9.056569\n",
       "122    -3.584244\n",
       "142    -3.586427\n",
       "162     3.170251\n",
       "182    18.702699\n",
       "dtype: float64"
      ]
     },
     "execution_count": 58,
     "metadata": {},
     "output_type": "execute_result"
    }
   ],
   "source": [
    "# Solution goes here\n",
    "params = [I0, k, gamma, G_T]\n",
    "error_func(params, data)"
   ]
  },
  {
   "cell_type": "markdown",
   "metadata": {},
   "source": [
    "**Exercise:** Use `fit_leastsq` to find the parameters that best fit the data.  Make a `System` object with those parameters, run it, and plot the results along with the measurements."
   ]
  },
  {
   "cell_type": "code",
   "execution_count": null,
   "metadata": {
    "collapsed": true
   },
   "outputs": [],
   "source": [
    "# Solution goes here\n",
    "params = fit_leastsq(error_func, params, data)\n",
    "system = make_system(*params, data)\n",
    "run_odeint(system, slope)\n",
    "plot(system.results, 'r-', label='model')\n",
    "plot(data.insulin, 'bo-', label='data')\n",
    "\n",
    "decorate(xlabel='Time (min)',\n",
    "         ylabel='Concentration')\n"
   ]
  },
  {
   "cell_type": "markdown",
   "metadata": {},
   "source": [
    "**Exercise:** Using the best parameters, estimate the sensitivity to glucose of the first and second phase pancreatic responsivity:\n",
    "\n",
    "$ \\phi_1 = \\frac{I_{max} - I_b}{k (G_0 - G_b)} $\n",
    "\n",
    "$ \\phi_2 = \\gamma \\times 10^4 $"
   ]
  },
  {
   "cell_type": "code",
   "execution_count": null,
   "metadata": {},
   "outputs": [],
   "source": [
    "phi1 = (data.insulin.max() - data.insulin[0])/(system.k*(data.glucose.max() - data.glucose[0]))\n",
    "print(phi1)"
   ]
  },
  {
   "cell_type": "code",
   "execution_count": null,
   "metadata": {},
   "outputs": [],
   "source": [
    "phi2 = gamma * 1e4\n",
    "print(phi2)"
   ]
  },
  {
   "cell_type": "code",
   "execution_count": null,
   "metadata": {
    "collapsed": true
   },
   "outputs": [],
   "source": []
  },
  {
   "cell_type": "code",
   "execution_count": null,
   "metadata": {
    "collapsed": true
   },
   "outputs": [],
   "source": []
  },
  {
   "cell_type": "code",
   "execution_count": null,
   "metadata": {
    "collapsed": true
   },
   "outputs": [],
   "source": []
  },
  {
   "cell_type": "code",
   "execution_count": null,
   "metadata": {
    "collapsed": true
   },
   "outputs": [],
   "source": []
  },
  {
   "cell_type": "code",
   "execution_count": null,
   "metadata": {
    "collapsed": true
   },
   "outputs": [],
   "source": []
  },
  {
   "cell_type": "code",
   "execution_count": null,
   "metadata": {
    "collapsed": true
   },
   "outputs": [],
   "source": []
  },
  {
   "cell_type": "code",
   "execution_count": null,
   "metadata": {
    "collapsed": true
   },
   "outputs": [],
   "source": []
  },
  {
   "cell_type": "code",
   "execution_count": null,
   "metadata": {
    "collapsed": true
   },
   "outputs": [],
   "source": []
  },
  {
   "cell_type": "code",
   "execution_count": null,
   "metadata": {
    "collapsed": true
   },
   "outputs": [],
   "source": []
  },
  {
   "cell_type": "code",
   "execution_count": null,
   "metadata": {
    "collapsed": true
   },
   "outputs": [],
   "source": []
  },
  {
   "cell_type": "code",
   "execution_count": null,
   "metadata": {
    "collapsed": true
   },
   "outputs": [],
   "source": []
  },
  {
   "cell_type": "code",
   "execution_count": null,
   "metadata": {
    "collapsed": true
   },
   "outputs": [],
   "source": []
  },
  {
   "cell_type": "code",
   "execution_count": null,
   "metadata": {
    "collapsed": true
   },
   "outputs": [],
   "source": []
  },
  {
   "cell_type": "code",
   "execution_count": null,
   "metadata": {
    "collapsed": true
   },
   "outputs": [],
   "source": []
  },
  {
   "cell_type": "code",
   "execution_count": null,
   "metadata": {
    "collapsed": true
   },
   "outputs": [],
   "source": []
  }
 ],
 "metadata": {
  "kernelspec": {
   "display_name": "Python 3",
   "language": "python3.6",
   "name": "python3"
  },
  "language_info": {
   "codemirror_mode": {
    "name": "ipython",
    "version": 3
   },
   "file_extension": ".py",
   "mimetype": "text/x-python",
   "name": "python",
   "nbconvert_exporter": "python",
   "pygments_lexer": "ipython3",
   "version": "3.6.3"
  }
 },
 "nbformat": 4,
 "nbformat_minor": 1
}
