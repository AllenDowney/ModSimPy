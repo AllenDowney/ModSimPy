{
 "cells": [
  {
   "cell_type": "markdown",
   "metadata": {},
   "source": [
    "Notes"
   ]
  },
  {
   "cell_type": "markdown",
   "metadata": {},
   "source": [
    "Questions\n",
    "\n",
    "- How can population spikes and drops be used to identify significant events in a system?\n",
    "\n",
    "- How do those events affect populations of neighboring systems?\n",
    "\n",
    "- How would populations be different today if those events never happened?"
   ]
  },
  {
   "cell_type": "markdown",
   "metadata": {},
   "source": [
    "Possible Systems\n",
    "\n",
    "- Russia and Germany, 1985 - 1995\n",
    "- Rwanda and Burundi, 1985 - 2005\n",
    "- Kenyan Rhino Population, 1973 - 1980\n",
    "- Texas and Mexico, 1970 - present\n",
    "- World Jewish Population, 1880 - present"
   ]
  },
  {
   "cell_type": "markdown",
   "metadata": {},
   "source": [
    "Sources\n",
    "\n",
    "- www.rhinoresourcecenter.com/pdf_files/123/1236972547.pdf"
   ]
  }
 ],
 "metadata": {
  "kernelspec": {
   "display_name": "Python 3",
   "language": "python",
   "name": "python3"
  },
  "language_info": {
   "codemirror_mode": {
    "name": "ipython",
    "version": 3
   },
   "file_extension": ".py",
   "mimetype": "text/x-python",
   "name": "python",
   "nbconvert_exporter": "python",
   "pygments_lexer": "ipython3",
   "version": "3.6.6"
  }
 },
 "nbformat": 4,
 "nbformat_minor": 2
}
