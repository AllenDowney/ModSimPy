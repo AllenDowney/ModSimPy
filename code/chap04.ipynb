{
 "cells": [
  {
   "cell_type": "markdown",
   "metadata": {},
   "source": [
    "# Modeling and Simulation in Python\n",
    "\n",
    "Chapter 4: Predict\n",
    "\n",
    "Copyright 2017 Allen Downey\n",
    "\n",
    "License: [Creative Commons Attribution 4.0 International](https://creativecommons.org/licenses/by/4.0)\n"
   ]
  },
  {
   "cell_type": "code",
   "execution_count": 1,
   "metadata": {
    "collapsed": true
   },
   "outputs": [],
   "source": [
    "# If you want the figures to appear in the notebook, \n",
    "# and you want to interact with them, use\n",
    "# %matplotlib notebook\n",
    "\n",
    "# If you want the figures to appear in the notebook, \n",
    "# and you don't want to interact with them, use\n",
    "# %matplotlib inline\n",
    "\n",
    "# If you want the figures to appear in separate windows, use\n",
    "# %matplotlib qt5\n",
    "\n",
    "# To switch from one to another, you have to select Kernel->Restart\n",
    "\n",
    "%matplotlib inline\n",
    "\n",
    "from modsim import *"
   ]
  },
  {
   "cell_type": "markdown",
   "metadata": {},
   "source": [
    "### Functions from the previous chapter"
   ]
  },
  {
   "cell_type": "code",
   "execution_count": 2,
   "metadata": {
    "collapsed": true
   },
   "outputs": [],
   "source": [
    "def plot_estimates(table):\n",
    "    \"\"\"Plot world population estimates.\n",
    "    \n",
    "    table: DataFrame with columns `un` and `census`\n",
    "    \"\"\"\n",
    "    un = table.un / 1e9\n",
    "    census = table.census / 1e9\n",
    "    \n",
    "    plot(census, ':', color='darkblue', label='US Census')\n",
    "    plot(un, '--', color='green', label='UN DESA')\n",
    "    \n",
    "    decorate(xlabel='Year',\n",
    "             ylabel='World population (billion)')"
   ]
  },
  {
   "cell_type": "code",
   "execution_count": 3,
   "metadata": {
    "collapsed": true
   },
   "outputs": [],
   "source": [
    "def plot_results(system):\n",
    "    \"\"\"Plot the estimates and the model.\n",
    "    \n",
    "    system: System object with `results`\n",
    "    \"\"\"\n",
    "    newfig()\n",
    "    plot_estimates(table2)\n",
    "    plot(system.results, '--', color='gray', label='model')\n",
    "    decorate(xlabel='Year', \n",
    "             ylabel='World population (billion)')"
   ]
  },
  {
   "cell_type": "code",
   "execution_count": 4,
   "metadata": {
    "collapsed": true
   },
   "outputs": [],
   "source": [
    "def run_simulation(system, update_func):\n",
    "    \"\"\"Run a model.\n",
    "    \n",
    "    Adds TimeSeries to `system` as `results`.\n",
    "\n",
    "    system: System object\n",
    "    update_func: function that computes the population next year\n",
    "    \"\"\"\n",
    "    results = Series([])\n",
    "    results[system.t0] = system.p0\n",
    "    for t in linrange(system.t0, system.t_end):\n",
    "        results[t+1] = update_func(results[t], t, system)\n",
    "    system.results = results"
   ]
  },
  {
   "cell_type": "markdown",
   "metadata": {
    "collapsed": true
   },
   "source": [
    "### Reading the data"
   ]
  },
  {
   "cell_type": "code",
   "execution_count": 5,
   "metadata": {
    "collapsed": true
   },
   "outputs": [],
   "source": [
    "# The data directory contains a downloaded copy of\n",
    "# https://en.wikipedia.org/wiki/World_population_estimates\n",
    "\n",
    "from pandas import read_html\n",
    "filename = 'data/World_population_estimates.html'\n",
    "tables = read_html(filename, header=0, index_col=0, decimal='M')"
   ]
  },
  {
   "cell_type": "code",
   "execution_count": 6,
   "metadata": {
    "collapsed": true,
    "scrolled": true
   },
   "outputs": [],
   "source": [
    "table2 = tables[2]"
   ]
  },
  {
   "cell_type": "code",
   "execution_count": 7,
   "metadata": {
    "collapsed": true
   },
   "outputs": [],
   "source": [
    "table2.columns = ['census', 'prb', 'un', 'maddison', \n",
    "                  'hyde', 'tanton', 'biraben', 'mj', \n",
    "                  'thomlinson', 'durand', 'clark']"
   ]
  },
  {
   "cell_type": "code",
   "execution_count": 8,
   "metadata": {},
   "outputs": [],
   "source": [
    "newfig()\n",
    "plot_estimates(table2)"
   ]
  },
  {
   "cell_type": "markdown",
   "metadata": {
    "collapsed": true
   },
   "source": [
    "### Running the quadratic model"
   ]
  },
  {
   "cell_type": "markdown",
   "metadata": {},
   "source": [
    "Here's the update function for the quadratic growth model with parameters `alpha` and `beta`."
   ]
  },
  {
   "cell_type": "code",
   "execution_count": 9,
   "metadata": {
    "collapsed": true
   },
   "outputs": [],
   "source": [
    "def update_func2(pop, t, system):\n",
    "    \"\"\"Update population based on a quadratic model.\n",
    "    \n",
    "    pop: current population in billions\n",
    "    t: what year it is\n",
    "    system: system object with model parameters\n",
    "    \"\"\"\n",
    "    net_growth = system.alpha * pop + system.beta * pop**2\n",
    "    return pop + net_growth"
   ]
  },
  {
   "cell_type": "markdown",
   "metadata": {},
   "source": [
    "Select the estimates generated by the U.S. Census, and convert to billions."
   ]
  },
  {
   "cell_type": "code",
   "execution_count": 10,
   "metadata": {
    "collapsed": true
   },
   "outputs": [],
   "source": [
    "census = table2.census / 1e9"
   ]
  },
  {
   "cell_type": "markdown",
   "metadata": {},
   "source": [
    "Extract the starting time and population."
   ]
  },
  {
   "cell_type": "code",
   "execution_count": 11,
   "metadata": {
    "collapsed": true
   },
   "outputs": [],
   "source": [
    "t0 = census.index[0]\n",
    "p0 = census[t0]\n",
    "t_end = census.index[-1]"
   ]
  },
  {
   "cell_type": "markdown",
   "metadata": {},
   "source": [
    "Initialize the system object."
   ]
  },
  {
   "cell_type": "code",
   "execution_count": 12,
   "metadata": {
    "scrolled": true
   },
   "outputs": [],
   "source": [
    "system = System(t0=t0, \n",
    "                t_end=t_end,\n",
    "                p0=p0,\n",
    "                alpha=0.025,\n",
    "                beta=-0.0018)\n",
    "\n",
    "system"
   ]
  },
  {
   "cell_type": "markdown",
   "metadata": {},
   "source": [
    "Run the model and plot results."
   ]
  },
  {
   "cell_type": "code",
   "execution_count": 13,
   "metadata": {},
   "outputs": [],
   "source": [
    "run_simulation(system, update_func2)\n",
    "plot_results(system)\n",
    "decorate(title='Quadratic model')"
   ]
  },
  {
   "cell_type": "markdown",
   "metadata": {},
   "source": [
    "### Generating projections"
   ]
  },
  {
   "cell_type": "markdown",
   "metadata": {},
   "source": [
    "To generate projections, all we have to do is change `t_end`"
   ]
  },
  {
   "cell_type": "code",
   "execution_count": 14,
   "metadata": {
    "scrolled": false
   },
   "outputs": [],
   "source": [
    "system.t_end = 2250\n",
    "run_simulation(system, update_func2)\n",
    "plot_results(system)\n",
    "decorate(title='World population projection')\n",
    "savefig('chap04-fig01.pdf')"
   ]
  },
  {
   "cell_type": "markdown",
   "metadata": {},
   "source": [
    "The population in the model converges on the equilibrium population, `-alpha/beta`"
   ]
  },
  {
   "cell_type": "code",
   "execution_count": 15,
   "metadata": {},
   "outputs": [],
   "source": [
    "system.results[system.t_end]"
   ]
  },
  {
   "cell_type": "code",
   "execution_count": 16,
   "metadata": {},
   "outputs": [],
   "source": [
    "-system.alpha / system.beta"
   ]
  },
  {
   "cell_type": "markdown",
   "metadata": {},
   "source": [
    "**Exercise:**  What happens if we start with an initial population above the carrying capacity, like 20 billion?  The the model with initial populations between 1 and 20 billion, and plot the results on the same axes."
   ]
  },
  {
   "cell_type": "code",
   "execution_count": 17,
   "metadata": {},
   "outputs": [],
   "source": [
    "# Solution goes here"
   ]
  },
  {
   "cell_type": "markdown",
   "metadata": {},
   "source": [
    "### Comparing projections"
   ]
  },
  {
   "cell_type": "markdown",
   "metadata": {},
   "source": [
    "We can compare the projection from our model with projections produced by people who know what they are doing."
   ]
  },
  {
   "cell_type": "code",
   "execution_count": 18,
   "metadata": {},
   "outputs": [],
   "source": [
    "table3 = tables[3]\n",
    "table3.head()"
   ]
  },
  {
   "cell_type": "markdown",
   "metadata": {},
   "source": [
    "`NaN` is a special value that represents missing data, in this case because some agencies did not publish projections for some years."
   ]
  },
  {
   "cell_type": "code",
   "execution_count": 19,
   "metadata": {
    "collapsed": true
   },
   "outputs": [],
   "source": [
    "table3.columns = ['census', 'prb', 'un']"
   ]
  },
  {
   "cell_type": "markdown",
   "metadata": {},
   "source": [
    "This function plots projections from the UN DESA and U.S. Census.  It uses `dropna` to remove the `NaN` values from each series before plotting it."
   ]
  },
  {
   "cell_type": "code",
   "execution_count": 20,
   "metadata": {
    "collapsed": true
   },
   "outputs": [],
   "source": [
    "def plot_projections(table):\n",
    "    \"\"\"Plot world population projections.\n",
    "    \n",
    "    table: DataFrame with columns 'un' and 'census'\n",
    "    \"\"\"\n",
    "    census = table.census / 1e9\n",
    "    un = table.un / 1e9\n",
    "    \n",
    "    plot(census.dropna(), ':', color='darkblue', label='US Census')\n",
    "    plot(un.dropna(), '--', color='green', label='UN DESA')"
   ]
  },
  {
   "cell_type": "markdown",
   "metadata": {},
   "source": [
    "Run the model until 2100, which is as far as the other projections go."
   ]
  },
  {
   "cell_type": "code",
   "execution_count": 21,
   "metadata": {
    "collapsed": true
   },
   "outputs": [],
   "source": [
    "system.p0 = census[t0]\n",
    "system.t_end = 2100\n",
    "run_simulation(system, update_func2)"
   ]
  },
  {
   "cell_type": "markdown",
   "metadata": {},
   "source": [
    "Plot the results."
   ]
  },
  {
   "cell_type": "code",
   "execution_count": 22,
   "metadata": {},
   "outputs": [],
   "source": [
    "plot_results(system)\n",
    "plot_projections(table3)\n",
    "decorate(title='World population projections')\n",
    "savefig('chap04-fig02.pdf')"
   ]
  },
  {
   "cell_type": "markdown",
   "metadata": {},
   "source": [
    "People who know what they are doing expect the growth rate to decline more sharply than our model projects."
   ]
  },
  {
   "cell_type": "markdown",
   "metadata": {},
   "source": [
    "**Exercise:**  Suppose there are two banks across the street from each other, The First Geometric Bank (FGB) and Exponential Savings and Loan (ESL).  They offer the same interest rate on checking accounts, 3%, but at FGB, they compute and pay interest at the end of each year, and at ESL they compound interest continuously.\n",
    "\n",
    "If you deposit $p_0$ dollars at FGB at the beginning of Year 0, the balanace of your account at the end of Year $n$ is\n",
    "\n",
    "$ x_n = p_0 (1 + \\alpha)^n $\n",
    "\n",
    "where $\\alpha = 0.03$.  At ESL, your balance at any time $t$ would be\n",
    "\n",
    "$ x(t) = p_0 \\exp(\\alpha t) $\n",
    "\n",
    "If you deposit \\$1000 at each back at the beginning of Year 0, how much would you have in each account after 10 years?\n",
    "\n",
    "Is there an interest rate FGB could pay so that your balance at the end of each year would be the same at both banks?  What is it?\n",
    "\n",
    "Hint: `modsim` provides a function called `exp`, which is a wrapper for the NumPy function `exp`."
   ]
  },
  {
   "cell_type": "code",
   "execution_count": 23,
   "metadata": {
    "collapsed": true
   },
   "outputs": [],
   "source": [
    "# Solution goes here"
   ]
  },
  {
   "cell_type": "code",
   "execution_count": 24,
   "metadata": {
    "collapsed": true
   },
   "outputs": [],
   "source": [
    "# Solution goes here"
   ]
  },
  {
   "cell_type": "code",
   "execution_count": 25,
   "metadata": {},
   "outputs": [],
   "source": [
    "# Solution goes here"
   ]
  },
  {
   "cell_type": "code",
   "execution_count": 26,
   "metadata": {},
   "outputs": [],
   "source": [
    "# Solution goes here"
   ]
  },
  {
   "cell_type": "code",
   "execution_count": 27,
   "metadata": {},
   "outputs": [],
   "source": [
    "# Solution goes here"
   ]
  },
  {
   "cell_type": "code",
   "execution_count": 28,
   "metadata": {},
   "outputs": [],
   "source": [
    "# Solution goes here"
   ]
  },
  {
   "cell_type": "code",
   "execution_count": 29,
   "metadata": {},
   "outputs": [],
   "source": [
    "# Solution goes here"
   ]
  },
  {
   "cell_type": "markdown",
   "metadata": {},
   "source": [
    "**Exercise:** Suppose a new bank opens called the Polynomial Credit Union (PCU).  In order to compete with First Geometric Bank and Exponential Savings and Loan, PCU offers a parabolic savings account where the balance is a polynomial function of time:\n",
    "\n",
    "$ x(t) = p_0 + \\beta_1 t + \\beta_2 t^2 $\n",
    "\n",
    "As a special deal, they offer an account with $\\beta_1 = 30$ and $\\beta_2 = 0.5$, with those parameters guaranteed for life.\n",
    "\n",
    "Suppose you deposit \\$1000 at all three banks at the beginning of Year 0.  How much would you have in each account at the end of Year 10?  How about Year 20?  And Year 100?"
   ]
  },
  {
   "cell_type": "code",
   "execution_count": 30,
   "metadata": {
    "collapsed": true
   },
   "outputs": [],
   "source": [
    "# Solution goes here"
   ]
  },
  {
   "cell_type": "code",
   "execution_count": 31,
   "metadata": {},
   "outputs": [],
   "source": [
    "# Solution goes here"
   ]
  },
  {
   "cell_type": "code",
   "execution_count": 32,
   "metadata": {
    "collapsed": true
   },
   "outputs": [],
   "source": [
    "# Solution goes here"
   ]
  },
  {
   "cell_type": "code",
   "execution_count": 33,
   "metadata": {},
   "outputs": [],
   "source": [
    "# Solution goes here"
   ]
  },
  {
   "cell_type": "code",
   "execution_count": 34,
   "metadata": {},
   "outputs": [],
   "source": [
    "# Solution goes here"
   ]
  },
  {
   "cell_type": "code",
   "execution_count": null,
   "metadata": {
    "collapsed": true
   },
   "outputs": [],
   "source": []
  },
  {
   "cell_type": "code",
   "execution_count": null,
   "metadata": {
    "collapsed": true
   },
   "outputs": [],
   "source": []
  }
 ],
 "metadata": {
  "kernelspec": {
   "display_name": "Python 3",
   "language": "python",
   "name": "python3"
  },
  "language_info": {
   "codemirror_mode": {
    "name": "ipython",
    "version": 3
   },
   "file_extension": ".py",
   "mimetype": "text/x-python",
   "name": "python",
   "nbconvert_exporter": "python",
   "pygments_lexer": "ipython3",
   "version": "3.6.1"
  }
 },
 "nbformat": 4,
 "nbformat_minor": 1
}
