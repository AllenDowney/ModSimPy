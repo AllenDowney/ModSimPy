{
 "cells": [
  {
   "cell_type": "code",
   "execution_count": null,
   "metadata": {},
   "outputs": [],
   "source": [
    "from sympy import *"
   ]
  },
  {
   "attachments": {},
   "cell_type": "markdown",
   "metadata": {},
   "source": [
    "求解方程组\n",
    "\\left(\\frac{dx}{dy}\\right)^{1/3}$$ "
   ]
  },
  {
   "cell_type": "markdown",
   "metadata": {},
   "source": [
    "在编写LaTeX时，有两种模式：行内模式(inline mode) 和 展示模式(display mode).行内模式也称为随文模式，是将公式镶嵌在普通文段内，跟文字排在一起。 展示模式是将公式独立成一行，并且居中显示。\n",
    "模式不同，数学公式的渲染方式也不同。\n",
    "为了在行内编写数学公式，你需要使用单$符, 比如：$y=mx+b$，在 $符之间的所有内容，都将被视为数学符号进行渲染。\n",
    "为了创建显示模式的表达式，使用 $$符。\n",
    "$$P(A \\mid B) = \\frac{ P(B \\mid A) P(A) }{ P(B) }$$"
   ]
  },
  {
   "cell_type": "markdown",
   "metadata": {},
   "source": [
    "求解方程组\n",
    "$$2x-y-3=0$$\n",
    "$$3x+y=0$$"
   ]
  },
  {
   "cell_type": "code",
   "execution_count": 6,
   "metadata": {},
   "outputs": [
    {
     "name": "stdout",
     "output_type": "stream",
     "text": [
      "{x: 3/5, y: -9/5}\n"
     ]
    }
   ],
   "source": [
    "from sympy import *\n",
    "x,y = symbols('x y')\n",
    "# 使用solve()函数求解x，y的值\n",
    "result = solve((2*x-y-3,3*x+y),(x,y))\n",
    "print(result)"
   ]
  },
  {
   "cell_type": "markdown",
   "metadata": {},
   "source": [
    "例如需要求以下的极限：\n",
    "\n",
    "$$ \\lim_{x \\to +\\infty} \\frac{x^2}{e^x}$$"
   ]
  },
  {
   "cell_type": "code",
   "execution_count": 13,
   "metadata": {},
   "outputs": [
    {
     "name": "stdout",
     "output_type": "stream",
     "text": [
      "被求函数为：\n",
      "x**2*exp(-x)\n",
      "结果为：\n",
      "0\n"
     ]
    }
   ],
   "source": [
    "\n",
    "x = symbols('x')\n",
    "expr = x**2/exp(x)\n",
    "# 无穷用两个o表示\n",
    "result = limit(expr,x,oo)\n",
    "print('被求函数为：')\n",
    "print(expr)\n",
    "print('结果为：')\n",
    "pprint(result)"
   ]
  },
  {
   "cell_type": "markdown",
   "metadata": {},
   "source": [
    "diff()函数也可以用来求偏导，例如求以下的偏导：\n",
    "$$f(x,y) =x^2sin(2y)$$"
   ]
  },
  {
   "cell_type": "code",
   "execution_count": 17,
   "metadata": {},
   "outputs": [
    {
     "name": "stdout",
     "output_type": "stream",
     "text": [
      "所求函数为：\n",
      " 2         \n",
      "x ⋅sin(2⋅y)\n",
      "对x偏导为：\n",
      "2⋅x⋅sin(2⋅y)\n",
      "对y偏导为：\n",
      "   2         \n",
      "2⋅x ⋅cos(2⋅y)\n"
     ]
    }
   ],
   "source": [
    "\"\"\"求偏导\"\"\"\n",
    "# 定义一个函数f，它是x，y的函数\n",
    "f = Function('f')(x,y)\n",
    "f = x**2 * sin(2*y) # 对x求偏导\n",
    "fx = f.diff(x)\n",
    " # 对y求偏导\n",
    "fy = f.diff(y)\n",
    "print('所求函数为：')\n",
    "pprint(f)\n",
    "print('对x偏导为：')\n",
    "pprint(fx)\n",
    "print('对y偏导为：')\n",
    "pprint(fy)"
   ]
  },
  {
   "cell_type": "markdown",
   "metadata": {},
   "source": [
    "不定积分与定积分\n",
    "\n",
    "在数学上不定积分的表达式如下：\n",
    "$$ \\int f(x) dx $$\n",
    "抛开数学上求解不定积分的方法，我们无需关心怎么算，只需关系怎么让计算机帮我们算。例如需要计算以下的不定积分：\n"
   ]
  },
  {
   "cell_type": "markdown",
   "metadata": {},
   "source": [
    "$$ \\int \\frac {x^2} {x^2+1} dx $$"
   ]
  },
  {
   "cell_type": "code",
   "execution_count": 18,
   "metadata": {},
   "outputs": [
    {
     "name": "stdout",
     "output_type": "stream",
     "text": [
      "被积函数为：\n",
      "   2  \n",
      "  x   \n",
      "──────\n",
      " 2    \n",
      "x  + 1\n",
      "不定积分结果为：\n",
      "x - atan(x)\n"
     ]
    }
   ],
   "source": [
    " \"\"\"求不定积分\"\"\"\n",
    " x = symbols('x')\n",
    " expr = (x**2)/(x**2 + 1)\n",
    " result = integrate(expr,x)\n",
    " print(\"被积函数为：\")\n",
    " pprint(expr)\n",
    " print('不定积分结果为：')\n",
    " pprint(result)"
   ]
  },
  {
   "cell_type": "markdown",
   "metadata": {},
   "source": [
    "接下来看定积分，定积分比不定积分多了个范围限制，比如求下面的定积分：\n",
    "已知$f(x)=e^{-x^2}$,求解$\\int_0^1 {f'(x)f''(x)} \\,{\\rm d}x$"
   ]
  },
  {
   "cell_type": "code",
   "execution_count": 22,
   "metadata": {},
   "outputs": [
    {
     "name": "stdout",
     "output_type": "stream",
     "text": [
      "被积函数为：\n",
      "                     2\n",
      "     ⎛   2    ⎞  -2⋅x \n",
      "-4⋅x⋅⎝2⋅x  - 1⎠⋅ℯ     \n",
      "结果为：\n",
      "   -2\n",
      "2⋅ℯ  \n"
     ]
    }
   ],
   "source": [
    " f = Function('f')\n",
    " x = symbols('x')\n",
    " f = exp(-x**2)\n",
    " expr_1 = diff(f,x)\n",
    " expr_2 = diff(f,x,2)\n",
    " expr = expr_1 * expr_2\n",
    " result = integrate(expr,(x,0,1))\n",
    " print('被积函数为：')\n",
    " pprint(expr)\n",
    " print('结果为：')\n",
    " pprint(result)"
   ]
  },
  {
   "cell_type": "markdown",
   "metadata": {},
   "source": [
    "常微分方程与偏微分方程\n",
    "\n",
    "常微分方程是指微分方程中只有一个变量的方程，解常微分方程需要用到dsolve()函数。例如需要求以下的常微分方程：\n",
    "\n",
    "$$y''+2y'+3y=0$$"
   ]
  },
  {
   "cell_type": "code",
   "execution_count": 24,
   "metadata": {},
   "outputs": [
    {
     "name": "stdout",
     "output_type": "stream",
     "text": [
      "                                      -x\n",
      "f(x) = (C₁⋅sin(√2⋅x) + C₂⋅cos(√2⋅x))⋅ℯ  \n"
     ]
    }
   ],
   "source": [
    "\"\"\"常微分方程\"\"\"\n",
    "f = Function('f')\n",
    "x = symbols('x')\n",
    "expr = diff(f(x),x,2) + 2*diff(f(x),x) + 3*f(x)\n",
    "result = dsolve(expr,f(x))\n",
    "pprint(result)\n"
   ]
  },
  {
   "cell_type": "markdown",
   "metadata": {},
   "source": [
    "偏微分方程是指微分方程中含有多个变量的方程，解偏微分方程用到pdsolve()函数。例如需要求以下偏微分方程：\n"
   ]
  },
  {
   "cell_type": "markdown",
   "metadata": {},
   "source": [
    "Z是X,Y的函数，求解偏微分方程\n",
    "\\frac{\\partial^{2}y}{\\partial x^{2}}\n",
    "$$\\frac{3\\frac{\\partial z}{\\partial y}}{z}+\\frac{2\\frac{\\partial z}{\\partial x}}{z}+1=0$$"
   ]
  },
  {
   "cell_type": "code",
   "execution_count": 25,
   "metadata": {},
   "outputs": [
    {
     "name": "stdout",
     "output_type": "stream",
     "text": [
      "微分方程为：\n",
      "      ∂               ∂              \n",
      "    2⋅──(f(x, y))   3⋅──(f(x, y))    \n",
      "      ∂x              ∂y             \n",
      "1 + ───────────── + ───────────── = 0\n",
      "       f(x, y)         f(x, y)       \n",
      "求得函数为：\n",
      "                          2⋅x   3⋅y\n",
      "                        - ─── - ───\n",
      "                           13    13\n",
      "f(x, y) = F(3⋅x - 2⋅y)⋅ℯ           \n"
     ]
    }
   ],
   "source": [
    " \"\"\"偏微分方程求解\"\"\"\n",
    " f = Function('f')\n",
    " # 表示z为x，y的函数\n",
    " z = f(x,y)\n",
    " zx = z.diff(x)\n",
    " zy = z.diff(y)\n",
    " eq = Eq(1 + (2*(zx/z)) + (3*(zy/z)))\n",
    " \n",
    " result = pdsolve(eq)\n",
    " print('微分方程为：')\n",
    " pprint(eq)\n",
    " print('求得函数为：')\n",
    " pprint(result)"
   ]
  },
  {
   "cell_type": "markdown",
   "metadata": {},
   "source": [
    "对数 log()\n",
    "e的指数次幂 exp()\n",
    "上面是求一阶导的方法，求解高阶导的方法如下所示："
   ]
  },
  {
   "cell_type": "code",
   "execution_count": 29,
   "metadata": {},
   "outputs": [
    {
     "name": "stdout",
     "output_type": "stream",
     "text": [
      "3*x**2\n",
      "3*x**2\n",
      "6*x\n",
      "6\n"
     ]
    }
   ],
   "source": [
    "a=diff(x**3,x)\n",
    "print(a)\n",
    "a=diff(x**3,x,1)\n",
    "print(a)\n",
    "a=diff(x**3,x,2)\n",
    "print(a)\n",
    "a=diff(x**3,x,3)\n",
    "print(a)"
   ]
  },
  {
   "cell_type": "markdown",
   "metadata": {},
   "source": [
    "用dsolve函数解微分方程\n",
    "dsolve函数是用来解决微分方程（differential equation）的函数。"
   ]
  },
  {
   "cell_type": "code",
   "execution_count": 34,
   "metadata": {},
   "outputs": [
    {
     "name": "stdout",
     "output_type": "stream",
     "text": [
      "            d       \n",
      "-2⋅x⋅f(x) + ──(f(x))\n",
      "            dx      \n",
      "Eq(f(x), C1*exp(x**2))\n"
     ]
    }
   ],
   "source": [
    "f = Function('f')\n",
    "x = Symbol('x')\n",
    "pprint(diff(f(x),x)-2*f(x)*x)\n",
    "print(dsolve(diff(f(x),x)-2*f(x)*x,f(x)))"
   ]
  },
  {
   "cell_type": "markdown",
   "metadata": {},
   "source": [
    "欧拉恒等式$$e^{i\\pi}+1=0$$\n",
    "此公式被称为欧拉恒等式，其中e是自然 常数，i是虚数单位， 是圆周率。此公式被誉 为数学中最奇妙的公式，它将5个基本数学常数 用加法、乘法和幂运算联系起来。 从SymPy库载入的符号中，E表示自然常 数，I表示虚数单位，pi表示圆周率，因此上面 的公式可以直接如下计算："
   ]
  },
  {
   "cell_type": "code",
   "execution_count": 35,
   "metadata": {},
   "outputs": [
    {
     "name": "stdout",
     "output_type": "stream",
     "text": [
      "0\n"
     ]
    }
   ],
   "source": [
    "print(E**(I*pi)+1)"
   ]
  },
  {
   "cell_type": "markdown",
   "metadata": {},
   "source": [
    "SymPy除了可以直接计算公式的值之外， 还可以帮助做数学公式的推导和证明。欧拉恒等 式可以将 代入下面的欧拉公式得到：\n",
    "$$e^{ix}=cosx+isinx$$\n",
    "在SymPy中可以使用expand()将表达式展 开e^ix，用它展开看（expand()中x是复数）："
   ]
  },
  {
   "cell_type": "code",
   "execution_count": 36,
   "metadata": {},
   "outputs": [
    {
     "name": "stdout",
     "output_type": "stream",
     "text": [
      "I*exp(-im(x))*sin(re(x)) + exp(-im(x))*cos(re(x))\n"
     ]
    }
   ],
   "source": [
    "print(expand(exp(I*x), complex=True) )"
   ]
  },
  {
   "cell_type": "markdown",
   "metadata": {},
   "source": [
    "为了指定x为实数，需要重新定义x\n",
    "\n",
    "x = Symbol(\"x\", real=True)\n",
    "\n",
    "print(expand(exp(I*x), complex=True))"
   ]
  },
  {
   "cell_type": "code",
   "execution_count": 37,
   "metadata": {},
   "outputs": [
    {
     "name": "stdout",
     "output_type": "stream",
     "text": [
      "I*sin(x) + cos(x)\n"
     ]
    }
   ],
   "source": [
    "x = Symbol(\"x\", real=True)\n",
    "\n",
    "print(expand(exp(I*x), complex=True))"
   ]
  },
  {
   "cell_type": "code",
   "execution_count": null,
   "metadata": {},
   "outputs": [],
   "source": []
  }
 ],
 "metadata": {
  "kernelspec": {
   "display_name": "Python 3",
   "language": "python",
   "name": "python3"
  },
  "language_info": {
   "codemirror_mode": {
    "name": "ipython",
    "version": 3
   },
   "file_extension": ".py",
   "mimetype": "text/x-python",
   "name": "python",
   "nbconvert_exporter": "python",
   "pygments_lexer": "ipython3",
   "version": "3.6.8"
  }
 },
 "nbformat": 4,
 "nbformat_minor": 2
}
