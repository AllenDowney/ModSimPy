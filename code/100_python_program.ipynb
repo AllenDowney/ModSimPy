{
 "cells": [
  {
   "cell_type": "markdown",
   "metadata": {},
   "source": [
    "\n",
    "题目012：判断101-200之间有多少个素数，并输出所有素数"
   ]
  },
  {
   "cell_type": "code",
   "execution_count": 16,
   "metadata": {},
   "outputs": [
    {
     "name": "stdout",
     "output_type": "stream",
     "text": [
      "21 [101, 103, 107, 109, 113, 127, 131, 137, 139, 149, 151, 157, 163, 167, 173, 179, 181, 191, 193, 197, 199]\n"
     ]
    }
   ],
   "source": [
    "def tm012():\n",
    "    arr = [2,3]\n",
    "    for i in range (4,200):\n",
    "        for j in arr:\n",
    "            if i%j ==0:\n",
    "                 break\n",
    "        else:\n",
    "                arr.append(i)\n",
    "#     print(arr)\n",
    "    for i in range(len(arr)):\n",
    "        if arr[i]>100:\n",
    "            l = arr[i:]\n",
    "            print(len(l),l)\n",
    "            break\n",
    "    \n",
    "tm012()"
   ]
  },
  {
   "cell_type": "markdown",
   "metadata": {},
   "source": [
    "\n",
    "题目013：打印出所有的\"水仙花数\"，\n",
    "所谓\"水仙花数\"是指一个三位数，其各位数字立方和等于该数本身。\n",
    "例如：153是一个\"水仙花数\"，因为153=1的三次方＋5的三次方＋3的三次方。"
   ]
  },
  {
   "cell_type": "code",
   "execution_count": 18,
   "metadata": {},
   "outputs": [
    {
     "name": "stdout",
     "output_type": "stream",
     "text": [
      "153\n",
      "370\n",
      "371\n",
      "407\n"
     ]
    }
   ],
   "source": [
    "def tm013():\n",
    "    for i in range(100,1000):\n",
    "        b =i//100\n",
    "        c = i%100//10\n",
    "        d = i%10\n",
    "        if b**3+c**3+d**3 == i:\n",
    "            print(i)\n",
    "tm013()"
   ]
  },
  {
   "cell_type": "markdown",
   "metadata": {},
   "source": [
    "题目014：将一个正整数分解质因数。例如：输入90,打印出90=2*3*3*5。\n"
   ]
  },
  {
   "cell_type": "code",
   "execution_count": 45,
   "metadata": {},
   "outputs": [
    {
     "name": "stdout",
     "output_type": "stream",
     "text": [
      "input a number:350\n",
      "[2, 5, 5, 7]\n"
     ]
    }
   ],
   "source": [
    "def tm014():\n",
    "    import math\n",
    "    num = int(input('input a number:'))\n",
    "    arr = []\n",
    "    while num>1:\n",
    "        for i in range(2,int(num)+1):\n",
    "            if num%i ==0:\n",
    "                arr.append(i)\n",
    "                num =num//i\n",
    "#                 print(num)\n",
    "                break\n",
    "               \n",
    "        else:\n",
    "                \n",
    "                arr.append(num)\n",
    "                print(i)\n",
    "                break\n",
    "    print(arr)\n",
    "\n",
    "tm014()\n",
    "            "
   ]
  },
  {
   "cell_type": "code",
   "execution_count": 67,
   "metadata": {},
   "outputs": [
    {
     "name": "stdout",
     "output_type": "stream",
     "text": [
      "   *\n",
      "  ***\n",
      " *****\n",
      "*******\n",
      " *****\n",
      "  ***\n",
      "   *\n",
      "6 3 6 1\n"
     ]
    }
   ],
   "source": [
    "for i in range(7):\n",
    "    a =abs(7//2-i)\n",
    "    b =2*abs(7//2-i)\n",
    "    c =7-2*abs(7//2-i)\n",
    "#     print(i,a,b,c)\n",
    "    print(' '*a+'*'*c)\n",
    "#     print(' ')\n",
    "print(i,a,b,c)"
   ]
  }
 ],
 "metadata": {
  "kernelspec": {
   "display_name": "Python 3",
   "language": "python",
   "name": "python3"
  },
  "language_info": {
   "codemirror_mode": {
    "name": "ipython",
    "version": 3
   },
   "file_extension": ".py",
   "mimetype": "text/x-python",
   "name": "python",
   "nbconvert_exporter": "python",
   "pygments_lexer": "ipython3",
   "version": "3.7.1"
  }
 },
 "nbformat": 4,
 "nbformat_minor": 2
}
