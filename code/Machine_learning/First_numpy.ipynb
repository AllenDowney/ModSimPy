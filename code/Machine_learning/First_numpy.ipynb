{
 "cells": [
  {
   "cell_type": "code",
   "execution_count": 1,
   "metadata": {},
   "outputs": [
    {
     "data": {
      "text/plain": [
       "array([[0.90309342, 0.59026701, 0.1858696 , 0.71994215],\n",
       "       [0.75119625, 0.73156479, 0.15739768, 0.81912456],\n",
       "       [0.85126972, 0.82165727, 0.72465224, 0.20996462],\n",
       "       [0.64652762, 0.86104234, 0.45182506, 0.72442078]])"
      ]
     },
     "execution_count": 1,
     "metadata": {},
     "output_type": "execute_result"
    }
   ],
   "source": [
    "from numpy import *\n",
    "\n",
    "random.rand(4,4)"
   ]
  },
  {
   "cell_type": "code",
   "execution_count": 3,
   "metadata": {},
   "outputs": [],
   "source": [
    "randMat=mat(random.rand(4,4))"
   ]
  },
  {
   "cell_type": "code",
   "execution_count": 4,
   "metadata": {},
   "outputs": [
    {
     "data": {
      "text/plain": [
       "matrix([[0.9958846 , 0.16385475, 0.4743524 , 0.19995114],\n",
       "        [0.28208571, 0.56521013, 0.24669651, 0.94905119],\n",
       "        [0.40525891, 0.72028209, 0.84557939, 0.82278216],\n",
       "        [0.24194843, 0.98218045, 0.89362683, 0.13582331]])"
      ]
     },
     "execution_count": 4,
     "metadata": {},
     "output_type": "execute_result"
    }
   ],
   "source": [
    "randMat"
   ]
  },
  {
   "cell_type": "code",
   "execution_count": 7,
   "metadata": {},
   "outputs": [
    {
     "data": {
      "text/plain": [
       "matrix([[0.9958846 , 0.28208571, 0.40525891, 0.24194843],\n",
       "        [0.16385475, 0.56521013, 0.72028209, 0.98218045],\n",
       "        [0.4743524 , 0.24669651, 0.84557939, 0.89362683],\n",
       "        [0.19995114, 0.94905119, 0.82278216, 0.13582331]])"
      ]
     },
     "execution_count": 7,
     "metadata": {},
     "output_type": "execute_result"
    }
   ],
   "source": [
    "randMat.T"
   ]
  },
  {
   "cell_type": "code",
   "execution_count": 8,
   "metadata": {},
   "outputs": [
    {
     "data": {
      "text/plain": [
       "matrix([[ 1.00000000e+00, -5.55111512e-17,  1.11022302e-16,\n",
       "          6.93889390e-17],\n",
       "        [ 5.55111512e-17,  1.00000000e+00, -3.33066907e-16,\n",
       "          1.38777878e-16],\n",
       "        [ 5.55111512e-17,  0.00000000e+00,  1.00000000e+00,\n",
       "          0.00000000e+00],\n",
       "        [ 1.47451495e-17,  0.00000000e+00,  0.00000000e+00,\n",
       "          1.00000000e+00]])"
      ]
     },
     "execution_count": 8,
     "metadata": {},
     "output_type": "execute_result"
    }
   ],
   "source": [
    "randMat*randMat.I"
   ]
  },
  {
   "cell_type": "raw",
   "metadata": {},
   "source": []
  }
 ],
 "metadata": {
  "kernelspec": {
   "display_name": "Python 3",
   "language": "python",
   "name": "python3"
  },
  "language_info": {
   "codemirror_mode": {
    "name": "ipython",
    "version": 3
   },
   "file_extension": ".py",
   "mimetype": "text/x-python",
   "name": "python",
   "nbconvert_exporter": "python",
   "pygments_lexer": "ipython3",
   "version": "3.6.8"
  }
 },
 "nbformat": 4,
 "nbformat_minor": 2
}
