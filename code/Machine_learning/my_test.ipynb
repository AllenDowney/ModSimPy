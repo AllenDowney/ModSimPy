{
 "cells": [
  {
   "cell_type": "code",
   "execution_count": 56,
   "metadata": {},
   "outputs": [],
   "source": [
    "import pandas as pd\n",
    "import numpy as np\n",
    "import operator\n",
    "from os import listdir\n",
    "import seaborn as sns\n",
    "import matplotlib.pyplot as plt\n",
    "%matplotlib inline\n",
    "\n",
    "%matplotlib inline\n",
    "\n",
    "# #set font size of labels on matplotlib plots\n",
    "# plt.rc('font', size=16)\n",
    "\n",
    "# #set style of plots\n",
    "# sns.set_style('white')\n",
    "\n",
    "# #define a custom palette\n",
    "# customPalette = ['#630C3A', '#39C8C6', '#D3500C', '#FFB139']\n",
    "# sns.set_palette(customPalette)"
   ]
  },
  {
   "cell_type": "code",
   "execution_count": 61,
   "metadata": {},
   "outputs": [
    {
     "name": "stdout",
     "output_type": "stream",
     "text": [
      "0 A\n",
      "1 B\n"
     ]
    }
   ],
   "source": [
    "def createDataSet(length=10):\n",
    "#     group = array([[1.0,1.1],[1.0,1.0],[0,0],[0,0.1]])\n",
    "#     labels = ['A','A','B','B']\n",
    "    #number of points per group\n",
    "    n = length\n",
    "\n",
    "    #define group labels and their centers\n",
    "    groups = {'A': (2,2),\n",
    "              'B': (4,4)}\n",
    "\n",
    "    #create labeled x and y data\n",
    "    data = pd.DataFrame(index=range(n*len(groups)), columns=['x','y','label'])\n",
    "    for i, group in enumerate(groups.keys()):\n",
    "    #randomly select n datapoints from a gaussian distrbution\n",
    "        print(i,group)\n",
    "        data.loc[i*n:((i+1)*n)-1,['x','y']] = np.random.normal(groups[group], \n",
    "                                                           [0.5,0.5], \n",
    "                                                           [n,2])\n",
    "        #add group labels\n",
    "        data.loc[i*n:((i+1)*n)-1,['label']] = group\n",
    "    #plot data with seaborn\n",
    "    # df = data\n",
    "    # print(data)\n",
    "    dataset = np.zeros((n*2,2))\n",
    "    labels  = ['A']\n",
    "\n",
    "    for i in range(1,n*2):\n",
    "        dataset[i] = [data.at[i,'x'],data.at[i,'y']]\n",
    "        labels+=[data.at[i,'label']]\n",
    "    #     print(dataset[i],labels)\n",
    "    dataset[0]=[data.at[0,'x'],data.at[0,'y']]\n",
    "    #     print(dataset,labels)\n",
    "    group = dataset\n",
    "    labels =labels\n",
    "    return group, labels\n",
    "\n",
    "\n",
    "def classify0(inX, dataSet, labels, k):\n",
    "    dataSetSize = dataSet.shape[0]\n",
    "    diffMat = tile(inX, (dataSetSize,1)) - dataSet\n",
    "    sqDiffMat = diffMat**2\n",
    "    sqDistances = sqDiffMat.sum(axis=1)\n",
    "    distances = sqDistances**0.5\n",
    "    sortedDistIndicies = distances.argsort()     \n",
    "    classCount={}          \n",
    "    for i in range(k):\n",
    "        voteIlabel = labels[sortedDistIndicies[i]]\n",
    "        classCount[voteIlabel] = classCount.get(voteIlabel,0) + 1\n",
    "    sortedClassCount = sorted(classCount.items(), key=operator.itemgetter(1), reverse=True)\n",
    "    return sortedClassCount[0][0]\n",
    "\n",
    "\n",
    "dataSet,labels =createDataSet(10)\n",
    "# print(labels)\n",
    "xa= [2,2]\n",
    "a= classify0(xa,dataSet,labels,3)\n",
    "# a= [2,2]\n",
    "# classifierResult = classify0(a,dataSet,labels,3)\n",
    "# print(classifierResult)\n",
    "# print(a)\n",
    "\n"
   ]
  },
  {
   "cell_type": "code",
   "execution_count": 52,
   "metadata": {},
   "outputs": [
    {
     "data": {
      "text/plain": [
       "[1, 1]"
      ]
     },
     "execution_count": 52,
     "metadata": {},
     "output_type": "execute_result"
    }
   ],
   "source": [
    "a= [1,1]\n",
    "a"
   ]
  },
  {
   "cell_type": "code",
   "execution_count": 11,
   "metadata": {},
   "outputs": [],
   "source": [
    "files=open('datingTestSet2.txt')\n",
    "files.readlines()\n",
    "length=len(files.readlines())\n"
   ]
  },
  {
   "cell_type": "code",
   "execution_count": 9,
   "metadata": {},
   "outputs": [
    {
     "ename": "AttributeError",
     "evalue": "'numpy.ndarray' object has no attribute 'I'",
     "output_type": "error",
     "traceback": [
      "\u001b[1;31m---------------------------------------------------------------------------\u001b[0m",
      "\u001b[1;31mAttributeError\u001b[0m                            Traceback (most recent call last)",
      "\u001b[1;32m<ipython-input-9-93ae2884837d>\u001b[0m in \u001b[0;36m<module>\u001b[1;34m\u001b[0m\n\u001b[0;32m      1\u001b[0m \u001b[0mclassLabelVector\u001b[0m \u001b[1;33m=\u001b[0m \u001b[0mzeros\u001b[0m\u001b[1;33m(\u001b[0m\u001b[1;36m100\u001b[0m\u001b[1;33m)\u001b[0m\u001b[1;33m\u001b[0m\u001b[1;33m\u001b[0m\u001b[0m\n\u001b[1;32m----> 2\u001b[1;33m \u001b[0mclassLabelVector\u001b[0m\u001b[1;33m.\u001b[0m\u001b[0mI\u001b[0m\u001b[1;33m\u001b[0m\u001b[1;33m\u001b[0m\u001b[0m\n\u001b[0m",
      "\u001b[1;31mAttributeError\u001b[0m: 'numpy.ndarray' object has no attribute 'I'"
     ]
    }
   ],
   "source": [
    "    dataSetSize = dataSet.shape[0]\n",
    "    diffMat = tile(inX, (dataSetSize,1)) - dataSet\n",
    "    sqDiffMat = diffMat**2\n",
    "    sqDistances = sqDiffMat.sum(axis=1)\n",
    "    distances = sqDistances**0.5\n",
    "    sortedDistIndicies = distances.argsort()     \n",
    "    classCount={}          \n",
    "    for i in range(k):\n",
    "        voteIlabel = labels[sortedDistIndicies[i]]\n",
    "        classCount[voteIlabel] = classCount.get(voteIlabel,0) + 1\n",
    "    sortedClassCount = sorted(classCount.iteritems(), key=operator.itemgetter(1), reverse=True)"
   ]
  },
  {
   "cell_type": "code",
   "execution_count": null,
   "metadata": {},
   "outputs": [],
   "source": [
    "group = array([[1.0,1.1],[1.0,1.0],[0,0],[0,0.1]])\n",
    "labels = ['A','A','B','B']\n",
    "dataSet = group\n",
    "inX =[0,0]\n",
    "sortedDistIndicies = distances.argsort() \n",
    "k=5\n",
    "dataSetSize = dataSet.shape[0]\n",
    "diffMat = tile(inX, (dataSetSize,1)) - dataSet\n",
    "sqDiffMat = diffMat**2\n",
    "sqDistances = sqDiffMat.sum(axis=1)\n",
    "distances = sqDistances**0.5\n",
    "sortedDistIndicies = distances.argsort()     \n",
    "classCount={}                   \n",
    "    for i in range(k):\n",
    "        voteIlabel = labels[sortedDistIndicies[i]]\n",
    "        classCount[voteIlabel] = classCount.get(voteIlabel,0) + 1\n",
    "sortedClassCount = sorted(classCount.iteritems(), key=operator.itemgetter(1), reverse=True)"
   ]
  }
 ],
 "metadata": {
  "kernelspec": {
   "display_name": "Python 3",
   "language": "python",
   "name": "python3"
  },
  "language_info": {
   "codemirror_mode": {
    "name": "ipython",
    "version": 3
   },
   "file_extension": ".py",
   "mimetype": "text/x-python",
   "name": "python",
   "nbconvert_exporter": "python",
   "pygments_lexer": "ipython3",
   "version": "3.7.1"
  }
 },
 "nbformat": 4,
 "nbformat_minor": 2
}
