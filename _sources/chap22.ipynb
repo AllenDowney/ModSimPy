{
 "cells": [
  {
   "cell_type": "markdown",
   "id": "collaborative-people",
   "metadata": {},
   "source": [
    "# Baseball"
   ]
  },
  {
   "cell_type": "markdown",
   "id": "imported-table",
   "metadata": {
    "tags": [
     "remove-cell"
    ]
   },
   "source": [
    "*Modeling and Simulation in Python*\n",
    "\n",
    "Copyright 2021 Allen Downey\n",
    "\n",
    "License: [Creative Commons Attribution-NonCommercial-ShareAlike 4.0 International](https://creativecommons.org/licenses/by-nc-sa/4.0/)"
   ]
  },
  {
   "cell_type": "code",
   "execution_count": 64,
   "id": "electoral-turkey",
   "metadata": {
    "tags": [
     "remove-cell"
    ]
   },
   "outputs": [],
   "source": [
    "# install Pint if necessary\n",
    "\n",
    "try:\n",
    "    from pint import UnitRegistry\n",
    "except ImportError:\n",
    "    !pip install pint\n",
    "    \n",
    "# import units\n",
    "from pint import UnitRegistry\n",
    "units = UnitRegistry()"
   ]
  },
  {
   "cell_type": "code",
   "execution_count": 65,
   "id": "formal-context",
   "metadata": {
    "tags": [
     "remove-cell"
    ]
   },
   "outputs": [],
   "source": [
    "# download modsim.py if necessary\n",
    "\n",
    "from os.path import basename, exists\n",
    "\n",
    "def download(url):\n",
    "    filename = basename(url)\n",
    "    if not exists(filename):\n",
    "        from urllib.request import urlretrieve\n",
    "        local, _ = urlretrieve(url, filename)\n",
    "        print('Downloaded ' + local)\n",
    "    \n",
    "download('https://github.com/AllenDowney/ModSimPy/raw/master/' +\n",
    "         'modsim.py')"
   ]
  },
  {
   "cell_type": "code",
   "execution_count": 66,
   "id": "progressive-typing",
   "metadata": {
    "tags": [
     "remove-cell"
    ]
   },
   "outputs": [],
   "source": [
    "# import functions from modsim\n",
    "\n",
    "from modsim import *"
   ]
  },
  {
   "cell_type": "markdown",
   "id": "plastic-trigger",
   "metadata": {
    "tags": [
     "remove-print"
    ]
   },
   "source": [
    "This chapter is available as a Jupyter notebook where you can read the text, run the code, and work on the exercises. \n",
    "Click here to access the notebooks: <https://allendowney.github.io/ModSimPy/>."
   ]
  },
  {
   "cell_type": "markdown",
   "id": "advanced-guidance",
   "metadata": {},
   "source": [
    "In the previous chapter we modeled an object moving in one dimension, with and without drag. Now let's move on to two dimensions, and baseball!\n",
    "\n",
    "In this chapter we model the flight of a baseball including the effect\n",
    "of air resistance. In the next chapter we use this model to solve an\n",
    "optimization problem."
   ]
  },
  {
   "cell_type": "markdown",
   "id": "offensive-chinese",
   "metadata": {},
   "source": [
    "## Baseball\n",
    "\n",
    "To model the flight of a baseball, we have to make some decisions. To get started, we'll ignore any spin that might be on the ball, and the resulting Magnus force (see <http://modsimpy.com/magnus>). Under this assumption, the ball travels in a vertical plane, so we'll run simulations in two dimensions, rather than three.\n",
    "\n",
    "To model air resistance, we'll need the mass, frontal area, and drag\n",
    "coefficient of a baseball. Mass and diameter are easy to find (see\n",
    "<http://modsimpy.com/baseball>). Drag coefficient is only a little\n",
    "harder; according to *The Physics of Baseball* (see https://books.google.com/books/about/The_Physics_of_Baseball.html?id=4xE4Ngpk_2EC), the drag coefficient of a baseball is approximately 0.33 (with no units).\n",
    "\n",
    "However, this value *does* depend on velocity. At low velocities it\n",
    "might be as high as 0.5, and at high velocities as low as 0.28.\n",
    "Furthermore, the transition between these values typically happens\n",
    "exactly in the range of velocities we are interested in, between 20 m/s and 40 m/s.\n",
    "\n",
    "Nevertheless, we'll start with a simple model where the drag coefficient does not depend on velocity; as an exercise at the end of the chapter, you can implement a more detailed model and see what effect it has on the results.\n",
    "\n",
    "But first we need a new computational tool, the `Vector` object."
   ]
  },
  {
   "cell_type": "markdown",
   "id": "worthy-wheel",
   "metadata": {},
   "source": [
    "## Vectors\n",
    "\n",
    "Now that we are working in two dimensions, it will be useful to\n",
    "work with *vector quantities*, that is, quantities that represent both a magnitude and a direction. We will use vectors to represent positions, velocities, accelerations, and forces in two and three dimensions.\n",
    "\n",
    "ModSim provides a function called `Vector` that creates a Pandas `Series` that contains the *components* of the vector.\n",
    "In a `Vector` that represents a position in space, the components are the $x$ and $y$ coordinates in 2-D, plus a $z$ coordinate if the `Vector` is in 3-D.\n",
    "\n",
    "You can create a `Vector` by specifying its components. The following\n",
    "`Vector` represents a point 3 units to the right (or east) and 4 units up (or north) from an implicit origin:"
   ]
  },
  {
   "cell_type": "code",
   "execution_count": 67,
   "id": "handy-terrain",
   "metadata": {},
   "outputs": [
    {
     "data": {
      "text/html": [
       "<div>\n",
       "<style scoped>\n",
       "    .dataframe tbody tr th:only-of-type {\n",
       "        vertical-align: middle;\n",
       "    }\n",
       "\n",
       "    .dataframe tbody tr th {\n",
       "        vertical-align: top;\n",
       "    }\n",
       "\n",
       "    .dataframe thead th {\n",
       "        text-align: right;\n",
       "    }\n",
       "</style>\n",
       "<table border=\"1\" class=\"dataframe\">\n",
       "  <thead>\n",
       "    <tr style=\"text-align: right;\">\n",
       "      <th></th>\n",
       "      <th>component</th>\n",
       "    </tr>\n",
       "  </thead>\n",
       "  <tbody>\n",
       "    <tr>\n",
       "      <th>x</th>\n",
       "      <td>3</td>\n",
       "    </tr>\n",
       "    <tr>\n",
       "      <th>y</th>\n",
       "      <td>4</td>\n",
       "    </tr>\n",
       "  </tbody>\n",
       "</table>\n",
       "</div>"
      ],
      "text/plain": [
       "   component\n",
       "x          3\n",
       "y          4"
      ]
     },
     "execution_count": 67,
     "metadata": {},
     "output_type": "execute_result"
    }
   ],
   "source": [
    "A = Vector(3, 4)\n",
    "show(A)"
   ]
  },
  {
   "cell_type": "markdown",
   "id": "settled-roommate",
   "metadata": {},
   "source": [
    "You can access the components of a `Vector` by name using the dot\n",
    "operator, like this:"
   ]
  },
  {
   "cell_type": "code",
   "execution_count": 68,
   "id": "vocal-latino",
   "metadata": {},
   "outputs": [
    {
     "data": {
      "text/plain": [
       "3"
      ]
     },
     "execution_count": 68,
     "metadata": {},
     "output_type": "execute_result"
    }
   ],
   "source": [
    "A.x"
   ]
  },
  {
   "cell_type": "code",
   "execution_count": 69,
   "id": "controversial-shower",
   "metadata": {},
   "outputs": [
    {
     "data": {
      "text/plain": [
       "4"
      ]
     },
     "execution_count": 69,
     "metadata": {},
     "output_type": "execute_result"
    }
   ],
   "source": [
    "A.y"
   ]
  },
  {
   "cell_type": "markdown",
   "id": "earlier-contemporary",
   "metadata": {},
   "source": [
    "You can also access them by index using brackets, like this:"
   ]
  },
  {
   "cell_type": "code",
   "execution_count": 70,
   "id": "digital-channels",
   "metadata": {},
   "outputs": [
    {
     "data": {
      "text/plain": [
       "3"
      ]
     },
     "execution_count": 70,
     "metadata": {},
     "output_type": "execute_result"
    }
   ],
   "source": [
    "A[0]"
   ]
  },
  {
   "cell_type": "code",
   "execution_count": 71,
   "id": "automated-drove",
   "metadata": {},
   "outputs": [
    {
     "data": {
      "text/plain": [
       "4"
      ]
     },
     "execution_count": 71,
     "metadata": {},
     "output_type": "execute_result"
    }
   ],
   "source": [
    "A[1]"
   ]
  },
  {
   "cell_type": "markdown",
   "id": "grave-burst",
   "metadata": {},
   "source": [
    "`Vector` objects support most mathematical operations, including\n",
    "addition:"
   ]
  },
  {
   "cell_type": "code",
   "execution_count": 72,
   "id": "conditional-latitude",
   "metadata": {},
   "outputs": [
    {
     "data": {
      "text/html": [
       "<div>\n",
       "<style scoped>\n",
       "    .dataframe tbody tr th:only-of-type {\n",
       "        vertical-align: middle;\n",
       "    }\n",
       "\n",
       "    .dataframe tbody tr th {\n",
       "        vertical-align: top;\n",
       "    }\n",
       "\n",
       "    .dataframe thead th {\n",
       "        text-align: right;\n",
       "    }\n",
       "</style>\n",
       "<table border=\"1\" class=\"dataframe\">\n",
       "  <thead>\n",
       "    <tr style=\"text-align: right;\">\n",
       "      <th></th>\n",
       "      <th>component</th>\n",
       "    </tr>\n",
       "  </thead>\n",
       "  <tbody>\n",
       "    <tr>\n",
       "      <th>x</th>\n",
       "      <td>4</td>\n",
       "    </tr>\n",
       "    <tr>\n",
       "      <th>y</th>\n",
       "      <td>6</td>\n",
       "    </tr>\n",
       "  </tbody>\n",
       "</table>\n",
       "</div>"
      ],
      "text/plain": [
       "   component\n",
       "x          4\n",
       "y          6"
      ]
     },
     "execution_count": 72,
     "metadata": {},
     "output_type": "execute_result"
    }
   ],
   "source": [
    "B = Vector(1, 2)\n",
    "show(A + B)"
   ]
  },
  {
   "cell_type": "markdown",
   "id": "charming-reviewer",
   "metadata": {},
   "source": [
    "And subtraction:"
   ]
  },
  {
   "cell_type": "code",
   "execution_count": 73,
   "id": "encouraging-cabinet",
   "metadata": {},
   "outputs": [
    {
     "data": {
      "text/html": [
       "<div>\n",
       "<style scoped>\n",
       "    .dataframe tbody tr th:only-of-type {\n",
       "        vertical-align: middle;\n",
       "    }\n",
       "\n",
       "    .dataframe tbody tr th {\n",
       "        vertical-align: top;\n",
       "    }\n",
       "\n",
       "    .dataframe thead th {\n",
       "        text-align: right;\n",
       "    }\n",
       "</style>\n",
       "<table border=\"1\" class=\"dataframe\">\n",
       "  <thead>\n",
       "    <tr style=\"text-align: right;\">\n",
       "      <th></th>\n",
       "      <th>component</th>\n",
       "    </tr>\n",
       "  </thead>\n",
       "  <tbody>\n",
       "    <tr>\n",
       "      <th>x</th>\n",
       "      <td>2</td>\n",
       "    </tr>\n",
       "    <tr>\n",
       "      <th>y</th>\n",
       "      <td>2</td>\n",
       "    </tr>\n",
       "  </tbody>\n",
       "</table>\n",
       "</div>"
      ],
      "text/plain": [
       "   component\n",
       "x          2\n",
       "y          2"
      ]
     },
     "execution_count": 73,
     "metadata": {},
     "output_type": "execute_result"
    }
   ],
   "source": [
    "show(A - B)"
   ]
  },
  {
   "cell_type": "markdown",
   "id": "combined-command",
   "metadata": {},
   "source": [
    "For the definition and graphical interpretation of these operations, see <http://modsimpy.com/vecops>.\n",
    "\n",
    "We can specify a `Vector` with coordinates `x` and `y`, as in the previous examples.\n",
    "Equivalently, we can specify a `Vector` with a magnitude and angle.\n",
    "\n",
    "*Magnitude* is the length of the vector: if the `Vector` represents a position, magnitude is its distance from the origin; if it represents a velocity, magnitude is its speed.\n",
    "\n",
    "The *angle* of a `Vector` is its direction, expressed as an angle in radians from the positive $x$ axis. In the Cartesian plane, the angle 0 rad is due east, and the angle $\\pi$ rad is due west.\n",
    "\n",
    "ModSim provides functions to compute the magnitude and angle of a `Vector`.  For example, here are the magnitude and angle of `A`:"
   ]
  },
  {
   "cell_type": "code",
   "execution_count": 74,
   "id": "peripheral-tattoo",
   "metadata": {},
   "outputs": [
    {
     "data": {
      "text/plain": [
       "(5.0, 0.9272952180016122)"
      ]
     },
     "execution_count": 74,
     "metadata": {},
     "output_type": "execute_result"
    }
   ],
   "source": [
    "mag = vector_mag(A)\n",
    "theta = vector_angle(A)\n",
    "mag, theta"
   ]
  },
  {
   "cell_type": "markdown",
   "id": "great-advice",
   "metadata": {},
   "source": [
    "The magnitude is 5 because the length of `A` is the hypotenuse of a 3-4-5 triangle.\n",
    "\n",
    "The result from `vector_angle` is in radians.\n",
    "Most Python functions, like `sin` and `cos`, work with radians, \n",
    "but many people find it more natural to work with degrees. \n",
    "Fortunately, NumPy provides a function to convert radians to degrees:"
   ]
  },
  {
   "cell_type": "code",
   "execution_count": 75,
   "id": "strange-cleaning",
   "metadata": {},
   "outputs": [
    {
     "data": {
      "text/plain": [
       "53.13010235415598"
      ]
     },
     "execution_count": 75,
     "metadata": {},
     "output_type": "execute_result"
    }
   ],
   "source": [
    "from numpy import rad2deg\n",
    "\n",
    "angle = rad2deg(theta)\n",
    "angle"
   ]
  },
  {
   "cell_type": "markdown",
   "id": "assured-cutting",
   "metadata": {},
   "source": [
    "And a function to convert degrees to radians:"
   ]
  },
  {
   "cell_type": "code",
   "execution_count": 76,
   "id": "cellular-community",
   "metadata": {},
   "outputs": [
    {
     "data": {
      "text/plain": [
       "0.9272952180016122"
      ]
     },
     "execution_count": 76,
     "metadata": {},
     "output_type": "execute_result"
    }
   ],
   "source": [
    "from numpy import deg2rad\n",
    "\n",
    "theta = deg2rad(angle)\n",
    "theta"
   ]
  },
  {
   "cell_type": "markdown",
   "id": "responsible-gentleman",
   "metadata": {},
   "source": [
    "To avoid confusion, I'll use the variable name `angle` for a value in degrees and `theta` for a value in radians.\n",
    "\n",
    "If you are given an angle and magnitude, you can make a `Vector` using\n",
    "`pol2cart`, which converts from polar to Cartesian coordinates. For example, here's a new `Vector` with the same angle and magnitude of `A`:"
   ]
  },
  {
   "cell_type": "code",
   "execution_count": 77,
   "id": "monetary-firmware",
   "metadata": {},
   "outputs": [
    {
     "data": {
      "text/html": [
       "<div>\n",
       "<style scoped>\n",
       "    .dataframe tbody tr th:only-of-type {\n",
       "        vertical-align: middle;\n",
       "    }\n",
       "\n",
       "    .dataframe tbody tr th {\n",
       "        vertical-align: top;\n",
       "    }\n",
       "\n",
       "    .dataframe thead th {\n",
       "        text-align: right;\n",
       "    }\n",
       "</style>\n",
       "<table border=\"1\" class=\"dataframe\">\n",
       "  <thead>\n",
       "    <tr style=\"text-align: right;\">\n",
       "      <th></th>\n",
       "      <th>component</th>\n",
       "    </tr>\n",
       "  </thead>\n",
       "  <tbody>\n",
       "    <tr>\n",
       "      <th>x</th>\n",
       "      <td>3.0</td>\n",
       "    </tr>\n",
       "    <tr>\n",
       "      <th>y</th>\n",
       "      <td>4.0</td>\n",
       "    </tr>\n",
       "  </tbody>\n",
       "</table>\n",
       "</div>"
      ],
      "text/plain": [
       "   component\n",
       "x        3.0\n",
       "y        4.0"
      ]
     },
     "execution_count": 77,
     "metadata": {},
     "output_type": "execute_result"
    }
   ],
   "source": [
    "x, y = pol2cart(theta, mag)\n",
    "C = Vector(x, y)\n",
    "show(C)"
   ]
  },
  {
   "cell_type": "markdown",
   "id": "lucky-plastic",
   "metadata": {},
   "source": [
    "Another way to represent the direction of `A` is a *unit vector*,\n",
    "which is a vector with magnitude 1 that points in the same direction as\n",
    "`A`. You can compute a unit vector by dividing a vector by its\n",
    "magnitude:"
   ]
  },
  {
   "cell_type": "code",
   "execution_count": 78,
   "id": "explicit-piano",
   "metadata": {},
   "outputs": [
    {
     "data": {
      "text/html": [
       "<div>\n",
       "<style scoped>\n",
       "    .dataframe tbody tr th:only-of-type {\n",
       "        vertical-align: middle;\n",
       "    }\n",
       "\n",
       "    .dataframe tbody tr th {\n",
       "        vertical-align: top;\n",
       "    }\n",
       "\n",
       "    .dataframe thead th {\n",
       "        text-align: right;\n",
       "    }\n",
       "</style>\n",
       "<table border=\"1\" class=\"dataframe\">\n",
       "  <thead>\n",
       "    <tr style=\"text-align: right;\">\n",
       "      <th></th>\n",
       "      <th>component</th>\n",
       "    </tr>\n",
       "  </thead>\n",
       "  <tbody>\n",
       "    <tr>\n",
       "      <th>x</th>\n",
       "      <td>0.6</td>\n",
       "    </tr>\n",
       "    <tr>\n",
       "      <th>y</th>\n",
       "      <td>0.8</td>\n",
       "    </tr>\n",
       "  </tbody>\n",
       "</table>\n",
       "</div>"
      ],
      "text/plain": [
       "   component\n",
       "x        0.6\n",
       "y        0.8"
      ]
     },
     "execution_count": 78,
     "metadata": {},
     "output_type": "execute_result"
    }
   ],
   "source": [
    "show(A / vector_mag(A))"
   ]
  },
  {
   "cell_type": "markdown",
   "id": "respected-oliver",
   "metadata": {},
   "source": [
    "ModSim provides a function that does the same thing, called `vector_hat` because unit vectors are conventionally decorated with a hat, like this: $\\hat{A}$."
   ]
  },
  {
   "cell_type": "code",
   "execution_count": 79,
   "id": "relative-republic",
   "metadata": {},
   "outputs": [
    {
     "data": {
      "text/html": [
       "<div>\n",
       "<style scoped>\n",
       "    .dataframe tbody tr th:only-of-type {\n",
       "        vertical-align: middle;\n",
       "    }\n",
       "\n",
       "    .dataframe tbody tr th {\n",
       "        vertical-align: top;\n",
       "    }\n",
       "\n",
       "    .dataframe thead th {\n",
       "        text-align: right;\n",
       "    }\n",
       "</style>\n",
       "<table border=\"1\" class=\"dataframe\">\n",
       "  <thead>\n",
       "    <tr style=\"text-align: right;\">\n",
       "      <th></th>\n",
       "      <th>component</th>\n",
       "    </tr>\n",
       "  </thead>\n",
       "  <tbody>\n",
       "    <tr>\n",
       "      <th>x</th>\n",
       "      <td>0.6</td>\n",
       "    </tr>\n",
       "    <tr>\n",
       "      <th>y</th>\n",
       "      <td>0.8</td>\n",
       "    </tr>\n",
       "  </tbody>\n",
       "</table>\n",
       "</div>"
      ],
      "text/plain": [
       "   component\n",
       "x        0.6\n",
       "y        0.8"
      ]
     },
     "execution_count": 79,
     "metadata": {},
     "output_type": "execute_result"
    }
   ],
   "source": [
    "A_hat = vector_hat(A)\n",
    "show(A_hat)"
   ]
  },
  {
   "cell_type": "markdown",
   "id": "reduced-celebration",
   "metadata": {},
   "source": [
    "Now let's get back to the game."
   ]
  },
  {
   "cell_type": "markdown",
   "id": "similar-local",
   "metadata": {},
   "source": [
    "## Simulating Baseball Flight\n",
    "\n",
    "Let's simulate the flight of a baseball that is batted from home plate\n",
    "at an angle of 45° and initial speed 40 m/s. We'll use the center of home plate as the origin, a horizontal x-axis (parallel to the ground), and a vertical y-axis (perpendicular to the ground). The initial height is 1 m.\n",
    "\n",
    "Here's a `Params` object with the parameters we'll need."
   ]
  },
  {
   "cell_type": "code",
   "execution_count": 80,
   "id": "narrative-latest",
   "metadata": {
    "tags": [
     "export"
    ]
   },
   "outputs": [],
   "source": [
    "params = Params(\n",
    "    x = 0,          # m\n",
    "    y = 1,          # m\n",
    "    angle = 45,     # degree\n",
    "    speed = 40,  # m / s\n",
    "\n",
    "    mass = 145e-3,    # kg \n",
    "    diameter = 73e-3, # m \n",
    "    C_d = 0.33,       # dimensionless\n",
    "\n",
    "    rho = 1.2,      # kg/m**3\n",
    "    g = 9.8,        # m/s**2\n",
    "    t_end = 10,     # s\n",
    ")"
   ]
  },
  {
   "cell_type": "markdown",
   "id": "metric-collins",
   "metadata": {},
   "source": [
    "I got the mass and diameter of the baseball from Wikipedia (see <https://en.wikipedia.org/wiki/Baseball_(ball)>) and the coefficient of drag from *The Physics of Baseball* (see <https://books.google.com/books/about/The_Physics_of_Baseball.html?id=4xE4Ngpk_2EC>):\n",
    "The density of air, `rho`, is based on a temperature of 20 °C at sea level (see <http://modsimpy.com/tempress>). \n",
    "As usual, `g` is acceleration due to gravity.\n",
    "`t_end` is 10 seconds, which is long enough for the ball to land on the ground.\n",
    "\n",
    "The following function uses these quantities to make a `System` object."
   ]
  },
  {
   "cell_type": "code",
   "execution_count": 81,
   "id": "bored-billy",
   "metadata": {
    "tags": [
     "export"
    ]
   },
   "outputs": [],
   "source": [
    "from numpy import pi, deg2rad\n",
    "\n",
    "def make_system(params):\n",
    "    \n",
    "    # convert angle to degrees\n",
    "    theta = deg2rad(params.angle)\n",
    "    \n",
    "    # compute x and y components of velocity\n",
    "    vx, vy = pol2cart(theta, params.speed)\n",
    "    \n",
    "    # make the initial state\n",
    "    init = State(x=params.x, y=params.y, vx=vx, vy=vy)\n",
    "    \n",
    "    # compute the frontal area\n",
    "    area = pi * (params.diameter/2)**2\n",
    "\n",
    "    return System(params,\n",
    "                  init = init,\n",
    "                  area = area)"
   ]
  },
  {
   "cell_type": "markdown",
   "id": "conscious-template",
   "metadata": {},
   "source": [
    "`make_system` uses `deg2rad` to convert `angle` to radians and\n",
    "`pol2cart` to compute the $x$ and $y$ components of the initial\n",
    "velocity.\n",
    "\n",
    "`init` is a `State` object with four state variables:\n",
    "\n",
    "* `x` and `y` are the components of position.\n",
    "\n",
    "* `vx` and `vy` are the components of velocity.\n",
    "\n",
    "When we call `System`, we pass `Params` as the first argument, which means that the variables in `Params` are copied to the new `System` object.\n",
    "\n",
    "Here's how we make the `System` object."
   ]
  },
  {
   "cell_type": "code",
   "execution_count": 82,
   "id": "ethical-donna",
   "metadata": {},
   "outputs": [],
   "source": [
    "system = make_system(params)"
   ]
  },
  {
   "cell_type": "markdown",
   "id": "convinced-fellow",
   "metadata": {},
   "source": [
    "And here's the initial `State`:"
   ]
  },
  {
   "cell_type": "code",
   "execution_count": 83,
   "id": "legitimate-gossip",
   "metadata": {},
   "outputs": [
    {
     "data": {
      "text/html": [
       "<div>\n",
       "<style scoped>\n",
       "    .dataframe tbody tr th:only-of-type {\n",
       "        vertical-align: middle;\n",
       "    }\n",
       "\n",
       "    .dataframe tbody tr th {\n",
       "        vertical-align: top;\n",
       "    }\n",
       "\n",
       "    .dataframe thead th {\n",
       "        text-align: right;\n",
       "    }\n",
       "</style>\n",
       "<table border=\"1\" class=\"dataframe\">\n",
       "  <thead>\n",
       "    <tr style=\"text-align: right;\">\n",
       "      <th></th>\n",
       "      <th>state</th>\n",
       "    </tr>\n",
       "  </thead>\n",
       "  <tbody>\n",
       "    <tr>\n",
       "      <th>x</th>\n",
       "      <td>0.000000</td>\n",
       "    </tr>\n",
       "    <tr>\n",
       "      <th>y</th>\n",
       "      <td>1.000000</td>\n",
       "    </tr>\n",
       "    <tr>\n",
       "      <th>vx</th>\n",
       "      <td>28.284271</td>\n",
       "    </tr>\n",
       "    <tr>\n",
       "      <th>vy</th>\n",
       "      <td>28.284271</td>\n",
       "    </tr>\n",
       "  </tbody>\n",
       "</table>\n",
       "</div>"
      ],
      "text/plain": [
       "        state\n",
       "x    0.000000\n",
       "y    1.000000\n",
       "vx  28.284271\n",
       "vy  28.284271"
      ]
     },
     "execution_count": 83,
     "metadata": {},
     "output_type": "execute_result"
    }
   ],
   "source": [
    "show(system.init)"
   ]
  },
  {
   "cell_type": "markdown",
   "id": "occasional-given",
   "metadata": {},
   "source": [
    "## Drag Force\n",
    "\n",
    "Next we need a function to compute drag force:"
   ]
  },
  {
   "cell_type": "code",
   "execution_count": 84,
   "id": "legal-terminal",
   "metadata": {
    "tags": [
     "export"
    ]
   },
   "outputs": [],
   "source": [
    "def drag_force(V, system):\n",
    "    rho, C_d, area = system.rho, system.C_d, system.area\n",
    "    \n",
    "    mag = rho * vector_mag(V)**2 * C_d * area / 2\n",
    "    direction = -vector_hat(V)\n",
    "    f_drag = mag * direction\n",
    "    return f_drag"
   ]
  },
  {
   "cell_type": "markdown",
   "id": "false-confusion",
   "metadata": {},
   "source": [
    "This function takes `V` as a `Vector` and returns `f_drag` as a\n",
    "`Vector`. \n",
    "\n",
    "* It uses `vector_mag` to compute the magnitude of `V`, \n",
    "and the drag equation to compute the magnitude of the drag force, `mag`.\n",
    "\n",
    "* Then it uses `vector_hat` to compute `direction`, which is a unit vector in the opposite direction of `V`.\n",
    "\n",
    "* Finally, it computes the drag force vector by multiplying `mag` and `direction`.\n",
    "\n",
    "We can test it like this:"
   ]
  },
  {
   "cell_type": "code",
   "execution_count": 85,
   "id": "frank-chick",
   "metadata": {},
   "outputs": [
    {
     "data": {
      "text/html": [
       "<div>\n",
       "<style scoped>\n",
       "    .dataframe tbody tr th:only-of-type {\n",
       "        vertical-align: middle;\n",
       "    }\n",
       "\n",
       "    .dataframe tbody tr th {\n",
       "        vertical-align: top;\n",
       "    }\n",
       "\n",
       "    .dataframe thead th {\n",
       "        text-align: right;\n",
       "    }\n",
       "</style>\n",
       "<table border=\"1\" class=\"dataframe\">\n",
       "  <thead>\n",
       "    <tr style=\"text-align: right;\">\n",
       "      <th></th>\n",
       "      <th>component</th>\n",
       "    </tr>\n",
       "  </thead>\n",
       "  <tbody>\n",
       "    <tr>\n",
       "      <th>x</th>\n",
       "      <td>-0.937574</td>\n",
       "    </tr>\n",
       "    <tr>\n",
       "      <th>y</th>\n",
       "      <td>-0.937574</td>\n",
       "    </tr>\n",
       "  </tbody>\n",
       "</table>\n",
       "</div>"
      ],
      "text/plain": [
       "   component\n",
       "x  -0.937574\n",
       "y  -0.937574"
      ]
     },
     "execution_count": 85,
     "metadata": {},
     "output_type": "execute_result"
    }
   ],
   "source": [
    "vx, vy = system.init.vx, system.init.vy\n",
    "V_test = Vector(vx, vy)\n",
    "f_drag = drag_force(V_test, system)\n",
    "show(f_drag)"
   ]
  },
  {
   "cell_type": "markdown",
   "id": "ultimate-upgrade",
   "metadata": {},
   "source": [
    "The result is a `Vector` that represents the drag force on the baseball, in Newtons, under the initial conditions.\n",
    "\n",
    "Now we can add drag to the slope function."
   ]
  },
  {
   "cell_type": "code",
   "execution_count": 86,
   "id": "suitable-salem",
   "metadata": {
    "tags": [
     "export"
    ]
   },
   "outputs": [],
   "source": [
    "def slope_func(t, state, system):\n",
    "    x, y, vx, vy = state\n",
    "    mass, g = system.mass, system.g\n",
    "    \n",
    "    V = Vector(vx, vy)\n",
    "    a_drag = drag_force(V, system) / mass\n",
    "    a_grav = g * Vector(0, -1)\n",
    "    \n",
    "    A = a_grav + a_drag\n",
    "    \n",
    "    return V.x, V.y, A.x, A.y"
   ]
  },
  {
   "cell_type": "markdown",
   "id": "scheduled-courage",
   "metadata": {},
   "source": [
    "As usual, the parameters of the slope function are a time stamp, a `State` object, and a `System` object. \n",
    "We don't use `t` in this example, but we can't leave it out because when `run_solve_ivp` calls the slope function, it always provides the same arguments, whether they are needed or not.\n",
    "\n",
    "`slope_func` unpacks the `State` object into variables `x`, `y`, `vx`, and `vy`.\n",
    "Then it packs `vx` and `vy` into a `Vector`, which it uses to compute drag force, `f_drag`,  and acceleration due to drag, `a_drag`.\n",
    "\n",
    "To represent acceleration due to gravity, it makes a `Vector` with magnitude `g` in the negative $y$ direction.\n",
    "\n",
    "The total acceleration of the baseball, `A`, is the sum of accelerations due to gravity and drag."
   ]
  },
  {
   "cell_type": "markdown",
   "id": "enclosed-favorite",
   "metadata": {},
   "source": [
    "The return value is a sequence that contains:\n",
    "\n",
    "* The components of velocity, `V.x` and `V.y`.\n",
    "\n",
    "* The components of acceleration, `A.x` and `A.y`.\n",
    "\n",
    "These components represent the slope of the state variables, because `V` is the derivative of position and `A` is the derivative of velocity."
   ]
  },
  {
   "cell_type": "markdown",
   "id": "crude-parcel",
   "metadata": {},
   "source": [
    "As always, we can test the slope function by running it with the initial conditions:"
   ]
  },
  {
   "cell_type": "code",
   "execution_count": 87,
   "id": "closing-simon",
   "metadata": {},
   "outputs": [
    {
     "data": {
      "text/plain": [
       "(28.284271247461902, 28.2842712474619, -6.466030881564545, -16.266030881564546)"
      ]
     },
     "execution_count": 87,
     "metadata": {},
     "output_type": "execute_result"
    }
   ],
   "source": [
    "slope_func(0, system.init, system)"
   ]
  },
  {
   "cell_type": "markdown",
   "id": "adolescent-westminster",
   "metadata": {},
   "source": [
    "Using vectors to represent forces and accelerations makes the code\n",
    "concise, readable, and less error-prone. In particular, when we add\n",
    "`a_grav` and `a_drag`, the directions are likely to be correct, because they are encoded in the `Vector` objects."
   ]
  },
  {
   "cell_type": "markdown",
   "id": "regulated-railway",
   "metadata": {},
   "source": [
    "## Adding an Event Function\n",
    "\n",
    "We're almost ready to run the simulation.  The last thing we need is an event function that stops when the ball hits the ground."
   ]
  },
  {
   "cell_type": "code",
   "execution_count": 88,
   "id": "brief-level",
   "metadata": {
    "tags": [
     "export"
    ]
   },
   "outputs": [],
   "source": [
    "def event_func(t, state, system):\n",
    "    x, y, vx, vy = state\n",
    "    return y"
   ]
  },
  {
   "cell_type": "markdown",
   "id": "novel-farmer",
   "metadata": {},
   "source": [
    "The event function takes the same parameters as the slope function, and returns the $y$ coordinate of position. When the $y$ coordinate passes through 0, the simulation stops.\n",
    "\n",
    "As we did with `slope_func`, we can test `event_func` with the initial conditions."
   ]
  },
  {
   "cell_type": "code",
   "execution_count": 89,
   "id": "threatened-alberta",
   "metadata": {},
   "outputs": [
    {
     "data": {
      "text/plain": [
       "1.0"
      ]
     },
     "execution_count": 89,
     "metadata": {},
     "output_type": "execute_result"
    }
   ],
   "source": [
    "event_func(0, system.init, system)"
   ]
  },
  {
   "cell_type": "markdown",
   "id": "unlikely-dressing",
   "metadata": {},
   "source": [
    "Here's how we run the simulation with this event function:"
   ]
  },
  {
   "cell_type": "code",
   "execution_count": 90,
   "id": "special-background",
   "metadata": {},
   "outputs": [
    {
     "data": {
      "text/plain": [
       "'A termination event occurred.'"
      ]
     },
     "execution_count": 90,
     "metadata": {},
     "output_type": "execute_result"
    }
   ],
   "source": [
    "results, details = run_solve_ivp(system, slope_func,\n",
    "                                 events=event_func)\n",
    "details.message"
   ]
  },
  {
   "cell_type": "markdown",
   "id": "iraqi-appeal",
   "metadata": {},
   "source": [
    "The message indicates that a \"termination event\" occurred; that is, the simulated ball reached the ground.\n",
    "\n",
    "`results` is a `TimeFrame` with one row for each time step and one column for each of the state variables.\n",
    "Here are the last few rows."
   ]
  },
  {
   "cell_type": "code",
   "execution_count": 91,
   "id": "prospective-external",
   "metadata": {},
   "outputs": [
    {
     "data": {
      "text/html": [
       "<div>\n",
       "<style scoped>\n",
       "    .dataframe tbody tr th:only-of-type {\n",
       "        vertical-align: middle;\n",
       "    }\n",
       "\n",
       "    .dataframe tbody tr th {\n",
       "        vertical-align: top;\n",
       "    }\n",
       "\n",
       "    .dataframe thead th {\n",
       "        text-align: right;\n",
       "    }\n",
       "</style>\n",
       "<table border=\"1\" class=\"dataframe\">\n",
       "  <thead>\n",
       "    <tr style=\"text-align: right;\">\n",
       "      <th></th>\n",
       "      <th>x</th>\n",
       "      <th>y</th>\n",
       "      <th>vx</th>\n",
       "      <th>vy</th>\n",
       "    </tr>\n",
       "  </thead>\n",
       "  <tbody>\n",
       "    <tr>\n",
       "      <th>4.804692</th>\n",
       "      <td>96.438515</td>\n",
       "      <td>4.284486e+00</td>\n",
       "      <td>14.590855</td>\n",
       "      <td>-20.726780</td>\n",
       "    </tr>\n",
       "    <tr>\n",
       "      <th>4.854740</th>\n",
       "      <td>97.166460</td>\n",
       "      <td>3.238415e+00</td>\n",
       "      <td>14.484772</td>\n",
       "      <td>-21.065476</td>\n",
       "    </tr>\n",
       "    <tr>\n",
       "      <th>4.904789</th>\n",
       "      <td>97.889087</td>\n",
       "      <td>2.175515e+00</td>\n",
       "      <td>14.378566</td>\n",
       "      <td>-21.400392</td>\n",
       "    </tr>\n",
       "    <tr>\n",
       "      <th>4.954838</th>\n",
       "      <td>98.606374</td>\n",
       "      <td>1.095978e+00</td>\n",
       "      <td>14.272264</td>\n",
       "      <td>-21.731499</td>\n",
       "    </tr>\n",
       "    <tr>\n",
       "      <th>5.004887</th>\n",
       "      <td>99.318296</td>\n",
       "      <td>-7.105427e-15</td>\n",
       "      <td>14.165894</td>\n",
       "      <td>-22.058763</td>\n",
       "    </tr>\n",
       "  </tbody>\n",
       "</table>\n",
       "</div>"
      ],
      "text/plain": [
       "                  x             y         vx         vy\n",
       "4.804692  96.438515  4.284486e+00  14.590855 -20.726780\n",
       "4.854740  97.166460  3.238415e+00  14.484772 -21.065476\n",
       "4.904789  97.889087  2.175515e+00  14.378566 -21.400392\n",
       "4.954838  98.606374  1.095978e+00  14.272264 -21.731499\n",
       "5.004887  99.318296 -7.105427e-15  14.165894 -22.058763"
      ]
     },
     "execution_count": 91,
     "metadata": {},
     "output_type": "execute_result"
    }
   ],
   "source": [
    "results.tail()"
   ]
  },
  {
   "cell_type": "markdown",
   "id": "dominant-weekly",
   "metadata": {},
   "source": [
    "We can get the flight time like this:"
   ]
  },
  {
   "cell_type": "code",
   "execution_count": 92,
   "id": "medieval-calvin",
   "metadata": {},
   "outputs": [
    {
     "data": {
      "text/plain": [
       "5.004887034868351"
      ]
     },
     "execution_count": 92,
     "metadata": {},
     "output_type": "execute_result"
    }
   ],
   "source": [
    "flight_time = results.index[-1]\n",
    "flight_time"
   ]
  },
  {
   "cell_type": "markdown",
   "id": "convenient-heading",
   "metadata": {},
   "source": [
    "And the final state like this:"
   ]
  },
  {
   "cell_type": "code",
   "execution_count": 93,
   "id": "gorgeous-survey",
   "metadata": {},
   "outputs": [
    {
     "data": {
      "text/html": [
       "<div>\n",
       "<style scoped>\n",
       "    .dataframe tbody tr th:only-of-type {\n",
       "        vertical-align: middle;\n",
       "    }\n",
       "\n",
       "    .dataframe tbody tr th {\n",
       "        vertical-align: top;\n",
       "    }\n",
       "\n",
       "    .dataframe thead th {\n",
       "        text-align: right;\n",
       "    }\n",
       "</style>\n",
       "<table border=\"1\" class=\"dataframe\">\n",
       "  <thead>\n",
       "    <tr style=\"text-align: right;\">\n",
       "      <th></th>\n",
       "      <th>5.004887</th>\n",
       "    </tr>\n",
       "  </thead>\n",
       "  <tbody>\n",
       "    <tr>\n",
       "      <th>x</th>\n",
       "      <td>9.931830e+01</td>\n",
       "    </tr>\n",
       "    <tr>\n",
       "      <th>y</th>\n",
       "      <td>-7.105427e-15</td>\n",
       "    </tr>\n",
       "    <tr>\n",
       "      <th>vx</th>\n",
       "      <td>1.416589e+01</td>\n",
       "    </tr>\n",
       "    <tr>\n",
       "      <th>vy</th>\n",
       "      <td>-2.205876e+01</td>\n",
       "    </tr>\n",
       "  </tbody>\n",
       "</table>\n",
       "</div>"
      ],
      "text/plain": [
       "        5.004887\n",
       "x   9.931830e+01\n",
       "y  -7.105427e-15\n",
       "vx  1.416589e+01\n",
       "vy -2.205876e+01"
      ]
     },
     "execution_count": 93,
     "metadata": {},
     "output_type": "execute_result"
    }
   ],
   "source": [
    "final_state = results.iloc[-1]\n",
    "show(final_state)"
   ]
  },
  {
   "cell_type": "markdown",
   "id": "needed-aruba",
   "metadata": {},
   "source": [
    "The final value of `y` is close to 0, as it should be.  The final value of `x` tells us how far the ball flew, in meters."
   ]
  },
  {
   "cell_type": "code",
   "execution_count": 94,
   "id": "failing-bangkok",
   "metadata": {},
   "outputs": [
    {
     "data": {
      "text/plain": [
       "99.31829628352206"
      ]
     },
     "execution_count": 94,
     "metadata": {},
     "output_type": "execute_result"
    }
   ],
   "source": [
    "x_dist = final_state.x\n",
    "x_dist"
   ]
  },
  {
   "cell_type": "markdown",
   "id": "growing-england",
   "metadata": {},
   "source": [
    "We can also get the final velocity, like this:"
   ]
  },
  {
   "cell_type": "code",
   "execution_count": 95,
   "id": "copyrighted-highway",
   "metadata": {},
   "outputs": [
    {
     "data": {
      "text/html": [
       "<div>\n",
       "<style scoped>\n",
       "    .dataframe tbody tr th:only-of-type {\n",
       "        vertical-align: middle;\n",
       "    }\n",
       "\n",
       "    .dataframe tbody tr th {\n",
       "        vertical-align: top;\n",
       "    }\n",
       "\n",
       "    .dataframe thead th {\n",
       "        text-align: right;\n",
       "    }\n",
       "</style>\n",
       "<table border=\"1\" class=\"dataframe\">\n",
       "  <thead>\n",
       "    <tr style=\"text-align: right;\">\n",
       "      <th></th>\n",
       "      <th>component</th>\n",
       "    </tr>\n",
       "  </thead>\n",
       "  <tbody>\n",
       "    <tr>\n",
       "      <th>x</th>\n",
       "      <td>14.165894</td>\n",
       "    </tr>\n",
       "    <tr>\n",
       "      <th>y</th>\n",
       "      <td>-22.058763</td>\n",
       "    </tr>\n",
       "  </tbody>\n",
       "</table>\n",
       "</div>"
      ],
      "text/plain": [
       "   component\n",
       "x  14.165894\n",
       "y -22.058763"
      ]
     },
     "execution_count": 95,
     "metadata": {},
     "output_type": "execute_result"
    }
   ],
   "source": [
    "final_V = Vector(final_state.vx, final_state.vy)\n",
    "show(final_V)"
   ]
  },
  {
   "cell_type": "markdown",
   "id": "statewide-middle",
   "metadata": {},
   "source": [
    "The magnitude of final velocity is the speed of the ball when it lands."
   ]
  },
  {
   "cell_type": "code",
   "execution_count": 96,
   "id": "structured-adams",
   "metadata": {},
   "outputs": [
    {
     "data": {
      "text/plain": [
       "26.215674453237636"
      ]
     },
     "execution_count": 96,
     "metadata": {},
     "output_type": "execute_result"
    }
   ],
   "source": [
    "vector_mag(final_V)"
   ]
  },
  {
   "cell_type": "markdown",
   "id": "vietnamese-diagram",
   "metadata": {},
   "source": [
    "The final speed is about 26 m/s, which is substantially slower than the initial speed, 40 m/s."
   ]
  },
  {
   "cell_type": "markdown",
   "id": "continuous-quick",
   "metadata": {},
   "source": [
    "## Visualizing Trajectories\n",
    "\n",
    "To visualize the results, we can plot the $x$ and $y$ components of position like this:"
   ]
  },
  {
   "cell_type": "code",
   "execution_count": 97,
   "id": "spare-burst",
   "metadata": {},
   "outputs": [
    {
     "data": {
      "image/png": "[encoded data removed]",
      "text/plain": [
       "<Figure size 432x288 with 1 Axes>"
      ]
     },
     "metadata": {
      "needs_background": "light"
     },
     "output_type": "display_data"
    }
   ],
   "source": [
    "results.x.plot(color='C4')\n",
    "results.y.plot(color='C2', style='--')\n",
    "\n",
    "decorate(xlabel='Time (s)',\n",
    "         ylabel='Position (m)')"
   ]
  },
  {
   "cell_type": "markdown",
   "id": "horizontal-bench",
   "metadata": {},
   "source": [
    "As expected, the $x$ component increases as the ball moves away from home plate. The $y$ position climbs initially and then descends, falling to 0 m near 5.0 s.\n",
    "\n",
    "Another way to view the results is to plot the $x$ component on the\n",
    "$x$-axis and the $y$ component on the $y$-axis, so the plotted line follows the trajectory of the ball through the plane:"
   ]
  },
  {
   "cell_type": "code",
   "execution_count": 98,
   "id": "dated-browse",
   "metadata": {},
   "outputs": [
    {
     "data": {
      "image/png": "[encoded data removed]",
      "text/plain": [
       "<Figure size 432x288 with 1 Axes>"
      ]
     },
     "metadata": {
      "needs_background": "light"
     },
     "output_type": "display_data"
    }
   ],
   "source": [
    "def plot_trajectory(results):\n",
    "    x = results.x\n",
    "    y = results.y\n",
    "    make_series(x, y).plot(label='trajectory')\n",
    "\n",
    "    decorate(xlabel='x position (m)',\n",
    "             ylabel='y position (m)')\n",
    "\n",
    "plot_trajectory(results)"
   ]
  },
  {
   "cell_type": "markdown",
   "id": "certified-synthetic",
   "metadata": {},
   "source": [
    "This way of visualizing the results is called a *trajectory plot* (see <http://modsimpy.com/trajec>).\n",
    "A trajectory plot can be easier to interpret than a time series plot,\n",
    "because it shows what the motion of the projectile would look like (at\n",
    "least from one point of view). Both plots can be useful, but don't get\n",
    "them mixed up! If you are looking at a time series plot and interpreting it as a trajectory, you will be very confused.\n",
    "\n",
    "Notice that the trajectory is not symmetric.\n",
    "With a launch angle of 45°, the landing angle is closer to vertical, about 57° degrees."
   ]
  },
  {
   "cell_type": "code",
   "execution_count": 99,
   "id": "resistant-vegetation",
   "metadata": {},
   "outputs": [
    {
     "data": {
      "text/plain": [
       "-57.2918709782124"
      ]
     },
     "execution_count": 99,
     "metadata": {},
     "output_type": "execute_result"
    }
   ],
   "source": [
    "rad2deg(vector_angle(final_V))"
   ]
  },
  {
   "cell_type": "markdown",
   "id": "cosmetic-aircraft",
   "metadata": {},
   "source": [
    "## Animating the Baseball\n",
    "\n",
    "One of the best ways to visualize the results of a physical model is animation.  If there are problems with the model, animation can make them apparent.\n",
    "\n",
    "The ModSimPy library provides `animate`, which takes as parameters a `TimeSeries` and a draw function.\n",
    "\n",
    "The draw function should take as parameters a time stamp and a `State`.  It should draw a single frame of the animation."
   ]
  },
  {
   "cell_type": "code",
   "execution_count": 100,
   "id": "starting-fabric",
   "metadata": {},
   "outputs": [],
   "source": [
    "from matplotlib.pyplot import plot\n",
    "\n",
    "xlim = results.x.min(), results.x.max()\n",
    "ylim = results.y.min(), results.y.max()\n",
    "\n",
    "def draw_func(t, state):\n",
    "    plot(state.x, state.y, 'bo')\n",
    "    decorate(xlabel='x position (m)',\n",
    "             ylabel='y position (m)',\n",
    "             xlim=xlim,\n",
    "             ylim=ylim)"
   ]
  },
  {
   "cell_type": "markdown",
   "id": "sustained-slide",
   "metadata": {},
   "source": [
    "Inside the draw function, should use `decorate` to set the limits of the $x$ and $y$ axes.\n",
    "Otherwise `matplotlib` auto-scales the axes, which is usually not what you want.\n",
    "\n",
    "Now we can run the animation like this:\n",
    "\n",
    "```\n",
    "animate(results, draw_func)\n",
    "```"
   ]
  },
  {
   "cell_type": "markdown",
   "id": "incomplete-beijing",
   "metadata": {
    "tags": [
     "remove-print"
    ]
   },
   "source": [
    "To run the animation, uncomment the following line of code and run the cell."
   ]
  },
  {
   "cell_type": "code",
   "execution_count": 101,
   "id": "prescription-boutique",
   "metadata": {
    "tags": [
     "remove-print"
    ]
   },
   "outputs": [],
   "source": [
    "# animate(results, draw_func)"
   ]
  },
  {
   "cell_type": "markdown",
   "id": "lyric-harassment",
   "metadata": {},
   "source": [
    "## Exercises\n",
    "\n",
    "This chapter is available as a Jupyter notebook where you can read the text, run the code, and work on the exercises. \n",
    "You can access the notebooks at <https://allendowney.github.io/ModSimPy/>."
   ]
  },
  {
   "cell_type": "markdown",
   "id": "pressing-retrieval",
   "metadata": {},
   "source": [
    "### Exercise 1\n",
    "\n",
    " Run the simulation with and without air resistance.  How wrong would we be if we ignored drag?"
   ]
  },
  {
   "cell_type": "code",
   "execution_count": 102,
   "id": "optical-weather",
   "metadata": {},
   "outputs": [],
   "source": [
    "# Hint\n",
    "\n",
    "system2 = make_system(params.set(C_d=0))"
   ]
  },
  {
   "cell_type": "code",
   "execution_count": 103,
   "id": "acknowledged-belgium",
   "metadata": {
    "tags": [
     "hide-cell"
    ]
   },
   "outputs": [
    {
     "data": {
      "text/plain": [
       "'A termination event occurred.'"
      ]
     },
     "execution_count": 103,
     "metadata": {},
     "output_type": "execute_result"
    }
   ],
   "source": [
    "# Solution\n",
    "\n",
    "results2, details2 = run_solve_ivp(system2, slope_func, \n",
    "                                   events=event_func)\n",
    "details.message"
   ]
  },
  {
   "cell_type": "code",
   "execution_count": 104,
   "id": "spatial-ensemble",
   "metadata": {
    "tags": [
     "hide-cell"
    ]
   },
   "outputs": [
    {
     "data": {
      "image/png": "[encoded data removed]",
      "text/plain": [
       "<Figure size 432x288 with 1 Axes>"
      ]
     },
     "metadata": {
      "needs_background": "light"
     },
     "output_type": "display_data"
    }
   ],
   "source": [
    "# Solution\n",
    "\n",
    "plot_trajectory(results)\n",
    "plot_trajectory(results2)"
   ]
  },
  {
   "cell_type": "code",
   "execution_count": 105,
   "id": "domestic-apparatus",
   "metadata": {
    "tags": [
     "hide-cell"
    ]
   },
   "outputs": [
    {
     "data": {
      "text/plain": [
       "164.25925502413202"
      ]
     },
     "execution_count": 105,
     "metadata": {},
     "output_type": "execute_result"
    }
   ],
   "source": [
    "# Solution\n",
    "\n",
    "x_dist2 = results2.iloc[-1].x\n",
    "x_dist2"
   ]
  },
  {
   "cell_type": "code",
   "execution_count": 106,
   "id": "correct-pittsburgh",
   "metadata": {
    "tags": [
     "hide-cell"
    ]
   },
   "outputs": [
    {
     "data": {
      "text/plain": [
       "64.94095874060996"
      ]
     },
     "execution_count": 106,
     "metadata": {},
     "output_type": "execute_result"
    }
   ],
   "source": [
    "# Solution\n",
    "\n",
    "x_dist2 - x_dist"
   ]
  },
  {
   "cell_type": "markdown",
   "id": "generic-shelter",
   "metadata": {},
   "source": [
    "### Exercise 2\n",
    "\n",
    "The baseball stadium in Denver, Colorado is 1,580 meters above sea level, where the density of air is about 1.0 kg / m$^3$.  Compared with the example near sea level, how much farther would a ball travel if hit with the same initial speed and launch angle?"
   ]
  },
  {
   "cell_type": "code",
   "execution_count": 107,
   "id": "global-referral",
   "metadata": {},
   "outputs": [],
   "source": [
    "# Hint\n",
    "\n",
    "system3 = make_system(params.set(rho=1.0))"
   ]
  },
  {
   "cell_type": "code",
   "execution_count": 108,
   "id": "appointed-sugar",
   "metadata": {
    "tags": [
     "hide-cell"
    ]
   },
   "outputs": [
    {
     "data": {
      "text/plain": [
       "105.78838005859807"
      ]
     },
     "execution_count": 108,
     "metadata": {},
     "output_type": "execute_result"
    }
   ],
   "source": [
    "# Solution\n",
    "\n",
    "results3, details3 = run_solve_ivp(system3, slope_func, \n",
    "                                   events=event_func)\n",
    "\n",
    "x_dist3 = results3.iloc[-1].x\n",
    "x_dist3"
   ]
  },
  {
   "cell_type": "code",
   "execution_count": 109,
   "id": "specialized-mediterranean",
   "metadata": {
    "tags": [
     "hide-cell"
    ]
   },
   "outputs": [
    {
     "data": {
      "text/plain": [
       "6.470083775076006"
      ]
     },
     "execution_count": 109,
     "metadata": {},
     "output_type": "execute_result"
    }
   ],
   "source": [
    "# Solution\n",
    "\n",
    "x_dist3 - x_dist"
   ]
  },
  {
   "cell_type": "markdown",
   "id": "shaped-paragraph",
   "metadata": {},
   "source": [
    "### Exercise 3\n",
    "\n",
    " The model so far is based on the assumption that coefficient of drag does not depend on velocity, but in reality it does.  The following figure, from Adair, *The Physics of Baseball*, shows coefficient of drag as a function of velocity (see <https://books.google.com/books/about/The_Physics_of_Baseball.html?id=4xE4Ngpk_2EC>).\n",
    "\n",
    "![Graph of drag coefficient versus velocity](https://github.com/AllenDowney/ModSimPy/raw/master/figs/baseball_drag.png)\n",
    "\n",
    "I used an online graph digitizer (<https://automeris.io/WebPlotDigitizer>) to extract the data and save it in a CSV file.  "
   ]
  },
  {
   "cell_type": "markdown",
   "id": "german-niagara",
   "metadata": {
    "tags": [
     "remove-cell"
    ]
   },
   "source": [
    "The following cell downloads the data file."
   ]
  },
  {
   "cell_type": "code",
   "execution_count": 110,
   "id": "directed-moisture",
   "metadata": {
    "tags": [
     "remove-cell"
    ]
   },
   "outputs": [],
   "source": [
    "download('https://github.com/AllenDowney/ModSim/raw/main/data/' +\n",
    "         'baseball_drag.csv')"
   ]
  },
  {
   "cell_type": "markdown",
   "id": "imported-chosen",
   "metadata": {
    "tags": [
     "remove-cell"
    ]
   },
   "source": [
    "We can use Pandas to read it."
   ]
  },
  {
   "cell_type": "code",
   "execution_count": 111,
   "id": "fuzzy-register",
   "metadata": {
    "tags": [
     "remove-cell"
    ]
   },
   "outputs": [],
   "source": [
    "from pandas import read_csv\n",
    "\n",
    "baseball_drag = read_csv('baseball_drag.csv')"
   ]
  },
  {
   "cell_type": "markdown",
   "id": "progressive-buyer",
   "metadata": {
    "tags": [
     "remove-cell"
    ]
   },
   "source": [
    "Here are the first few rows."
   ]
  },
  {
   "cell_type": "code",
   "execution_count": 112,
   "id": "returning-fellowship",
   "metadata": {
    "tags": [
     "remove-cell"
    ]
   },
   "outputs": [
    {
     "data": {
      "text/html": [
       "<div>\n",
       "<style scoped>\n",
       "    .dataframe tbody tr th:only-of-type {\n",
       "        vertical-align: middle;\n",
       "    }\n",
       "\n",
       "    .dataframe tbody tr th {\n",
       "        vertical-align: top;\n",
       "    }\n",
       "\n",
       "    .dataframe thead th {\n",
       "        text-align: right;\n",
       "    }\n",
       "</style>\n",
       "<table border=\"1\" class=\"dataframe\">\n",
       "  <thead>\n",
       "    <tr style=\"text-align: right;\">\n",
       "      <th></th>\n",
       "      <th>Velocity in mph</th>\n",
       "      <th>Drag coefficient</th>\n",
       "    </tr>\n",
       "  </thead>\n",
       "  <tbody>\n",
       "    <tr>\n",
       "      <th>0</th>\n",
       "      <td>0.058486</td>\n",
       "      <td>0.49965</td>\n",
       "    </tr>\n",
       "    <tr>\n",
       "      <th>1</th>\n",
       "      <td>19.845000</td>\n",
       "      <td>0.49878</td>\n",
       "    </tr>\n",
       "    <tr>\n",
       "      <th>2</th>\n",
       "      <td>39.476000</td>\n",
       "      <td>0.49704</td>\n",
       "    </tr>\n",
       "    <tr>\n",
       "      <th>3</th>\n",
       "      <td>50.181000</td>\n",
       "      <td>0.48225</td>\n",
       "    </tr>\n",
       "    <tr>\n",
       "      <th>4</th>\n",
       "      <td>60.134000</td>\n",
       "      <td>0.45004</td>\n",
       "    </tr>\n",
       "  </tbody>\n",
       "</table>\n",
       "</div>"
      ],
      "text/plain": [
       "   Velocity in mph  Drag coefficient\n",
       "0         0.058486           0.49965\n",
       "1        19.845000           0.49878\n",
       "2        39.476000           0.49704\n",
       "3        50.181000           0.48225\n",
       "4        60.134000           0.45004"
      ]
     },
     "execution_count": 112,
     "metadata": {},
     "output_type": "execute_result"
    }
   ],
   "source": [
    "baseball_drag.head()"
   ]
  },
  {
   "cell_type": "markdown",
   "id": "bronze-acoustic",
   "metadata": {
    "tags": [
     "remove-cell"
    ]
   },
   "source": [
    "I'll use Pint to convert miles per hour to meters per second."
   ]
  },
  {
   "cell_type": "code",
   "execution_count": 113,
   "id": "reasonable-swaziland",
   "metadata": {
    "tags": [
     "remove-cell"
    ]
   },
   "outputs": [],
   "source": [
    "mph_to_mps = (1 * units.mph).to(units.m/units.s).magnitude\n",
    "speed = baseball_drag['Velocity in mph'] * mph_to_mps"
   ]
  },
  {
   "cell_type": "markdown",
   "id": "industrial-architecture",
   "metadata": {
    "tags": [
     "remove-cell"
    ]
   },
   "source": [
    "I'll put the results in a `Series`."
   ]
  },
  {
   "cell_type": "code",
   "execution_count": 114,
   "id": "attached-shower",
   "metadata": {
    "tags": [
     "remove-cell"
    ]
   },
   "outputs": [],
   "source": [
    "C_d_series = make_series(speed, baseball_drag['Drag coefficient'])"
   ]
  },
  {
   "cell_type": "markdown",
   "id": "amazing-horse",
   "metadata": {
    "tags": [
     "remove-cell"
    ]
   },
   "source": [
    "We can plot the `Series` like this."
   ]
  },
  {
   "cell_type": "code",
   "execution_count": 115,
   "id": "christian-camcorder",
   "metadata": {
    "tags": [
     "remove-cell"
    ]
   },
   "outputs": [
    {
     "data": {
      "image/png": "[encoded data removed]",
      "text/plain": [
       "<Figure size 432x288 with 1 Axes>"
      ]
     },
     "metadata": {
      "needs_background": "light"
     },
     "output_type": "display_data"
    }
   ],
   "source": [
    "C_d_series.plot(label='C_d')\n",
    "decorate(xlabel='Speed (m/s)', \n",
    "         ylabel='C_d',\n",
    "         title='Coefficient of drag versus speed')"
   ]
  },
  {
   "cell_type": "markdown",
   "id": "computational-alloy",
   "metadata": {
    "tags": [
     "remove-cell"
    ]
   },
   "source": [
    "And, for use in the slope function, we can make a function that interpolates the data."
   ]
  },
  {
   "cell_type": "code",
   "execution_count": 116,
   "id": "heated-belfast",
   "metadata": {
    "tags": [
     "remove-cell"
    ]
   },
   "outputs": [
    {
     "data": {
      "text/plain": [
       "array(0.41607879)"
      ]
     },
     "execution_count": 116,
     "metadata": {},
     "output_type": "execute_result"
    }
   ],
   "source": [
    "drag_interp = interpolate(C_d_series)\n",
    "drag_interp(30)"
   ]
  },
  {
   "cell_type": "markdown",
   "id": "reverse-shock",
   "metadata": {},
   "source": [
    "Modify the model to include the dependence of `C_d` on velocity, and see how much it affects the results."
   ]
  },
  {
   "cell_type": "code",
   "execution_count": 117,
   "id": "engaged-provision",
   "metadata": {
    "tags": [
     "hide-cell"
    ]
   },
   "outputs": [],
   "source": [
    "# Solution\n",
    "\n",
    "def drag_force2(V, system):\n",
    "    rho, area = system.rho, system.area\n",
    "    \n",
    "    C_d = drag_interp(vector_mag(V))\n",
    "    mag = -rho * vector_mag(V)**2 * C_d * area / 2\n",
    "    direction = vector_hat(V)\n",
    "    f_drag = direction * mag\n",
    "    return f_drag"
   ]
  },
  {
   "cell_type": "code",
   "execution_count": 118,
   "id": "directed-fiber",
   "metadata": {
    "tags": [
     "hide-cell"
    ]
   },
   "outputs": [],
   "source": [
    "# Solution\n",
    "\n",
    "def slope_func2(t, state, system):\n",
    "    x, y, vx, vy = state\n",
    "    mass, g = system.mass, system.g\n",
    "    \n",
    "    V = Vector(vx, vy)\n",
    "    a_drag = drag_force2(V, system) / mass\n",
    "    a_grav = g * Vector(0, -1)\n",
    "    \n",
    "    A = a_grav + a_drag\n",
    "    \n",
    "    return V.x, V.y, A.x, A.y"
   ]
  },
  {
   "cell_type": "code",
   "execution_count": 119,
   "id": "framed-dealer",
   "metadata": {
    "tags": [
     "hide-cell"
    ]
   },
   "outputs": [],
   "source": [
    "# Solution\n",
    "\n",
    "system4 = make_system(params)"
   ]
  },
  {
   "cell_type": "code",
   "execution_count": 120,
   "id": "accomplished-elizabeth",
   "metadata": {
    "tags": [
     "hide-cell"
    ]
   },
   "outputs": [
    {
     "data": {
      "text/html": [
       "<div>\n",
       "<style scoped>\n",
       "    .dataframe tbody tr th:only-of-type {\n",
       "        vertical-align: middle;\n",
       "    }\n",
       "\n",
       "    .dataframe tbody tr th {\n",
       "        vertical-align: top;\n",
       "    }\n",
       "\n",
       "    .dataframe thead th {\n",
       "        text-align: right;\n",
       "    }\n",
       "</style>\n",
       "<table border=\"1\" class=\"dataframe\">\n",
       "  <thead>\n",
       "    <tr style=\"text-align: right;\">\n",
       "      <th></th>\n",
       "      <th>component</th>\n",
       "    </tr>\n",
       "  </thead>\n",
       "  <tbody>\n",
       "    <tr>\n",
       "      <th>x</th>\n",
       "      <td>-1.054771</td>\n",
       "    </tr>\n",
       "    <tr>\n",
       "      <th>y</th>\n",
       "      <td>-1.054771</td>\n",
       "    </tr>\n",
       "  </tbody>\n",
       "</table>\n",
       "</div>"
      ],
      "text/plain": [
       "   component\n",
       "x  -1.054771\n",
       "y  -1.054771"
      ]
     },
     "execution_count": 120,
     "metadata": {},
     "output_type": "execute_result"
    }
   ],
   "source": [
    "# Solution\n",
    "\n",
    "V = Vector(30, 30)\n",
    "f_drag = drag_force(V, system4)\n",
    "show(f_drag)"
   ]
  },
  {
   "cell_type": "code",
   "execution_count": 121,
   "id": "going-techno",
   "metadata": {
    "tags": [
     "hide-cell"
    ]
   },
   "outputs": [
    {
     "data": {
      "text/plain": [
       "(28.284271247461902, 28.2842712474619, -6.466030881564545, -16.266030881564546)"
      ]
     },
     "execution_count": 121,
     "metadata": {},
     "output_type": "execute_result"
    }
   ],
   "source": [
    "# Solution\n",
    "\n",
    "slope_func(0, system4.init, system4)"
   ]
  },
  {
   "cell_type": "code",
   "execution_count": 122,
   "id": "brief-saying",
   "metadata": {
    "tags": [
     "hide-cell"
    ]
   },
   "outputs": [
    {
     "data": {
      "text/plain": [
       "'A termination event occurred.'"
      ]
     },
     "execution_count": 122,
     "metadata": {},
     "output_type": "execute_result"
    }
   ],
   "source": [
    "# Solution\n",
    "\n",
    "results4, details4 = run_solve_ivp(system4, slope_func2, \n",
    "                                   events=event_func)\n",
    "details4.message"
   ]
  },
  {
   "cell_type": "code",
   "execution_count": 123,
   "id": "spare-pregnancy",
   "metadata": {
    "tags": [
     "hide-cell"
    ]
   },
   "outputs": [
    {
     "data": {
      "text/html": [
       "<div>\n",
       "<style scoped>\n",
       "    .dataframe tbody tr th:only-of-type {\n",
       "        vertical-align: middle;\n",
       "    }\n",
       "\n",
       "    .dataframe tbody tr th {\n",
       "        vertical-align: top;\n",
       "    }\n",
       "\n",
       "    .dataframe thead th {\n",
       "        text-align: right;\n",
       "    }\n",
       "</style>\n",
       "<table border=\"1\" class=\"dataframe\">\n",
       "  <thead>\n",
       "    <tr style=\"text-align: right;\">\n",
       "      <th></th>\n",
       "      <th>x</th>\n",
       "      <th>y</th>\n",
       "      <th>vx</th>\n",
       "      <th>vy</th>\n",
       "    </tr>\n",
       "  </thead>\n",
       "  <tbody>\n",
       "    <tr>\n",
       "      <th>4.722631</th>\n",
       "      <td>87.869695</td>\n",
       "      <td>3.989943e+00</td>\n",
       "      <td>12.094833</td>\n",
       "      <td>-19.677696</td>\n",
       "    </tr>\n",
       "    <tr>\n",
       "      <th>4.771825</th>\n",
       "      <td>88.462327</td>\n",
       "      <td>3.013834e+00</td>\n",
       "      <td>11.980462</td>\n",
       "      <td>-19.973270</td>\n",
       "    </tr>\n",
       "    <tr>\n",
       "      <th>4.821019</th>\n",
       "      <td>89.049363</td>\n",
       "      <td>2.023337e+00</td>\n",
       "      <td>11.866567</td>\n",
       "      <td>-20.265039</td>\n",
       "    </tr>\n",
       "    <tr>\n",
       "      <th>4.870213</th>\n",
       "      <td>89.630803</td>\n",
       "      <td>1.018656e+00</td>\n",
       "      <td>11.753207</td>\n",
       "      <td>-20.553016</td>\n",
       "    </tr>\n",
       "    <tr>\n",
       "      <th>4.919407</th>\n",
       "      <td>90.206647</td>\n",
       "      <td>1.065814e-14</td>\n",
       "      <td>11.640440</td>\n",
       "      <td>-20.837214</td>\n",
       "    </tr>\n",
       "  </tbody>\n",
       "</table>\n",
       "</div>"
      ],
      "text/plain": [
       "                  x             y         vx         vy\n",
       "4.722631  87.869695  3.989943e+00  12.094833 -19.677696\n",
       "4.771825  88.462327  3.013834e+00  11.980462 -19.973270\n",
       "4.821019  89.049363  2.023337e+00  11.866567 -20.265039\n",
       "4.870213  89.630803  1.018656e+00  11.753207 -20.553016\n",
       "4.919407  90.206647  1.065814e-14  11.640440 -20.837214"
      ]
     },
     "execution_count": 123,
     "metadata": {},
     "output_type": "execute_result"
    }
   ],
   "source": [
    "# Solution\n",
    "\n",
    "results4.tail()"
   ]
  },
  {
   "cell_type": "code",
   "execution_count": 124,
   "id": "catholic-staff",
   "metadata": {
    "tags": [
     "hide-cell"
    ]
   },
   "outputs": [
    {
     "data": {
      "text/plain": [
       "90.20664656623305"
      ]
     },
     "execution_count": 124,
     "metadata": {},
     "output_type": "execute_result"
    }
   ],
   "source": [
    "# Solution\n",
    "\n",
    "x_dist4 = results4.iloc[-1].x\n",
    "x_dist4"
   ]
  },
  {
   "cell_type": "code",
   "execution_count": 125,
   "id": "broad-sequence",
   "metadata": {
    "tags": [
     "hide-cell"
    ]
   },
   "outputs": [
    {
     "data": {
      "text/plain": [
       "-9.111649717289012"
      ]
     },
     "execution_count": 125,
     "metadata": {},
     "output_type": "execute_result"
    }
   ],
   "source": [
    "# Solution\n",
    "\n",
    "# Taking into account variation in C_d, the ball\n",
    "# would travel about 9 m less far.\n",
    "\n",
    "x_dist4 - x_dist"
   ]
  },
  {
   "cell_type": "code",
   "execution_count": null,
   "id": "strong-design",
   "metadata": {},
   "outputs": [],
   "source": []
  }
 ],
 "metadata": {
  "celltoolbar": "Tags",
  "kernelspec": {
   "display_name": "Python 3 (ipykernel)",
   "language": "python",
   "name": "python3"
  },
  "language_info": {
   "codemirror_mode": {
    "name": "ipython",
    "version": 3
   },
   "file_extension": ".py",
   "mimetype": "text/x-python",
   "name": "python",
   "nbconvert_exporter": "python",
   "pygments_lexer": "ipython3",
   "version": "3.7.12"
  }
 },
 "nbformat": 4,
 "nbformat_minor": 5
}
